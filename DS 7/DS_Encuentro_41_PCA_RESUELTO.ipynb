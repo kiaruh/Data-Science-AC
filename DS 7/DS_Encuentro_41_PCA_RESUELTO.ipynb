{
 "cells": [
  {
   "cell_type": "markdown",
   "metadata": {},
   "source": [
    "# Arreglo de Fetures \"A mano\"\n",
    "\n",
    "La calse anterior comnetamos que el tema de reducción de dimensionalidad peude pensarse como un proceso de preprocesamiento, es decir, se mejoran los features a introducir a un modelo posteriormente. Esto era algo que aprendimos a hacer \"a mano\" en la primer clase del curso, cuando inspeccionabamos y seleccionabamos las features que correlacionaban con el observable de interés.\n",
    "\n",
    "A continuación les mostramos un ejemplo de un problema donde selecionamos a mano una combinación de features que mejora el rendimiento de un modelo."
   ]
  },
  {
   "cell_type": "code",
   "execution_count": null,
   "metadata": {},
   "outputs": [],
   "source": [
    "import numpy as np\n",
    "import matplotlib.pyplot as plt\n",
    "import seaborn as sns\n",
    "sns.set()\n",
    "\n",
    "import pandas as pd"
   ]
  },
  {
   "cell_type": "code",
   "execution_count": null,
   "metadata": {},
   "outputs": [],
   "source": [
    "data = pd.read_csv('Datasets/datosPCA.csv', index_col = 0)\n",
    "data.head()"
   ]
  },
  {
   "cell_type": "code",
   "execution_count": null,
   "metadata": {},
   "outputs": [],
   "source": [
    "plt.scatter(data['x1'], data['x2'], c = data['y'])\n",
    "plt.show()"
   ]
  },
  {
   "cell_type": "markdown",
   "metadata": {},
   "source": [
    "Notar que las etiquetas crecen en una dirección \"a 45 grados\" con respecto a los features. Si exploramos la correlación de los features con el valor y, notamos que ninguna de las dos está correlacionada a este valor."
   ]
  },
  {
   "cell_type": "code",
   "execution_count": null,
   "metadata": {},
   "outputs": [],
   "source": [
    "corr = data.corr(method='pearson') # .corr is used for find corelation\n",
    "plt.figure(figsize=(7,7))\n",
    "sns.heatmap(corr, cbar = True,  square = True, annot=True, fmt= '.2f',annot_kws={'size': 15},\n",
    "           xticklabels= data.columns, \n",
    "           yticklabels= data.columns,\n",
    "           cmap= 'coolwarm')\n",
    "\n",
    "plt.show()"
   ]
  },
  {
   "cell_type": "markdown",
   "metadata": {},
   "source": [
    "Notar que los features están altamente correlacionados entre sí y poco correlacionados con la etiqueta *y* que queremos predecir.\n",
    "\n",
    "Tratemos de entrenar un árbol de decisión par apredecir el valor de y."
   ]
  },
  {
   "cell_type": "code",
   "execution_count": null,
   "metadata": {},
   "outputs": [],
   "source": [
    "X = data[['x1', 'x2']].values\n",
    "y = data['y'].values"
   ]
  },
  {
   "cell_type": "code",
   "execution_count": null,
   "metadata": {},
   "outputs": [],
   "source": [
    "from sklearn.model_selection import train_test_split\n",
    "\n",
    "X_train, X_test, y_train, y_test = train_test_split(X, y, test_size=0.33, random_state=42)\n"
   ]
  },
  {
   "cell_type": "code",
   "execution_count": null,
   "metadata": {},
   "outputs": [],
   "source": [
    "from sklearn.tree import DecisionTreeRegressor"
   ]
  },
  {
   "cell_type": "code",
   "execution_count": null,
   "metadata": {},
   "outputs": [],
   "source": [
    "regresor = DecisionTreeRegressor(max_depth=1)\n",
    "regresor.fit(X_train,y_train)\n"
   ]
  },
  {
   "cell_type": "code",
   "execution_count": null,
   "metadata": {},
   "outputs": [],
   "source": [
    "y_train_pred = regresor.predict(X_train)\n",
    "y_test_pred = regresor.predict(X_test)"
   ]
  },
  {
   "cell_type": "code",
   "execution_count": null,
   "metadata": {},
   "outputs": [],
   "source": [
    "from sklearn.metrics import mean_squared_error\n",
    "\n",
    "print(mean_squared_error(y_train,y_train_pred))\n",
    "print(mean_squared_error(y_test,y_test_pred))\n"
   ]
  },
  {
   "cell_type": "markdown",
   "metadata": {},
   "source": [
    "Notemos que el modelo no es muy bueno. Sin mbargo, la información para poder predecir está en los datos y el modelo usado podría predecir mejor. El problema viene porque no realizamos una ingienería de features adecuada antes de alimentar el modelo.\n",
    "Agreguemos una nueva feature, que sea la resta de las anteriores."
   ]
  },
  {
   "cell_type": "code",
   "execution_count": null,
   "metadata": {},
   "outputs": [],
   "source": [
    "data['x_nuevo'] = data['x2'] - data['x1']\n",
    "X_new = data['x_nuevo'].values"
   ]
  },
  {
   "cell_type": "code",
   "execution_count": null,
   "metadata": {},
   "outputs": [],
   "source": [
    "from sklearn.model_selection import train_test_split\n",
    "\n",
    "X_train, X_test, y_train, y_test = train_test_split(X_new, y, test_size=0.33, random_state=42)\n"
   ]
  },
  {
   "cell_type": "code",
   "execution_count": null,
   "metadata": {},
   "outputs": [],
   "source": [
    "regresor = DecisionTreeRegressor(max_depth=1)\n",
    "regresor.fit(X_train.reshape(-1,1),y_train)\n"
   ]
  },
  {
   "cell_type": "code",
   "execution_count": null,
   "metadata": {},
   "outputs": [],
   "source": [
    "y_train_pred = regresor.predict(X_train.reshape(-1,1))\n",
    "y_test_pred = regresor.predict(X_test.reshape(-1,1))"
   ]
  },
  {
   "cell_type": "code",
   "execution_count": null,
   "metadata": {},
   "outputs": [],
   "source": [
    "from sklearn.metrics import mean_squared_error\n",
    "\n",
    "print(mean_squared_error(y_train,y_train_pred))\n",
    "print(mean_squared_error(y_test,y_test_pred))\n"
   ]
  },
  {
   "cell_type": "markdown",
   "metadata": {},
   "source": [
    "La predicción, con la misma profundidad en el modelo, mejoró un montón. ¿Cómo son las correlaciones?"
   ]
  },
  {
   "cell_type": "code",
   "execution_count": null,
   "metadata": {},
   "outputs": [],
   "source": [
    "plt.scatter(data['x_nuevo'], data['y'])"
   ]
  },
  {
   "cell_type": "code",
   "execution_count": null,
   "metadata": {},
   "outputs": [],
   "source": [
    "corr = data.corr(method='pearson') # .corr is used for find corelation\n",
    "plt.figure(figsize=(7,7))\n",
    "sns.heatmap(corr, cbar = True,  square = True, annot=True, fmt= '.2f',annot_kws={'size': 15},\n",
    "           xticklabels= data.columns, \n",
    "           yticklabels= data.columns,\n",
    "           cmap= 'coolwarm')\n",
    "\n",
    "plt.show()"
   ]
  },
  {
   "cell_type": "markdown",
   "metadata": {},
   "source": [
    "Con los mismos datos, pudimos predecir mucho mejor: construimos un feature mucho mas adecuado para el problema."
   ]
  },
  {
   "cell_type": "markdown",
   "metadata": {},
   "source": [
    "# Arreglo de Fetures automático\n",
    "\n",
    "PCA nos puede ayudar a preparar automaticamente las features."
   ]
  },
  {
   "cell_type": "code",
   "execution_count": null,
   "metadata": {},
   "outputs": [],
   "source": [
    "from sklearn.decomposition import PCA\n",
    "\n",
    "pca = PCA(n_components=2)\n",
    "X_nuevo = pca.fit_transform(X) "
   ]
  },
  {
   "cell_type": "code",
   "execution_count": null,
   "metadata": {},
   "outputs": [],
   "source": [
    "plt.scatter(X_nuevo[:,0], X_nuevo[:,1], c = y)"
   ]
  },
  {
   "cell_type": "markdown",
   "metadata": {},
   "source": [
    "Notar qeu ahora hay un feature que esta muy correlacionado con la etiqueta. Usamos ahora estas dos features como dataset y probamos nuevamente entrenar un modelo."
   ]
  },
  {
   "cell_type": "code",
   "execution_count": null,
   "metadata": {},
   "outputs": [],
   "source": [
    "X_train, X_test, y_train, y_test = train_test_split(X_nuevo, y, test_size=0.33, random_state=42)"
   ]
  },
  {
   "cell_type": "markdown",
   "metadata": {},
   "source": [
    "Usamos un arbol de profundidad 1 nuevamente."
   ]
  },
  {
   "cell_type": "code",
   "execution_count": null,
   "metadata": {},
   "outputs": [],
   "source": [
    "regresor2 = DecisionTreeRegressor(max_depth=1)\n",
    "regresor2.fit(X_train,y_train)"
   ]
  },
  {
   "cell_type": "markdown",
   "metadata": {},
   "source": [
    "Notemos que el error que obtenemos usando estos dos nuevos features (obtenidos a través de PCA) es mucho menor al error que hubiesemos tenido si usábamos los features originales."
   ]
  },
  {
   "cell_type": "code",
   "execution_count": null,
   "metadata": {},
   "outputs": [],
   "source": [
    "print(mean_squared_error(y_train,y_train_pred))\n",
    "print(mean_squared_error(y_test,y_test_pred))"
   ]
  },
  {
   "cell_type": "markdown",
   "metadata": {},
   "source": [
    "## Ejemplo con imagenes\n",
    "\n",
    "Ahora vamos a trabajar nuevamente con el dataset de MNIST. El mismo dataset ya lo usamos para resolver un problema de redes neuronales. \n",
    "\n",
    "### RAW DATA (sin reducción de dimensionalidad)\n",
    "Primero vamos a repasar lo que ya hicimos para este dataset."
   ]
  },
  {
   "cell_type": "code",
   "execution_count": 2,
   "metadata": {},
   "outputs": [],
   "source": [
    "import numpy as np\n",
    "import matplotlib.pyplot as plt\n",
    "import seaborn as sns\n",
    "sns.set()\n",
    "\n",
    "import os #esta libreria permite trabajar con funciones del sistema operativo \n",
    "import random\n",
    "\n",
    "from sklearn.model_selection import train_test_split"
   ]
  },
  {
   "cell_type": "markdown",
   "metadata": {},
   "source": [
    "**1. Carga de datos**\n",
    "\n",
    "Cada instancia del dataset es una imagen guardada en una carpeta con la etiqueta correspondiente."
   ]
  },
  {
   "cell_type": "code",
   "execution_count": 3,
   "metadata": {},
   "outputs": [],
   "source": [
    "directorio = 'Datasets/MNIST/'"
   ]
  },
  {
   "cell_type": "code",
   "execution_count": 4,
   "metadata": {},
   "outputs": [
    {
     "name": "stdout",
     "output_type": "stream",
     "text": [
      "['0', '1', '2', '3', '4', '5', '6', '7', '8', '9']\n"
     ]
    }
   ],
   "source": [
    "print(os.listdir(directorio))"
   ]
  },
  {
   "cell_type": "code",
   "execution_count": 5,
   "metadata": {},
   "outputs": [],
   "source": [
    "todas_imagenes = []\n",
    "y_todas_imagenes = []"
   ]
  },
  {
   "cell_type": "code",
   "execution_count": 6,
   "metadata": {},
   "outputs": [
    {
     "name": "stdout",
     "output_type": "stream",
     "text": [
      "0 Datasets/MNIST/0/\n",
      "Hay 4132 imagenes\n",
      "1 Datasets/MNIST/1/\n",
      "Hay 4684 imagenes\n",
      "2 Datasets/MNIST/2/\n",
      "Hay 4177 imagenes\n",
      "3 Datasets/MNIST/3/\n",
      "Hay 4351 imagenes\n",
      "4 Datasets/MNIST/4/\n",
      "Hay 4072 imagenes\n",
      "5 Datasets/MNIST/5/\n",
      "Hay 3795 imagenes\n",
      "6 Datasets/MNIST/6/\n",
      "Hay 4137 imagenes\n",
      "7 Datasets/MNIST/7/\n",
      "Hay 4401 imagenes\n",
      "8 Datasets/MNIST/8/\n",
      "Hay 4063 imagenes\n",
      "9 Datasets/MNIST/9/\n",
      "Hay 4188 imagenes\n"
     ]
    }
   ],
   "source": [
    "digitos = np.arange(0,10)\n",
    "for digito in digitos:\n",
    "    directorio = 'Datasets/MNIST/' + str(digito) + '/'\n",
    "    print(digito, directorio)\n",
    "    print('Hay', len(os.listdir(directorio)),'imagenes')\n",
    "    for imagen in os.listdir(directorio):\n",
    "        todas_imagenes.append(plt.imread(directorio + imagen))\n",
    "        y_todas_imagenes.append(digito)\n",
    "        \n",
    "todas_imagenes = np.array(todas_imagenes)\n",
    "y_todas_imagenes = np.array(y_todas_imagenes)"
   ]
  },
  {
   "cell_type": "markdown",
   "metadata": {},
   "source": [
    "**2. Preprocesado**\n",
    "\n",
    "**Ejercicio:** Mirar el `shape` de `X` y responder: ¿Cuántas instancias son?¿Qué ancho y largo tienen las imágenes?¿Cuántas bandas?"
   ]
  },
  {
   "cell_type": "code",
   "execution_count": 7,
   "metadata": {},
   "outputs": [
    {
     "name": "stdout",
     "output_type": "stream",
     "text": [
      "(42000, 28, 28) (42000,)\n"
     ]
    }
   ],
   "source": [
    "print(todas_imagenes.shape, y_todas_imagenes.shape)\n",
    "n_instancias = todas_imagenes.shape[0]\n",
    "ancho_imagen = todas_imagenes.shape[1]\n",
    "largo_imagen = todas_imagenes.shape[2]"
   ]
  },
  {
   "cell_type": "markdown",
   "metadata": {},
   "source": [
    "Miramos una imagen al azar."
   ]
  },
  {
   "cell_type": "code",
   "execution_count": 8,
   "metadata": {},
   "outputs": [
    {
     "data": {
      "image/png": "[encoded data removed]",
      "text/plain": [
       "<Figure size 432x432 with 1 Axes>"
      ]
     },
     "metadata": {
      "needs_background": "light"
     },
     "output_type": "display_data"
    }
   ],
   "source": [
    "idx_imagen = np.random.randint(0,todas_imagenes.shape[0])\n",
    "plt.figure(figsize = (6,6))\n",
    "plt.title('Es un ' + str(y_todas_imagenes[idx_imagen]))\n",
    "plt.imshow(todas_imagenes[idx_imagen, :, :])\n",
    "plt.show()"
   ]
  },
  {
   "cell_type": "markdown",
   "metadata": {},
   "source": [
    "**Ejercicio:** Crear un arreglo `X` que sea igual a `todas_imagenes`, pero de forma `(n_instancias, largo_imagen * ancho_imagen)`."
   ]
  },
  {
   "cell_type": "code",
   "execution_count": 9,
   "metadata": {},
   "outputs": [
    {
     "name": "stdout",
     "output_type": "stream",
     "text": [
      "(42000, 784)\n"
     ]
    }
   ],
   "source": [
    "X = todas_imagenes.reshape(n_instancias, largo_imagen*ancho_imagen)\n",
    "print(X.shape)"
   ]
  },
  {
   "cell_type": "markdown",
   "metadata": {},
   "source": [
    "**Ejercicio:** Reescalar las imágenes entre 0 y 1."
   ]
  },
  {
   "cell_type": "code",
   "execution_count": 10,
   "metadata": {},
   "outputs": [],
   "source": [
    "X = X/255"
   ]
  },
  {
   "cell_type": "code",
   "execution_count": 11,
   "metadata": {},
   "outputs": [
    {
     "name": "stderr",
     "output_type": "stream",
     "text": [
      "Using TensorFlow backend.\n"
     ]
    },
    {
     "name": "stdout",
     "output_type": "stream",
     "text": [
      "(42000, 10)\n"
     ]
    }
   ],
   "source": [
    "from keras.utils import to_categorical\n",
    "y =to_categorical(y_todas_imagenes)\n",
    "print(y.shape)"
   ]
  },
  {
   "cell_type": "markdown",
   "metadata": {},
   "source": [
    "**Ejercicio:** hacer un `train_test_split`. Usar el 20% del dataset como conjunto de test."
   ]
  },
  {
   "cell_type": "code",
   "execution_count": 49,
   "metadata": {},
   "outputs": [],
   "source": [
    "X_train, X_test, y_train, y_test = train_test_split(X, y, test_size=0.20, random_state=42, stratify = y)"
   ]
  },
  {
   "cell_type": "markdown",
   "metadata": {},
   "source": [
    "**3. Entrenamiento del modelo**\n",
    "\n",
    "Comenzar entrenando un Red Neuronal de una capa, con diez neuronas, función de activación `softmax` y pérdida `categorical_crossentropy`. Usar como optimizador `Adam` y `epoch = 20`."
   ]
  },
  {
   "cell_type": "code",
   "execution_count": 85,
   "metadata": {},
   "outputs": [
    {
     "name": "stdout",
     "output_type": "stream",
     "text": [
      "Train on 30240 samples, validate on 3360 samples\n",
      "Epoch 1/10\n",
      "30240/30240 [==============================] - 2s 76us/step - loss: 0.6308 - acc: 0.8066 - val_loss: 0.3025 - val_acc: 0.9060\n",
      "Epoch 2/10\n",
      "30240/30240 [==============================] - 2s 58us/step - loss: 0.2701 - acc: 0.9221 - val_loss: 0.2615 - val_acc: 0.9193\n",
      "Epoch 3/10\n",
      "30240/30240 [==============================] - 1s 47us/step - loss: 0.2251 - acc: 0.9337 - val_loss: 0.2358 - val_acc: 0.9277\n",
      "Epoch 4/10\n",
      "30240/30240 [==============================] - 1s 47us/step - loss: 0.1949 - acc: 0.9423 - val_loss: 0.2143 - val_acc: 0.9369\n",
      "Epoch 5/10\n",
      "30240/30240 [==============================] - 1s 47us/step - loss: 0.1731 - acc: 0.9489 - val_loss: 0.2071 - val_acc: 0.9372\n",
      "Epoch 6/10\n",
      "30240/30240 [==============================] - 1s 49us/step - loss: 0.1585 - acc: 0.9517 - val_loss: 0.2132 - val_acc: 0.9381\n",
      "Epoch 7/10\n",
      "30240/30240 [==============================] - 1s 49us/step - loss: 0.1459 - acc: 0.9559 - val_loss: 0.1951 - val_acc: 0.9417\n",
      "Epoch 8/10\n",
      "30240/30240 [==============================] - 2s 54us/step - loss: 0.1358 - acc: 0.9590 - val_loss: 0.1912 - val_acc: 0.9455\n",
      "Epoch 9/10\n",
      "30240/30240 [==============================] - 1s 49us/step - loss: 0.1260 - acc: 0.9608 - val_loss: 0.1948 - val_acc: 0.9414\n",
      "Epoch 10/10\n",
      "30240/30240 [==============================] - 2s 50us/step - loss: 0.1190 - acc: 0.9626 - val_loss: 0.1842 - val_acc: 0.9458\n",
      "Tiempo de entrenamiento: 16.375131607055664\n"
     ]
    }
   ],
   "source": [
    "from keras.models import Sequential\n",
    "from keras.layers import Dense,Dropout\n",
    "import keras\n",
    "import time\n",
    "\n",
    "model = Sequential()\n",
    "model.add(Dense(16, activation='relu'))\n",
    "model.add(Dense(16, activation='relu'))\n",
    "# model.add(Dense(800, activation='relu'))\n",
    "model.add(Dense(10, activation='softmax'))\n",
    "\n",
    "optimizador = keras.optimizers.Adam(lr=0.001, beta_1=0.9, beta_2=0.999, epsilon=None, decay=0.0, amsgrad=False)\n",
    "\n",
    "model.compile(optimizer=optimizador,loss='categorical_crossentropy',\n",
    "              metrics=['accuracy'])\n",
    "\n",
    "start = time.time()\n",
    "history = model.fit(X_train, y_train, epochs=10, validation_split=0.1)\n",
    "end = time.time()\n",
    "print('Tiempo de entrenamiento:',end - start)"
   ]
  },
  {
   "cell_type": "code",
   "execution_count": 51,
   "metadata": {},
   "outputs": [
    {
     "name": "stdout",
     "output_type": "stream",
     "text": [
      "_________________________________________________________________\n",
      "Layer (type)                 Output Shape              Param #   \n",
      "=================================================================\n",
      "dense_6 (Dense)              (None, 16)                12560     \n",
      "_________________________________________________________________\n",
      "dense_7 (Dense)              (None, 16)                272       \n",
      "_________________________________________________________________\n",
      "dense_8 (Dense)              (None, 10)                170       \n",
      "=================================================================\n",
      "Total params: 13,002\n",
      "Trainable params: 13,002\n",
      "Non-trainable params: 0\n",
      "_________________________________________________________________\n"
     ]
    }
   ],
   "source": [
    "model.summary()"
   ]
  },
  {
   "cell_type": "markdown",
   "metadata": {},
   "source": [
    "**Ejercicio:** Graficar la pérdida y la exactitud en función de *epochs* para validación y entrenamiento."
   ]
  },
  {
   "cell_type": "code",
   "execution_count": 52,
   "metadata": {},
   "outputs": [
    {
     "data": {
      "image/png": "[encoded data removed]",
      "text/plain": [
       "<Figure size 432x288 with 1 Axes>"
      ]
     },
     "metadata": {
      "needs_background": "light"
     },
     "output_type": "display_data"
    },
    {
     "data": {
      "image/png": "[encoded data removed]",
      "text/plain": [
       "<Figure size 432x288 with 1 Axes>"
      ]
     },
     "metadata": {
      "needs_background": "light"
     },
     "output_type": "display_data"
    }
   ],
   "source": [
    "plt.plot(history.history['loss'])\n",
    "plt.plot(history.history['val_loss'])\n",
    "plt.title('model loss')\n",
    "plt.legend(['train', 'test'], loc='upper left')\n",
    "plt.ylabel('loss')\n",
    "plt.xlabel('epoch')\n",
    "plt.show()\n",
    "\n",
    "plt.figure()\n",
    "plt.plot(history.history['acc'])\n",
    "plt.plot(history.history['val_acc'])\n",
    "plt.title('model accuracy')\n",
    "plt.ylabel('accuracy')\n",
    "plt.xlabel('epoch')\n",
    "plt.legend(['train', 'test'], loc='upper left')\n",
    "plt.show()"
   ]
  },
  {
   "cell_type": "markdown",
   "metadata": {},
   "source": [
    "**4. Evaluación de los resultados.**\n",
    "\n",
    "**Ejercicio**: predecir las etiquetas de todo el set de testeo."
   ]
  },
  {
   "cell_type": "code",
   "execution_count": 53,
   "metadata": {},
   "outputs": [],
   "source": [
    "y_test_pred = model.predict(X_test)"
   ]
  },
  {
   "cell_type": "markdown",
   "metadata": {},
   "source": [
    "Esto sirve para pasar de probabilidades a la etiqueta en sí. En este caso, la etiqueta es el dígito, y corresponde al número de columna."
   ]
  },
  {
   "cell_type": "code",
   "execution_count": 54,
   "metadata": {},
   "outputs": [
    {
     "data": {
      "text/plain": [
       "(8400,)"
      ]
     },
     "execution_count": 54,
     "metadata": {},
     "output_type": "execute_result"
    }
   ],
   "source": [
    "y_test_pred = np.argmax(y_test_pred, axis = 1)\n",
    "y_test_pred.shape"
   ]
  },
  {
   "cell_type": "markdown",
   "metadata": {},
   "source": [
    "**Ejercicio:** Calcular exactitud y la matriz de confusión para el conjunto de entrenamiento."
   ]
  },
  {
   "cell_type": "code",
   "execution_count": 63,
   "metadata": {},
   "outputs": [
    {
     "data": {
      "text/plain": [
       "array([[807,   0,   4,   4,   1,   3,   1,   1,   5,   1],\n",
       "       [  0, 896,   4,   9,   0,   1,   0,   5,  21,   1],\n",
       "       [  1,   3, 809,   4,   3,   2,   0,   4,   7,   2],\n",
       "       [  0,   1,  28, 809,   0,  10,   2,   4,  12,   4],\n",
       "       [  2,   3,   2,   3, 761,   4,  10,   3,   5,  21],\n",
       "       [  5,   1,   5,  35,   5, 670,   9,   2,  21,   6],\n",
       "       [ 11,   0,   4,   0,   5,   1, 799,   1,   6,   0],\n",
       "       [  1,   6,  10,   2,   6,   2,   0, 836,   4,  13],\n",
       "       [  2,   3,   4,  17,   1,   5,   4,   5, 769,   3],\n",
       "       [  5,   0,   0,   9,  18,   2,   0,  16,   8, 780]], dtype=int64)"
      ]
     },
     "execution_count": 63,
     "metadata": {},
     "output_type": "execute_result"
    }
   ],
   "source": [
    "from sklearn.metrics import confusion_matrix\n",
    "\n",
    "y_test = np.argmax(y_test, axis = 1)\n",
    "\n",
    "confusion_matrix(y_test, y_test_pred)"
   ]
  },
  {
   "cell_type": "code",
   "execution_count": 64,
   "metadata": {},
   "outputs": [
    {
     "data": {
      "text/plain": [
       "0.9447619047619048"
      ]
     },
     "execution_count": 64,
     "metadata": {},
     "output_type": "execute_result"
    }
   ],
   "source": [
    "from sklearn.metrics import accuracy_score\n",
    "\n",
    "accuracy_score(y_test, y_test_pred)"
   ]
  },
  {
   "cell_type": "markdown",
   "metadata": {},
   "source": [
    "### Aplicamos PCA\n",
    "Ahora vamos a utilizar PCA para reducir la dimensionalidad del dataset. PAra esto vamos a usar lafunción PCA que traer sklearn. Cuando definimos una isntancia de este función, le vamos a decir cuanta varianza de los datos originales queremos que quede captada en los datos reducidos. En este caso usaremos el 95%. A partir de esto, la función selecciona automaticametne el numero de componentes principales."
   ]
  },
  {
   "cell_type": "code",
   "execution_count": 69,
   "metadata": {},
   "outputs": [],
   "source": [
    "from sklearn.decomposition import PCA\n",
    "# Make an instance of the Model\n",
    "pca = PCA(.95)"
   ]
  },
  {
   "cell_type": "code",
   "execution_count": 70,
   "metadata": {},
   "outputs": [
    {
     "data": {
      "text/plain": [
       "PCA(copy=True, iterated_power='auto', n_components=0.95, random_state=None,\n",
       "  svd_solver='auto', tol=0.0, whiten=False)"
      ]
     },
     "execution_count": 70,
     "metadata": {},
     "output_type": "execute_result"
    }
   ],
   "source": [
    "pca.fit(X_train)"
   ]
  },
  {
   "cell_type": "code",
   "execution_count": 71,
   "metadata": {},
   "outputs": [],
   "source": [
    "X_PC_train = pca.transform(X_train)\n",
    "X_PC_test = pca.transform(X_test)"
   ]
  },
  {
   "cell_type": "markdown",
   "metadata": {},
   "source": [
    "Veamos ahora como se comparan las dimensiones del dataset original con el dataset reducido:"
   ]
  },
  {
   "cell_type": "code",
   "execution_count": 72,
   "metadata": {},
   "outputs": [
    {
     "data": {
      "text/plain": [
       "(33600, 784)"
      ]
     },
     "execution_count": 72,
     "metadata": {},
     "output_type": "execute_result"
    }
   ],
   "source": [
    "X_train.shape"
   ]
  },
  {
   "cell_type": "code",
   "execution_count": 73,
   "metadata": {},
   "outputs": [
    {
     "data": {
      "text/plain": [
       "(33600, 159)"
      ]
     },
     "execution_count": 73,
     "metadata": {},
     "output_type": "execute_result"
    }
   ],
   "source": [
    "X_PC_train.shape"
   ]
  },
  {
   "cell_type": "markdown",
   "metadata": {},
   "source": [
    "El nuevo dataset tine 159 features (o sea que se usaron 159 componentes principales para explicar el 95% de la varianza de los datos originales)"
   ]
  },
  {
   "cell_type": "markdown",
   "metadata": {},
   "source": [
    "### Qué tan importante es cada componente?\n",
    "Usamos como criterio para elegir el número de componentes tomar el 95% de la varianza del dataset original. Pero algo interesante es ver como es la evolución de esta varianza captada por el dataset reducido en función del numero de componentes tomadas."
   ]
  },
  {
   "cell_type": "code",
   "execution_count": 26,
   "metadata": {},
   "outputs": [
    {
     "data": {
      "text/plain": [
       "PCA(copy=True, iterated_power='auto', n_components=None, random_state=None,\n",
       "  svd_solver='auto', tol=0.0, whiten=False)"
      ]
     },
     "execution_count": 26,
     "metadata": {},
     "output_type": "execute_result"
    }
   ],
   "source": [
    "# Definimos un modelo que compute todas las componentes posibles\n",
    "# (si no le pasamos parametros lo hace así)\n",
    "pca_total = PCA()\n",
    "pca_total\n",
    "pca_total.fit(X_train)"
   ]
  },
  {
   "cell_type": "markdown",
   "metadata": {},
   "source": [
    "La importancia de cada componente esta pesada por el valor absoluto del valor singular asociado a esa componeten. Estos valores son calculados cuando entrenamos el modelo, y esta en la varaible 'singular_values_'. La varianza captada por cada componente esta dada por la proporcion del peso de la valor singular respecto a la suma de todos los valores singulares. Esto se puede cosulatr en la variable 'explained_variance_ratio_'.\n",
    "\n",
    "Notemos que todos sumados dan 1, quiere decir que si usamos todos los componentes, reconstruiremos el 100% de la varianza del dataset original."
   ]
  },
  {
   "cell_type": "code",
   "execution_count": 32,
   "metadata": {},
   "outputs": [
    {
     "name": "stdout",
     "output_type": "stream",
     "text": [
      "1.0\n"
     ]
    },
    {
     "data": {
      "text/plain": [
       "<contextlib._GeneratorContextManager at 0x20417a57e80>"
      ]
     },
     "execution_count": 32,
     "metadata": {},
     "output_type": "execute_result"
    },
    {
     "data": {
      "image/png": "[encoded data removed]",
      "text/plain": [
       "<Figure size 432x288 with 1 Axes>"
      ]
     },
     "metadata": {
      "needs_background": "light"
     },
     "output_type": "display_data"
    }
   ],
   "source": [
    "varianza_cada_componente = pca_total.explained_variance_ratio_\n",
    "print(varianza_cada_componente.sum())\n",
    "\n",
    "plt.ylabel('% de Varianza explicada por componente')\n",
    "plt.xlabel('Componentes por orden')\n",
    "plt.title('PCA Analysis')\n",
    "plt.plot(varianza_cada_componente)\n",
    "plt.xlim(-1,200)\n",
    "plt.style.context('seaborn-whitegrid')\n",
    "\n",
    "# Solo ploteamos las primeras 200, notemos que cae muy rápido\n",
    "# (Usamos PCA para encontrar la base donde este decaimiento pasa mas rápido)"
   ]
  },
  {
   "cell_type": "code",
   "execution_count": null,
   "metadata": {},
   "outputs": [],
   "source": [
    "varianza_cada_componente pca_total.explained_variance_ratio_.sum()"
   ]
  },
  {
   "cell_type": "markdown",
   "metadata": {},
   "source": [
    "Pero lo que nos interesa realmente no es cuanto explica cada componente sola, sino cuanta varianza vamos captando a medida que incorporamos componentes a la representación. Es decir, si tomamos k componentes, debemos que sumar la varianza explicada por la primer componente, por la segunda,..., hasta la k-esima componente. Esto es lo que se llama suma acumulativa, y lo podemos hacer facilmente con la función cumsum()."
   ]
  },
  {
   "cell_type": "code",
   "execution_count": 33,
   "metadata": {},
   "outputs": [
    {
     "data": {
      "text/plain": [
       "<contextlib._GeneratorContextManager at 0x20417a57320>"
      ]
     },
     "execution_count": 33,
     "metadata": {},
     "output_type": "execute_result"
    },
    {
     "data": {
      "image/png": "[encoded data removed]",
      "text/plain": [
       "<Figure size 432x288 with 1 Axes>"
      ]
     },
     "metadata": {
      "needs_background": "light"
     },
     "output_type": "display_data"
    }
   ],
   "source": [
    "\n",
    "varianza_explicada = pca_total.explained_variance_ratio_.cumsum()\n",
    "\n",
    "plt.ylabel('% de Varianza total explicada')\n",
    "plt.xlabel('Número usado de componentes')\n",
    "plt.title('PCA Analysis')\n",
    "plt.plot(varianza_explicada)\n",
    "plt.xlim(-1,200)\n",
    "plt.style.context('seaborn-whitegrid')"
   ]
  },
  {
   "cell_type": "markdown",
   "metadata": {},
   "source": [
    "### Ejercicio !!!\n",
    "Entrenar nuevamente el modelo pero ahora usando este nuevo dataset reducido. Comparar el tiempo empleado en entrenar el modelo y la accuracy obtenida contra la que se obtiene por usar los datos crudos."
   ]
  },
  {
   "cell_type": "markdown",
   "metadata": {},
   "source": [
    "Entrenamos una red neuronal igual a la que usamos antes, pero esta vez la entrada a la red será a partir de la matrix reducida que obtuvimos usando PCA. Por ende, la cantidad e features que le llegan a la primer capa de neuronas es mucho menor (159 en vez de 784)."
   ]
  },
  {
   "cell_type": "code",
   "execution_count": 84,
   "metadata": {},
   "outputs": [
    {
     "name": "stdout",
     "output_type": "stream",
     "text": [
      "Train on 30240 samples, validate on 3360 samples\n",
      "Epoch 1/10\n",
      "30240/30240 [==============================] - 2s 59us/step - loss: 0.8770 - acc: 0.7325 - val_loss: 0.3360 - val_acc: 0.9000\n",
      "Epoch 2/10\n",
      "30240/30240 [==============================] - 1s 38us/step - loss: 0.2944 - acc: 0.9137 - val_loss: 0.2718 - val_acc: 0.9196\n",
      "Epoch 3/10\n",
      "30240/30240 [==============================] - 1s 39us/step - loss: 0.2420 - acc: 0.9280 - val_loss: 0.2443 - val_acc: 0.9274\n",
      "Epoch 4/10\n",
      "30240/30240 [==============================] - 1s 39us/step - loss: 0.2144 - acc: 0.9372 - val_loss: 0.2262 - val_acc: 0.9354\n",
      "Epoch 5/10\n",
      "30240/30240 [==============================] - 1s 43us/step - loss: 0.1956 - acc: 0.9431 - val_loss: 0.2126 - val_acc: 0.9375\n",
      "Epoch 6/10\n",
      "30240/30240 [==============================] - 1s 39us/step - loss: 0.1818 - acc: 0.9457 - val_loss: 0.2076 - val_acc: 0.9378\n",
      "Epoch 7/10\n",
      "30240/30240 [==============================] - 1s 46us/step - loss: 0.1708 - acc: 0.9486 - val_loss: 0.2079 - val_acc: 0.9384\n",
      "Epoch 8/10\n",
      "30240/30240 [==============================] - 1s 39us/step - loss: 0.1610 - acc: 0.9518 - val_loss: 0.1985 - val_acc: 0.9432\n",
      "Epoch 9/10\n",
      "30240/30240 [==============================] - 1s 39us/step - loss: 0.1532 - acc: 0.9545 - val_loss: 0.1936 - val_acc: 0.9399\n",
      "Epoch 10/10\n",
      "30240/30240 [==============================] - 1s 39us/step - loss: 0.1459 - acc: 0.9569 - val_loss: 0.1941 - val_acc: 0.9414\n",
      "Tiempo de entrenamiento: 13.101744174957275\n"
     ]
    }
   ],
   "source": [
    "from keras.models import Sequential\n",
    "from keras.layers import Dense,Dropout\n",
    "import keras\n",
    "import time\n",
    "\n",
    "model_pca = Sequential()\n",
    "model_pca.add(Dense(16, activation='relu'))\n",
    "model_pca.add(Dense(16, activation='relu'))\n",
    "# model.add(Dense(800, activation='relu'))\n",
    "model_pca.add(Dense(10, activation='softmax'))\n",
    "\n",
    "optimizador = keras.optimizers.Adam(lr=0.001, beta_1=0.9, beta_2=0.999, epsilon=None, decay=0.0, amsgrad=False)\n",
    "\n",
    "model_pca.compile(optimizer=optimizador,loss='categorical_crossentropy',\n",
    "              metrics=['accuracy'])\n",
    "\n",
    "# Medimos el tiempo que tardamos en entrenar\n",
    "start = time.time()\n",
    "history_pca = model_pca.fit(X_PC_train, y_train, epochs=10, validation_split=0.1)\n",
    "end = time.time()\n",
    "print('Tiempo de entrenamiento:',end - start)"
   ]
  },
  {
   "cell_type": "markdown",
   "metadata": {},
   "source": [
    "Notemos que, para el mismo modelo de red, el entrenamiento tardó menos (13s en vez de 16s). Esto no parece mucho, pero a medida que los datasets se van haciendo mas grande, esta diferencia se vuelve cada vez mayor.\n",
    "\n",
    "Por qué se tarda menos? Porque al tener menos entradas, la red precisa entrenar menos parametros:"
   ]
  },
  {
   "cell_type": "code",
   "execution_count": 86,
   "metadata": {},
   "outputs": [
    {
     "name": "stdout",
     "output_type": "stream",
     "text": [
      "_________________________________________________________________\n",
      "Layer (type)                 Output Shape              Param #   \n",
      "=================================================================\n",
      "dense_18 (Dense)             (None, 16)                2560      \n",
      "_________________________________________________________________\n",
      "dense_19 (Dense)             (None, 16)                272       \n",
      "_________________________________________________________________\n",
      "dense_20 (Dense)             (None, 10)                170       \n",
      "=================================================================\n",
      "Total params: 3,002\n",
      "Trainable params: 3,002\n",
      "Non-trainable params: 0\n",
      "_________________________________________________________________\n"
     ]
    }
   ],
   "source": [
    "model_pca.summary()"
   ]
  },
  {
   "cell_type": "markdown",
   "metadata": {},
   "source": [
    "Finalmente, notemos algo muy importante. No sólo ganamos en velocidad de entrenamiento, sino que también en accuracy del resultado obtenido."
   ]
  },
  {
   "cell_type": "code",
   "execution_count": 76,
   "metadata": {},
   "outputs": [],
   "source": [
    "y_test_pred_pca = model_pca.predict(X_PC_test)"
   ]
  },
  {
   "cell_type": "code",
   "execution_count": 81,
   "metadata": {},
   "outputs": [
    {
     "data": {
      "text/plain": [
       "array([[805,   1,   1,   1,   1,   1,   3,   5,   7,   2],\n",
       "       [  0, 924,   0,   2,   0,   2,   1,   1,   5,   2],\n",
       "       [  3,  18, 773,   3,  10,   2,  14,   6,   5,   1],\n",
       "       [  0,   7,  19, 793,   1,  29,   1,   7,   7,   6],\n",
       "       [  1,   5,   1,   0, 777,   1,   7,   2,   1,  19],\n",
       "       [  9,   6,   0,  21,   4, 690,  13,   2,   8,   6],\n",
       "       [  9,   1,   2,   1,   3,   2, 808,   0,   1,   0],\n",
       "       [  2,   9,   7,   2,   2,   3,   0, 844,   0,  11],\n",
       "       [  2,  19,   7,  10,   3,   8,   4,   3, 748,   9],\n",
       "       [  2,   1,   2,   7,  15,   4,   0,  10,   5, 792]], dtype=int64)"
      ]
     },
     "execution_count": 81,
     "metadata": {},
     "output_type": "execute_result"
    }
   ],
   "source": [
    "y_test_pred_pca = np.argmax(y_test_pred_pca, axis = 1)\n",
    "confusion_matrix(y_test, y_test_pred_pca)"
   ]
  },
  {
   "cell_type": "code",
   "execution_count": 83,
   "metadata": {},
   "outputs": [
    {
     "data": {
      "text/plain": [
       "0.9469047619047619"
      ]
     },
     "execution_count": 83,
     "metadata": {},
     "output_type": "execute_result"
    }
   ],
   "source": [
    "accuracy_score(y_test, y_test_pred_pca)"
   ]
  },
  {
   "cell_type": "markdown",
   "metadata": {},
   "source": [
    "Esto se debe a que la reducción de dimensionalidad permite (en este caso), que el modelo ajuste sobre features mas relevantes para la clasificación de la imagen. "
   ]
  }
 ],
 "metadata": {
  "kernelspec": {
   "display_name": "Python 3",
   "language": "python",
   "name": "python3"
  },
  "language_info": {
   "codemirror_mode": {
    "name": "ipython",
    "version": 3
   },
   "file_extension": ".py",
   "mimetype": "text/x-python",
   "name": "python",
   "nbconvert_exporter": "python",
   "pygments_lexer": "ipython3",
   "version": "3.7.3"
  }
 },
 "nbformat": 4,
 "nbformat_minor": 2
}
