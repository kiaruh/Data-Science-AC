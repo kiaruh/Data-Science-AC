{
 "cells": [
  {
   "cell_type": "markdown",
   "metadata": {},
   "source": [
    "# MiniProyecto 4: Optimización de parámetros"
   ]
  },
  {
   "cell_type": "markdown",
   "metadata": {},
   "source": [
    "¡Bienvenidos al cuarto (mini)proyecto de la carrera de Data Science de Acamica! \n",
    "\n",
    "En este proyecto vamos a seguir trabajando (por última vez) con el dataset de propiedades en venta publicadas en el portal [Properati](www.properati.com.ar). El objetivo en este caso es optimizar los parámetros de los algoritmos que usamos en el proyecto pasado.\n",
    "\n",
    "El dataset es el mismo del proyecto 3. Recordemos que las columnas que se agregan son:\n",
    "\n",
    "* `barrios_match`: si coincide el barrio publicado con el geográfico vale 1, si no 0.\n",
    "\n",
    "* `PH`, `apartment`, `house`: variables binarias que indican el tipo de propiedad.\n",
    "\n",
    "* dummies de barrios: variables binarias con 1 o 0 según el barrio.\n",
    "\n",
    "La métrica que vamos a usar para medir es RMSE (raíz del error cuadréatico medio), cuya fórmula es:\n",
    "\n",
    "$$RMSE = \\sqrt{\\frac{\\sum_{t=1}^n (\\hat y_t - y_t)^2}{n}}$$"
   ]
  },
  {
   "cell_type": "markdown",
   "metadata": {},
   "source": [
    "## Pandas - Levantamos el dataset"
   ]
  },
  {
   "cell_type": "code",
   "execution_count": 1,
   "metadata": {},
   "outputs": [],
   "source": [
    "import pandas as pd\n",
    "pd.set_option('display.float_format', lambda x: '%.3f' % x)\n",
    "path_dataset = 'dataset/datos_properati_limpios_model.csv'\n",
    "df = pd.read_csv(path_dataset)"
   ]
  },
  {
   "cell_type": "markdown",
   "metadata": {},
   "source": [
    "**Separá** el dataset en entrenamiento (80%) y test (20%) utilizando como target la columna `price_aprox_usd`"
   ]
  },
  {
   "cell_type": "code",
   "execution_count": 2,
   "metadata": {},
   "outputs": [
    {
     "name": "stdout",
     "output_type": "stream",
     "text": [
      "5100 1276\n"
     ]
    }
   ],
   "source": [
    "# Esto es lo que hace\n",
    "import numpy as np\n",
    "np.random.seed(123)\n",
    "from sklearn.model_selection import train_test_split\n",
    "X = df.drop(['price_aprox_usd'], axis=1)\n",
    "y = df['price_aprox_usd']\n",
    "X_train, X_test, y_train, y_test = train_test_split(\n",
    "    X, y, test_size=0.2, random_state=42)\n",
    "\n",
    "print(X_train.shape[0], X_test.shape[0])"
   ]
  },
  {
   "cell_type": "markdown",
   "metadata": {},
   "source": [
    "## Scikit-learn - Entrenamiento"
   ]
  },
  {
   "cell_type": "markdown",
   "metadata": {},
   "source": [
    "Para repasar los parámetros de árboles de decisión en Scikit-learn: \n",
    "\n",
    "http://scikit-learn.org/stable/modules/generated/sklearn.tree.DecisionTreeRegressor.html"
   ]
  },
  {
   "cell_type": "markdown",
   "metadata": {},
   "source": [
    "En primer lugar veamos como hacer cross validation. Para eso necesitamos definir la cantidad de folds, en este caso vamos a usar 5.\n",
    "\n",
    "GridSearchCV nos permite testear a través de un espacio de búsqueda de parámetros la mejor combinación posible dado un estimador.\n",
    "\n",
    "Por ejemplo, en este caso probamos la profundidad máxima y la máxima cantidad de features para hacer los split. Ambos entre 1 y 5.\n",
    "Recordemos que para hacer la optimización scikit-learn usa la métrica `neg_mean_squared_error` en lugar de `mean_squared_error`."
   ]
  },
  {
   "cell_type": "markdown",
   "metadata": {},
   "source": [
    "**Creá** una variable `param_grid` con valores del 1 al 5 para los atributos `max_depth` y `max_features`. "
   ]
  },
  {
   "cell_type": "code",
   "execution_count": 3,
   "metadata": {},
   "outputs": [],
   "source": [
    "# Creá en esta celda la variable param_grid\n",
    "param_grid = [{'max_depth': list(range(1,6)),'max_features':list(range(1,6))}]"
   ]
  },
  {
   "cell_type": "markdown",
   "metadata": {},
   "source": [
    "**Importá** `GridSearchCV` y `DecisionTreeRegressor`.\n",
    "\n",
    "**Creá** una variable `grid_search` y asignale un `GridSearchCV` que recorra el `param_grid` que creaste con el algoritmos `DecisionTreeRegressor` y el un scoring de `neg_mean_squared_error`"
   ]
  },
  {
   "cell_type": "code",
   "execution_count": 4,
   "metadata": {},
   "outputs": [],
   "source": [
    "# Importa y crea un GridSearchCV en esta celda\n",
    "from sklearn.model_selection import GridSearchCV\n",
    "from sklearn.tree import DecisionTreeRegressor\n",
    "tree_reg = DecisionTreeRegressor()\n",
    "grid_search = GridSearchCV(tree_reg, param_grid, cv = 5, scoring='neg_mean_squared_error',return_train_score=True)"
   ]
  },
  {
   "cell_type": "markdown",
   "metadata": {},
   "source": [
    "A continuación, realizá el `fit` del `grid_search` con el conjunto de entrenamiento"
   ]
  },
  {
   "cell_type": "code",
   "execution_count": 5,
   "metadata": {},
   "outputs": [
    {
     "data": {
      "text/plain": [
       "GridSearchCV(cv=5, error_score='raise-deprecating',\n",
       "             estimator=DecisionTreeRegressor(criterion='mse', max_depth=None,\n",
       "                                             max_features=None,\n",
       "                                             max_leaf_nodes=None,\n",
       "                                             min_impurity_decrease=0.0,\n",
       "                                             min_impurity_split=None,\n",
       "                                             min_samples_leaf=1,\n",
       "                                             min_samples_split=2,\n",
       "                                             min_weight_fraction_leaf=0.0,\n",
       "                                             presort=False, random_state=None,\n",
       "                                             splitter='best'),\n",
       "             iid='warn', n_jobs=None,\n",
       "             param_grid=[{'max_depth': [1, 2, 3, 4, 5],\n",
       "                          'max_features': [1, 2, 3, 4, 5]}],\n",
       "             pre_dispatch='2*n_jobs', refit=True, return_train_score=True,\n",
       "             scoring='neg_mean_squared_error', verbose=0)"
      ]
     },
     "execution_count": 5,
     "metadata": {},
     "output_type": "execute_result"
    }
   ],
   "source": [
    "# Hace el fit de grid search en esta celda\n",
    "grid_search.fit(X_train, y_train)"
   ]
  },
  {
   "cell_type": "markdown",
   "metadata": {},
   "source": [
    "Revisemos los resultados. Recordemos que no están expresados en RMSE."
   ]
  },
  {
   "cell_type": "code",
   "execution_count": 6,
   "metadata": {},
   "outputs": [
    {
     "data": {
      "text/plain": [
       "make_scorer(mean_squared_error, greater_is_better=False)"
      ]
     },
     "execution_count": 6,
     "metadata": {},
     "output_type": "execute_result"
    }
   ],
   "source": [
    "grid_search.scorer_"
   ]
  },
  {
   "cell_type": "markdown",
   "metadata": {},
   "source": [
    "**Mostrá** los `grid_scores` obtenidos durante el `grid_search`"
   ]
  },
  {
   "cell_type": "code",
   "execution_count": 7,
   "metadata": {},
   "outputs": [
    {
     "name": "stdout",
     "output_type": "stream",
     "text": [
      "[31109.73284714 31111.25977036 31199.87865805 30431.87394255\n",
      " 31276.68588291 30646.24870245 30251.41587674 30216.17830125\n",
      " 30246.73051206 30446.12285887 30864.30597708 30273.77796642\n",
      " 29326.53637572 27904.53097374 29452.70546479 31111.13556028\n",
      " 30818.77969799 28263.42541355 26715.12914008 29715.32738582\n",
      " 29371.1509691  28764.74334538 27982.70271826 28639.52671136\n",
      " 29393.90218227]\n",
      "\n",
      "\n",
      "[30912.60029123 30942.99420572 31192.68922801 30391.26100603\n",
      " 31209.56916574 30458.13095171 30377.33335566 30308.31891279\n",
      " 30286.15707341 30444.89344099 30761.33746805 30100.46634338\n",
      " 29217.81345087 27783.74020398 29404.78399914 30999.74371442\n",
      " 30587.76907368 28129.21194524 26277.58806287 29564.47962086\n",
      " 28969.96672043 28566.71978936 27441.24297365 28287.53145448\n",
      " 28717.70491712]\n"
     ]
    }
   ],
   "source": [
    "# Mostrá los grid_scores en esta celda\n",
    "print(np.sqrt(-grid_search.cv_results_['mean_test_score']))\n",
    "print(\"\\n\")\n",
    "print(np.sqrt(-grid_search.cv_results_['mean_train_score']))"
   ]
  },
  {
   "cell_type": "markdown",
   "metadata": {},
   "source": [
    "De esta manera, el valor con mejor resultado (dado el espacio de búsqueda definido) es `max_depth` 3 y `max_features` 3."
   ]
  },
  {
   "cell_type": "markdown",
   "metadata": {},
   "source": [
    "**Mostrá** el mejor score y los mejores parámetros encontrados por `grid_search`"
   ]
  },
  {
   "cell_type": "code",
   "execution_count": 8,
   "metadata": {},
   "outputs": [
    {
     "data": {
      "text/plain": [
       "{'max_depth': 4, 'max_features': 4}"
      ]
     },
     "execution_count": 8,
     "metadata": {},
     "output_type": "execute_result"
    }
   ],
   "source": [
    "# Mostrás los resultados en esta celda\n",
    "grid_search.best_params_"
   ]
  },
  {
   "cell_type": "markdown",
   "metadata": {},
   "source": [
    "Convertimos a RMSE."
   ]
  },
  {
   "cell_type": "code",
   "execution_count": 9,
   "metadata": {},
   "outputs": [
    {
     "data": {
      "text/plain": [
       "26715.13"
      ]
     },
     "execution_count": 9,
     "metadata": {},
     "output_type": "execute_result"
    }
   ],
   "source": [
    "def nmsq2rmse(score):\n",
    "    return np.round(np.sqrt(-score), 2)\n",
    "\n",
    "nmsq2rmse(grid_search.best_score_)"
   ]
  },
  {
   "cell_type": "markdown",
   "metadata": {},
   "source": [
    "__Encontrar el mejor modelo para el espacio de búsqueda dado__\n",
    "\n",
    "* `\"min_samples_split\": [2, 10, 20]`\n",
    "* `\"max_depth\": [None, 2, 5, 10, 15]`\n",
    "* `\"min_samples_leaf\": [1, 5, 10, 15]`\n",
    "* `\"max_leaf_nodes\": [None, 5, 10, 20]`"
   ]
  },
  {
   "cell_type": "markdown",
   "metadata": {},
   "source": [
    "Recordemos que `GridSearchCV` tiene como parámetro default `refit=True`. Esto significa que luego de hacer la corrida se ajusta el mejor modelo al conjunto de datos de entrada. De esta manera, se puede predecir directamente usando `best_estimator_`."
   ]
  },
  {
   "cell_type": "code",
   "execution_count": 10,
   "metadata": {},
   "outputs": [],
   "source": [
    "param_grid = {\"min_samples_split\": [2, 10, 20],\n",
    "              \"max_depth\": [None, 2, 5, 10, 15],\n",
    "              \"min_samples_leaf\": [1, 5, 10, 15],\n",
    "              \"max_leaf_nodes\": [None, 5, 10, 20]}"
   ]
  },
  {
   "cell_type": "code",
   "execution_count": 11,
   "metadata": {},
   "outputs": [],
   "source": [
    "tree_reg = DecisionTreeRegressor()"
   ]
  },
  {
   "cell_type": "code",
   "execution_count": 12,
   "metadata": {},
   "outputs": [],
   "source": [
    "grid_search = GridSearchCV(tree_reg,param_grid,cv=5, scoring='neg_mean_squared_error',return_train_score=True)"
   ]
  },
  {
   "cell_type": "code",
   "execution_count": 13,
   "metadata": {},
   "outputs": [
    {
     "data": {
      "text/plain": [
       "GridSearchCV(cv=5, error_score='raise-deprecating',\n",
       "             estimator=DecisionTreeRegressor(criterion='mse', max_depth=None,\n",
       "                                             max_features=None,\n",
       "                                             max_leaf_nodes=None,\n",
       "                                             min_impurity_decrease=0.0,\n",
       "                                             min_impurity_split=None,\n",
       "                                             min_samples_leaf=1,\n",
       "                                             min_samples_split=2,\n",
       "                                             min_weight_fraction_leaf=0.0,\n",
       "                                             presort=False, random_state=None,\n",
       "                                             splitter='best'),\n",
       "             iid='warn', n_jobs=None,\n",
       "             param_grid={'max_depth': [None, 2, 5, 10, 15],\n",
       "                         'max_leaf_nodes': [None, 5, 10, 20],\n",
       "                         'min_samples_leaf': [1, 5, 10, 15],\n",
       "                         'min_samples_split': [2, 10, 20]},\n",
       "             pre_dispatch='2*n_jobs', refit=True, return_train_score=True,\n",
       "             scoring='neg_mean_squared_error', verbose=0)"
      ]
     },
     "execution_count": 13,
     "metadata": {},
     "output_type": "execute_result"
    }
   ],
   "source": [
    "grid_search.fit(X_train, y_train)"
   ]
  },
  {
   "cell_type": "code",
   "execution_count": 14,
   "metadata": {},
   "outputs": [
    {
     "name": "stdout",
     "output_type": "stream",
     "text": [
      "[26314.5356259  24260.00151695 23088.39203942 22993.64198313\n",
      " 22990.16888966 22266.1600868  21900.58789988 21897.66700933\n",
      " 21871.02566861 21569.41982928 21569.41982928 21577.12148868\n",
      " 24600.03791514 24600.03791514 24600.03791514 24600.03791514\n",
      " 24600.03791514 24600.03791514 24600.03791514 24600.03791514\n",
      " 24600.03791514 24600.03791514 24600.03791514 24600.03791514\n",
      " 22855.35927591 22855.35927591 22855.35927591 22855.35927591\n",
      " 22855.35927591 22855.35927591 22855.35927591 22855.35927591\n",
      " 22855.35927591 22855.35927591 22855.35927591 22855.35927591\n",
      " 22014.89800988 22014.89800988 22014.89800988 22014.89800988\n",
      " 22014.89800988 22014.89800988 22018.27305432 22018.27305432\n",
      " 22018.27305432 22046.43365794 22046.43365794 22046.43365794\n",
      " 25156.55579937 25156.55579937 25156.55579937 25156.55579937\n",
      " 25156.55579937 25156.55579937 25156.55579937 25156.55579937\n",
      " 25156.55579937 25156.55579937 25156.55579937 25156.55579937\n",
      " 25156.55579937 25156.55579937 25156.55579937 25156.55579937\n",
      " 25156.55579937 25156.55579937 25156.55579937 25156.55579937\n",
      " 25156.55579937 25156.55579937 25156.55579937 25156.55579937\n",
      " 25156.55579937 25156.55579937 25156.55579937 25156.55579937\n",
      " 25156.55579937 25156.55579937 25156.55579937 25156.55579937\n",
      " 25156.55579937 25156.55579937 25156.55579937 25156.55579937\n",
      " 25156.55579937 25156.55579937 25156.55579937 25156.55579937\n",
      " 25156.55579937 25156.55579937 25156.55579937 25156.55579937\n",
      " 25156.55579937 25156.55579937 25156.55579937 25156.55579937\n",
      " 22085.62535253 22085.62535253 22086.59376551 22069.13349812\n",
      " 22069.13349812 22062.66576297 22079.51989495 22079.51989495\n",
      " 22079.51989495 22060.02227992 22060.02227992 22060.02227992\n",
      " 24600.03791514 24600.03791514 24600.03791514 24600.03791514\n",
      " 24600.03791514 24600.03791514 24600.03791514 24600.03791514\n",
      " 24600.03791514 24600.03791514 24600.03791514 24600.03791514\n",
      " 22855.35927591 22855.35927591 22855.35927591 22855.35927591\n",
      " 22855.35927591 22855.35927591 22855.35927591 22855.35927591\n",
      " 22855.35927591 22855.35927591 22855.35927591 22855.35927591\n",
      " 22123.35743551 22123.35743551 22123.35743551 22101.62416654\n",
      " 22101.62416654 22101.62416654 22101.62416654 22101.62416654\n",
      " 22101.62416654 22082.43395773 22082.43395773 22082.43395773\n",
      " 22827.99776777 22544.82728085 22298.7837532  22183.78841883\n",
      " 22162.352384   21959.24382629 21589.25413776 21585.92760299\n",
      " 21591.74274183 21433.79979714 21433.79979714 21433.79979714\n",
      " 24600.03791514 24600.03791514 24600.03791514 24600.03791514\n",
      " 24600.03791514 24600.03791514 24600.03791514 24600.03791514\n",
      " 24600.03791514 24600.03791514 24600.03791514 24600.03791514\n",
      " 22855.35927591 22855.35927591 22855.35927591 22855.35927591\n",
      " 22855.35927591 22855.35927591 22855.35927591 22855.35927591\n",
      " 22855.35927591 22855.35927591 22855.35927591 22855.35927591\n",
      " 22014.89800988 22014.89800988 22014.89800988 22014.89800988\n",
      " 22014.89800988 22014.89800988 22018.27305432 22018.27305432\n",
      " 22018.27305432 22046.43365794 22046.43365794 22046.43365794\n",
      " 25119.96911643 23906.03805336 22853.15165374 22928.72925578\n",
      " 22908.92697193 22241.01748518 21825.94084438 21840.64947276\n",
      " 21849.92776085 21577.12148868 21569.41982928 21569.41982928\n",
      " 24600.03791514 24600.03791514 24600.03791514 24600.03791514\n",
      " 24600.03791514 24600.03791514 24600.03791514 24600.03791514\n",
      " 24600.03791514 24600.03791514 24600.03791514 24600.03791514\n",
      " 22855.35927591 22855.35927591 22855.35927591 22855.35927591\n",
      " 22855.35927591 22855.35927591 22855.35927591 22855.35927591\n",
      " 22855.35927591 22855.35927591 22855.35927591 22855.35927591\n",
      " 22014.89800988 22014.89800988 22014.89800988 22014.89800988\n",
      " 22014.89800988 22014.89800988 22018.27305432 22018.27305432\n",
      " 22018.27305432 22046.43365794 22046.43365794 22046.43365794]\n",
      "\n",
      "\n",
      "[  465.63809915 10777.1039522  14114.55960761 13828.7705609\n",
      " 13827.20344839 15612.8544353  16671.27216186 16671.27216186\n",
      " 16670.80453007 17879.82596972 17879.82596972 17879.82596972\n",
      " 24402.0465702  24402.0465702  24402.0465702  24402.0465702\n",
      " 24402.0465702  24402.0465702  24402.0465702  24402.0465702\n",
      " 24402.0465702  24402.0465702  24402.0465702  24402.0465702\n",
      " 22506.55572136 22506.55572136 22506.55572136 22506.55572136\n",
      " 22506.55572136 22506.55572136 22506.55572136 22506.55572136\n",
      " 22506.55572136 22506.55572136 22506.55572136 22506.55572136\n",
      " 21352.4048556  21352.4048556  21352.4048556  21352.4048556\n",
      " 21352.4048556  21352.4048556  21358.78542153 21358.78542153\n",
      " 21358.78542153 21373.64787813 21373.64787813 21373.64787813\n",
      " 25019.6562957  25019.6562957  25019.6562957  25019.6562957\n",
      " 25019.6562957  25019.6562957  25019.6562957  25019.6562957\n",
      " 25019.6562957  25019.6562957  25019.6562957  25019.6562957\n",
      " 25019.6562957  25019.6562957  25019.6562957  25019.6562957\n",
      " 25019.6562957  25019.6562957  25019.6562957  25019.6562957\n",
      " 25019.6562957  25019.6562957  25019.6562957  25019.6562957\n",
      " 25019.6562957  25019.6562957  25019.6562957  25019.6562957\n",
      " 25019.6562957  25019.6562957  25019.6562957  25019.6562957\n",
      " 25019.6562957  25019.6562957  25019.6562957  25019.6562957\n",
      " 25019.6562957  25019.6562957  25019.6562957  25019.6562957\n",
      " 25019.6562957  25019.6562957  25019.6562957  25019.6562957\n",
      " 25019.6562957  25019.6562957  25019.6562957  25019.6562957\n",
      " 21149.33490728 21149.72602986 21158.85038515 21195.72249696\n",
      " 21195.72249696 21201.59568812 21208.58239779 21208.58239779\n",
      " 21208.58239779 21245.30165706 21245.30165706 21245.30165706\n",
      " 24402.0465702  24402.0465702  24402.0465702  24402.0465702\n",
      " 24402.0465702  24402.0465702  24402.0465702  24402.0465702\n",
      " 24402.0465702  24402.0465702  24402.0465702  24402.0465702\n",
      " 22506.55572136 22506.55572136 22506.55572136 22506.55572136\n",
      " 22506.55572136 22506.55572136 22506.55572136 22506.55572136\n",
      " 22506.55572136 22506.55572136 22506.55572136 22506.55572136\n",
      " 21463.31457126 21463.31457126 21463.31457126 21473.87530114\n",
      " 21473.87530114 21473.87530114 21473.87530114 21473.87530114\n",
      " 21473.87530114 21489.57554098 21489.57554098 21489.57554098\n",
      " 15232.33784633 15975.74198716 16716.16005256 16505.72280661\n",
      " 16505.20480622 17129.67162508 17544.09195791 17543.85463307\n",
      " 17544.09195791 18259.07754769 18259.07754769 18259.07754769\n",
      " 24402.0465702  24402.0465702  24402.0465702  24402.0465702\n",
      " 24402.0465702  24402.0465702  24402.0465702  24402.0465702\n",
      " 24402.0465702  24402.0465702  24402.0465702  24402.0465702\n",
      " 22506.55572136 22506.55572136 22506.55572136 22506.55572136\n",
      " 22506.55572136 22506.55572136 22506.55572136 22506.55572136\n",
      " 22506.55572136 22506.55572136 22506.55572136 22506.55572136\n",
      " 21352.4048556  21352.4048556  21352.4048556  21352.4048556\n",
      " 21352.4048556  21352.4048556  21358.78542153 21358.78542153\n",
      " 21358.78542153 21373.64787813 21373.64787813 21373.64787813\n",
      "  7688.61508337 12058.34237373 14560.42682179 14171.42708988\n",
      " 14170.82376189 15780.76855721 16729.28707661 16729.28707661\n",
      " 16729.75307368 17879.82596972 17879.82596972 17879.82596972\n",
      " 24402.0465702  24402.0465702  24402.0465702  24402.0465702\n",
      " 24402.0465702  24402.0465702  24402.0465702  24402.0465702\n",
      " 24402.0465702  24402.0465702  24402.0465702  24402.0465702\n",
      " 22506.55572136 22506.55572136 22506.55572136 22506.55572136\n",
      " 22506.55572136 22506.55572136 22506.55572136 22506.55572136\n",
      " 22506.55572136 22506.55572136 22506.55572136 22506.55572136\n",
      " 21352.4048556  21352.4048556  21352.4048556  21352.4048556\n",
      " 21352.4048556  21352.4048556  21358.78542153 21358.78542153\n",
      " 21358.78542153 21373.64787813 21373.64787813 21373.64787813]\n"
     ]
    }
   ],
   "source": [
    "print(np.sqrt(-grid_search.cv_results_['mean_test_score']))\n",
    "print(\"\\n\")\n",
    "print(np.sqrt(-grid_search.cv_results_['mean_train_score']))"
   ]
  },
  {
   "cell_type": "code",
   "execution_count": 15,
   "metadata": {},
   "outputs": [
    {
     "name": "stdout",
     "output_type": "stream",
     "text": [
      "23391.094008315224\n",
      "\n",
      "\n",
      "22056.73917335441\n"
     ]
    }
   ],
   "source": [
    "print(np.sqrt(-grid_search.cv_results_['mean_test_score']).mean())\n",
    "print(\"\\n\")\n",
    "print(np.sqrt(-grid_search.cv_results_['mean_train_score']).mean())"
   ]
  },
  {
   "cell_type": "code",
   "execution_count": 16,
   "metadata": {},
   "outputs": [
    {
     "name": "stdout",
     "output_type": "stream",
     "text": [
      "{'max_depth': 10, 'max_leaf_nodes': None, 'min_samples_leaf': 15, 'min_samples_split': 2}\n",
      "\n",
      "\n",
      "21433.8\n"
     ]
    }
   ],
   "source": [
    "print(grid_search.best_params_)\n",
    "print(\"\\n\")\n",
    "print(nmsq2rmse(grid_search.best_score_))"
   ]
  },
  {
   "cell_type": "code",
   "execution_count": 17,
   "metadata": {},
   "outputs": [],
   "source": [
    "optimised_decision_tree = grid_search.best_estimator_"
   ]
  },
  {
   "cell_type": "markdown",
   "metadata": {},
   "source": [
    "__Evaluemos en testing el desempeño de este modelo.__\n",
    "\n",
    "Como venimos trabajando, el resultado en testing será la medición que usaremos como benchmark para comparar este modelos con otros en el futuro, puesto que no estuvo en contacto con el dataset de test para la calibración."
   ]
  },
  {
   "cell_type": "code",
   "execution_count": 18,
   "metadata": {},
   "outputs": [
    {
     "data": {
      "text/plain": [
       "21301.0"
      ]
     },
     "execution_count": 18,
     "metadata": {},
     "output_type": "execute_result"
    }
   ],
   "source": [
    "from sklearn.metrics import mean_squared_error\n",
    "y_opt_pred = optimised_decision_tree.predict(X_test)\n",
    "rmse = np.sqrt(mean_squared_error(y_test, y_opt_pred))\n",
    "np.round(rmse)"
   ]
  },
  {
   "cell_type": "markdown",
   "metadata": {},
   "source": [
    "Vemos los primeros 10 resultados de la predicción del valor de propiedades."
   ]
  },
  {
   "cell_type": "code",
   "execution_count": 19,
   "metadata": {},
   "outputs": [],
   "source": [
    "val_real = pd.Series(y_test.values)\n",
    "val_pred = pd.Series(y_opt_pred)"
   ]
  },
  {
   "cell_type": "code",
   "execution_count": 20,
   "metadata": {},
   "outputs": [],
   "source": [
    "predicciones = pd.concat([val_real.rename('Valor real'),val_pred.rename('Valor Pred') ,abs(val_real-val_pred).rename('Dif(+/-)')] ,  axis=1)"
   ]
  },
  {
   "cell_type": "code",
   "execution_count": 21,
   "metadata": {},
   "outputs": [
    {
     "data": {
      "text/html": [
       "<div>\n",
       "<style scoped>\n",
       "    .dataframe tbody tr th:only-of-type {\n",
       "        vertical-align: middle;\n",
       "    }\n",
       "\n",
       "    .dataframe tbody tr th {\n",
       "        vertical-align: top;\n",
       "    }\n",
       "\n",
       "    .dataframe thead th {\n",
       "        text-align: right;\n",
       "    }\n",
       "</style>\n",
       "<table border=\"1\" class=\"dataframe\">\n",
       "  <thead>\n",
       "    <tr style=\"text-align: right;\">\n",
       "      <th></th>\n",
       "      <th>Valor real</th>\n",
       "      <th>Valor Pred</th>\n",
       "      <th>Dif(+/-)</th>\n",
       "    </tr>\n",
       "  </thead>\n",
       "  <tbody>\n",
       "    <tr>\n",
       "      <th>0</th>\n",
       "      <td>80000.000</td>\n",
       "      <td>103438.660</td>\n",
       "      <td>23438.660</td>\n",
       "    </tr>\n",
       "    <tr>\n",
       "      <th>1</th>\n",
       "      <td>128000.000</td>\n",
       "      <td>135705.882</td>\n",
       "      <td>7705.882</td>\n",
       "    </tr>\n",
       "    <tr>\n",
       "      <th>2</th>\n",
       "      <td>150000.000</td>\n",
       "      <td>156075.759</td>\n",
       "      <td>6075.759</td>\n",
       "    </tr>\n",
       "    <tr>\n",
       "      <th>3</th>\n",
       "      <td>85000.000</td>\n",
       "      <td>102400.991</td>\n",
       "      <td>17400.991</td>\n",
       "    </tr>\n",
       "    <tr>\n",
       "      <th>4</th>\n",
       "      <td>135000.000</td>\n",
       "      <td>135571.622</td>\n",
       "      <td>571.622</td>\n",
       "    </tr>\n",
       "    <tr>\n",
       "      <th>5</th>\n",
       "      <td>135000.000</td>\n",
       "      <td>109560.000</td>\n",
       "      <td>25440.000</td>\n",
       "    </tr>\n",
       "    <tr>\n",
       "      <th>6</th>\n",
       "      <td>68000.000</td>\n",
       "      <td>75181.250</td>\n",
       "      <td>7181.250</td>\n",
       "    </tr>\n",
       "    <tr>\n",
       "      <th>7</th>\n",
       "      <td>110000.000</td>\n",
       "      <td>140444.444</td>\n",
       "      <td>30444.444</td>\n",
       "    </tr>\n",
       "    <tr>\n",
       "      <th>8</th>\n",
       "      <td>134000.000</td>\n",
       "      <td>158431.250</td>\n",
       "      <td>24431.250</td>\n",
       "    </tr>\n",
       "    <tr>\n",
       "      <th>9</th>\n",
       "      <td>110000.000</td>\n",
       "      <td>76701.202</td>\n",
       "      <td>33298.798</td>\n",
       "    </tr>\n",
       "  </tbody>\n",
       "</table>\n",
       "</div>"
      ],
      "text/plain": [
       "   Valor real  Valor Pred  Dif(+/-)\n",
       "0   80000.000  103438.660 23438.660\n",
       "1  128000.000  135705.882  7705.882\n",
       "2  150000.000  156075.759  6075.759\n",
       "3   85000.000  102400.991 17400.991\n",
       "4  135000.000  135571.622   571.622\n",
       "5  135000.000  109560.000 25440.000\n",
       "6   68000.000   75181.250  7181.250\n",
       "7  110000.000  140444.444 30444.444\n",
       "8  134000.000  158431.250 24431.250\n",
       "9  110000.000   76701.202 33298.798"
      ]
     },
     "execution_count": 21,
     "metadata": {},
     "output_type": "execute_result"
    }
   ],
   "source": [
    "predicciones.head(10)"
   ]
  }
 ],
 "metadata": {
  "kernelspec": {
   "display_name": "Python 3",
   "language": "python",
   "name": "python3"
  },
  "language_info": {
   "codemirror_mode": {
    "name": "ipython",
    "version": 3
   },
   "file_extension": ".py",
   "mimetype": "text/x-python",
   "name": "python",
   "nbconvert_exporter": "python",
   "pygments_lexer": "ipython3",
   "version": "3.7.3"
  }
 },
 "nbformat": 4,
 "nbformat_minor": 2
}
