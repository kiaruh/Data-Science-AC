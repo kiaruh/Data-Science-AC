{
 "cells": [
  {
   "cell_type": "markdown",
   "metadata": {},
   "source": [
    "# Proyecto 5: Análisis de sentimiento en reviews de películas"
   ]
  },
  {
   "cell_type": "markdown",
   "metadata": {},
   "source": [
    "En este proyecto vamos a trabajar con un dataset de reviews de películas. El objectivo es clasificar cada comentario de acuerdo al sentimiento positivo o negativo hacia la película. Para hacerlo, vamos a trabajar con procesamiento de texto para luego aplicar las diferentes técnicas predictivas que hemos visto."
   ]
  },
  {
   "cell_type": "markdown",
   "metadata": {},
   "source": [
    "## Dataset"
   ]
  },
  {
   "cell_type": "markdown",
   "metadata": {},
   "source": [
    "En primer lugar, carguemos las reviews para comenzar a procesarlas. En este caso no tenemos un archivo `.csv`, sino un directorio estructurado de la siguiente forma: \n",
    "```\n",
    "movie_reviews/\n",
    "  neg/\n",
    "  pos/\n",
    "```\n",
    "`sklearn` nos provee de la función `load_files` que permite recorrer este tipo de estructuras. "
   ]
  },
  {
   "cell_type": "code",
   "execution_count": 1,
   "metadata": {},
   "outputs": [],
   "source": [
    "import warnings\n",
    "warnings.filterwarnings(\"ignore\")\n",
    "import sklearn\n",
    "from sklearn.datasets import load_files\n",
    "moviedir = './dataset/movie_reviews' \n",
    "movie_reviews = load_files(moviedir, shuffle=True)"
   ]
  },
  {
   "cell_type": "code",
   "execution_count": 2,
   "metadata": {},
   "outputs": [
    {
     "data": {
      "text/plain": [
       "'./dataset/movie_reviews'"
      ]
     },
     "execution_count": 2,
     "metadata": {},
     "output_type": "execute_result"
    }
   ],
   "source": [
    "moviedir\n",
    "#len(movie_reviews) #miro las variables\n",
    "#movie_reviews"
   ]
  },
  {
   "cell_type": "markdown",
   "metadata": {},
   "source": [
    "Ahora en la variable `movies` tendremos guardadas las reviews (`movies.data`) y su sentimiento (`movies.target`).\n",
    "Veamos cuantas reviews tenemos en total:"
   ]
  },
  {
   "cell_type": "code",
   "execution_count": 3,
   "metadata": {},
   "outputs": [
    {
     "name": "stdout",
     "output_type": "stream",
     "text": [
      "Tenemos 2000 reviews, con clases ['neg', 'pos'],\n"
     ]
    }
   ],
   "source": [
    "print(\"Tenemos {} reviews, con clases {},\".format(len(movie_reviews.data), movie_reviews.target_names))"
   ]
  },
  {
   "cell_type": "markdown",
   "metadata": {},
   "source": [
    "Analizando la estructura de los documentos, veamos como luce una muestra de `movies.data`:"
   ]
  },
  {
   "cell_type": "code",
   "execution_count": 4,
   "metadata": {},
   "outputs": [
    {
     "data": {
      "text/plain": [
       "b\"arnold schwarzenegger has been an icon for action enthusiasts , since the late 80's , but lately his films have been very sloppy and the one-liners are getting worse . \\nit's hard seeing arnold as mr . freeze in batman and robin , especially when he says tons of ice jokes , but hey he got 15 million , what's it matter to him ? \\nonce again arnold has signed to do another expensive blockbuster , that can't compare with the likes of the terminator series , true lies and even eraser . \\nin this so cal\""
      ]
     },
     "execution_count": 4,
     "metadata": {},
     "output_type": "execute_result"
    }
   ],
   "source": [
    "movie_reviews.data[0][:500]"
   ]
  },
  {
   "cell_type": "markdown",
   "metadata": {},
   "source": [
    "Y ahora, con la propiedad `target` podemos ver la categoría asociada a esta review"
   ]
  },
  {
   "cell_type": "code",
   "execution_count": 5,
   "metadata": {},
   "outputs": [
    {
     "name": "stdout",
     "output_type": "stream",
     "text": [
      "0\n",
      "1\n",
      "1\n",
      "0\n",
      "1\n",
      "1\n"
     ]
    }
   ],
   "source": [
    "for numero in range(0,6):\n",
    "    print(movie_reviews.target[numero])"
   ]
  },
  {
   "cell_type": "markdown",
   "metadata": {},
   "source": [
    "En este caso es un 0, es decir `neg`."
   ]
  },
  {
   "cell_type": "markdown",
   "metadata": {},
   "source": [
    "## Separando en conjuntos de entrenamiento y de testeo"
   ]
  },
  {
   "cell_type": "markdown",
   "metadata": {},
   "source": [
    "Antes de comenzar con el entrenamiento de los modelos probando distintos algoritmos para encontrar los mejores modelos, vamos a separar el conjunto de reviews en training y testing. "
   ]
  },
  {
   "cell_type": "code",
   "execution_count": 6,
   "metadata": {},
   "outputs": [
    {
     "name": "stdout",
     "output_type": "stream",
     "text": [
      "Wall time: 46.9 ms\n"
     ]
    }
   ],
   "source": [
    "%%time\n",
    "from sklearn.model_selection import train_test_split\n",
    "X_train, X_test, y_train, y_test = train_test_split(\n",
    "    movie_reviews.data, movie_reviews.target, test_size = 0.20, stratify=movie_reviews.target, random_state = 12)"
   ]
  },
  {
   "cell_type": "markdown",
   "metadata": {},
   "source": [
    "## Preprocesamiento"
   ]
  },
  {
   "cell_type": "markdown",
   "metadata": {},
   "source": [
    "Para trabajar con texto tenemos que realizar una serie de pasos antes de poder entrenar un modelo. Es decir, buscar la forma de convertir el texto a una representación numérica que pueda ser interpretable por los algoritmos de clasificación. \n",
    "Para ello vamos a realizar una serie de pasos.\n",
    "- Tokenizar el texto\n",
    "- Convertir a vectores de términos/documentos\n",
    "- Aplicar tfidf\n"
   ]
  },
  {
   "cell_type": "markdown",
   "metadata": {},
   "source": [
    "Es importante destacar que el `fit` debe hacerse sobre el conjunto de `train` y no sobre el total, ya que `tfidf` tiene en cuenta la frecuencia de aparición de las palabras respecto al total del conjunto. Una vez que usamos el `fit` con el conjunto de entrenamiento podemos aplicar la transformación al conjunto de `test`. "
   ]
  },
  {
   "cell_type": "markdown",
   "metadata": {},
   "source": [
    "**1) Vectorizá** los textos para obtener una matriz de términos/documentos utilizando td-idf. "
   ]
  },
  {
   "cell_type": "code",
   "execution_count": 7,
   "metadata": {},
   "outputs": [
    {
     "name": "stdout",
     "output_type": "stream",
     "text": [
      "Wall time: 9.56 s\n"
     ]
    }
   ],
   "source": [
    "%%time\n",
    "# Realizá los pasos necesarios para vectorizar los conjuntos de entrenamiento y testeo en estecelda\n",
    "from sklearn.feature_extraction.text import TfidfVectorizer\n",
    "import nltk\n",
    "from nltk.corpus import stopwords\n",
    "stop_w = set(stopwords.words('english'))\n",
    "tfidf_vec = TfidfVectorizer(analyzer='word',tokenizer=nltk.word_tokenize,stop_words=stop_w)\n",
    "X_train = tfidf_vec.fit_transform(X_train)\n",
    "X_test = tfidf_vec.transform(X_test)"
   ]
  },
  {
   "cell_type": "markdown",
   "metadata": {},
   "source": [
    "### Dimensión de la matriz de términos\n",
    "Una vez vectorizados los documentos veamos qué forma tiene la matriz resultante"
   ]
  },
  {
   "cell_type": "code",
   "execution_count": 8,
   "metadata": {},
   "outputs": [
    {
     "data": {
      "text/plain": [
       "(1600, 41847)"
      ]
     },
     "execution_count": 8,
     "metadata": {},
     "output_type": "execute_result"
    }
   ],
   "source": [
    "X_train.shape"
   ]
  },
  {
   "cell_type": "code",
   "execution_count": 9,
   "metadata": {
    "scrolled": true
   },
   "outputs": [
    {
     "data": {
      "text/plain": [
       "{'arguably': 2865,\n",
       " 'anticipated': 2603,\n",
       " 'movie': 24302,\n",
       " 'century': 6562,\n",
       " ',': 322,\n",
       " 'george': 15496,\n",
       " 'lucas': 22124,\n",
       " 'achieved': 1435,\n",
       " 'mixed': 23859,\n",
       " 'reaction': 30076,\n",
       " 'sure': 36380,\n",
       " 'blockbuster': 4727,\n",
       " '.': 379,\n",
       " 'despite': 10249,\n",
       " 'fact': 13467,\n",
       " 'script': 32594,\n",
       " 'plot': 28050,\n",
       " 'bit': 4554,\n",
       " 'let': 21406,\n",
       " 'entire': 12577,\n",
       " 'whole': 40944,\n",
       " 'considered': 8274,\n",
       " 'milestone': 23540,\n",
       " 'technical': 37021,\n",
       " 'excellence': 13057,\n",
       " 'sound': 34760,\n",
       " 'special': 34888,\n",
       " 'effects': 11982,\n",
       " 'department': 10110,\n",
       " 'terms': 37215,\n",
       " 'characters': 6704,\n",
       " 'far': 13624,\n",
       " 'outstanding': 26457,\n",
       " 'interesting': 19393,\n",
       " 'queen': 29591,\n",
       " 'amidala': 2286,\n",
       " '(': 313,\n",
       " 'natalie': 24728,\n",
       " 'portman': 28352,\n",
       " ')': 314,\n",
       " 'whose': 40965,\n",
       " 'mature': 22927,\n",
       " 'performance': 27397,\n",
       " 'exceeds': 13054,\n",
       " 'tender': 37159,\n",
       " '14': 489,\n",
       " 'years': 41587,\n",
       " 'age': 1824,\n",
       " 'one': 26014,\n",
       " '?': 994,\n",
       " 'hot': 17980,\n",
       " \"'\": 10,\n",
       " 'babe': 3506,\n",
       " 'defines': 9891,\n",
       " 'true': 38459,\n",
       " 'woman': 41228,\n",
       " 'leadership': 21199,\n",
       " 'presence': 28747,\n",
       " 'knows': 20713,\n",
       " 'take': 36778,\n",
       " 'command': 7807,\n",
       " 'situation': 33929,\n",
       " 'save': 32228,\n",
       " 'planet': 27937,\n",
       " 'ruination': 31830,\n",
       " 'thanks': 37306,\n",
       " 'jedi': 19912,\n",
       " 'knights': 20680,\n",
       " 'although': 2181,\n",
       " 'led': 21258,\n",
       " 'force': 14584,\n",
       " 'lack': 20867,\n",
       " 'qualities': 29556,\n",
       " 'thinking': 37421,\n",
       " 'plan': 27931,\n",
       " 'anything': 2644,\n",
       " 'young': 41666,\n",
       " 'obi-wan': 25668,\n",
       " 'kenobi': 20433,\n",
       " 'ewan': 12956,\n",
       " 'mcgregor': 23046,\n",
       " 'bad': 3582,\n",
       " 'hair': 16618,\n",
       " 'day': 9623,\n",
       " 'every': 12915,\n",
       " 'scene': 32331,\n",
       " 'gets': 15541,\n",
       " 'kill': 20543,\n",
       " 'guy': 16549,\n",
       " 'end': 12386,\n",
       " 'lacks': 20878,\n",
       " 'love': 22038,\n",
       " 'interest': 19391,\n",
       " 'make': 22441,\n",
       " 'desirable': 10224,\n",
       " 'sort': 34739,\n",
       " 'hero': 17394,\n",
       " 'knight': 20678,\n",
       " 'asexual': 3029,\n",
       " '-': 323,\n",
       " 'must': 24551,\n",
       " 'something': 34652,\n",
       " 'makes': 22450,\n",
       " 'hermits': 17391,\n",
       " 'loners': 21893,\n",
       " 'mean': 23092,\n",
       " 'would': 41369,\n",
       " 'see': 32759,\n",
       " 'yoda': 41641,\n",
       " \"'s\": 245,\n",
       " 'girlfriend': 15656,\n",
       " 'change': 6644,\n",
       " 'much': 24366,\n",
       " 'better': 4357,\n",
       " 'qui-gon': 29609,\n",
       " 'jinn': 20022,\n",
       " 'liam': 21471,\n",
       " 'neeson': 24872,\n",
       " 'mostly': 24196,\n",
       " 'broods': 5491,\n",
       " 'find': 14086,\n",
       " 'anakin': 2351,\n",
       " 'skywalker': 34069,\n",
       " 'biggest': 4443,\n",
       " 'mistake': 23825,\n",
       " 'life': 21522,\n",
       " 'also': 2156,\n",
       " 'fascinating': 13669,\n",
       " 'metoclorian': 23405,\n",
       " 'theory': 37355,\n",
       " 'claims': 7199,\n",
       " 'micro-organisms': 23448,\n",
       " 'live': 21758,\n",
       " 'within': 41186,\n",
       " 'cells': 6528,\n",
       " 'tie': 37636,\n",
       " 'us': 39622,\n",
       " 'fabric': 13431,\n",
       " 'universe': 39285,\n",
       " 'high': 17481,\n",
       " 'concentrations': 8049,\n",
       " 'organisms': 26234,\n",
       " 'individual': 18945,\n",
       " 'particularly': 27023,\n",
       " 'powerful': 28528,\n",
       " 'humerous': 18153,\n",
       " 'immaculate': 18554,\n",
       " 'conception': 8051,\n",
       " 'darth': 9572,\n",
       " 'vader': 39692,\n",
       " 'doubt': 11298,\n",
       " 'concept': 8050,\n",
       " 'stolen': 35624,\n",
       " 'christian': 7032,\n",
       " 'faith': 13525,\n",
       " 'except': 13061,\n",
       " 'christmas': 7040,\n",
       " 'celebrate': 6500,\n",
       " 'birth': 4541,\n",
       " 'dark': 9549,\n",
       " 'emissary': 12279,\n",
       " 'overall': 26527,\n",
       " 'experience': 13217,\n",
       " 'missed': 23805,\n",
       " 'predecessor': 28645,\n",
       " 'almost': 2130,\n",
       " 'viewing': 40035,\n",
       " 'inferior': 19020,\n",
       " 'successor': 36114,\n",
       " 'means': 23111,\n",
       " 'pinnacle': 27827,\n",
       " 'star': 35350,\n",
       " 'wars': 40480,\n",
       " 'phenomena': 27607,\n",
       " 'adequate': 1602,\n",
       " 'addition': 1583,\n",
       " 'clan': 7207,\n",
       " 'watch': 40511,\n",
       " 'next': 25055,\n",
       " 'steamy': 35457,\n",
       " 'encounter': 12374,\n",
       " 'believe': 4186,\n",
       " 'portrayed': 28360,\n",
       " 'leonardo': 21357,\n",
       " 'di': 10387,\n",
       " 'caprio': 6159,\n",
       " '``': 1184,\n",
       " 'devil': 10350,\n",
       " 'asks': 3053,\n",
       " 'rhetorically': 31235,\n",
       " 'lulling': 22171,\n",
       " 'voice': 40210,\n",
       " 'spoiled': 35061,\n",
       " 'title': 37782,\n",
       " 'character': 6681,\n",
       " '_onegin_': 1116,\n",
       " 'pronounced': 29105,\n",
       " 'oh-negg-in': 25899,\n",
       " 'waiting': 40349,\n",
       " 'death': 9692,\n",
       " 'relieve': 30619,\n",
       " 'lifetime': 21549,\n",
       " 'rapacious': 29882,\n",
       " 'behaviour': 4142,\n",
       " 'martha': 22766,\n",
       " 'fiennes': 13964,\n",
       " 'debut': 9723,\n",
       " 'feature': 13788,\n",
       " 'quite': 29657,\n",
       " 'literally': 21736,\n",
       " 'filmed': 14042,\n",
       " 'poetry': 28126,\n",
       " 'based': 3864,\n",
       " 'epic': 12633,\n",
       " 'russian': 31899,\n",
       " 'poem': 28121,\n",
       " 'alexander': 1999,\n",
       " 'pushkin': 29506,\n",
       " 'profound': 29030,\n",
       " 'study': 35921,\n",
       " 'regret': 30479,\n",
       " 'confuse': 8175,\n",
       " 'shame': 33276,\n",
       " 'guilt': 16468,\n",
       " 'first': 14160,\n",
       " 'meet': 23179,\n",
       " 'eugene': 12834,\n",
       " 'onegin': 26070,\n",
       " 'ralph': 29813,\n",
       " 'acting': 1483,\n",
       " 'sister': 33902,\n",
       " ';': 980,\n",
       " 'another': 2523,\n",
       " 'brother': 5505,\n",
       " 'magnus': 22389,\n",
       " 'composed': 7973,\n",
       " 'score': 32493,\n",
       " 'philandering': 27624,\n",
       " 'aristocrat': 2887,\n",
       " 'st': 35247,\n",
       " 'petersburg': 27554,\n",
       " 'inherited': 19117,\n",
       " 'uncle': 38947,\n",
       " 'estate': 12792,\n",
       " 'plans': 27947,\n",
       " 'sell': 32926,\n",
       " 'pays': 27206,\n",
       " 'summer': 36214,\n",
       " 'visit': 40159,\n",
       " 'manor': 22619,\n",
       " 'located': 21826,\n",
       " 'underpopulated': 39056,\n",
       " 'countryside': 8736,\n",
       " 'long': 21895,\n",
       " 'trip': 38380,\n",
       " 'meets': 23183,\n",
       " 'neighbouring': 24911,\n",
       " 'family': 13576,\n",
       " 'blue': 4796,\n",
       " 'bloods': 4753,\n",
       " 'smitten': 34360,\n",
       " 'olga': 25945,\n",
       " 'larina': 21033,\n",
       " 'headey': 17115,\n",
       " 'befriends': 4114,\n",
       " 'fianc': 13931,\n",
       " 'vladimir': 40197,\n",
       " 'lensky': 21352,\n",
       " 'stephens': 35498,\n",
       " 'tatyana': 36954,\n",
       " 'tyler': 38715,\n",
       " 'romanticizing': 31618,\n",
       " 'flippant': 14376,\n",
       " 'attitude': 3260,\n",
       " 'nineteenth': 25175,\n",
       " 'boy': 5162,\n",
       " 'falls': 13553,\n",
       " 'sweaty': 36540,\n",
       " 'inky': 19158,\n",
       " 'torrent': 37974,\n",
       " 'passion': 27068,\n",
       " 'writes': 41445,\n",
       " 'letter': 21419,\n",
       " 'least': 21229,\n",
       " 'intrigued': 19503,\n",
       " 'note': 25468,\n",
       " 'rejects': 30561,\n",
       " 'affections': 1759,\n",
       " 'implied': 18659,\n",
       " 'soon': 34694,\n",
       " 'tragedy': 38106,\n",
       " 'strikes': 35828,\n",
       " 'scarce': 32296,\n",
       " 'catch': 6407,\n",
       " 'six': 33933,\n",
       " 'later': 21082,\n",
       " 'returned': 31104,\n",
       " 'grand': 16098,\n",
       " 'ball': 3660,\n",
       " 'discovers': 10734,\n",
       " 'old': 25924,\n",
       " 'friend': 14925,\n",
       " 'donovan': 11192,\n",
       " 'married': 22749,\n",
       " 'womanly': 41238,\n",
       " 'wordly': 41295,\n",
       " 'time': 37687,\n",
       " 'finds': 14089,\n",
       " 'irresistable': 19664,\n",
       " 'amazing': 2226,\n",
       " 'subtle': 36086,\n",
       " 'physical': 27685,\n",
       " 'transformation': 38162,\n",
       " 'dashing': 9584,\n",
       " 'snob': 34469,\n",
       " 'miserly': 23761,\n",
       " 'grouch': 16339,\n",
       " 'overwhelmed': 26676,\n",
       " 'top': 37915,\n",
       " 'hat': 17013,\n",
       " 'pines': 27817,\n",
       " 'seems': 32783,\n",
       " 'smaller': 34304,\n",
       " 'stature': 35425,\n",
       " 'brushed': 5546,\n",
       " 'ebeneezer': 11873,\n",
       " 'scrooge': 32608,\n",
       " 'trapped': 38222,\n",
       " 'past': 27079,\n",
       " 'actor': 1522,\n",
       " 'constricted': 8316,\n",
       " 'playing': 27995,\n",
       " 'heroes': 17400,\n",
       " 'now-there': 25530,\n",
       " 'room': 31647,\n",
       " 'breathe': 5331,\n",
       " 'role': 31567,\n",
       " 'made': 22326,\n",
       " 'shades': 33228,\n",
       " 'gray': 16171,\n",
       " 'like': 21586,\n",
       " 'petula': 27574,\n",
       " 'clark': 7231,\n",
       " 'sang': 32127,\n",
       " 'universal': 39282,\n",
       " 'phenomenon': 27611,\n",
       " 'parking': 26975,\n",
       " 'lot': 22005,\n",
       " ':': 979,\n",
       " \"n't\": 24618,\n",
       " 'know': 20704,\n",
       " \"'ve\": 301,\n",
       " 'got': 16015,\n",
       " 'til': 37672,\n",
       " 'gone': 15913,\n",
       " 'about-face': 1273,\n",
       " 'speaks': 34883,\n",
       " 'read': 30081,\n",
       " 'need': 24861,\n",
       " 'confirmation': 8153,\n",
       " 'someone': 34644,\n",
       " 'wanted': 40423,\n",
       " 'others': 26328,\n",
       " 'want': 40422,\n",
       " 'well': 40695,\n",
       " 'feels': 13821,\n",
       " 'jealousy': 19894,\n",
       " 'remorse': 30699,\n",
       " 'embarrassment': 12230,\n",
       " 'even': 12872,\n",
       " 'go': 15807,\n",
       " 'identification': 18393,\n",
       " 'feel': 13815,\n",
       " 'empathy': 12314,\n",
       " 'callous': 5991,\n",
       " 'bastard': 3895,\n",
       " 'emotions': 12305,\n",
       " 'echo': 11888,\n",
       " 'thousand': 37487,\n",
       " 'ditties': 10985,\n",
       " 'less': 21384,\n",
       " 'vital': 40178,\n",
       " 'changes': 6648,\n",
       " 'girl': 15648,\n",
       " 'crush': 9165,\n",
       " 'divided': 11007,\n",
       " 'loyalties': 22115,\n",
       " 'acquits': 1470,\n",
       " 'surprisingly': 36415,\n",
       " 'among': 2304,\n",
       " 'uk': 38791,\n",
       " 'co-stars': 7496,\n",
       " 'filling': 14016,\n",
       " 'sketchy': 33997,\n",
       " 'gaps': 15262,\n",
       " 'expressing': 13290,\n",
       " 'base': 3861,\n",
       " 'sentiments': 33038,\n",
       " 'series': 33087,\n",
       " 'wanton': 40425,\n",
       " 'stares': 35363,\n",
       " 'faces': 13454,\n",
       " 'mr': 24348,\n",
       " 'ms': 24350,\n",
       " 'capable': 6125,\n",
       " 'conveying': 8477,\n",
       " 'archetypal': 2828,\n",
       " 'misery': 23762,\n",
       " 'could': 8689,\n",
       " 'added': 1574,\n",
       " 'little': 21749,\n",
       " 'distinguished': 10944,\n",
       " 'episode': 12644,\n",
       " 'masterpiece': 22850,\n",
       " 'theater': 37316,\n",
       " 'current': 9288,\n",
       " 'cast': 6361,\n",
       " 'thoroughbreds': 37468,\n",
       " 'intact': 19332,\n",
       " 'helm': 17298,\n",
       " 'mtv': 24357,\n",
       " 'background': 3550,\n",
       " 'cut': 9324,\n",
       " 'teeth': 37076,\n",
       " 'directing': 10600,\n",
       " 'rock': 31516,\n",
       " 'videos': 40014,\n",
       " 'xtc': 41515,\n",
       " 'positively': 28384,\n",
       " 'influenced': 19051,\n",
       " 'sense': 33009,\n",
       " 'pace': 26714,\n",
       " 'though': 37476,\n",
       " 'thankfully': 37302,\n",
       " 'shot': 33550,\n",
       " 'lengths-no': 21341,\n",
       " 'spasmodic': 34863,\n",
       " 'cutting': 9349,\n",
       " '100': 425,\n",
       " 'minutes': 23695,\n",
       " 'clicks': 7335,\n",
       " 'along': 2141,\n",
       " 'brisk': 5435,\n",
       " 'walk': 40367,\n",
       " 'valleys': 39728,\n",
       " 'despair': 10236,\n",
       " 'film': 14021,\n",
       " 'atypical': 3280,\n",
       " 'period': 27421,\n",
       " 'look': 21937,\n",
       " 'absent': 1293,\n",
       " 'sumptuous': 36225,\n",
       " 'tableware': 36715,\n",
       " 'antique': 2616,\n",
       " 'furnishings': 15125,\n",
       " 'stand': 35320,\n",
       " 'drippy': 11504,\n",
       " 'merchant': 23309,\n",
       " 'ivory': 19755,\n",
       " 'productions': 28991,\n",
       " 'sets': 33134,\n",
       " 'expressionistically': 13296,\n",
       " 'bare': 3784,\n",
       " 'echoing': 11891,\n",
       " 'loneliness': 21888,\n",
       " 'protagonists': 29188,\n",
       " 'cinematographer': 7128,\n",
       " 'remi': 30679,\n",
       " 'adafarasin': 1554,\n",
       " 'often': 25885,\n",
       " 'allows': 2116,\n",
       " 'space': 34810,\n",
       " 'engulf': 12468,\n",
       " \"'m\": 184,\n",
       " 'reminded': 30681,\n",
       " 'climax': 7349,\n",
       " 'unfolds': 39192,\n",
       " 'sea': 32651,\n",
       " 'white': 40909,\n",
       " 'clear': 7290,\n",
       " 'cinema': 7121,\n",
       " 'spare': 34845,\n",
       " 'painfully': 26764,\n",
       " 'human': 18126,\n",
       " 'visual': 40170,\n",
       " 'presentation': 28752,\n",
       " 'yevgeny': 41623,\n",
       " 'lucid': 22128,\n",
       " 'translation': 38184,\n",
       " 'difficult': 10484,\n",
       " 'text': 37282,\n",
       " 'yet': 41620,\n",
       " 'may': 22962,\n",
       " 'exciting': 13090,\n",
       " 'female': 13849,\n",
       " 'behind': 4148,\n",
       " 'camera': 6023,\n",
       " 'since': 33831,\n",
       " 'jane': 19836,\n",
       " 'campion': 6051,\n",
       " 'sadly': 31985,\n",
       " 'follows': 14522,\n",
       " 'hong': 17828,\n",
       " 'kong-recipe': 20734,\n",
       " 'moviemaking': 24326,\n",
       " 'storytelling': 35697,\n",
       " 'kinds': 20578,\n",
       " 'movies': 24328,\n",
       " 'marked': 22717,\n",
       " 'eye-opening': 13390,\n",
       " 'sequence': 33061,\n",
       " 'introduces': 19512,\n",
       " 'main': 22416,\n",
       " 'life-and-death': 21525,\n",
       " 'become': 4059,\n",
       " 'involved': 19603,\n",
       " 'inclusion': 18817,\n",
       " 'host': 17970,\n",
       " 'inconsequential': 18843,\n",
       " 'ridiculous': 31303,\n",
       " 'subplots': 36048,\n",
       " 'sunglass-wearing': 36240,\n",
       " 'henchmen': 17331,\n",
       " 'say': 32253,\n",
       " 'kong': 20731,\n",
       " 'however': 18049,\n",
       " 'obvious': 25752,\n",
       " 'moviemakers': 24325,\n",
       " 'clue': 7439,\n",
       " 'american': 2269,\n",
       " 'filmgoer': 14043,\n",
       " 'needs': 24870,\n",
       " 'hip-hop-talking': 17599,\n",
       " 'thugs': 37579,\n",
       " 'stupid': 35956,\n",
       " 'sight': 33722,\n",
       " 'gags': 15188,\n",
       " 'observe': 25715,\n",
       " 'opening': 26122,\n",
       " 'band': 3705,\n",
       " 'hitmen': 17658,\n",
       " 'storm': 35674,\n",
       " 'apartment': 2656,\n",
       " 'melvin': 23238,\n",
       " 'mark': 22715,\n",
       " 'wahlberg': 40334,\n",
       " 'cisco': 7168,\n",
       " 'lou': 22012,\n",
       " 'diamond': 10410,\n",
       " 'phillips': 27634,\n",
       " 'partner': 27033,\n",
       " 'power': 28524,\n",
       " 'help': 17304,\n",
       " 'infrared': 19070,\n",
       " 'goggles': 15868,\n",
       " 'unsure': 39465,\n",
       " 'cable': 5912,\n",
       " 'undecided': 38995,\n",
       " 'happens': 16857,\n",
       " '10': 415,\n",
       " 'seconds': 32730,\n",
       " 'audience': 3291,\n",
       " 'humor': 18168,\n",
       " 'foolishness': 14556,\n",
       " 'lights': 21579,\n",
       " 'suddenly': 36139,\n",
       " 'surprised': 36412,\n",
       " 'says': 32258,\n",
       " 'whoa': 40935,\n",
       " '!': 5,\n",
       " 'nicely': 25077,\n",
       " 'executed': 13121,\n",
       " 'big': 4418,\n",
       " 'hit': 17641,\n",
       " 'refers': 30403,\n",
       " 'kidnapping': 20523,\n",
       " 'quarter': 29568,\n",
       " 'way': 40556,\n",
       " 'needing': 24864,\n",
       " 'cash': 6341,\n",
       " 'devises': 10359,\n",
       " 'kidnap': 20513,\n",
       " 'daughter': 9599,\n",
       " 'china': 6937,\n",
       " 'chow': 7022,\n",
       " 'wealthy': 40592,\n",
       " 'japanese': 19854,\n",
       " 'industrialist': 18969,\n",
       " 'jiro': 20026,\n",
       " 'nishi': 25195,\n",
       " 'god-daughter': 15833,\n",
       " 'paris': 26965,\n",
       " 'avery': 3408,\n",
       " 'brooks': 5495,\n",
       " 'boss': 5077,\n",
       " 'infuriated': 19074,\n",
       " 'insufferable': 19315,\n",
       " 'commands': 7818,\n",
       " 'uncover': 38983,\n",
       " 'mastermind': 22845,\n",
       " \"'investigation\": 163,\n",
       " 'singles': 33867,\n",
       " 'ringleader': 31368,\n",
       " 'orders': 26217,\n",
       " 'capture': 6179,\n",
       " 'execution': 13124,\n",
       " 'stay': 35431,\n",
       " 'alive': 2043,\n",
       " 'investigation': 19571,\n",
       " 'takes': 36791,\n",
       " 'place': 27910,\n",
       " 'ransom': 29874,\n",
       " 'phone': 27652,\n",
       " 'call': 5985,\n",
       " 'believing': 4192,\n",
       " 'traced': 38072,\n",
       " 'trace': 38070,\n",
       " 'buster': 5821,\n",
       " 'prevents': 28822,\n",
       " 'tracing': 38078,\n",
       " 'counter': 8707,\n",
       " 'world': 41327,\n",
       " 'lots': 22006,\n",
       " 'issues': 19720,\n",
       " \"'d\": 90,\n",
       " 'justify': 20267,\n",
       " 'profession': 29004,\n",
       " 'fiancee': 13933,\n",
       " 'goes': 15863,\n",
       " 'clique': 7367,\n",
       " 'odds': 25810,\n",
       " 'actually': 1541,\n",
       " 'potential': 28474,\n",
       " 'material': 22879,\n",
       " 'explored': 13264,\n",
       " 'effort': 11999,\n",
       " 'direction': 10601,\n",
       " 'instead': 19286,\n",
       " 'given': 15676,\n",
       " 'not-so-engrossing': 25443,\n",
       " 'filled': 14013,\n",
       " 'one-liners': 26039,\n",
       " 'silly': 33770,\n",
       " 'extraneous': 13353,\n",
       " 'sub-plots': 36002,\n",
       " 'tomfoolery': 37867,\n",
       " 'mentioned': 23290,\n",
       " 'financee': 14076,\n",
       " 'visiting': 40162,\n",
       " 'parents': 26962,\n",
       " 'separate': 33040,\n",
       " 'mistress': 23839,\n",
       " 'pimple-faced': 27803,\n",
       " 'video': 40005,\n",
       " 'clerk': 7315,\n",
       " 'demanding': 10012,\n",
       " 'return': 31103,\n",
       " 'overdue': 26561,\n",
       " 'signals': 33733,\n",
       " 'future': 15152,\n",
       " 'style': 35971,\n",
       " 'audiences': 3294,\n",
       " 'shoot': 33490,\n",
       " 'good': 15922,\n",
       " 'achieving': 1440,\n",
       " '=': 981,\n",
       " 'purpose': 29481,\n",
       " 'wished': 41161,\n",
       " 'quickly': 29624,\n",
       " 'event': 12883,\n",
       " 'horizon': 17896,\n",
       " 'run-of-the-mill': 31860,\n",
       " 'sci-fi': 32448,\n",
       " 'many': 22645,\n",
       " 'watched': 40515,\n",
       " 'agree': 1869,\n",
       " 'original': 26258,\n",
       " 'borrow': 5065,\n",
       " 'heavily': 17205,\n",
       " 'films': 14056,\n",
       " 'alien': 2020,\n",
       " 'hellraiser': 17296,\n",
       " 'blade': 4612,\n",
       " 'runner': 31868,\n",
       " 'magic': 22364,\n",
       " 'lies': 21517,\n",
       " 'unorthodox': 39354,\n",
       " 'setting': 33135,\n",
       " 'methodical': 23396,\n",
       " 'build-up': 5637,\n",
       " 'wonderfully': 41249,\n",
       " 'horrifying': 17927,\n",
       " 'story': 35681,\n",
       " 'brings': 5427,\n",
       " 'year': 41575,\n",
       " '2050': 691,\n",
       " 'travel': 38243,\n",
       " 'enormously': 12512,\n",
       " 'progressed': 29046,\n",
       " 'ship': 33437,\n",
       " 'built': 5643,\n",
       " 'secret': 32732,\n",
       " 'experimental': 13222,\n",
       " 'ability': 1244,\n",
       " 'fold': 14505,\n",
       " 'thus': 37596,\n",
       " 'making': 22454,\n",
       " 'possible': 28400,\n",
       " 'travelling': 38252,\n",
       " 'distances': 10927,\n",
       " 'reachable': 30068,\n",
       " 'man': 22515,\n",
       " 'disappeared': 10649,\n",
       " 'went': 40786,\n",
       " 'operation': 26137,\n",
       " '7': 890,\n",
       " 'reappeared': 30133,\n",
       " 'orbit': 26201,\n",
       " 'neptune': 24946,\n",
       " 'search': 32681,\n",
       " 'rescue': 30891,\n",
       " 'team': 36993,\n",
       " 'miller': 23567,\n",
       " 'fishburne': 14184,\n",
       " 'task': 36926,\n",
       " 'check': 6800,\n",
       " 'survivors': 36446,\n",
       " 'designer': 10220,\n",
       " 'dr': 11371,\n",
       " 'weir': 40669,\n",
       " 'neill': 24914,\n",
       " 'satisfy': 32199,\n",
       " 'curiosity': 9276,\n",
       " 'happened': 16853,\n",
       " 'otherwise': 26329,\n",
       " 'technologically': 37035,\n",
       " 'impressive': 18703,\n",
       " 'horror': 17930,\n",
       " 'truer': 38469,\n",
       " 'word': 41290,\n",
       " 'ever': 12889,\n",
       " 'crew': 8971,\n",
       " 'cope': 8538,\n",
       " 'ferocious': 13879,\n",
       " 'creature': 8925,\n",
       " 'encased': 12359,\n",
       " 'tight': 37655,\n",
       " 'spaces': 34818,\n",
       " 'forces': 14589,\n",
       " 'undefined': 38997,\n",
       " 'slowly': 34258,\n",
       " 'suspense': 36461,\n",
       " 'buildup': 5642,\n",
       " 'superb': 36285,\n",
       " 'till': 37676,\n",
       " 'point': 28133,\n",
       " 'really': 30126,\n",
       " 'felt': 13848,\n",
       " 'saying': 32254,\n",
       " 'loud': 22013,\n",
       " '`': 1183,\n",
       " 'enough': 12513,\n",
       " 'ca': 5896,\n",
       " 'anymore': 2642,\n",
       " 'jolts': 20107,\n",
       " 'send': 32985,\n",
       " 'adrenalin': 1675,\n",
       " 'pumping': 29412,\n",
       " 'overtime': 26665,\n",
       " 'exactly': 13024,\n",
       " 'average': 3402,\n",
       " 'commercial': 7839,\n",
       " 'standards': 35327,\n",
       " 'essence': 12781,\n",
       " 'carried': 6294,\n",
       " 'well-paced': 40736,\n",
       " 'disturbing': 10975,\n",
       " 'set': 33121,\n",
       " 'designs': 10223,\n",
       " 'gory': 16005,\n",
       " 'sequences': 33063,\n",
       " 'incidentally': 18802,\n",
       " 'generously': 15436,\n",
       " 'removed': 30705,\n",
       " 'censorship': 6540,\n",
       " 'board': 4847,\n",
       " '=20': 982,\n",
       " 'director': 10609,\n",
       " 'paul': 27160,\n",
       " 'anderson': 2398,\n",
       " 'mortal': 24165,\n",
       " 'kombat': 20729,\n",
       " 'atmosphere': 3199,\n",
       " 'creators': 8924,\n",
       " 'done': 11177,\n",
       " 'keeping': 20399,\n",
       " 'bounds': 5125,\n",
       " 'term': 37201,\n",
       " 'picture': 27724,\n",
       " 'box-office': 5156,\n",
       " 'probably': 28930,\n",
       " 'dread-factor': 11435,\n",
       " 'impact': 18596,\n",
       " 'people': 27347,\n",
       " 'recommend': 30252,\n",
       " 'face': 13440,\n",
       " 'molded': 23960,\n",
       " 'mass-entertainment': 22815,\n",
       " 'thrills': 37542,\n",
       " 'spills': 34994,\n",
       " 'keep': 20396,\n",
       " 'focus': 14486,\n",
       " 'offbeat': 25851,\n",
       " 'element': 12117,\n",
       " 'ultimately': 38802,\n",
       " 'convey': 8475,\n",
       " 'going': 15870,\n",
       " 'guess': 16433,\n",
       " 'immense': 18565,\n",
       " 'feeling': 13819,\n",
       " 'dread': 11434,\n",
       " 'upon': 39560,\n",
       " 'forewarned': 14636,\n",
       " 'faint-hearted': 13500,\n",
       " 'pure': 29464,\n",
       " 'entertainment': 12559,\n",
       " 'prepared': 28719,\n",
       " 'disturbed': 10974,\n",
       " 'decide': 9760,\n",
       " 'highly': 17532,\n",
       " 'recommended=85=85but': 30256,\n",
       " 'risk': 31406,\n",
       " 'good-horror': 15931,\n",
       " 'embraced': 12251,\n",
       " 'screen': 32561,\n",
       " 'ponder': 28239,\n",
       " 'childhood': 6913,\n",
       " 'memories': 23254,\n",
       " 'things': 37416,\n",
       " 'always': 2196,\n",
       " 'springs': 35138,\n",
       " 'immediately': 18563,\n",
       " 'mind': 23604,\n",
       " 'watching': 40520,\n",
       " 'inspector': 19261,\n",
       " 'gadget': 15175,\n",
       " 'tv': 38609,\n",
       " 'show': 33574,\n",
       " 'older': 25936,\n",
       " 'truth': 38494,\n",
       " 'told': 37841,\n",
       " 'rabid': 29689,\n",
       " 'fanatics': 13594,\n",
       " 'version': 39925,\n",
       " 'cowboys': 8803,\n",
       " 'indians': 18911,\n",
       " 'chasing': 6755,\n",
       " 'around': 2932,\n",
       " 'coffee': 7588,\n",
       " 'table': 36712,\n",
       " 'theme': 37333,\n",
       " 'tune': 38547,\n",
       " 'alternating': 2176,\n",
       " 'get': 15533,\n",
       " 'stuck': 35900,\n",
       " 'part': 27001,\n",
       " 'claw': 7267,\n",
       " 'arch': 2815,\n",
       " 'nemesis': 24925,\n",
       " 'never': 24992,\n",
       " 'biggie': 4445,\n",
       " 'nostalgia': 25421,\n",
       " 'fond': 14527,\n",
       " 'sometimes': 34655,\n",
       " '4am': 826,\n",
       " 're-runs': 30047,\n",
       " 'favorite': 13746,\n",
       " 'episodes': 12645,\n",
       " 'trying': 38500,\n",
       " 'recapture': 30188,\n",
       " 'wonder': 41244,\n",
       " 'kid': 20503,\n",
       " 'expecting': 13204,\n",
       " 'new': 25001,\n",
       " 'classic': 7242,\n",
       " 'television': 37105,\n",
       " 'kind': 20566,\n",
       " 'similar': 33787,\n",
       " 'effect': 11976,\n",
       " 'horrid': 17923,\n",
       " 'simple': 33805,\n",
       " 'rekindling': 30574,\n",
       " 'slight': 34193,\n",
       " 'pretty': 28808,\n",
       " 'tough': 38019,\n",
       " 'screw': 32580,\n",
       " 'back': 3529,\n",
       " 'sat': 32177,\n",
       " 'minimum': 23665,\n",
       " 'expectations': 13201,\n",
       " 'deliver': 9983,\n",
       " 'live-action': 21759,\n",
       " 'disney': 10827,\n",
       " 'wise': 41143,\n",
       " 'steer': 35467,\n",
       " 'likes': 21598,\n",
       " 'magoo': 22391,\n",
       " 'jungle': 20238,\n",
       " 'two': 38678,\n",
       " 'previous': 28826,\n",
       " 'adaptations': 1565,\n",
       " 'wish': 41160,\n",
       " 'god': 15831,\n",
       " 'sharp': 33317,\n",
       " 'skip': 34033,\n",
       " 'rarely': 29911,\n",
       " 'left': 21281,\n",
       " 'utter': 39665,\n",
       " 'emptiness': 12337,\n",
       " 'everyone': 12920,\n",
       " 'else': 12195,\n",
       " 'getting': 15544,\n",
       " 'exit': 13170,\n",
       " 'screening': 32565,\n",
       " 'completed': 7945,\n",
       " 'assault': 3087,\n",
       " 'mankind': 22603,\n",
       " 'sitting': 33925,\n",
       " 'absolutely': 1300,\n",
       " 'speechless': 34927,\n",
       " 'totally': 38001,\n",
       " 'dumbfounded': 11667,\n",
       " 'seen': 32784,\n",
       " 'awful': 3455,\n",
       " 'truly': 38473,\n",
       " 'exist': 13158,\n",
       " 'evolved': 12953,\n",
       " 'right': 31333,\n",
       " 'beginning': 4125,\n",
       " 'knew': 20671,\n",
       " 'trouble': 38434,\n",
       " 'scenes': 32340,\n",
       " 'introduced': 19511,\n",
       " 'sole': 34605,\n",
       " 'simply': 33817,\n",
       " 'serve': 33105,\n",
       " 'real-life': 30100,\n",
       " 'duplicates': 11701,\n",
       " 'cartoon': 6313,\n",
       " 'clones': 7385,\n",
       " 'referring': 30402,\n",
       " 'yell': 41594,\n",
       " 'fear': 13765,\n",
       " 'certain': 6575,\n",
       " 'supposed': 36363,\n",
       " 'oh': 25898,\n",
       " 'hi': 17450,\n",
       " 'penny': 27332,\n",
       " 'brain': 5216,\n",
       " 'creating': 8914,\n",
       " 'one-dimensional': 26024,\n",
       " 'replicas': 30810,\n",
       " 'thing': 37409,\n",
       " 'mere': 23321,\n",
       " 'names': 24665,\n",
       " 'shall': 33269,\n",
       " 'stays': 35435,\n",
       " 'fairly': 13513,\n",
       " 'matthew': 22923,\n",
       " 'broderick': 5472,\n",
       " 'stars': 35380,\n",
       " 'john': 20073,\n",
       " 'brown': 5517,\n",
       " 'creative': 8918,\n",
       " 'security': 32745,\n",
       " 'guard': 16418,\n",
       " 'horribly': 17921,\n",
       " 'injured': 19148,\n",
       " 'pack': 26724,\n",
       " 'ruthless': 31915,\n",
       " 'businessmen': 5810,\n",
       " 'headed': 17113,\n",
       " 'scolex': 32483,\n",
       " 'rupert': 31882,\n",
       " 'everett': 12911,\n",
       " 'transformed': 38164,\n",
       " 'unfortunate': 39202,\n",
       " 'chain': 6597,\n",
       " 'events': 12885,\n",
       " 'rescued': 30892,\n",
       " 'used': 39630,\n",
       " 'prototype': 29215,\n",
       " 'law-enforcement': 21147,\n",
       " 'technology': 37037,\n",
       " 'wherein': 40860,\n",
       " 'joined': 20085,\n",
       " 'various': 39792,\n",
       " 'machine': 22280,\n",
       " 'parts': 27042,\n",
       " 'nifty': 25116,\n",
       " ...}"
      ]
     },
     "execution_count": 9,
     "metadata": {},
     "output_type": "execute_result"
    }
   ],
   "source": [
    "tfidf_vec.vocabulary_"
   ]
  },
  {
   "cell_type": "markdown",
   "metadata": {},
   "source": [
    "__¿ Por qué tiene estas dimensiones ?__"
   ]
  },
  {
   "cell_type": "markdown",
   "metadata": {},
   "source": [
    "Responder."
   ]
  },
  {
   "cell_type": "markdown",
   "metadata": {},
   "source": [
    "Porque el resultado es una matriz de términos por documentos. Por cada término existente en el dataset habrá una columna, ya que no se realizó ningún tipo de filtrado."
   ]
  },
  {
   "cell_type": "markdown",
   "metadata": {},
   "source": [
    "## Entrenando los modelos\n",
    "Una vez que tenemos una matriz con los vectores correspondientes a los documentos luego de aplicarse td-idf podemos comenzar con el proceso de entrenamiento de los modelos. Para eso, vamos a comparar diferentes algoritmos vistos como SVM, Random Forest, AdaBoost, Voting. Y todos los algoritmos complementarios que se quieran introducir. \n",
    "Para el entrenamiento de los modelos usaremos GridSearch recorriendo una lista de parámetros según corresponda a cada algoritmo. Además usaremos 5-fold CV y el scoring estará dado por el área bajo la curva roc."
   ]
  },
  {
   "cell_type": "markdown",
   "metadata": {},
   "source": [
    "### Support Vector Machines (SVM)"
   ]
  },
  {
   "cell_type": "markdown",
   "metadata": {},
   "source": [
    "__Ajustar un SVM (kernel lineal) al conjunto de datos de entrenamiento y devolver la matriz de confusión en testing.__\n",
    "\n",
    "Basándonos en el paper https://www.csie.ntu.edu.tw/~cjlin/papers/guide/guide.pdf, vamos a utilizar un kernel lineal. Al tener menos instancias que features este es el procedimiento recomendado. \n",
    "\n",
    "Nuestro espacio de parámetros para recorrer de forma exhaustiva utilizando GridSearch será el siguiente:\n",
    "\n",
    "* C = [0.001, 0.01, 0.1, 1, 10]\n",
    "* loss = ['hinge', 'squared_hinge'] \n",
    "\n",
    "**2) Entrenar** un modelo utilizando `Grid Search` y el clasificador `LinearSVC` con `5-fold` cross validation y que utilice como `scoring` el área bajo la curva roc."
   ]
  },
  {
   "cell_type": "code",
   "execution_count": 10,
   "metadata": {},
   "outputs": [
    {
     "name": "stdout",
     "output_type": "stream",
     "text": [
      "Wall time: 2.09 s\n"
     ]
    },
    {
     "data": {
      "text/plain": [
       "GridSearchCV(cv=5, error_score=nan,\n",
       "             estimator=LinearSVC(C=1.0, class_weight=None, dual=True,\n",
       "                                 fit_intercept=True, intercept_scaling=1,\n",
       "                                 loss='squared_hinge', max_iter=1000,\n",
       "                                 multi_class='ovr', penalty='l2',\n",
       "                                 random_state=None, tol=0.0001, verbose=0),\n",
       "             iid='deprecated', n_jobs=None,\n",
       "             param_grid=[{'C': [0.001, 0.01, 0.1, 1, 10],\n",
       "                          'loss': ['hinge', 'squared_hinge']}],\n",
       "             pre_dispatch='2*n_jobs', refit=True, return_train_score=True,\n",
       "             scoring='roc_auc', verbose=0)"
      ]
     },
     "execution_count": 10,
     "metadata": {},
     "output_type": "execute_result"
    }
   ],
   "source": [
    "%%time\n",
    "# Realizá el entrenamiento en esta celda\n",
    "from sklearn.model_selection import GridSearchCV\n",
    "from sklearn.svm import LinearSVC\n",
    "linear_svc = LinearSVC()\n",
    "param_grid = [{'C': [0.001, 0.01, 0.1, 1, 10], 'loss': ['hinge', 'squared_hinge'] }]\n",
    "grid_search  = GridSearchCV(linear_svc, param_grid, cv=5,\n",
    "                            scoring='roc_auc', return_train_score=True)\n",
    "grid_search.fit(X_train, y_train)"
   ]
  },
  {
   "cell_type": "markdown",
   "metadata": {},
   "source": [
    "Veamos los resultados promediados por cada combinación de parámetros:"
   ]
  },
  {
   "cell_type": "code",
   "execution_count": 11,
   "metadata": {},
   "outputs": [
    {
     "data": {
      "text/plain": [
       "[0.92242724609375,\n",
       " 0.92242724609375,\n",
       " 0.9230410156250001,\n",
       " 0.9247333984375,\n",
       " 0.94120849609375,\n",
       " 0.9925864257812499,\n",
       " 0.9994907226562499,\n",
       " 1.0,\n",
       " 1.0,\n",
       " 1.0]"
      ]
     },
     "execution_count": 11,
     "metadata": {},
     "output_type": "execute_result"
    }
   ],
   "source": [
    "sorted(grid_search.cv_results_['mean_train_score'])"
   ]
  },
  {
   "cell_type": "code",
   "execution_count": 12,
   "metadata": {},
   "outputs": [
    {
     "data": {
      "text/plain": [
       "[0.789875,\n",
       " 0.789875,\n",
       " 0.7906875,\n",
       " 0.7916562500000002,\n",
       " 0.804734375,\n",
       " 0.8670078125,\n",
       " 0.9139296875000001,\n",
       " 0.9149609375000001,\n",
       " 0.9152578124999999,\n",
       " 0.9161015625]"
      ]
     },
     "execution_count": 12,
     "metadata": {},
     "output_type": "execute_result"
    }
   ],
   "source": [
    "sorted(grid_search.cv_results_['mean_test_score'])"
   ]
  },
  {
   "cell_type": "code",
   "execution_count": 13,
   "metadata": {},
   "outputs": [
    {
     "data": {
      "text/plain": [
       "{'C': 10, 'loss': 'squared_hinge'}"
      ]
     },
     "execution_count": 13,
     "metadata": {},
     "output_type": "execute_result"
    }
   ],
   "source": [
    "grid_search.best_params_"
   ]
  },
  {
   "cell_type": "code",
   "execution_count": 14,
   "metadata": {},
   "outputs": [],
   "source": [
    "optimised_svm = grid_search.best_estimator_"
   ]
  },
  {
   "cell_type": "markdown",
   "metadata": {},
   "source": [
    "## Matriz de confusión \n",
    "Una forma de ver fácilmente el resultado de un clasificador es utilizando una matriz de confusión. A continuación\n",
    "se presenta una función para visualizar una matriz de confusión utilizando `matplotlib`."
   ]
  },
  {
   "cell_type": "code",
   "execution_count": 15,
   "metadata": {},
   "outputs": [],
   "source": [
    "import numpy as np\n",
    "import itertools\n",
    "import matplotlib.pylab as plt\n",
    "def plot_confusion_matrix(cm, classes,\n",
    "                          normalize=False,\n",
    "                          title='Confusion matrix',\n",
    "                          cmap=plt.cm.Blues):\n",
    "    \"\"\"\n",
    "    This function prints and plots the confusion matrix.\n",
    "    Normalization can be applied by setting `normalize=True`.\n",
    "    \"\"\"\n",
    "    if normalize:\n",
    "        cm = cm.astype('float') / cm.sum(axis=1)[:, np.newaxis]\n",
    "        print(\"Normalized confusion matrix\")\n",
    "    else:\n",
    "        print('Confusion matrix, without normalization')\n",
    "\n",
    "    print(cm)\n",
    "\n",
    "    plt.imshow(cm, interpolation='nearest', cmap=cmap)\n",
    "    plt.title(title)\n",
    "    plt.colorbar()\n",
    "    tick_marks = np.arange(len(classes))\n",
    "    plt.xticks(tick_marks, classes, rotation=45)\n",
    "    plt.yticks(tick_marks, classes)\n",
    "\n",
    "    fmt = '.2f' if normalize else 'd'\n",
    "    thresh = cm.max() / 2.\n",
    "    for i, j in itertools.product(range(cm.shape[0]), range(cm.shape[1])):\n",
    "        plt.text(j, i, format(cm[i, j], fmt),\n",
    "                 horizontalalignment=\"center\",\n",
    "                 color=\"white\" if cm[i, j] > thresh else \"black\")\n",
    "\n",
    "    plt.tight_layout()\n",
    "    plt.ylabel('True label')\n",
    "    plt.xlabel('Predicted label')\n",
    "    plt.show()\n",
    "\n"
   ]
  },
  {
   "cell_type": "markdown",
   "metadata": {},
   "source": [
    "**3) Mostrá** los resultados de la predicción del clasificador `LinearSVC` sobre el conjunto de test con una matriz de confusión"
   ]
  },
  {
   "cell_type": "code",
   "execution_count": 16,
   "metadata": {},
   "outputs": [
    {
     "name": "stdout",
     "output_type": "stream",
     "text": [
      "Confusion matrix, without normalization\n",
      "[[162  38]\n",
      " [ 22 178]]\n"
     ]
    },
    {
     "data": {
      "image/png": "[encoded data removed]",
      "text/plain": [
       "<Figure size 432x288 with 2 Axes>"
      ]
     },
     "metadata": {
      "needs_background": "light"
     },
     "output_type": "display_data"
    }
   ],
   "source": [
    "# Mostrá la matriz de confusión en esta celda\n",
    "from sklearn.metrics import confusion_matrix\n",
    "y_pred = optimised_svm.predict(X_test)\n",
    "cm = confusion_matrix(y_test, y_pred)\n",
    "plot_confusion_matrix(cm,['neg', 'pos'])"
   ]
  },
  {
   "cell_type": "markdown",
   "metadata": {},
   "source": [
    "**4) Calcular** el área bajo la curva ROC (AUC) en el conjunto de testing para el modelo y mostrá el `classification_report`"
   ]
  },
  {
   "cell_type": "code",
   "execution_count": 17,
   "metadata": {},
   "outputs": [
    {
     "name": "stdout",
     "output_type": "stream",
     "text": [
      "ROC_AUC: 0.8500000000000001\n",
      "-------------------------------------------------------\n",
      "              precision    recall  f1-score   support\n",
      "\n",
      "           0       0.88      0.81      0.84       200\n",
      "           1       0.82      0.89      0.86       200\n",
      "\n",
      "    accuracy                           0.85       400\n",
      "   macro avg       0.85      0.85      0.85       400\n",
      "weighted avg       0.85      0.85      0.85       400\n",
      "\n"
     ]
    }
   ],
   "source": [
    "# Mostrá el roc_auc score y el classification_report en esta celda\n",
    "from sklearn.metrics import roc_auc_score, classification_report\n",
    "print(\"ROC_AUC: {}\" .format(roc_auc_score(y_test,y_pred)))\n",
    "print(\"-------------------------------------------------------\")\n",
    "print(classification_report(y_test,y_pred))"
   ]
  },
  {
   "cell_type": "markdown",
   "metadata": {},
   "source": [
    "### Random Forests\n",
    "El siguiente modelo que vamos a entrenar es utilizando la técnica de Random Forest. "
   ]
  },
  {
   "cell_type": "markdown",
   "metadata": {},
   "source": [
    "__5) Usando grid search__ con cross validation (5 folds), encontrar el mejor modelo según el AUC dado el siguiente espacio de búsqueda:\n",
    "\n",
    "* n_estimators = [100, 500, 1000]\n",
    "* max_depth: [3, 7, None]\n",
    "* min_samples_split: [2, 3, 10]\n",
    "* bootstrap: [True, False]\n",
    "* criterion: [\"gini\", \"entropy\"]\n",
    "\n",
    "(puede tardar un poco la ejecución dado el tamaño del dataset)"
   ]
  },
  {
   "cell_type": "code",
   "execution_count": 18,
   "metadata": {},
   "outputs": [],
   "source": [
    "# entrenar el modelo en esta celda\n",
    "from sklearn.ensemble import RandomForestClassifier\n",
    "param_grid = {'n_estimators':[100, 500, 1000],'max_depth':[3, 7, None],\n",
    "              'min_samples_split':[2, 3, 10],'bootstrap':[True, False],\n",
    "              'criterion': [\"gini\", \"entropy\"]}\n",
    "\n",
    "randomForest = RandomForestClassifier()\n",
    "grid_search = GridSearchCV(randomForest, param_grid, cv=5, scoring='roc_auc',\n",
    "                           return_train_score=True,n_jobs=-1)\n"
   ]
  },
  {
   "cell_type": "code",
   "execution_count": 19,
   "metadata": {},
   "outputs": [
    {
     "name": "stdout",
     "output_type": "stream",
     "text": [
      "Wall time: 13min 17s\n"
     ]
    },
    {
     "data": {
      "text/plain": [
       "GridSearchCV(cv=5, error_score=nan,\n",
       "             estimator=RandomForestClassifier(bootstrap=True, ccp_alpha=0.0,\n",
       "                                              class_weight=None,\n",
       "                                              criterion='gini', max_depth=None,\n",
       "                                              max_features='auto',\n",
       "                                              max_leaf_nodes=None,\n",
       "                                              max_samples=None,\n",
       "                                              min_impurity_decrease=0.0,\n",
       "                                              min_impurity_split=None,\n",
       "                                              min_samples_leaf=1,\n",
       "                                              min_samples_split=2,\n",
       "                                              min_weight_fraction_leaf=0.0,\n",
       "                                              n_estimators=100, n_jobs=None,\n",
       "                                              oob_score=False,\n",
       "                                              random_state=None, verbose=0,\n",
       "                                              warm_start=False),\n",
       "             iid='deprecated', n_jobs=-1,\n",
       "             param_grid={'bootstrap': [True, False],\n",
       "                         'criterion': ['gini', 'entropy'],\n",
       "                         'max_depth': [3, 7, None],\n",
       "                         'min_samples_split': [2, 3, 10],\n",
       "                         'n_estimators': [100, 500, 1000]},\n",
       "             pre_dispatch='2*n_jobs', refit=True, return_train_score=True,\n",
       "             scoring='roc_auc', verbose=0)"
      ]
     },
     "execution_count": 19,
     "metadata": {},
     "output_type": "execute_result"
    }
   ],
   "source": [
    "%%time\n",
    "grid_search.fit(X_train, y_train)"
   ]
  },
  {
   "cell_type": "markdown",
   "metadata": {},
   "source": [
    "**6) Repetir** los mismos pasos utilizados con el anterior modelo pero esta vez para `Random Forest`. Es decir, mostrar la matriz de confusión, scores, etc"
   ]
  },
  {
   "cell_type": "code",
   "execution_count": 20,
   "metadata": {},
   "outputs": [
    {
     "data": {
      "text/plain": [
       "array([0.83666406, 0.881875  , 0.88536719, 0.84601562, 0.88251563,\n",
       "       0.89245312, 0.8349375 , 0.88392969, 0.88592969, 0.857625  ,\n",
       "       0.89052344, 0.89186719, 0.86063281, 0.88249219, 0.89449219,\n",
       "       0.86115625, 0.88840625, 0.89544531, 0.86303906, 0.89245703,\n",
       "       0.89707812, 0.87008984, 0.88714062, 0.89784375, 0.87097656,\n",
       "       0.89075781, 0.89559375, 0.83083594, 0.88359375, 0.88676563,\n",
       "       0.84221094, 0.88491406, 0.89372656, 0.83825781, 0.88146875,\n",
       "       0.89532031, 0.86310156, 0.89501562, 0.89578906, 0.85129687,\n",
       "       0.88796094, 0.89532031, 0.87242969, 0.89014062, 0.89916406,\n",
       "       0.87132422, 0.89682422, 0.90170703, 0.87059375, 0.89941016,\n",
       "       0.90264063, 0.87699219, 0.89721094, 0.90039844, 0.84698438,\n",
       "       0.88507813, 0.891875  , 0.85297656, 0.88860937, 0.88739063,\n",
       "       0.85115625, 0.88634375, 0.890625  , 0.86748437, 0.89696875,\n",
       "       0.89720313, 0.86826563, 0.89405469, 0.89600781, 0.87098438,\n",
       "       0.89177344, 0.8968125 , 0.89077344, 0.90097266, 0.90266406,\n",
       "       0.88113281, 0.90041016, 0.90282422, 0.88589063, 0.89860156,\n",
       "       0.90264844, 0.84546875, 0.8780625 , 0.89230469, 0.84249219,\n",
       "       0.88221094, 0.88920313, 0.85354687, 0.88324219, 0.88330469,\n",
       "       0.87633594, 0.89407031, 0.89763281, 0.87232031, 0.89392969,\n",
       "       0.89721875, 0.87482031, 0.89476563, 0.89934375, 0.88938672,\n",
       "       0.90608984, 0.90983984, 0.88971875, 0.90843359, 0.91022656,\n",
       "       0.88867969, 0.90645312, 0.90899219])"
      ]
     },
     "execution_count": 20,
     "metadata": {},
     "output_type": "execute_result"
    }
   ],
   "source": [
    "grid_search.cv_results_['mean_test_score']"
   ]
  },
  {
   "cell_type": "code",
   "execution_count": 21,
   "metadata": {},
   "outputs": [
    {
     "data": {
      "text/plain": [
       "array([0.96076563, 0.98430176, 0.98687305, 0.96294775, 0.98289795,\n",
       "       0.98628564, 0.96149121, 0.98344238, 0.98638672, 0.99651514,\n",
       "       0.99900391, 0.99931982, 0.99550195, 0.99893555, 0.9991875 ,\n",
       "       0.9947832 , 0.99848242, 0.99886377, 1.        , 1.        ,\n",
       "       1.        , 1.        , 1.        , 1.        , 1.        ,\n",
       "       1.        , 1.        , 0.96507617, 0.98546143, 0.98661475,\n",
       "       0.96610156, 0.98463721, 0.98795752, 0.95962744, 0.98444287,\n",
       "       0.98741504, 0.99487646, 0.99867529, 0.99897559, 0.99493945,\n",
       "       0.9988208 , 0.99886572, 0.99460645, 0.99837207, 0.99862109,\n",
       "       1.        , 1.        , 1.        , 1.        , 1.        ,\n",
       "       1.        , 1.        , 1.        , 1.        , 0.97490771,\n",
       "       0.98729004, 0.98922314, 0.97784814, 0.98815625, 0.98908789,\n",
       "       0.97455029, 0.98740186, 0.98863525, 0.99925439, 0.99979346,\n",
       "       0.99982861, 0.99930615, 0.99977881, 0.99984912, 0.9988418 ,\n",
       "       0.9996875 , 0.99971582, 1.        , 1.        , 1.        ,\n",
       "       1.        , 1.        , 1.        , 1.        , 1.        ,\n",
       "       1.        , 0.97335352, 0.9878208 , 0.98989746, 0.97480078,\n",
       "       0.98877148, 0.98952539, 0.97596582, 0.98892725, 0.98907031,\n",
       "       0.99902344, 0.99968799, 0.99973096, 0.99886963, 0.99968311,\n",
       "       0.99967578, 0.99846045, 0.99937451, 0.99955127, 1.        ,\n",
       "       1.        , 1.        , 1.        , 1.        , 1.        ,\n",
       "       1.        , 1.        , 1.        ])"
      ]
     },
     "execution_count": 21,
     "metadata": {},
     "output_type": "execute_result"
    }
   ],
   "source": [
    "grid_search.cv_results_['mean_train_score']"
   ]
  },
  {
   "cell_type": "code",
   "execution_count": 22,
   "metadata": {},
   "outputs": [
    {
     "data": {
      "text/plain": [
       "{'bootstrap': False,\n",
       " 'criterion': 'entropy',\n",
       " 'max_depth': None,\n",
       " 'min_samples_split': 3,\n",
       " 'n_estimators': 1000}"
      ]
     },
     "execution_count": 22,
     "metadata": {},
     "output_type": "execute_result"
    }
   ],
   "source": [
    " grid_search.best_params_"
   ]
  },
  {
   "cell_type": "code",
   "execution_count": 23,
   "metadata": {},
   "outputs": [
    {
     "name": "stdout",
     "output_type": "stream",
     "text": [
      "Confusion matrix, without normalization\n",
      "[[177  23]\n",
      " [ 39 161]]\n"
     ]
    },
    {
     "data": {
      "image/png": "[encoded data removed]",
      "text/plain": [
       "<Figure size 432x288 with 2 Axes>"
      ]
     },
     "metadata": {
      "needs_background": "light"
     },
     "output_type": "display_data"
    }
   ],
   "source": [
    "optimised_rf = grid_search.best_estimator_\n",
    "y_pred = optimised_rf.predict(X_test)\n",
    "cm = confusion_matrix(y_test, y_pred)\n",
    "plot_confusion_matrix(cm,['neg', 'pos'])"
   ]
  },
  {
   "cell_type": "code",
   "execution_count": 24,
   "metadata": {},
   "outputs": [
    {
     "name": "stdout",
     "output_type": "stream",
     "text": [
      "ROC_AUC: 0.8450000000000001\n",
      "-------------------------------------------------------\n",
      "              precision    recall  f1-score   support\n",
      "\n",
      "           0       0.82      0.89      0.85       200\n",
      "           1       0.88      0.81      0.84       200\n",
      "\n",
      "    accuracy                           0.84       400\n",
      "   macro avg       0.85      0.84      0.84       400\n",
      "weighted avg       0.85      0.84      0.84       400\n",
      "\n"
     ]
    }
   ],
   "source": [
    "print(\"ROC_AUC: {}\" .format(roc_auc_score(y_test,y_pred)))\n",
    "print(\"-------------------------------------------------------\")\n",
    "print(classification_report(y_test,y_pred))"
   ]
  },
  {
   "cell_type": "markdown",
   "metadata": {},
   "source": [
    "### Multilayer Perceptron"
   ]
  },
  {
   "cell_type": "markdown",
   "metadata": {},
   "source": [
    "**6) Repetir** los mismos pasos utilizados con el anterior modelo pero esta vez para `Multilayer Perceptron`. Es decir, mostrar la matriz de confusión, scores, etc\n",
    "\n",
    "El `param_grid` debe recorrer estos valores: `{'hidden_layer_sizes': [(10,),(5,5), (2,2)]}`"
   ]
  },
  {
   "cell_type": "code",
   "execution_count": 25,
   "metadata": {},
   "outputs": [],
   "source": [
    "from sklearn.neural_network import MLPClassifier\n",
    "param_grid = {'hidden_layer_sizes': [(10,),(5,5), (2,2)]}\n",
    "mlp_clf = MLPClassifier(random_state=1)\n",
    "grid_search = GridSearchCV(mlp_clf, param_grid, cv=5, scoring='roc_auc',n_jobs=-1)"
   ]
  },
  {
   "cell_type": "code",
   "execution_count": 26,
   "metadata": {},
   "outputs": [
    {
     "name": "stdout",
     "output_type": "stream",
     "text": [
      "Wall time: 2min 35s\n"
     ]
    },
    {
     "data": {
      "text/plain": [
       "GridSearchCV(cv=5, error_score=nan,\n",
       "             estimator=MLPClassifier(activation='relu', alpha=0.0001,\n",
       "                                     batch_size='auto', beta_1=0.9,\n",
       "                                     beta_2=0.999, early_stopping=False,\n",
       "                                     epsilon=1e-08, hidden_layer_sizes=(100,),\n",
       "                                     learning_rate='constant',\n",
       "                                     learning_rate_init=0.001, max_fun=15000,\n",
       "                                     max_iter=200, momentum=0.9,\n",
       "                                     n_iter_no_change=10,\n",
       "                                     nesterovs_momentum=True, power_t=0.5,\n",
       "                                     random_state=1, shuffle=True,\n",
       "                                     solver='adam', tol=0.0001,\n",
       "                                     validation_fraction=0.1, verbose=False,\n",
       "                                     warm_start=False),\n",
       "             iid='deprecated', n_jobs=-1,\n",
       "             param_grid={'hidden_layer_sizes': [(10,), (5, 5), (2, 2)]},\n",
       "             pre_dispatch='2*n_jobs', refit=True, return_train_score=False,\n",
       "             scoring='roc_auc', verbose=0)"
      ]
     },
     "execution_count": 26,
     "metadata": {},
     "output_type": "execute_result"
    }
   ],
   "source": [
    "%%time\n",
    "grid_search.fit(X_train, y_train)"
   ]
  },
  {
   "cell_type": "code",
   "execution_count": 27,
   "metadata": {},
   "outputs": [
    {
     "data": {
      "text/plain": [
       "{'mean_fit_time': array([94.0035356 , 61.68998661, 18.19556017]),\n",
       " 'std_fit_time': array([10.94475475, 11.76190104,  1.88741941]),\n",
       " 'mean_score_time': array([0.00937457, 0.00312467, 0.00312352]),\n",
       " 'std_score_time': array([0.00765431, 0.00624933, 0.00624704]),\n",
       " 'param_hidden_layer_sizes': masked_array(data=[(10,), (5, 5), (2, 2)],\n",
       "              mask=[False, False, False],\n",
       "        fill_value='?',\n",
       "             dtype=object),\n",
       " 'params': [{'hidden_layer_sizes': (10,)},\n",
       "  {'hidden_layer_sizes': (5, 5)},\n",
       "  {'hidden_layer_sizes': (2, 2)}],\n",
       " 'split0_test_score': array([0.92378906, 0.5       , 0.9178125 ]),\n",
       " 'split1_test_score': array([0.91472656, 0.5       , 0.91011719]),\n",
       " 'split2_test_score': array([0.90976563, 0.5       , 0.90675781]),\n",
       " 'split3_test_score': array([0.916875  , 0.5       , 0.91378906]),\n",
       " 'split4_test_score': array([0.89179688, 0.5       , 0.88882813]),\n",
       " 'mean_test_score': array([0.91139062, 0.5       , 0.90746094]),\n",
       " 'std_test_score': array([0.0107841, 0.       , 0.0100193]),\n",
       " 'rank_test_score': array([1, 3, 2])}"
      ]
     },
     "execution_count": 27,
     "metadata": {},
     "output_type": "execute_result"
    }
   ],
   "source": [
    "grid_search.cv_results_"
   ]
  },
  {
   "cell_type": "code",
   "execution_count": 28,
   "metadata": {},
   "outputs": [
    {
     "data": {
      "text/plain": [
       "{'hidden_layer_sizes': (10,)}"
      ]
     },
     "execution_count": 28,
     "metadata": {},
     "output_type": "execute_result"
    }
   ],
   "source": [
    "grid_search.best_params_"
   ]
  },
  {
   "cell_type": "code",
   "execution_count": 29,
   "metadata": {},
   "outputs": [
    {
     "name": "stdout",
     "output_type": "stream",
     "text": [
      "Confusion matrix, without normalization\n",
      "[[166  34]\n",
      " [ 24 176]]\n"
     ]
    },
    {
     "data": {
      "image/png": "[encoded data removed]",
      "text/plain": [
       "<Figure size 432x288 with 2 Axes>"
      ]
     },
     "metadata": {
      "needs_background": "light"
     },
     "output_type": "display_data"
    }
   ],
   "source": [
    "optimised_mlp = grid_search.best_estimator_\n",
    "y_pred = optimised_mlp.predict(X_test)\n",
    "cm = confusion_matrix(y_test, y_pred)\n",
    "plot_confusion_matrix(cm,['neg', 'pos'])"
   ]
  },
  {
   "cell_type": "code",
   "execution_count": 30,
   "metadata": {},
   "outputs": [
    {
     "name": "stdout",
     "output_type": "stream",
     "text": [
      "ROC_AUC: 0.8549999999999999\n",
      "-------------------------------------------------------\n",
      "              precision    recall  f1-score   support\n",
      "\n",
      "           0       0.87      0.83      0.85       200\n",
      "           1       0.84      0.88      0.86       200\n",
      "\n",
      "    accuracy                           0.85       400\n",
      "   macro avg       0.86      0.85      0.85       400\n",
      "weighted avg       0.86      0.85      0.85       400\n",
      "\n"
     ]
    }
   ],
   "source": [
    "print(\"ROC_AUC: {}\" .format(roc_auc_score(y_test,y_pred)))\n",
    "print(\"-------------------------------------------------------\")\n",
    "print(classification_report(y_test,y_pred))"
   ]
  },
  {
   "cell_type": "markdown",
   "metadata": {},
   "source": [
    "### AdaBoost"
   ]
  },
  {
   "cell_type": "markdown",
   "metadata": {},
   "source": [
    "**7) Repetir** los mismos pasos utilizados con el anterior modelo pero esta vez para `AdaBoost`. Es decir, mostrar la matriz de confusión, scores, etc\n",
    "\n",
    "El `param_grid` debe recorrer estos valores: `{'n_estimators': [50, 100, 500]}`\n"
   ]
  },
  {
   "cell_type": "code",
   "execution_count": 31,
   "metadata": {},
   "outputs": [],
   "source": [
    "from sklearn.ensemble import AdaBoostClassifier\n",
    "\n",
    "param_grid = {'n_estimators': [50, 100, 500]}\n",
    "ada_clf = AdaBoostClassifier()\n",
    "grid_search = GridSearchCV(ada_clf, param_grid, cv=5, scoring='roc_auc',n_jobs=-1)"
   ]
  },
  {
   "cell_type": "code",
   "execution_count": 32,
   "metadata": {},
   "outputs": [
    {
     "name": "stdout",
     "output_type": "stream",
     "text": [
      "Wall time: 1min 42s\n"
     ]
    },
    {
     "data": {
      "text/plain": [
       "GridSearchCV(cv=5, error_score=nan,\n",
       "             estimator=AdaBoostClassifier(algorithm='SAMME.R',\n",
       "                                          base_estimator=None,\n",
       "                                          learning_rate=1.0, n_estimators=50,\n",
       "                                          random_state=None),\n",
       "             iid='deprecated', n_jobs=-1,\n",
       "             param_grid={'n_estimators': [50, 100, 500]},\n",
       "             pre_dispatch='2*n_jobs', refit=True, return_train_score=False,\n",
       "             scoring='roc_auc', verbose=0)"
      ]
     },
     "execution_count": 32,
     "metadata": {},
     "output_type": "execute_result"
    }
   ],
   "source": [
    "%%time\n",
    "grid_search.fit(X_train,y_train)"
   ]
  },
  {
   "cell_type": "code",
   "execution_count": 33,
   "metadata": {},
   "outputs": [
    {
     "data": {
      "text/plain": [
       "{'mean_fit_time': array([ 8.7057189 , 16.67610321, 63.49483414]),\n",
       " 'std_fit_time': array([0.0645674 , 0.55069101, 2.04115683]),\n",
       " 'mean_score_time': array([0.09010348, 0.15038486, 0.4336895 ]),\n",
       " 'std_score_time': array([0.00535383, 0.0157038 , 0.10517375]),\n",
       " 'param_n_estimators': masked_array(data=[50, 100, 500],\n",
       "              mask=[False, False, False],\n",
       "        fill_value='?',\n",
       "             dtype=object),\n",
       " 'params': [{'n_estimators': 50},\n",
       "  {'n_estimators': 100},\n",
       "  {'n_estimators': 500}],\n",
       " 'split0_test_score': array([0.78652344, 0.83203125, 0.83195313]),\n",
       " 'split1_test_score': array([0.84677734, 0.85175781, 0.88640625]),\n",
       " 'split2_test_score': array([0.82992187, 0.84386719, 0.88375   ]),\n",
       " 'split3_test_score': array([0.83007812, 0.86359375, 0.84644531]),\n",
       " 'split4_test_score': array([0.81251953, 0.85515625, 0.84242188]),\n",
       " 'mean_test_score': array([0.82116406, 0.84928125, 0.85819531]),\n",
       " 'std_test_score': array([0.02042988, 0.01069926, 0.0224696 ]),\n",
       " 'rank_test_score': array([3, 2, 1])}"
      ]
     },
     "execution_count": 33,
     "metadata": {},
     "output_type": "execute_result"
    }
   ],
   "source": [
    "grid_search.cv_results_"
   ]
  },
  {
   "cell_type": "code",
   "execution_count": 34,
   "metadata": {},
   "outputs": [
    {
     "data": {
      "text/plain": [
       "{'n_estimators': 500}"
      ]
     },
     "execution_count": 34,
     "metadata": {},
     "output_type": "execute_result"
    }
   ],
   "source": [
    "grid_search.best_params_"
   ]
  },
  {
   "cell_type": "code",
   "execution_count": 35,
   "metadata": {},
   "outputs": [
    {
     "name": "stdout",
     "output_type": "stream",
     "text": [
      "Confusion matrix, without normalization\n",
      "[[158  42]\n",
      " [ 31 169]]\n"
     ]
    },
    {
     "data": {
      "image/png": "[encoded data removed]",
      "text/plain": [
       "<Figure size 432x288 with 2 Axes>"
      ]
     },
     "metadata": {
      "needs_background": "light"
     },
     "output_type": "display_data"
    }
   ],
   "source": [
    "optimised_ada = grid_search.best_estimator_\n",
    "y_pred = optimised_ada.predict(X_test)\n",
    "cm = confusion_matrix(y_test, y_pred)\n",
    "plot_confusion_matrix(cm,['neg', 'pos'])"
   ]
  },
  {
   "cell_type": "code",
   "execution_count": 36,
   "metadata": {},
   "outputs": [
    {
     "name": "stdout",
     "output_type": "stream",
     "text": [
      "ROC_AUC: 0.8175000000000001\n",
      "-------------------------------------------------------\n",
      "              precision    recall  f1-score   support\n",
      "\n",
      "           0       0.84      0.79      0.81       200\n",
      "           1       0.80      0.84      0.82       200\n",
      "\n",
      "    accuracy                           0.82       400\n",
      "   macro avg       0.82      0.82      0.82       400\n",
      "weighted avg       0.82      0.82      0.82       400\n",
      "\n"
     ]
    }
   ],
   "source": [
    "print(\"ROC_AUC: {}\" .format(roc_auc_score(y_test,y_pred)))\n",
    "print(\"-------------------------------------------------------\")\n",
    "print(classification_report(y_test,y_pred))"
   ]
  },
  {
   "cell_type": "markdown",
   "metadata": {},
   "source": [
    "__8) Armar un ensamble entre los cuatro modelos usando votación y medir el accuracy de cada uno de los modelos.__\n"
   ]
  },
  {
   "cell_type": "code",
   "execution_count": 37,
   "metadata": {},
   "outputs": [
    {
     "name": "stdout",
     "output_type": "stream",
     "text": [
      "LinearSVC 0.85\n",
      "RandomForestClassifier 0.8425\n",
      "MLPClassifier 0.855\n",
      "AdaBoostClassifier 0.8175\n",
      "VotingClassifier 0.8725\n",
      "Wall time: 2min 31s\n"
     ]
    }
   ],
   "source": [
    "%%time\n",
    "from sklearn.ensemble import VotingClassifier\n",
    "from sklearn.metrics import accuracy_score\n",
    "estimators = [('svm',optimised_svm),('rf',optimised_rf),\n",
    "              ('mlp',optimised_mlp),('ada',optimised_ada)]\n",
    "vclf = VotingClassifier(estimators=estimators)\n",
    "for clf in (optimised_svm, optimised_rf, optimised_mlp, optimised_ada, vclf):\n",
    "    clf.fit(X_train,y_train)\n",
    "    y_pred = clf.predict(X_test)\n",
    "    print(clf.__class__.__name__, accuracy_score(y_test, y_pred))\n"
   ]
  },
  {
   "cell_type": "markdown",
   "metadata": {},
   "source": [
    "__9) Seleccioná el modelo__ que te haya dado el mejor score y utilizalo como tu modelo final. Reentrenalo con todos tus datos de entrenamiento.\n"
   ]
  },
  {
   "cell_type": "code",
   "execution_count": 38,
   "metadata": {},
   "outputs": [
    {
     "name": "stdout",
     "output_type": "stream",
     "text": [
      "Wall time: 1min 14s\n"
     ]
    },
    {
     "data": {
      "text/plain": [
       "['sentiment.pkl']"
      ]
     },
     "execution_count": 38,
     "metadata": {},
     "output_type": "execute_result"
    }
   ],
   "source": [
    "%%time\n",
    "# Guardamos el modelo\n",
    "from sklearn.externals import joblib\n",
    "#el votingclassifier por default si no pongo nada es HARD, me habia olvidade de aclarar\n",
    "eclf = VotingClassifier(estimators=estimators)\n",
    "eclf.fit(X_train,y_train)\n",
    "y_pred = eclf.predict(X_test)\n",
    "joblib.dump(eclf, 'sentiment.pkl') "
   ]
  },
  {
   "cell_type": "code",
   "execution_count": 39,
   "metadata": {},
   "outputs": [
    {
     "data": {
      "text/plain": [
       "array([0, 1, 0, 1, 0, 1, 0, 0, 1, 1, 0, 0, 1, 0, 0, 0, 1, 1, 0, 0, 1, 0,\n",
       "       0, 0, 1, 0, 1, 0, 1, 1, 1, 1, 0, 0, 1, 0, 0, 0, 1, 1, 0, 0, 0, 0,\n",
       "       1, 0, 0, 0, 0, 1, 1, 1, 0, 1, 1, 1, 0, 1, 1, 1, 0, 1, 0, 0, 0, 1,\n",
       "       1, 0, 0, 1, 1, 1, 0, 0, 0, 1, 0, 1, 0, 0, 1, 0, 0, 1, 1, 0, 1, 0,\n",
       "       1, 1, 1, 0, 0, 1, 0, 1, 0, 0, 0, 1, 0, 1, 0, 0, 0, 1, 1, 0, 0, 0,\n",
       "       0, 1, 0, 1, 0, 0, 1, 0, 1, 1, 0, 1, 1, 0, 1, 1, 0, 1, 0, 0, 0, 0,\n",
       "       0, 0, 1, 1, 0, 1, 1, 1, 0, 1, 1, 1, 0, 0, 1, 0, 0, 0, 0, 0, 1, 1,\n",
       "       1, 0, 1, 1, 1, 1, 0, 0, 0, 1, 0, 0, 1, 1, 1, 0, 0, 1, 1, 0, 1, 0,\n",
       "       0, 0, 0, 1, 0, 1, 1, 0, 0, 0, 1, 0, 1, 1, 0, 0, 1, 0, 1, 1, 0, 0,\n",
       "       0, 1, 0, 1, 0, 0, 1, 1, 0, 0, 0, 1, 1, 0, 0, 0, 0, 1, 0, 0, 0, 0,\n",
       "       1, 1, 1, 1, 0, 0, 1, 0, 1, 1, 0, 0, 0, 0, 1, 1, 1, 0, 1, 1, 1, 0,\n",
       "       1, 1, 1, 1, 1, 0, 0, 0, 1, 0, 0, 1, 1, 0, 1, 1, 1, 1, 0, 0, 0, 1,\n",
       "       0, 0, 1, 0, 0, 1, 1, 0, 1, 0, 1, 0, 1, 1, 0, 0, 0, 0, 1, 1, 1, 1,\n",
       "       1, 1, 0, 1, 1, 1, 0, 1, 0, 0, 0, 0, 0, 1, 1, 0, 1, 0, 0, 1, 0, 0,\n",
       "       1, 0, 0, 1, 0, 1, 1, 0, 1, 1, 1, 0, 1, 0, 1, 0, 1, 1, 0, 1, 0, 0,\n",
       "       0, 0, 0, 1, 1, 1, 1, 0, 1, 1, 1, 0, 0, 1, 0, 0, 0, 1, 1, 0, 0, 1,\n",
       "       1, 1, 1, 0, 0, 1, 1, 0, 1, 0, 0, 1, 0, 1, 0, 1, 1, 0, 1, 0, 0, 1,\n",
       "       0, 0, 0, 0, 1, 1, 1, 1, 0, 0, 1, 0, 1, 0, 0, 0, 0, 1, 0, 1, 0, 0,\n",
       "       1, 1, 1, 1])"
      ]
     },
     "execution_count": 39,
     "metadata": {},
     "output_type": "execute_result"
    }
   ],
   "source": [
    "y_pred"
   ]
  },
  {
   "cell_type": "markdown",
   "metadata": {},
   "source": [
    "## Clasificación de reviews de Rocky 4."
   ]
  },
  {
   "cell_type": "markdown",
   "metadata": {},
   "source": [
    "A partir de [criticas de la película Rocky 4](https://www.rottentomatoes.com/m/rocky_iv/reviews/?type=user) veamos como las clasifica nuestro mejor modelo"
   ]
  },
  {
   "cell_type": "code",
   "execution_count": 40,
   "metadata": {},
   "outputs": [],
   "source": [
    "reviews_new = [\"Stallone creates credible villains worthy of his heroic character.\",\n",
    "               \"Another brilliant Rocky film, probably my favourite one out of the lot\",\n",
    "               \"Yeah, this movie sucks.\",\n",
    "               \"My favourite rocky film! So good so much heart. Slightly better than 2\",\n",
    "               \"What has this got to do with boxing. Also everyone looked like dolls. Also if you are a real true boxing fan (not casuals), you would understand that this stupidity is no description of boxing!!\",\n",
    "               \"The new film's narrative is stripped down to essentials, which gives it an emblematic quality.\",\n",
    "               \"Absurdly ridiculous, this just isn't a good movie at all\", \n",
    "               \"Very basic and predictable but still an okay movie. No special music to save this one.\", \n",
    "              \"Rocky 4 is an extremely ambitious movie that is definitely worth watching.\",\n",
    "              'Highly beautiful',\n",
    "               \"If it wasn't for the robots (WTF????), and the painfully overwritten lines of an absurdly dogmatic persuasion, then this would otherwise be nothing more than an interminable series of mildly rousing montages. There are some unintentionally funny bits though, and Dolph's Ivan showcases the best and worst of all Rocky's opponents.\",\n",
    "              \"While all aspects of realism is thrown out the window, ROCKY IV is an adrenaline rush of action and excitment, with an incredible soundtrack and arguably the best movie fight in history between Balboa and Drago\",\n",
    "              \"Just like the songs, exercise routines and repetitive clips, it seems redundant to add another installment in this already falling franchise when you clearly lack material. Rocky IV is petty, childish and seems overlong despite of its 91 minutes of run time for it merely has an idea of a TV drama episode which is stretched to a point of exhaustion. Its painful to watch Sylvester Stallone go through this enormous amount of training and hardly make a point out there. He fails on all the levels here; writer, director and actor, to deliver any loose end of the thread for the audience to hang on to. Rocky IV is predictable, loosely written and choreographed and executed unsupervised.\"]\n",
    "reviews_new_counts = tfidf_vec.transform(reviews_new)\n",
    "reviews_new_tfidf = tfidf_vec.transform(reviews_new)"
   ]
  },
  {
   "cell_type": "code",
   "execution_count": 41,
   "metadata": {},
   "outputs": [],
   "source": [
    "pred = eclf.predict(reviews_new_tfidf)"
   ]
  },
  {
   "cell_type": "code",
   "execution_count": 42,
   "metadata": {},
   "outputs": [
    {
     "name": "stdout",
     "output_type": "stream",
     "text": [
      "'Stallone creates credible villains worthy of his heroic character.' => neg \n",
      "\n",
      "'Another brilliant Rocky film, probably my favourite one out of the lot' => pos \n",
      "\n",
      "'Yeah, this movie sucks.' => neg \n",
      "\n",
      "'My favourite rocky film! So good so much heart. Slightly better than 2' => neg \n",
      "\n",
      "'What has this got to do with boxing. Also everyone looked like dolls. Also if you are a real true boxing fan (not casuals), you would understand that this stupidity is no description of boxing!!' => neg \n",
      "\n",
      "\"The new film's narrative is stripped down to essentials, which gives it an emblematic quality.\" => neg \n",
      "\n",
      "\"Absurdly ridiculous, this just isn't a good movie at all\" => neg \n",
      "\n",
      "'Very basic and predictable but still an okay movie. No special music to save this one.' => neg \n",
      "\n",
      "'Rocky 4 is an extremely ambitious movie that is definitely worth watching.' => pos \n",
      "\n",
      "'Highly beautiful' => neg \n",
      "\n",
      "\"If it wasn't for the robots (WTF????), and the painfully overwritten lines of an absurdly dogmatic persuasion, then this would otherwise be nothing more than an interminable series of mildly rousing montages. There are some unintentionally funny bits though, and Dolph's Ivan showcases the best and worst of all Rocky's opponents.\" => neg \n",
      "\n",
      "'While all aspects of realism is thrown out the window, ROCKY IV is an adrenaline rush of action and excitment, with an incredible soundtrack and arguably the best movie fight in history between Balboa and Drago' => pos \n",
      "\n",
      "'Just like the songs, exercise routines and repetitive clips, it seems redundant to add another installment in this already falling franchise when you clearly lack material. Rocky IV is petty, childish and seems overlong despite of its 91 minutes of run time for it merely has an idea of a TV drama episode which is stretched to a point of exhaustion. Its painful to watch Sylvester Stallone go through this enormous amount of training and hardly make a point out there. He fails on all the levels here; writer, director and actor, to deliver any loose end of the thread for the audience to hang on to. Rocky IV is predictable, loosely written and choreographed and executed unsupervised.' => neg \n",
      "\n"
     ]
    }
   ],
   "source": [
    "for review, category in zip(reviews_new, pred):\n",
    "    print('%r => %s \\n' % (review, movie_reviews.target_names[category]))"
   ]
  },
  {
   "cell_type": "code",
   "execution_count": null,
   "metadata": {},
   "outputs": [],
   "source": []
  },
  {
   "cell_type": "code",
   "execution_count": null,
   "metadata": {},
   "outputs": [],
   "source": []
  },
  {
   "cell_type": "code",
   "execution_count": null,
   "metadata": {},
   "outputs": [],
   "source": []
  }
 ],
 "metadata": {
  "kernelspec": {
   "display_name": "Python 3",
   "language": "python",
   "name": "python3"
  },
  "language_info": {
   "codemirror_mode": {
    "name": "ipython",
    "version": 3
   },
   "file_extension": ".py",
   "mimetype": "text/x-python",
   "name": "python",
   "nbconvert_exporter": "python",
   "pygments_lexer": "ipython3",
   "version": "3.7.5"
  }
 },
 "nbformat": 4,
 "nbformat_minor": 2
}
