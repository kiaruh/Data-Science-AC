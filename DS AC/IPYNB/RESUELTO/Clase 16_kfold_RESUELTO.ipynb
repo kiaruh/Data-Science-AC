{
 "cells": [
  {
   "cell_type": "markdown",
   "metadata": {},
   "source": [
    "# Clasificación del IRIS dataset con KNN. \n",
    "Vamos a entrenar dos algoritmos de clasificación usando el IRIS Dataset. La idea es que después de terminar el ejercicio comparen la performance de los árboles de decisión y KNN, y determinen cuál es, a su criterio, el que mejor funciona para clasificar estos datos. \n",
    "**Recuerden que las conclusiones que saquemos de este procedimiento son propias del problema.** ¡Manos a la obra! \n",
    "\n",
    "\n",
    "## A. Cargar el dataset\n",
    "1. Importar pandas y seaborn. \n",
    "2. Cargar el iris dataset. \n",
    "3. Separar el dataset en datos (X) y etiquetas (y)."
   ]
  },
  {
   "cell_type": "code",
   "execution_count": 1,
   "metadata": {},
   "outputs": [],
   "source": [
    "import pandas as pd\n",
    "import seaborn as sns\n",
    "import matplotlib.pyplot as plt\n",
    "import numpy as np\n",
    "\n",
    "iris = sns.load_dataset('iris')\n",
    "X = iris.drop(\"species\", axis=1)\n",
    "y = iris.species"
   ]
  },
  {
   "cell_type": "markdown",
   "metadata": {},
   "source": [
    "4. Separar el dataset en conjuntos de entrenamiento (X_train, y_train) y de testeo (X_test,y_test) usando la función **train_test_split** de scikit-learn [recordar importarla primero!]"
   ]
  },
  {
   "cell_type": "code",
   "execution_count": 2,
   "metadata": {},
   "outputs": [],
   "source": [
    "from sklearn.model_selection import train_test_split\n",
    "X_dev, X_held, y_dev, y_held = train_test_split(X, y, test_size=0.3, random_state=0)"
   ]
  },
  {
   "cell_type": "markdown",
   "metadata": {},
   "source": [
    "## B. Preprocessing. \n",
    "Como vimos las veces que utilizamos este dataset, las distintas variables no están normalizadas. Para que KNN funcione bien, es conveniente que lo estén (¿Por qué?). Entonces, vamos a utilizar el StandardScaler para que estas variables sean comparables. \n",
    "\n",
    "0. Chequeá cuál es el mean y el std de X_train y X_test. \n",
    "1. Importá el StandardScaler. \n",
    "2. Cargar el StandardScaler.\n",
    "3. Fittearlo con los datos de entrenamiento X_train (¿Por qué no con y_train?¿Por qué no con X_test? Si no sabés estas preguntas, seguí adelante y replanteatelas al final del ejercicio.)\n",
    "4. Transformá las variables X_train e X_test con el StandatdScaler que entrenaste (¿Por qué no y_train e y_test?Si no sabés estas preguntas, seguí adelante y replanteatelas al final del ejercicio.)\n",
    "5. Chequeá cuál es el mean y el std de las X_train y X_test transformadas. \n"
   ]
  },
  {
   "cell_type": "code",
   "execution_count": 3,
   "metadata": {},
   "outputs": [],
   "source": [
    "from sklearn.preprocessing import StandardScaler\n",
    "\n",
    "scaler = StandardScaler()\n",
    "scaler.fit(X_dev);"
   ]
  },
  {
   "cell_type": "code",
   "execution_count": 4,
   "metadata": {},
   "outputs": [],
   "source": [
    "X_dev_scal = scaler.transform(X_dev)  \n",
    "X_held_scal = scaler.transform(X_held)  "
   ]
  },
  {
   "cell_type": "code",
   "execution_count": 5,
   "metadata": {},
   "outputs": [
    {
     "data": {
      "text/plain": [
       "sepal_length    0\n",
       "sepal_width     0\n",
       "petal_length    0\n",
       "petal_width     0\n",
       "dtype: int64"
      ]
     },
     "execution_count": 5,
     "metadata": {},
     "output_type": "execute_result"
    }
   ],
   "source": [
    "X_dev.isnull().sum()"
   ]
  },
  {
   "cell_type": "markdown",
   "metadata": {},
   "source": [
    "## C. KNN \n",
    "1. Importá el modelo de KNN de sklearn usando la siguiente linea: *from sklearn.neighbors import KNeighborsClassifier* \n",
    "2. Cuando cargamos el algoritmo, tenemos que indicarle los hiperparámetros que queremos utilizar. La distancia, por default, es la euclideana. Cargá el modelo utilizando 5 vecinos. \n"
   ]
  },
  {
   "cell_type": "code",
   "execution_count": 6,
   "metadata": {},
   "outputs": [],
   "source": [
    "from sklearn.neighbors import KNeighborsClassifier"
   ]
  },
  {
   "cell_type": "code",
   "execution_count": 7,
   "metadata": {},
   "outputs": [],
   "source": [
    "n_neighbors = 5\n",
    "clf = KNeighborsClassifier(n_neighbors =n_neighbors )"
   ]
  },
  {
   "cell_type": "markdown",
   "metadata": {},
   "source": [
    "3. Fiteá el modelo utilizando los datos de entrenamiento escaleados. \n",
    "4. Calculá el Accuracy DE ENTRENAMIENTO [importar funciones necesarias]\n",
    "5. Calculá el Accuracy DE TEST.\n",
    "6. ¿Conclusiones?"
   ]
  },
  {
   "cell_type": "code",
   "execution_count": 8,
   "metadata": {},
   "outputs": [
    {
     "name": "stdout",
     "output_type": "stream",
     "text": [
      "0.9714285714285714\n"
     ]
    }
   ],
   "source": [
    "clf.fit(X_dev_scal,y_dev)\n",
    "from sklearn.metrics import accuracy_score\n",
    "\n",
    "y_dev_pred = clf.predict(X_dev_scal)\n",
    "train_acc = accuracy_score(y_dev, y_dev_pred)\n",
    "print(train_acc)"
   ]
  },
  {
   "cell_type": "code",
   "execution_count": 9,
   "metadata": {},
   "outputs": [
    {
     "name": "stdout",
     "output_type": "stream",
     "text": [
      "0.9777777777777777\n"
     ]
    }
   ],
   "source": [
    "y_held_pred = clf.predict(X_held_scal)\n",
    "test_acc = accuracy_score(y_held, y_held_pred)                                                       \n",
    "print(test_acc)"
   ]
  },
  {
   "cell_type": "markdown",
   "metadata": {},
   "source": [
    "3.Para poder determinar el hiperparámetro K, es útil trazar la curva de complejidad. Corré las lineas a continuación e interpretá la curva. "
   ]
  },
  {
   "cell_type": "code",
   "execution_count": 10,
   "metadata": {},
   "outputs": [],
   "source": [
    "import matplotlib.pyplot as plt\n",
    "####\n",
    "#### PONERLE ESTOS NOMBRE A LAS VARIABLES\n",
    "# clf = modelo fiteado\n",
    "# X_train_scal, X_test_scal = datos escaleados\n",
    "\n",
    "\n",
    "####\n",
    "ACC_dev = []\n",
    "ACC_held = []\n",
    "vecinos = [1,3,5,10,15,20,30,40,50,60,70,80,90,100]\n",
    "for n in vecinos:\n",
    "    clf = KNeighborsClassifier(n_neighbors=n)\n",
    "    clf.fit(X_dev_scal,y_dev)\n",
    "    y_dev_pred = clf.predict(X_dev_scal)\n",
    "    dev_acc = accuracy_score(y_dev, y_dev_pred)\n",
    "    ACC_dev.append(dev_acc)\n",
    "    y_held_pred = clf.predict(X_held_scal)\n",
    "    held_acc = accuracy_score(y_held, y_held_pred)\n",
    "    ACC_held.append(held_acc)"
   ]
  },
  {
   "cell_type": "code",
   "execution_count": 11,
   "metadata": {},
   "outputs": [
    {
     "data": {
      "text/plain": [
       "<matplotlib.legend.Legend at 0x7f157e392160>"
      ]
     },
     "execution_count": 11,
     "metadata": {},
     "output_type": "execute_result"
    },
    {
     "data": {
      "image/png": "[encoded data removed]",
      "text/plain": [
       "<Figure size 432x288 with 1 Axes>"
      ]
     },
     "metadata": {
      "needs_background": "light"
     },
     "output_type": "display_data"
    }
   ],
   "source": [
    "plt.plot(vecinos,ACC_dev,'o-',label='dev' )\n",
    "plt.plot(vecinos,ACC_held,'o-',label='held')\n",
    "plt.xlabel('Numero de vecinos')\n",
    "plt.ylabel('Accuracy')\n",
    "plt.grid()\n",
    "plt.legend()"
   ]
  },
  {
   "cell_type": "markdown",
   "metadata": {},
   "source": [
    "Elegí un intervalo donde te parece que es razonable buscar el K y volvé a graficar. ¿Cuál K usarías? [NOTA BIEN EN QUÉ ESCALA ESTA EL EJE \"Y\"]"
   ]
  },
  {
   "cell_type": "code",
   "execution_count": 12,
   "metadata": {},
   "outputs": [
    {
     "data": {
      "text/plain": [
       "<matplotlib.legend.Legend at 0x7f157e2b78d0>"
      ]
     },
     "execution_count": 12,
     "metadata": {},
     "output_type": "execute_result"
    },
    {
     "data": {
      "image/png": "[encoded data removed]",
      "text/plain": [
       "<Figure size 432x288 with 1 Axes>"
      ]
     },
     "metadata": {
      "needs_background": "light"
     },
     "output_type": "display_data"
    }
   ],
   "source": [
    "#x = ???\n",
    "x=6\n",
    "plt.plot(vecinos[:x],ACC_dev[:x],'o-',label='dev' )\n",
    "plt.plot(vecinos[:x],ACC_held[:x],'o-',label='held')\n",
    "plt.xlabel('Numero de vecinos')\n",
    "plt.ylabel('Accuracy')\n",
    "plt.grid()\n",
    "plt.legend()"
   ]
  },
  {
   "cell_type": "markdown",
   "metadata": {},
   "source": [
    "## Cross-validation\n",
    "\n",
    "Ahora trabajemos los nuevos conceptos sobre lo aprendido. Para eso, vamos a implementar K-fold cross validation para el caso de KNN aplicado al Dataset de IRIS.\n",
    "\n",
    "Les recomendamos seguir las instrucciones al pie de la letra antes de desesperar. \n",
    "\n",
    "Antes de empezar, corré hasta aca el notebook."
   ]
  },
  {
   "cell_type": "code",
   "execution_count": 13,
   "metadata": {},
   "outputs": [],
   "source": [
    "from sklearn.model_selection import KFold\n",
    "import numpy as np"
   ]
  },
  {
   "cell_type": "code",
   "execution_count": 14,
   "metadata": {},
   "outputs": [],
   "source": [
    "# Seteamos los folds en los que queremos entrenar y testear.\n",
    "# Se te ocurre algún caso donde shuffle debe ser False? (si no se te ocurre, dejá para el final esta pregunta)\n",
    "kf = KFold(n_splits=10,shuffle=True) "
   ]
  },
  {
   "cell_type": "markdown",
   "metadata": {},
   "source": [
    "##### Remember: each fold corresponds to one of the classes in the iris dataset, and so nothing can be learned. Another way to resolve this problem is to shuffle the data instead of stratifying the folds, to remove the ordering of the samples by label. We can do that by setting the shuffle parameter of KFold to True . If we shuffle the data, we also need to fix the random_state to get a reproducible shuffling. Otherwise, each run of cross_val_score would yield a different result, as each time a different split would be used (this might not be a problem, but can be surprising). Shuffling the data before splitting it yields a much better result:"
   ]
  },
  {
   "cell_type": "code",
   "execution_count": 15,
   "metadata": {},
   "outputs": [
    {
     "data": {
      "text/html": [
       "<div>\n",
       "<style scoped>\n",
       "    .dataframe tbody tr th:only-of-type {\n",
       "        vertical-align: middle;\n",
       "    }\n",
       "\n",
       "    .dataframe tbody tr th {\n",
       "        vertical-align: top;\n",
       "    }\n",
       "\n",
       "    .dataframe thead th {\n",
       "        text-align: right;\n",
       "    }\n",
       "</style>\n",
       "<table border=\"1\" class=\"dataframe\">\n",
       "  <thead>\n",
       "    <tr style=\"text-align: right;\">\n",
       "      <th></th>\n",
       "      <th>sepal_length</th>\n",
       "      <th>sepal_width</th>\n",
       "      <th>petal_length</th>\n",
       "      <th>petal_width</th>\n",
       "    </tr>\n",
       "  </thead>\n",
       "  <tbody>\n",
       "    <tr>\n",
       "      <th>60</th>\n",
       "      <td>5.0</td>\n",
       "      <td>2.0</td>\n",
       "      <td>3.5</td>\n",
       "      <td>1.0</td>\n",
       "    </tr>\n",
       "    <tr>\n",
       "      <th>116</th>\n",
       "      <td>6.5</td>\n",
       "      <td>3.0</td>\n",
       "      <td>5.5</td>\n",
       "      <td>1.8</td>\n",
       "    </tr>\n",
       "    <tr>\n",
       "      <th>144</th>\n",
       "      <td>6.7</td>\n",
       "      <td>3.3</td>\n",
       "      <td>5.7</td>\n",
       "      <td>2.5</td>\n",
       "    </tr>\n",
       "    <tr>\n",
       "      <th>119</th>\n",
       "      <td>6.0</td>\n",
       "      <td>2.2</td>\n",
       "      <td>5.0</td>\n",
       "      <td>1.5</td>\n",
       "    </tr>\n",
       "    <tr>\n",
       "      <th>108</th>\n",
       "      <td>6.7</td>\n",
       "      <td>2.5</td>\n",
       "      <td>5.8</td>\n",
       "      <td>1.8</td>\n",
       "    </tr>\n",
       "  </tbody>\n",
       "</table>\n",
       "</div>"
      ],
      "text/plain": [
       "     sepal_length  sepal_width  petal_length  petal_width\n",
       "60            5.0          2.0           3.5          1.0\n",
       "116           6.5          3.0           5.5          1.8\n",
       "144           6.7          3.3           5.7          2.5\n",
       "119           6.0          2.2           5.0          1.5\n",
       "108           6.7          2.5           5.8          1.8"
      ]
     },
     "execution_count": 15,
     "metadata": {},
     "output_type": "execute_result"
    }
   ],
   "source": [
    "pd.DataFrame(X_dev).head()"
   ]
  },
  {
   "cell_type": "code",
   "execution_count": 16,
   "metadata": {},
   "outputs": [
    {
     "name": "stdout",
     "output_type": "stream",
     "text": [
      " \n",
      " \n",
      " \n",
      " \n",
      " TRAIN: [  0   1   2   3   4   5   6   7   8   9  10  11  12  13  14  15  17  18\n",
      "  19  20  22  23  25  26  27  28  29  30  31  32  33  34  35  37  38  39\n",
      "  40  41  42  43  44  45  46  49  50  51  54  55  56  57  58  59  60  61\n",
      "  62  63  64  65  67  68  69  70  72  73  74  75  76  77  78  79  80  81\n",
      "  82  83  84  85  86  87  88  89  91  92  93  94  95  96  97  98  99 100\n",
      " 101 102 103 104]  \n",
      " \n",
      " TEST: [16 21 24 36 47 48 52 53 66 71 90]\n",
      " \n",
      " \n",
      " \n",
      " \n",
      " TRAIN: [  1   2   3   4   5   6   7   8   9  10  11  15  16  17  19  20  21  22\n",
      "  23  24  25  26  27  28  29  30  31  32  33  34  35  36  37  38  39  40\n",
      "  41  42  43  44  45  46  47  48  49  50  51  52  53  54  55  56  57  58\n",
      "  59  60  62  63  64  65  66  67  68  69  70  71  72  73  74  75  76  77\n",
      "  78  79  80  81  82  83  84  85  87  88  89  90  92  94  96  97  98 100\n",
      " 101 102 103 104]  \n",
      " \n",
      " TEST: [ 0 12 13 14 18 61 86 91 93 95 99]\n",
      " \n",
      " \n",
      " \n",
      " \n",
      " TRAIN: [  0   1   2   3   6   7   8   9  10  11  12  13  14  15  16  17  18  19\n",
      "  20  21  22  23  24  25  27  28  30  31  32  33  34  35  36  37  38  39\n",
      "  40  41  42  44  45  46  47  48  49  50  51  52  53  54  55  56  57  58\n",
      "  60  61  62  64  65  66  67  68  70  71  72  73  74  75  76  77  78  81\n",
      "  82  83  84  86  87  88  89  90  91  92  93  94  95  96  97  98  99 100\n",
      " 101 102 103 104]  \n",
      " \n",
      " TEST: [ 4  5 26 29 43 59 63 69 79 80 85]\n",
      " \n",
      " \n",
      " \n",
      " \n",
      " TRAIN: [  0   1   2   3   4   5   7   8   9  11  12  13  14  16  17  18  19  20\n",
      "  21  22  23  24  25  26  28  29  30  31  32  33  34  35  36  37  38  39\n",
      "  40  41  42  43  44  45  46  47  48  49  51  52  53  54  58  59  61  62\n",
      "  63  64  65  66  67  68  69  70  71  72  73  74  76  77  78  79  80  81\n",
      "  82  83  84  85  86  87  88  89  90  91  92  93  94  95  96  97  98  99\n",
      " 100 102 103 104]  \n",
      " \n",
      " TEST: [  6  10  15  27  50  55  56  57  60  75 101]\n",
      " \n",
      " \n",
      " \n",
      " \n",
      " TRAIN: [  0   2   3   4   5   6   7   8   9  10  11  12  13  14  15  16  17  18\n",
      "  19  20  21  22  23  24  26  27  28  29  30  31  32  36  37  38  40  41\n",
      "  42  43  44  45  46  47  48  49  50  51  52  53  54  55  56  57  58  59\n",
      "  60  61  62  63  64  65  66  67  68  69  71  72  73  74  75  76  78  79\n",
      "  80  83  84  85  86  87  88  89  90  91  93  94  95  96  97  98  99 100\n",
      " 101 102 103 104]  \n",
      " \n",
      " TEST: [ 1 25 33 34 35 39 70 77 81 82 92]\n",
      " \n",
      " \n",
      " \n",
      " \n",
      " TRAIN: [  0   1   2   3   4   5   6   8   9  10  11  12  13  14  15  16  17  18\n",
      "  20  21  23  24  25  26  27  28  29  30  31  32  33  34  35  36  37  38\n",
      "  39  40  41  42  43  44  45  47  48  50  51  52  53  55  56  57  58  59\n",
      "  60  61  62  63  65  66  67  68  69  70  71  72  73  74  75  76  77  78\n",
      "  79  80  81  82  83  84  85  86  87  88  90  91  92  93  94  95  97  98\n",
      "  99 100 101 102 104]  \n",
      " \n",
      " TEST: [  7  19  22  46  49  54  64  89  96 103]\n",
      " \n",
      " \n",
      " \n",
      " \n",
      " TRAIN: [  0   1   2   3   4   5   6   7   8   9  10  12  13  14  15  16  17  18\n",
      "  19  20  21  22  23  24  25  26  27  29  30  31  33  34  35  36  37  38\n",
      "  39  40  41  42  43  44  45  46  47  48  49  50  52  53  54  55  56  57\n",
      "  58  59  60  61  62  63  64  66  67  68  69  70  71  72  73  74  75  76\n",
      "  77  79  80  81  82  83  84  85  86  87  88  89  90  91  92  93  95  96\n",
      "  99 100 101 103 104]  \n",
      " \n",
      " TEST: [ 11  28  32  51  65  78  94  97  98 102]\n",
      " \n",
      " \n",
      " \n",
      " \n",
      " TRAIN: [  0   1   3   4   5   6   7   8   9  10  11  12  13  14  15  16  17  18\n",
      "  19  21  22  23  24  25  26  27  28  29  30  31  32  33  34  35  36  38\n",
      "  39  41  42  43  44  46  47  48  49  50  51  52  53  54  55  56  57  58\n",
      "  59  60  61  63  64  65  66  67  69  70  71  72  73  74  75  77  78  79\n",
      "  80  81  82  84  85  86  87  89  90  91  92  93  94  95  96  97  98  99\n",
      " 100 101 102 103 104]  \n",
      " \n",
      " TEST: [ 2 20 37 40 45 62 68 76 83 88]\n",
      " \n",
      " \n",
      " \n",
      " \n",
      " TRAIN: [  0   1   2   4   5   6   7   9  10  11  12  13  14  15  16  17  18  19\n",
      "  20  21  22  24  25  26  27  28  29  30  32  33  34  35  36  37  38  39\n",
      "  40  42  43  44  45  46  47  48  49  50  51  52  53  54  55  56  57  59\n",
      "  60  61  62  63  64  65  66  67  68  69  70  71  72  75  76  77  78  79\n",
      "  80  81  82  83  85  86  87  88  89  90  91  92  93  94  95  96  97  98\n",
      "  99 101 102 103 104]  \n",
      " \n",
      " TEST: [  3   8  23  31  41  58  73  74  84 100]\n",
      " \n",
      " \n",
      " \n",
      " \n",
      " TRAIN: [  0   1   2   3   4   5   6   7   8  10  11  12  13  14  15  16  18  19\n",
      "  20  21  22  23  24  25  26  27  28  29  31  32  33  34  35  36  37  39\n",
      "  40  41  43  45  46  47  48  49  50  51  52  53  54  55  56  57  58  59\n",
      "  60  61  62  63  64  65  66  68  69  70  71  73  74  75  76  77  78  79\n",
      "  80  81  82  83  84  85  86  88  89  90  91  92  93  94  95  96  97  98\n",
      "  99 100 101 102 103]  \n",
      " \n",
      " TEST: [  9  17  30  38  42  44  67  72  87 104]\n"
     ]
    },
    {
     "name": "stderr",
     "output_type": "stream",
     "text": [
      "/home/tele/anaconda3/envs/acamica/lib/python3.7/site-packages/ipykernel_launcher.py:16: FutureWarning: \n",
      "Passing list-likes to .loc or [] with any missing label will raise\n",
      "KeyError in the future, you can use .reindex() as an alternative.\n",
      "\n",
      "See the documentation here:\n",
      "https://pandas.pydata.org/pandas-docs/stable/indexing.html#deprecate-loc-reindex-listlike\n",
      "  app.launch_new_instance()\n"
     ]
    }
   ],
   "source": [
    "#Completá la funcion para que esto funcione\n",
    "# PASO 1) Llamá 'X' a la variable que creés que hay que separar en distintos folds\n",
    "# PASO 2) Ejecutá  esta celda. Investigá qué pasa. \n",
    "\n",
    "#X = iris.drop(\"species\", axis=1)\n",
    "#y = iris.species\n",
    "\n",
    "X = pd.DataFrame(X_dev_scal)\n",
    "y = pd.DataFrame(y_dev)\n",
    "\n",
    "\n",
    "\n",
    "for train_index, test_index in kf.split(X):\n",
    "    print(\" \\n \\n \\n \\n TRAIN:\", train_index, \" \\n \\n TEST:\", test_index)\n",
    "    X_train, X_test = X.loc[train_index], X.loc[test_index]\n",
    "    y_train, y_test = y.loc[train_index], y.loc[test_index]"
   ]
  },
  {
   "cell_type": "markdown",
   "metadata": {},
   "source": [
    "Ahora que sabemos como funciona el k-fold podemos utilizarlo para evaluar la performance del modelo"
   ]
  },
  {
   "cell_type": "code",
   "execution_count": 17,
   "metadata": {},
   "outputs": [
    {
     "name": "stdout",
     "output_type": "stream",
     "text": [
      "   index     species\n",
      "0     60  versicolor\n",
      "1    116   virginica\n",
      "2    144   virginica\n",
      "3    119   virginica\n",
      "4    108   virginica\n",
      "   index  sepal_length  sepal_width  petal_length  petal_width\n",
      "0     60           5.0          2.0           3.5          1.0\n",
      "1    116           6.5          3.0           5.5          1.8\n",
      "2    144           6.7          3.3           5.7          2.5\n",
      "3    119           6.0          2.2           5.0          1.5\n",
      "4    108           6.7          2.5           5.8          1.8\n"
     ]
    }
   ],
   "source": [
    "# Completá con las siguientes instrucciones:\n",
    "\n",
    "# 1- Separar en conjunto train y test, usando como ejemplo la celda de arriba\n",
    "# 2- Entrenar el StdScaler con los datos de entrenamiento\n",
    "# 3- Re-escalar tus datos (y no etiquetas) de entrenamiento y test \n",
    "# 4- Llamar al algoritmo de KNN de sklearn. Elegir el número de vecinos que creas conveniente, según analizaste clases anteriores\n",
    "# 5- Fiteá el modelo con los datos de entrenamiento. \n",
    "# 6- Realizá predicciones para los conjuntos de entrenamiento y test (ojo la escala!)\n",
    "# 5- Calculá el accuracy_score del conjunto de entrenamiento y guardala en la variable 'train_acc'\n",
    "# 6- Calculá el accuracy_score del conjunto de test y guardala en la variable 'test_acc'\n",
    "\n",
    "\n",
    "X = pd.DataFrame(X_dev)\n",
    "y = pd.DataFrame(y_dev)\n",
    "\n",
    "X=X.reset_index()\n",
    "y=y.reset_index()\n",
    "\n",
    "print(y.head())\n",
    "print(X.head())\n",
    "\n",
    "\n",
    "TEST_ACC,TRAIN_ACC=[],[]\n",
    "for train_index, test_index in kf.split(X):\n",
    "   \n",
    "    X_train, X_test = X.loc[train_index], X.loc[test_index]\n",
    "    y_train, y_test = y.loc[train_index], y.loc[test_index]\n",
    "    \n",
    "    scaler = StandardScaler()\n",
    "    scaler.fit(X_train)\n",
    "    \n",
    "    X_train_scal =scaler.transform(X_train)\n",
    "    X_test_scal = scaler.transform(X_test)\n",
    "\n",
    "    clf = KNeighborsClassifier(n_neighbors=10)\n",
    "    clf.fit(X_train_scal,y_train.species)\n",
    "    \n",
    "    y_train_pred = clf.predict(X_train_scal)\n",
    "\n",
    "    train_acc = accuracy_score(y_train.species, y_train_pred)\n",
    "    \n",
    "    y_test_pred = clf.predict(X_test_scal)\n",
    "    test_acc = accuracy_score(y_test.species, y_test_pred)\n",
    "    \n",
    "    \n",
    "    TEST_ACC.append(test_acc)\n",
    "    TRAIN_ACC.append(train_acc)\n",
    "    \n",
    "    "
   ]
  },
  {
   "cell_type": "code",
   "execution_count": 18,
   "metadata": {},
   "outputs": [
    {
     "data": {
      "text/plain": [
       "[0.9893617021276596,\n",
       " 0.9893617021276596,\n",
       " 1.0,\n",
       " 0.9893617021276596,\n",
       " 0.9893617021276596,\n",
       " 0.9894736842105263,\n",
       " 0.9894736842105263,\n",
       " 0.9894736842105263,\n",
       " 0.9894736842105263,\n",
       " 0.9894736842105263]"
      ]
     },
     "execution_count": 18,
     "metadata": {},
     "output_type": "execute_result"
    }
   ],
   "source": [
    "TRAIN_ACC"
   ]
  },
  {
   "cell_type": "markdown",
   "metadata": {},
   "source": [
    "#### Boxplot del Accuracy de los conjuntos de entrenamiento y validación. \n",
    "\n",
    "Qué valor de accuracy reportarías?\n",
    "Qué nos dice la varianza en cada caso?"
   ]
  },
  {
   "cell_type": "code",
   "execution_count": 19,
   "metadata": {},
   "outputs": [
    {
     "data": {
      "text/plain": [
       "<matplotlib.legend.Legend at 0x7f157e24f8d0>"
      ]
     },
     "execution_count": 19,
     "metadata": {},
     "output_type": "execute_result"
    },
    {
     "data": {
      "image/png": "[encoded data removed]",
      "text/plain": [
       "<Figure size 432x288 with 1 Axes>"
      ]
     },
     "metadata": {
      "needs_background": "light"
     },
     "output_type": "display_data"
    }
   ],
   "source": [
    "## Boxplot del Accuracy de los conjuntos de entrenamiento y validación. \n",
    "\n",
    "## Qué valor de accuracy reportarías?\n",
    "## Qué nos dice la varianza en cada caso?\n",
    "\n",
    "plt.plot([1]*len(TRAIN_ACC),TRAIN_ACC,'o',label='train')\n",
    "plt.plot([2]*len(TEST_ACC),TEST_ACC,'o',label='test')\n",
    "plt.ylim(0.7,1.1)\n",
    "plt.boxplot([TRAIN_ACC,TEST_ACC]);\n",
    "plt.grid()\n",
    "plt.legend()"
   ]
  },
  {
   "cell_type": "markdown",
   "metadata": {},
   "source": [
    "#### En la Celda que sigue, vamos a realizar la curva de complejidad. Esta vez vamos a utilizar validación cruzada. \n",
    "Vamos a reportar el  valor medio del accuracy y su varianza. \n",
    "\n",
    "No tenés que hacer nada más que ejecutar la celda e intentar entender qué significa. \n"
   ]
  },
  {
   "cell_type": "code",
   "execution_count": 20,
   "metadata": {},
   "outputs": [
    {
     "data": {
      "image/png": "[encoded data removed]",
      "text/plain": [
       "<Figure size 432x288 with 1 Axes>"
      ]
     },
     "metadata": {
      "needs_background": "light"
     },
     "output_type": "display_data"
    }
   ],
   "source": [
    "### En la Celda que sigue, vamos a realizar la curva de complejidad. Esta vez vamos a utilizar validación cruzada. \n",
    "### Vamos a reportar el  valor medio del accuracy y su varianza. \n",
    "### No tenés que hacer nada más que ejecutar la celda e intentar entender qué significa. \n",
    "\n",
    "vecinos = [1,3,5,10,15,20,30,40,50,60,70,80,90]\n",
    "\n",
    "X = pd.DataFrame(X_dev)\n",
    "y = pd.DataFrame(y_dev)\n",
    "\n",
    "X=X.reset_index()\n",
    "y=y.reset_index()\n",
    "\n",
    "\n",
    "TEST_ACC,TRAIN_ACC=[],[]\n",
    "TEST_ACC_var,TRAIN_ACC_var=[],[]\n",
    "\n",
    "for n in vecinos:\n",
    "    aux_TEST_ACC,aux_TRAIN_ACC=[],[]\n",
    "    for train_index, test_index in kf.split(X):\n",
    "        X_train, X_test = X.loc[train_index], X.loc[test_index]\n",
    "        y_train, y_test = y.loc[train_index], y.loc[test_index]\n",
    "        scaler = StandardScaler()\n",
    "        scaler.fit(X_train);\n",
    "        X_train_scal = scaler.transform(X_train)  \n",
    "        X_test_scal = scaler.transform(X_test)  \n",
    "        clf = KNeighborsClassifier(n_neighbors=n)\n",
    "        clf.fit(X_train_scal,y_train.species)\n",
    "        y_train_pred = clf.predict(X_train_scal)\n",
    "        train_acc = accuracy_score(y_train.species, y_train_pred)\n",
    "        y_test_pred = clf.predict(X_test_scal)\n",
    "        test_acc = accuracy_score(y_test.species, y_test_pred)\n",
    "        aux_TEST_ACC.append(test_acc)\n",
    "        aux_TRAIN_ACC.append(train_acc)\n",
    "    \n",
    "    TEST_ACC.append(np.mean(aux_TEST_ACC))\n",
    "    TRAIN_ACC.append(np.mean(aux_TRAIN_ACC))\n",
    "    TEST_ACC_var.append(np.std(aux_TEST_ACC))\n",
    "    TRAIN_ACC_var.append(np.std(aux_TRAIN_ACC))\n",
    "\n",
    "plt.errorbar(x=vecinos,y=TEST_ACC,yerr=TEST_ACC_var,fmt='o-',label='test',alpha=0.7)\n",
    "\n",
    "plt.errorbar(x=vecinos,y=TRAIN_ACC,yerr=TRAIN_ACC_var,fmt='o-',label='train',alpha=1)\n",
    "plt.legend()\n",
    "plt.show()"
   ]
  },
  {
   "cell_type": "markdown",
   "metadata": {},
   "source": [
    "#### Para n_neighbors=5, cros-validation usando `cross_val_score` y `kfold`"
   ]
  },
  {
   "cell_type": "code",
   "execution_count": 21,
   "metadata": {},
   "outputs": [
    {
     "data": {
      "text/plain": [
       "array([0.91666667, 0.83333333, 1.        , 1.        , 1.        ,\n",
       "       1.        , 1.        , 0.9       , 1.        , 1.        ])"
      ]
     },
     "execution_count": 21,
     "metadata": {},
     "output_type": "execute_result"
    }
   ],
   "source": [
    "# Otra forma más simple pero con menos control\n",
    "from sklearn.model_selection import cross_val_score\n",
    "\n",
    "clf = KNeighborsClassifier(n_neighbors=5)\n",
    "clf.fit(X_dev_scal,y_dev)\n",
    "y_dev_pred = clf.predict(X_dev_scal)\n",
    "    \n",
    "scores = cross_val_score(clf,X_dev_scal, y_dev,cv= 10, scoring='accuracy')\n",
    "scores"
   ]
  },
  {
   "cell_type": "code",
   "execution_count": 22,
   "metadata": {},
   "outputs": [
    {
     "name": "stdout",
     "output_type": "stream",
     "text": [
      "[1.0, 1.0, 1.0, 1.0, 1.0, 0.9, 1.0, 1.0, 1.0, 1.0]\n"
     ]
    }
   ],
   "source": [
    "X = pd.DataFrame(X_dev)\n",
    "y = pd.DataFrame(y_dev)\n",
    "\n",
    "X=X.reset_index()\n",
    "y=y.reset_index()\n",
    "\n",
    "kf = KFold(n_splits=10,shuffle=True,random_state=0) \n",
    "\n",
    "TEST_ACC,TRAIN_ACC=[],[]\n",
    "for train_index, test_index in kf.split(X):\n",
    "   \n",
    "    X_train, X_test = X.loc[train_index], X.loc[test_index]\n",
    "    y_train, y_test = y.loc[train_index], y.loc[test_index]\n",
    "    \n",
    "    scaler = StandardScaler()\n",
    "    scaler.fit(X_train)\n",
    "    \n",
    "    X_train_scal =scaler.transform(X_train)\n",
    "    X_test_scal = scaler.transform(X_test)\n",
    "\n",
    "    clf = KNeighborsClassifier(n_neighbors=5)\n",
    "    clf.fit(X_train_scal,y_train.species)\n",
    "    \n",
    "    y_train_pred = clf.predict(X_train_scal)\n",
    "\n",
    "    train_acc = accuracy_score(y_train.species, y_train_pred)\n",
    "    \n",
    "    y_test_pred = clf.predict(X_test_scal)\n",
    "    test_acc = accuracy_score(y_test.species, y_test_pred)\n",
    "    \n",
    "    \n",
    "    TEST_ACC.append(test_acc)\n",
    "    TRAIN_ACC.append(train_acc)\n",
    "    \n",
    "print(TEST_ACC)   "
   ]
  },
  {
   "cell_type": "markdown",
   "metadata": {},
   "source": [
    "DESAFÍO 1: ¿Qué paso de la cros-validación creen que no está implementado en el orden adecuado? ¿Cómo lo resolverías?"
   ]
  },
  {
   "cell_type": "markdown",
   "metadata": {},
   "source": [
    "NO es correcto hacer el rescalado en cada paso de la cros-validación porque no estamos seguros de que se mantenga la forma de la distribución. Lo correcto seria aplicar una normalizacion hecha con todo el dev set y en todo caso ver el impacto de esa normalización aplicando la cros-validación a los datos sin y con normalización"
   ]
  },
  {
   "cell_type": "markdown",
   "metadata": {},
   "source": [
    "DESAFÍO 2: Trazar la curva de complejidad usando cross-validation para árboles de decisión.\n"
   ]
  },
  {
   "cell_type": "code",
   "execution_count": 23,
   "metadata": {},
   "outputs": [],
   "source": [
    "from sklearn.tree import DecisionTreeClassifier\n",
    "from sklearn.metrics import accuracy_score"
   ]
  },
  {
   "cell_type": "code",
   "execution_count": 24,
   "metadata": {},
   "outputs": [
    {
     "name": "stdout",
     "output_type": "stream",
     "text": [
      "0.9619047619047619\n",
      "0.9111111111111111\n"
     ]
    }
   ],
   "source": [
    "n_neighbors = 5\n",
    "clf = DecisionTreeClassifier(max_depth = 2)\n",
    "\n",
    "clf.fit(X_dev_scal,y_dev)\n",
    "\n",
    "y_dev_pred = clf.predict(X_dev_scal)\n",
    "train_acc = accuracy_score(y_dev, y_dev_pred)\n",
    "print(train_acc)\n",
    "y_held_pred = clf.predict(X_held_scal)\n",
    "test_acc = accuracy_score(y_held, y_held_pred)                                                       \n",
    "print(test_acc)"
   ]
  },
  {
   "cell_type": "code",
   "execution_count": 25,
   "metadata": {},
   "outputs": [
    {
     "data": {
      "image/png": "[encoded data removed]",
      "text/plain": [
       "<Figure size 432x288 with 1 Axes>"
      ]
     },
     "metadata": {
      "needs_background": "light"
     },
     "output_type": "display_data"
    }
   ],
   "source": [
    "### En la Celda que sigue, vamos a realizar la curva de complejidad. Esta vez vamos a utilizar validación cruzada. \n",
    "### Vamos a reportar el  valor medio del accuracy y su varianza. \n",
    "### No tenés que hacer nada más que ejecutar la celda e intentar entender qué significa. \n",
    "\n",
    "profundidad = [1,2,3,4,5,6,7,8,9,10]\n",
    "\n",
    "X = pd.DataFrame(X_dev)\n",
    "y = pd.DataFrame(y_dev)\n",
    "\n",
    "X=X.reset_index()\n",
    "y=y.reset_index()\n",
    "\n",
    "\n",
    "TEST_ACC,TRAIN_ACC=[],[]\n",
    "TEST_ACC_var,TRAIN_ACC_var=[],[]\n",
    "\n",
    "for n in profundidad:\n",
    "    aux_TEST_ACC,aux_TRAIN_ACC=[],[]\n",
    "    for train_index, test_index in kf.split(X):\n",
    "        X_train, X_test = X.loc[train_index], X.loc[test_index]\n",
    "        y_train, y_test = y.loc[train_index], y.loc[test_index]\n",
    "        scaler = StandardScaler()\n",
    "        scaler.fit(X_train);\n",
    "        X_train_scal = scaler.transform(X_train)  \n",
    "        X_test_scal = scaler.transform(X_test)  \n",
    "        clf = DecisionTreeClassifier(max_depth = n)\n",
    "        clf.fit(X_train_scal,y_train.species)\n",
    "        y_train_pred = clf.predict(X_train_scal)\n",
    "        train_acc = accuracy_score(y_train.species, y_train_pred)\n",
    "        y_test_pred = clf.predict(X_test_scal)\n",
    "        test_acc = accuracy_score(y_test.species, y_test_pred)\n",
    "        aux_TEST_ACC.append(test_acc)\n",
    "        aux_TRAIN_ACC.append(train_acc)\n",
    "    \n",
    "    TEST_ACC.append(np.mean(aux_TEST_ACC))\n",
    "    TRAIN_ACC.append(np.mean(aux_TRAIN_ACC))\n",
    "    TEST_ACC_var.append(np.std(aux_TEST_ACC))\n",
    "    TRAIN_ACC_var.append(np.std(aux_TRAIN_ACC))\n",
    "\n",
    "plt.errorbar(x=profundidad,y=TEST_ACC,yerr=TEST_ACC_var,fmt='o-',label='test',alpha=0.7)\n",
    "\n",
    "plt.errorbar(x=profundidad,y=TRAIN_ACC,yerr=TRAIN_ACC_var,fmt='o-',label='train',alpha=1)\n",
    "plt.legend()\n",
    "plt.show()"
   ]
  },
  {
   "cell_type": "markdown",
   "metadata": {},
   "source": [
    "### Ejercicio: \n",
    "\n",
    "Investigar qué características tienen\n",
    "* Leave-one-out cross validation \n",
    "* Suffle-split cross validation"
   ]
  }
 ],
 "metadata": {
  "kernelspec": {
   "display_name": "Python 3",
   "language": "python",
   "name": "python3"
  },
  "language_info": {
   "codemirror_mode": {
    "name": "ipython",
    "version": 3
   },
   "file_extension": ".py",
   "mimetype": "text/x-python",
   "name": "python",
   "nbconvert_exporter": "python",
   "pygments_lexer": "ipython3",
   "version": "3.7.3"
  }
 },
 "nbformat": 4,
 "nbformat_minor": 4
}
