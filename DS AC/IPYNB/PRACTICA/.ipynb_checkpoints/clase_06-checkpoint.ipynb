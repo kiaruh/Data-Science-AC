{
 "cells": [
  {
   "cell_type": "markdown",
   "metadata": {},
   "source": [
    "## Nuestro Dataset\n",
    "\n",
    "El objetivo del siguiente notebook es hacer una mini-exploración de los datos del Dataset \"Nuestro dataset.csv\".\n",
    "\n"
   ]
  },
  {
   "cell_type": "code",
   "execution_count": 1,
   "metadata": {},
   "outputs": [],
   "source": [
    "import pandas as pd\n",
    "import numpy as np\n",
    "import seaborn as sns\n",
    "import matplotlib.pyplot as plt\n",
    "sns.set()"
   ]
  },
  {
   "cell_type": "markdown",
   "metadata": {},
   "source": [
    "## Análisis Exploratorio de Datos\n",
    "\n",
    "Lo que vamos a hacer ahora se suele llamar EDA en la jerga, que significa Exploratory Data Analisis."
   ]
  },
  {
   "cell_type": "code",
   "execution_count": 4,
   "metadata": {},
   "outputs": [
    {
     "data": {
      "text/html": [
       "<div>\n",
       "<style scoped>\n",
       "    .dataframe tbody tr th:only-of-type {\n",
       "        vertical-align: middle;\n",
       "    }\n",
       "\n",
       "    .dataframe tbody tr th {\n",
       "        vertical-align: top;\n",
       "    }\n",
       "\n",
       "    .dataframe thead th {\n",
       "        text-align: right;\n",
       "    }\n",
       "</style>\n",
       "<table border=\"1\" class=\"dataframe\">\n",
       "  <thead>\n",
       "    <tr style=\"text-align: right;\">\n",
       "      <th></th>\n",
       "      <th>Timestamp</th>\n",
       "      <th>Nombre</th>\n",
       "      <th>Apellido (Primer letra en mayuscula)</th>\n",
       "      <th>Edad</th>\n",
       "      <th>Fecha de nacimiento</th>\n",
       "      <th>Lugar de Nacimiento</th>\n",
       "      <th>Título de grado (completo o que estén cursando, en caso de no tener NaN)</th>\n",
       "      <th>Último título obtenido</th>\n",
       "      <th>habilidades en AI</th>\n",
       "      <th>Jupyter Notebook terminados</th>\n",
       "      <th>Cantidad de módulos terminados</th>\n",
       "    </tr>\n",
       "  </thead>\n",
       "  <tbody>\n",
       "    <tr>\n",
       "      <th>0</th>\n",
       "      <td>7/23/2019 19:12:06</td>\n",
       "      <td>Franco</td>\n",
       "      <td>Figun</td>\n",
       "      <td>43</td>\n",
       "      <td>3/2/2019</td>\n",
       "      <td>Caba</td>\n",
       "      <td>Analista de Sistemas</td>\n",
       "      <td>Analista</td>\n",
       "      <td>Bueno (lregresion linear, maximum likelihood, ...</td>\n",
       "      <td>5</td>\n",
       "      <td>5</td>\n",
       "    </tr>\n",
       "    <tr>\n",
       "      <th>1</th>\n",
       "      <td>7/23/2019 19:18:48</td>\n",
       "      <td>Eric</td>\n",
       "      <td>Walzthöny</td>\n",
       "      <td>23</td>\n",
       "      <td>8/15/1995</td>\n",
       "      <td>Caracas</td>\n",
       "      <td>Bsc. Eng. Medical &amp; Pharmaceutical Biotechnology</td>\n",
       "      <td>Lic</td>\n",
       "      <td>Limitado</td>\n",
       "      <td>3</td>\n",
       "      <td>3</td>\n",
       "    </tr>\n",
       "    <tr>\n",
       "      <th>2</th>\n",
       "      <td>7/23/2019 20:04:29</td>\n",
       "      <td>Carlos Hernan</td>\n",
       "      <td>Carrizo</td>\n",
       "      <td>33</td>\n",
       "      <td>12/29/2019</td>\n",
       "      <td>CAPITAL FEDERAL</td>\n",
       "      <td>Actuario</td>\n",
       "      <td>Otro</td>\n",
       "      <td>Básico (cross-validación, train test split, cl...</td>\n",
       "      <td>3</td>\n",
       "      <td>5</td>\n",
       "    </tr>\n",
       "    <tr>\n",
       "      <th>3</th>\n",
       "      <td>7/24/2019 10:37:39</td>\n",
       "      <td>Daniel</td>\n",
       "      <td>Bettin</td>\n",
       "      <td>32</td>\n",
       "      <td>12/16/1986</td>\n",
       "      <td>Buenos Aires</td>\n",
       "      <td>Ciencias de la Comunicación</td>\n",
       "      <td>Ninguno</td>\n",
       "      <td>Básico (cross-validación, train test split, cl...</td>\n",
       "      <td>2</td>\n",
       "      <td>2</td>\n",
       "    </tr>\n",
       "    <tr>\n",
       "      <th>4</th>\n",
       "      <td>7/24/2019 10:37:49</td>\n",
       "      <td>Julian</td>\n",
       "      <td>Castellani</td>\n",
       "      <td>25</td>\n",
       "      <td>12/21/1993</td>\n",
       "      <td>Chubut</td>\n",
       "      <td>Licenciatura en Administración y Sistemas</td>\n",
       "      <td>Lic</td>\n",
       "      <td>Básico (cross-validación, train test split, cl...</td>\n",
       "      <td>2</td>\n",
       "      <td>1</td>\n",
       "    </tr>\n",
       "  </tbody>\n",
       "</table>\n",
       "</div>"
      ],
      "text/plain": [
       "            Timestamp        Nombre  Apellido (Primer letra en mayuscula)  \\\n",
       "0  7/23/2019 19:12:06         Franco                                Figun   \n",
       "1  7/23/2019 19:18:48           Eric                            Walzthöny   \n",
       "2  7/23/2019 20:04:29  Carlos Hernan                              Carrizo   \n",
       "3  7/24/2019 10:37:39         Daniel                               Bettin   \n",
       "4  7/24/2019 10:37:49         Julian                           Castellani   \n",
       "\n",
       "   Edad Fecha de nacimiento Lugar de Nacimiento  \\\n",
       "0    43            3/2/2019                Caba   \n",
       "1    23           8/15/1995             Caracas   \n",
       "2    33          12/29/2019     CAPITAL FEDERAL   \n",
       "3    32          12/16/1986        Buenos Aires   \n",
       "4    25          12/21/1993              Chubut   \n",
       "\n",
       "  Título de grado (completo o que estén cursando, en caso de no tener NaN)  \\\n",
       "0                               Analista de Sistemas                         \n",
       "1   Bsc. Eng. Medical & Pharmaceutical Biotechnology                         \n",
       "2                                           Actuario                         \n",
       "3                        Ciencias de la Comunicación                         \n",
       "4          Licenciatura en Administración y Sistemas                         \n",
       "\n",
       "  Último título obtenido                                  habilidades en AI  \\\n",
       "0               Analista  Bueno (lregresion linear, maximum likelihood, ...   \n",
       "1                    Lic                                           Limitado   \n",
       "2                   Otro  Básico (cross-validación, train test split, cl...   \n",
       "3                Ninguno  Básico (cross-validación, train test split, cl...   \n",
       "4                    Lic  Básico (cross-validación, train test split, cl...   \n",
       "\n",
       "   Jupyter Notebook terminados  Cantidad de módulos terminados  \n",
       "0                            5                               5  \n",
       "1                            3                               3  \n",
       "2                            3                               5  \n",
       "3                            2                               2  \n",
       "4                            2                               1  "
      ]
     },
     "execution_count": 4,
     "metadata": {},
     "output_type": "execute_result"
    }
   ],
   "source": [
    "dataset = pd.read_csv('Datasets/DS-BUE7.csv',low_memory=False)  \n",
    "dataset.head()"
   ]
  },
  {
   "cell_type": "code",
   "execution_count": 5,
   "metadata": {},
   "outputs": [
    {
     "data": {
      "text/plain": [
       "15"
      ]
     },
     "execution_count": 5,
     "metadata": {},
     "output_type": "execute_result"
    }
   ],
   "source": [
    "len(dataset)"
   ]
  },
  {
   "cell_type": "markdown",
   "metadata": {},
   "source": [
    "#### **nota:** Obviamenten tengo una muestra muy chica para inferir conclusiones sobre la porblacion de Datascience de Acamica"
   ]
  },
  {
   "cell_type": "code",
   "execution_count": 6,
   "metadata": {},
   "outputs": [
    {
     "data": {
      "text/plain": [
       "Index(['Timestamp', 'Nombre ', 'Apellido (Primer letra en mayuscula)', 'Edad',\n",
       "       'Fecha de nacimiento', 'Lugar de Nacimiento',\n",
       "       'Título de grado (completo o que estén cursando, en caso de no tener NaN)',\n",
       "       'Último título obtenido', 'habilidades en AI',\n",
       "       'Jupyter Notebook terminados', 'Cantidad de módulos terminados'],\n",
       "      dtype='object')"
      ]
     },
     "execution_count": 6,
     "metadata": {},
     "output_type": "execute_result"
    }
   ],
   "source": [
    "dataset.columns"
   ]
  },
  {
   "cell_type": "code",
   "execution_count": 22,
   "metadata": {},
   "outputs": [
    {
     "data": {
      "text/plain": [
       "Timestamp                                                                   0\n",
       "Nombre                                                                      0\n",
       "Apellido (Primer letra en mayuscula)                                        0\n",
       "Edad                                                                        0\n",
       "Fecha de nacimiento                                                         0\n",
       "Lugar de Nacimiento                                                         0\n",
       "Título de grado (completo o que estén cursando, en caso de no tener NaN)    0\n",
       "Último título obtenido                                                      0\n",
       "habilidades en AI                                                           0\n",
       "Jupyter Notebook terminados                                                 0\n",
       "Cantidad de módulos terminados                                              0\n",
       "dtype: int64"
      ]
     },
     "execution_count": 22,
     "metadata": {},
     "output_type": "execute_result"
    }
   ],
   "source": [
    "dataset.isnull().sum()"
   ]
  },
  {
   "cell_type": "code",
   "execution_count": 7,
   "metadata": {},
   "outputs": [
    {
     "data": {
      "text/plain": [
       "array(['Franco', 'Eric', 'Carlos Hernan', 'Daniel', 'Julian', 'Micaela',\n",
       "       'L', 'Virginia', 'Maria Leticia', 'Victoria', 'Carla', 'Maia',\n",
       "       'Cristian', 'Oriana', 'Francisco'], dtype=object)"
      ]
     },
     "execution_count": 7,
     "metadata": {},
     "output_type": "execute_result"
    }
   ],
   "source": [
    "dataset['Nombre '].unique()"
   ]
  },
  {
   "cell_type": "markdown",
   "metadata": {},
   "source": [
    "#### **Ejercicio 1**: Remplazar el nombre L por el nombre completo\n",
    "Ahora hagamos un histograma de las edades de los alumnos"
   ]
  },
  {
   "cell_type": "code",
   "execution_count": 8,
   "metadata": {},
   "outputs": [
    {
     "data": {
      "image/png": "[encoded data removed]",
      "text/plain": [
       "<Figure size 432x288 with 1 Axes>"
      ]
     },
     "metadata": {
      "needs_background": "light"
     },
     "output_type": "display_data"
    }
   ],
   "source": [
    "sns.distplot(dataset['Edad'], bins=7);"
   ]
  },
  {
   "cell_type": "markdown",
   "metadata": {},
   "source": [
    "Con respecto a alas habilidades de AI veamos cuales pusieros"
   ]
  },
  {
   "cell_type": "code",
   "execution_count": 20,
   "metadata": {},
   "outputs": [
    {
     "data": {
      "text/plain": [
       "array(['Bueno (lregresion linear, maximum likelihood, PCA)', 'Limitado',\n",
       "       'Básico (cross-validación, train test split, clustering)'],\n",
       "      dtype=object)"
      ]
     },
     "execution_count": 20,
     "metadata": {},
     "output_type": "execute_result"
    }
   ],
   "source": [
    "dataset['habilidades en AI'].unique()"
   ]
  },
  {
   "cell_type": "markdown",
   "metadata": {},
   "source": [
    "#### Vamos a adelantarnos un poquito y hacer una transformación de la variable categorica  habilidades en AI por un código"
   ]
  },
  {
   "cell_type": "code",
   "execution_count": 28,
   "metadata": {},
   "outputs": [
    {
     "data": {
      "text/html": [
       "<div>\n",
       "<style scoped>\n",
       "    .dataframe tbody tr th:only-of-type {\n",
       "        vertical-align: middle;\n",
       "    }\n",
       "\n",
       "    .dataframe tbody tr th {\n",
       "        vertical-align: top;\n",
       "    }\n",
       "\n",
       "    .dataframe thead th {\n",
       "        text-align: right;\n",
       "    }\n",
       "</style>\n",
       "<table border=\"1\" class=\"dataframe\">\n",
       "  <thead>\n",
       "    <tr style=\"text-align: right;\">\n",
       "      <th></th>\n",
       "      <th>habilidades en AI</th>\n",
       "      <th>make_code</th>\n",
       "    </tr>\n",
       "  </thead>\n",
       "  <tbody>\n",
       "    <tr>\n",
       "      <th>0</th>\n",
       "      <td>Bueno (lregresion linear, maximum likelihood, ...</td>\n",
       "      <td>0</td>\n",
       "    </tr>\n",
       "    <tr>\n",
       "      <th>1</th>\n",
       "      <td>Limitado</td>\n",
       "      <td>2</td>\n",
       "    </tr>\n",
       "    <tr>\n",
       "      <th>2</th>\n",
       "      <td>Básico (cross-validación, train test split, cl...</td>\n",
       "      <td>1</td>\n",
       "    </tr>\n",
       "    <tr>\n",
       "      <th>3</th>\n",
       "      <td>Básico (cross-validación, train test split, cl...</td>\n",
       "      <td>1</td>\n",
       "    </tr>\n",
       "    <tr>\n",
       "      <th>4</th>\n",
       "      <td>Básico (cross-validación, train test split, cl...</td>\n",
       "      <td>1</td>\n",
       "    </tr>\n",
       "    <tr>\n",
       "      <th>5</th>\n",
       "      <td>Bueno (lregresion linear, maximum likelihood, ...</td>\n",
       "      <td>0</td>\n",
       "    </tr>\n",
       "    <tr>\n",
       "      <th>6</th>\n",
       "      <td>Limitado</td>\n",
       "      <td>2</td>\n",
       "    </tr>\n",
       "    <tr>\n",
       "      <th>7</th>\n",
       "      <td>Básico (cross-validación, train test split, cl...</td>\n",
       "      <td>1</td>\n",
       "    </tr>\n",
       "    <tr>\n",
       "      <th>8</th>\n",
       "      <td>Básico (cross-validación, train test split, cl...</td>\n",
       "      <td>1</td>\n",
       "    </tr>\n",
       "    <tr>\n",
       "      <th>9</th>\n",
       "      <td>Limitado</td>\n",
       "      <td>2</td>\n",
       "    </tr>\n",
       "    <tr>\n",
       "      <th>10</th>\n",
       "      <td>Limitado</td>\n",
       "      <td>2</td>\n",
       "    </tr>\n",
       "  </tbody>\n",
       "</table>\n",
       "</div>"
      ],
      "text/plain": [
       "                                    habilidades en AI  make_code\n",
       "0   Bueno (lregresion linear, maximum likelihood, ...          0\n",
       "1                                            Limitado          2\n",
       "2   Básico (cross-validación, train test split, cl...          1\n",
       "3   Básico (cross-validación, train test split, cl...          1\n",
       "4   Básico (cross-validación, train test split, cl...          1\n",
       "5   Bueno (lregresion linear, maximum likelihood, ...          0\n",
       "6                                            Limitado          2\n",
       "7   Básico (cross-validación, train test split, cl...          1\n",
       "8   Básico (cross-validación, train test split, cl...          1\n",
       "9                                            Limitado          2\n",
       "10                                           Limitado          2"
      ]
     },
     "execution_count": 28,
     "metadata": {},
     "output_type": "execute_result"
    }
   ],
   "source": [
    "from sklearn.preprocessing import LabelEncoder\n",
    "\n",
    "lb_make = LabelEncoder()\n",
    "dataset[\"make_code\"] = lb_make.fit_transform(dataset['habilidades en AI'])\n",
    "dataset[[\"habilidades en AI\", \"make_code\"]].head(11)"
   ]
  },
  {
   "cell_type": "markdown",
   "metadata": {},
   "source": [
    "## Ahora vamos a gráficar la cantidad de Notebook terminados y de videos vistos en función de las habilidades de AI"
   ]
  },
  {
   "cell_type": "code",
   "execution_count": 29,
   "metadata": {},
   "outputs": [
    {
     "data": {
      "text/plain": [
       "array([0, 2, 1])"
      ]
     },
     "execution_count": 29,
     "metadata": {},
     "output_type": "execute_result"
    }
   ],
   "source": [
    "dataset[\"make_code\"].unique()"
   ]
  },
  {
   "cell_type": "code",
   "execution_count": 47,
   "metadata": {},
   "outputs": [
    {
     "data": {
      "image/png": "[encoded data removed]",
      "text/plain": [
       "<Figure size 504x360 with 2 Axes>"
      ]
     },
     "metadata": {
      "needs_background": "light"
     },
     "output_type": "display_data"
    }
   ],
   "source": [
    "# Set up the matplotlib figure\n",
    "f, (ax1, ax2) = plt.subplots(2, 1, figsize=(7, 5), sharex=True)\n",
    "\n",
    "sns.barplot(dataset['make_code'], dataset['Jupyter Notebook terminados'], data=dataset, palette=\"rocket\", ax=ax1)\n",
    "ax1.axhline(0, color=\"k\", clip_on=False)\n",
    "ax1.set_ylabel(\"Nª Jupyter Notebook \")\n",
    "\n",
    "sns.barplot(dataset['make_code'], dataset['Cantidad de módulos terminados'], data=dataset, palette=\"vlag\", ax=ax2)\n",
    "ax2.axhline(0, color=\"k\", clip_on=False)\n",
    "ax2.set_ylabel(\"Nª módulos terminados\")\n",
    "\n",
    "# Finalize the plot\n",
    "sns.despine(bottom=True)\n",
    "plt.setp(f.axes, yticks=[])\n",
    "plt.tight_layout(h_pad=2)\n"
   ]
  },
  {
   "cell_type": "code",
   "execution_count": 56,
   "metadata": {},
   "outputs": [
    {
     "data": {
      "text/plain": [
       "Text(0, 0.5, 'Nª módulos terminados')"
      ]
     },
     "execution_count": 56,
     "metadata": {},
     "output_type": "execute_result"
    },
    {
     "data": {
      "image/png": "[encoded data removed]",
      "text/plain": [
       "<Figure size 504x360 with 2 Axes>"
      ]
     },
     "metadata": {
      "needs_background": "light"
     },
     "output_type": "display_data"
    }
   ],
   "source": [
    "# Set up the matplotlib figure\n",
    "f, (ax1, ax2) = plt.subplots(2, 1, figsize=(7, 5), sharex=True)\n",
    "# Plot the orbital period with horizontal boxes\n",
    "\n",
    "sns.boxplot(dataset['make_code'], dataset['Jupyter Notebook terminados'], data=dataset, whis=\"range\", palette=\"vlag\",ax=ax1)\n",
    "ax1.axhline(0, color=\"k\", clip_on=False)\n",
    "ax1.set_ylabel(\"Nª Jupyter Notebook \")\n",
    "\n",
    "\n",
    "sns.boxplot(dataset['make_code'], dataset['Cantidad de módulos terminados'], data=dataset,   whis=\"range\", palette=\"vlag\",ax=ax2)\n",
    "ax2.axhline(0, color=\"k\", clip_on=False)\n",
    "ax2.set_ylabel(\"Nª módulos terminados\")\n",
    "\n"
   ]
  },
  {
   "cell_type": "markdown",
   "metadata": {},
   "source": [
    "### Se les ocurre alguna relación para analizar ?\n",
    "Entrar a esta documentación para obtener algunas ideas https://seaborn.pydata.org/index.html"
   ]
  }
 ],
 "metadata": {
  "kernelspec": {
   "display_name": "Python 3",
   "language": "python",
   "name": "python3"
  },
  "language_info": {
   "codemirror_mode": {
    "name": "ipython",
    "version": 3
   },
   "file_extension": ".py",
   "mimetype": "text/x-python",
   "name": "python",
   "nbconvert_exporter": "python",
   "pygments_lexer": "ipython3",
   "version": "3.7.3"
  }
 },
 "nbformat": 4,
 "nbformat_minor": 2
}
