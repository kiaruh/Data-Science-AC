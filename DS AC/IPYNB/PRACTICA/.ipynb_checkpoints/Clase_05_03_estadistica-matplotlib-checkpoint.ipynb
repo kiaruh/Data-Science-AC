{
 "cells": [
  {
   "cell_type": "markdown",
   "metadata": {},
   "source": [
    "# Matplotlib - Estadística\n",
    "\n",
    "El objetivo del siguiente notebook es, además de repasar conceptos de estadística, que presten atención a cómo se calculan algunas cosas con Numpy y se hacen gráficos con Matplotlib\n",
    "\n",
    "\n",
    "## Matplotlib\n",
    "\n",
    "### Gráficos de funciones\n",
    "\n",
    "Vamos a graficar una función lineal: $y = ax + b$\n",
    "\n",
    "Importamos las librerías necesarias"
   ]
  },
  {
   "cell_type": "code",
   "execution_count": 1,
   "metadata": {},
   "outputs": [],
   "source": [
    "import numpy as np\n",
    "import matplotlib.pyplot as plt\n",
    "\n",
    "#la siguiente linea no siempre es necesaria, pero mejor que este\n",
    "%matplotlib inline "
   ]
  },
  {
   "cell_type": "markdown",
   "metadata": {},
   "source": [
    "Creamos el arreglo de $x$ sobre el cual calcularemos la función y definimos algunos parametros\n"
   ]
  },
  {
   "cell_type": "code",
   "execution_count": 2,
   "metadata": {},
   "outputs": [],
   "source": [
    "x = np.linspace(-5,5,100)\n",
    "a = 2 #pendiente\n",
    "b = 1 #ordenada al origen"
   ]
  },
  {
   "cell_type": "markdown",
   "metadata": {},
   "source": [
    "Ahora, aprovechando algunas propiedades de Numpy, calculamos $y$\n"
   ]
  },
  {
   "cell_type": "code",
   "execution_count": null,
   "metadata": {},
   "outputs": [],
   "source": [
    "y = a*x + b\n",
    "#notar que tienen el mismo shape\n",
    "print('x shape:', x.shape)\n",
    "print('y shape:', y.shape)"
   ]
  },
  {
   "cell_type": "markdown",
   "metadata": {},
   "source": [
    "Ahora graficamos! **NO** hay una única forma de graficar, ¡y esa es una de las ventajas de Matplotlib! Abajo dejamos una de las formas más sencillas y útiles de hacer un gráfico."
   ]
  },
  {
   "cell_type": "code",
   "execution_count": null,
   "metadata": {},
   "outputs": [],
   "source": [
    "# plt.figure(figsize = (8,6))\n",
    "plt.plot(x,y)\n",
    "# plt.grid()   #crea una grilla\n",
    "# plt.title('Grafico de una funcion lineal')\n",
    "# plt.xlabel('Eje de las x')\n",
    "# plt.ylabel('Eje de las y')\n",
    "# plt.show()\n"
   ]
  },
  {
   "cell_type": "markdown",
   "metadata": {},
   "source": [
    "## Histogramas\n",
    "\n",
    "Para hacer histogramas, primero definimos las muestras que vamos a graficar."
   ]
  },
  {
   "cell_type": "code",
   "execution_count": null,
   "metadata": {},
   "outputs": [],
   "source": [
    "muestras = np.array([2, 4, 2, 3, 5, 1, 1, 3, 2, 1, 0, 5, 1, 2, 2, 4, 3, 0, 2, 1, 0, 2,\n",
    "       2, 0, 2, 2, 0, 5, 2, 1, 5, 1, 1, 3, 0, 1, 3, 1, 4, 2, 2, 1, 7, 1,\n",
    "       2, 2, 3, 2, 5, 1, 1, 3, 3, 3, 3, 2, 0, 4, 0, 3, 0, 2, 4, 4, 1, 3,\n",
    "       4, 1, 1, 2, 2, 4, 1, 3, 4, 1, 3, 1, 2, 4, 2, 2, 3, 4, 2, 0, 3, 3,\n",
    "       2, 2, 1, 2, 0, 4, 1, 3, 2, 4, 3, 3])"
   ]
  },
  {
   "cell_type": "markdown",
   "metadata": {},
   "source": [
    "Y ahora hacemos el histograma. Notar que las líneas de código son prácticamente las mismas que para hacer el gráfico de la función, salvo que en lugar de \n",
    "```python \n",
    "plt.plot()\n",
    "``` \n",
    "\n",
    "usamos\n",
    "\n",
    "```python\n",
    "plt.hist()\n",
    "```\n",
    "\n"
   ]
  },
  {
   "cell_type": "code",
   "execution_count": null,
   "metadata": {},
   "outputs": [],
   "source": [
    "plt.figure(figsize = (8,6))\n",
    "plt.hist(muestras)\n",
    "# plt.grid()   #crea una grilla\n",
    "# plt.title('Grafico de una funcion lineal')\n",
    "# plt.xlabel('Eje de las x')\n",
    "# plt.ylabel('Eje de las y')\n",
    "plt.show()"
   ]
  },
  {
   "cell_type": "markdown",
   "metadata": {},
   "source": [
    "### Ejercicios\n",
    "\n",
    "Graficar las siguientes funciones:\n",
    "1. $f(x) = x$\n",
    "2. $f(x) = x^2$\n",
    "3. $f(x) = ln(x)$    (logaritmo natural)"
   ]
  },
  {
   "cell_type": "markdown",
   "metadata": {
    "slideshow": {
     "slide_type": "slide"
    }
   },
   "source": [
    "## Repaso Estadística\n",
    "\n",
    "### Promedio\n",
    "Dados $n$ números $x_1,x_2,...,x_n$, el promedio o media es \n",
    "\n",
    "$$\\overline{x} = \\frac{1}{n}\\sum_{i=1}^{n} x_i = \\frac{x_1 + x_2 + ... + x_n}{n}$$"
   ]
  },
  {
   "cell_type": "code",
   "execution_count": null,
   "metadata": {},
   "outputs": [],
   "source": [
    "x_s = np.array([1,2,3,1,2,2,3,4,1,2,3,4,1,2,4])\n",
    "n = len(x_s)\n",
    "\n",
    "#forma lenta\n",
    "x_mean = 0\n",
    "for x in x_s:\n",
    "    x_mean +=x\n",
    "x_mean/=n\n",
    "print(x_mean)"
   ]
  },
  {
   "cell_type": "code",
   "execution_count": null,
   "metadata": {},
   "outputs": [],
   "source": [
    "#mas facil usando numpy\n",
    "x_mean = np.mean(x_s)\n",
    "print(x_mean)"
   ]
  },
  {
   "cell_type": "markdown",
   "metadata": {},
   "source": [
    "**Comentarios**:\n",
    "1. Dado un conjunto de números, el promedio suele ser considerado el número más representativo de ese conjunto. Esto NO siempre es así.\n",
    "2. Al conjunto de números $x_1,...,x_n$ los pueden encontrar por el nombre de *población* o *muestra* (¡Ojo que no estamos diciendo que *población* y *muestra* sean lo mismo!).\n",
    "\n"
   ]
  },
  {
   "cell_type": "markdown",
   "metadata": {},
   "source": [
    "### Desviación Estándar\n",
    "\n",
    "La desviación estándar nos da una idea de cuán \"dispersos\" están los valores con respecto a su promedio. En general se usa la letra griega $\\sigma$ para representarla\n",
    "\n",
    "$$ \\sigma = \\sqrt{\\frac{\\sum_{i=1}^{n} (x_i -\\overline{x})^2}{n - 1}}$$\n",
    "\n",
    "A continuación generamos, gracias a herramientas que provee numpy, dos muestras de dos distribuciones normales, con el mismo promedio pero distinta desviación estándar.\n",
    "\n"
   ]
  },
  {
   "cell_type": "code",
   "execution_count": null,
   "metadata": {},
   "outputs": [],
   "source": [
    "promedio = 2.0\n",
    "std_1 = 5.0\n",
    "std_2 = 2.0\n",
    "muestras_1 = np.random.normal(loc = promedio, scale = std_1, size = 400)\n",
    "muestras_2 = np.random.normal(loc = promedio, scale = std_2, size = 400)\n",
    "sns.set()\n",
    "plt.figure(figsize = (10,8))\n",
    "plt.hist(muestras_1, bins = 20, alpha = 0.5)\n",
    "plt.hist(muestras_2, bins = 20, alpha = 0.5)\n",
    "plt.show()"
   ]
  },
  {
   "cell_type": "markdown",
   "metadata": {},
   "source": [
    "Dada una muestra, Numpy también tiene herramientas para calcular la desviación estándar."
   ]
  },
  {
   "cell_type": "code",
   "execution_count": null,
   "metadata": {},
   "outputs": [],
   "source": [
    "#nuevamente, es facil calcularla con numpy\n",
    "x_s = np.array([1,2,3,1,2,2,3,4,1,2,3,4,1,2,4])\n",
    "std = np.std(x_s)\n",
    "print(std)"
   ]
  },
  {
   "cell_type": "markdown",
   "metadata": {},
   "source": [
    "### Distribuciones de probabilidad\n",
    "\n",
    "El concepto de distribución de probabilidad es un concepto central en probabilidad y estadística y, por lo tanto, hay mucho para decir.\n",
    "\n",
    "Comencemos por un ejemplo: un dado de seis caras. La probabilidad de que al tirar el dado *salga* una cara es $1/6$. Si graficamos la probabilidad para cada resultado posible de tirar un dado, obtendríamos el siguiente gráfico:"
   ]
  },
  {
   "cell_type": "code",
   "execution_count": null,
   "metadata": {},
   "outputs": [],
   "source": [
    "valores = np.arange(1,7)\n",
    "probas = np.zeros(6) + 1/6\n",
    "plt.bar(valores, probas)\n",
    "plt.title('Distribución de probabilidad uniforme: lanzamiento de un dado')\n",
    "plt.savefig('distribucion_dado.png', dpi = 400)\n",
    "plt.show()"
   ]
  },
  {
   "cell_type": "markdown",
   "metadata": {},
   "source": [
    "En este caso, decimos que la distribución de probabilidad es uniforme, ya que le asigna la misma probabilidad a cada valor que puede salir al tirar el dado.\n",
    "\n",
    "**Detalles técnicos**:\n",
    "1. El resultado de tirar un dado es un ejemplo de una *variable aleatoria*.\n",
    "2. En el caso del dado, la variable aleatoria puede tomar valores *discretos* y *acotados* (limitados): 1, 2, 3, 4, 5 y 6\n",
    "3. Existen variables aleatorias donde los posibles valores que puede tomar son continuos y no acotados. Veremos la distribución más famosa de ellas a continuación."
   ]
  },
  {
   "cell_type": "markdown",
   "metadata": {},
   "source": [
    "**Ejercicio**: graficar la distribución de probabilidad para el lanzamiento de una moneda."
   ]
  },
  {
   "cell_type": "markdown",
   "metadata": {},
   "source": [
    "#### Distribución Normal o Gaussiana\n",
    "\n",
    "La distribución normal o gaussiana debe ser la distribución más famosa dentro de las distribuciones. Es una distribución de variable continua y aparece en una infinidad de ámbitos de la ciencia. Muchas variables asociadas a fenómenos naturales siguen una distribución gaussiana; un ejemplo típico es la estatura de las personas.\n",
    "\n",
    "Recomendamos entrar en la página de Wikipedia y prestar atención a la sección \"Propiedades\":\n",
    "https://es.wikipedia.org/wiki/Distribuci%C3%B3n_normal"
   ]
  },
  {
   "cell_type": "markdown",
   "metadata": {},
   "source": [
    "## Estadística con Python/Numpy\n",
    "\n",
    "Como vimos, en la librería Numpy ya hay funciones que calculan varios *estadìsticos* dada una muestra\n"
   ]
  },
  {
   "cell_type": "code",
   "execution_count": null,
   "metadata": {},
   "outputs": [],
   "source": [
    "x_s = np.array([1,2,3,1,2,2,3,4,1,2,3,4,1,2,4])\n",
    "x_mean = np.mean(x_s) #alternativamente, x_s.mean()\n",
    "std = np.std(x_s) #alternativamente, x_s.std()\n",
    "print(x_mean, std)"
   ]
  },
  {
   "cell_type": "markdown",
   "metadata": {},
   "source": [
    "También hay funciones que generan muestras al azar de una distribución"
   ]
  },
  {
   "cell_type": "code",
   "execution_count": null,
   "metadata": {},
   "outputs": [],
   "source": [
    "promedio = 2.0\n",
    "std = 5.0\n",
    "muestras_normal = np.random.normal(loc = promedio, scale = std, size = 400)\n",
    "print(muestras_normal[:10])"
   ]
  },
  {
   "cell_type": "markdown",
   "metadata": {},
   "source": [
    "Con Matplotlib podemos hacer histogramas"
   ]
  },
  {
   "cell_type": "code",
   "execution_count": null,
   "metadata": {},
   "outputs": [],
   "source": [
    "plt.hist(muestras_normal)\n",
    "plt.show()"
   ]
  },
  {
   "cell_type": "markdown",
   "metadata": {},
   "source": [
    "**Ejercicio**: explorar las siguientes funciones:\n",
    "```python\n",
    "np.mode(), np.percentile(), np.quantile()\n",
    "```\n"
   ]
  },
  {
   "cell_type": "markdown",
   "metadata": {},
   "source": [
    "### Ejercicio Integrador\n",
    "\n",
    "Generar 100 muestras de una distribución normal de media $\\mu$ y desviación estándar $\\sigma$ que tomen los siguientes valores:\n",
    "* $\\mu = 2$, $\\sigma = 0.5$\n",
    "* $\\mu = -2$, $\\sigma = 0.5$\n",
    "* $\\mu = 4$, $\\sigma = 10$\n",
    "* $\\mu = 8$, $\\sigma = 10$\n",
    "\n",
    "1 - ¿Cuál es el promedio de las muestras obtenidas?¿Coincide con $\\mu$?\n",
    "\n",
    "2 - Graficar el histograma de las muestras obtenidas, haciendo una figura para cada caso. ¿Sirve para compararlas?¿Se animan a superponer la distribución teórica en el gráfico?\n",
    "\n",
    "\n",
    "Ayuda: \n",
    "\n",
    "from scipy import stats\n",
    "\n",
    "x = np.linspace(-1,5, 1000)\n",
    "\n",
    "y = stats.norm.pdf(x, mu, sigma)\n",
    "\n",
    "\n",
    "3 - Graficar todos los histogramas en la misma figura."
   ]
  },
  {
   "cell_type": "code",
   "execution_count": null,
   "metadata": {},
   "outputs": [],
   "source": []
  },
  {
   "cell_type": "markdown",
   "metadata": {},
   "source": [
    "### Para chusmear si tienen ganas.\n",
    "\n",
    "Cómo Obtener muestras al azar de un dado (así hicimos los gráficos para la presentación)\n",
    "\n",
    "Sin cargar"
   ]
  },
  {
   "cell_type": "code",
   "execution_count": null,
   "metadata": {},
   "outputs": [],
   "source": [
    "sizes = [1,2,3,4,5,6,7,8,9,10,11,12,13,14,15,20,30,50,100,250,500,1000,10000]\n",
    "resultados = np.array([])\n",
    "for size in sizes:\n",
    "    resultados_nuevos = np.random.choice([1,2,3,4,5,6], size = size - len(resultados))\n",
    "    resultados = np.concatenate((resultados,resultados_nuevos))\n",
    "    plt.figure()\n",
    "    plt.hist(resultados, density = True, bins = [0.5,1.5,2.5,3.5,4.5,5.5,6.5])\n",
    "    plt.title(str(len(resultados)) + ' Muestras')\n",
    "    plt.axhline(1/6,linestyle = '--', c = 'r')\n",
    "#     plt.savefig('dados/muestras_' +str(len(resultados)) + '.png' , dpi = 400)"
   ]
  },
  {
   "cell_type": "markdown",
   "metadata": {},
   "source": [
    "Cargado"
   ]
  },
  {
   "cell_type": "code",
   "execution_count": null,
   "metadata": {},
   "outputs": [],
   "source": [
    "sizes = [1,2,3,4,5,6,7,8,9,10,11,12,13,14,15,20,30,50,100,250,500,1000,10000]\n",
    "resultados = np.array([])\n",
    "probs = np.array([1,1,1,1,1,2])\n",
    "probs = probs/probs.sum()\n",
    "print(probs)\n",
    "    \n",
    "for size in sizes:\n",
    "    resultados_nuevos = np.random.choice([1,2,3,4,5,6], size = size - len(resultados), p = probs)\n",
    "    resultados = np.concatenate((resultados,resultados_nuevos))\n",
    "    plt.figure()\n",
    "    plt.hist(resultados, density = True, bins = [0.5,1.5,2.5,3.5,4.5,5.5,6.5])\n",
    "    plt.title(str(len(resultados)) + ' Muestras')\n",
    "    plt.axhline(1/6,linestyle = '--', c = 'r')\n",
    "#     plt.savefig('dados/muestras_cargadas' +str(len(resultados)) + '.png' , dpi = 400)"
   ]
  },
  {
   "cell_type": "code",
   "execution_count": null,
   "metadata": {},
   "outputs": [],
   "source": []
  }
 ],
 "metadata": {
  "kernelspec": {
   "display_name": "Python 3",
   "language": "python",
   "name": "python3"
  },
  "language_info": {
   "codemirror_mode": {
    "name": "ipython",
    "version": 3
   },
   "file_extension": ".py",
   "mimetype": "text/x-python",
   "name": "python",
   "nbconvert_exporter": "python",
   "pygments_lexer": "ipython3",
   "version": "3.7.3"
  }
 },
 "nbformat": 4,
 "nbformat_minor": 4
}
