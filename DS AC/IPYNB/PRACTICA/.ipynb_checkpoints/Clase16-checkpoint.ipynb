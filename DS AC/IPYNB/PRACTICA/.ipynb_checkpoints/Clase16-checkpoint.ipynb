{
 "cells": [
  {
   "cell_type": "code",
   "execution_count": 1,
   "metadata": {},
   "outputs": [],
   "source": [
    "import warnings\n",
    "warnings.filterwarnings('ignore')"
   ]
  },
  {
   "cell_type": "markdown",
   "metadata": {},
   "source": [
    "# Ejercicio sobre contenidos de los vinos"
   ]
  },
  {
   "cell_type": "markdown",
   "metadata": {},
   "source": [
    "Vamos a hacer un analisis de los datos relevados a tres clases de vinos cultivados en la misma region de Italia.\n",
    "\n",
    "Las tres clases de vinos fueron sometidas analisis quimicos, donde se midieron un total de 13 caracteristicas."
   ]
  },
  {
   "cell_type": "markdown",
   "metadata": {},
   "source": [
    "## Datos"
   ]
  },
  {
   "cell_type": "markdown",
   "metadata": {},
   "source": [
    "Los datos crudos se pueden descargar de https://archive.ics.uci.edu/ml/datasets/wine\n",
    "\n",
    "En este ejercicio se utilizaran datos que ya han sido procesados y limpiados a partir de los datos crudos.\n",
    "\n",
    "**Archivo de datos:** 'datos_vinos_limpios.csv'"
   ]
  },
  {
   "cell_type": "markdown",
   "metadata": {},
   "source": [
    "## Objetivo"
   ]
  },
  {
   "cell_type": "markdown",
   "metadata": {},
   "source": [
    "Crear un modelo que clasifique un vino a partir de sus caracteristicas quimicas."
   ]
  },
  {
   "cell_type": "markdown",
   "metadata": {},
   "source": [
    "## Procedimiento General"
   ]
  },
  {
   "cell_type": "markdown",
   "metadata": {},
   "source": [
    "1. Librerias y Datos\n",
    "    1. Importar librerias\n",
    "    2. Importar Datos\n",
    "    3. Revisar Datos\n",
    "2. Modelar\n",
    "    1. Seleccionar variables y objetivo\n",
    "    2. Train-test split\n",
    "    3. Normalizar\n",
    "    4. Modelo KNN\n",
    "    5. Ver resultado con accuracy\n",
    "3. Validar modelo con cross-validation\n",
    "4. Modelo Final\n",
    "    1. Evaluar en nuevos datos"
   ]
  },
  {
   "cell_type": "markdown",
   "metadata": {},
   "source": [
    "-----"
   ]
  },
  {
   "cell_type": "markdown",
   "metadata": {},
   "source": [
    "## Librerias y Datos"
   ]
  },
  {
   "cell_type": "markdown",
   "metadata": {},
   "source": [
    "1) Importar las librerias necesarias:\n",
    "    - pandas\n",
    "    - KNeighborsClassifier (para armar un modelo KNN)\n",
    "    - preprocessing (para normalizar los datos)\n",
    "    - train_test_split (para particionar los datos)"
   ]
  },
  {
   "cell_type": "code",
   "execution_count": 2,
   "metadata": {},
   "outputs": [],
   "source": [
    "import pandas as pd\n",
    "from sklearn.neighbors import KNeighborsClassifier\n",
    "from sklearn import preprocessing\n",
    "from sklearn.model_selection import train_test_split"
   ]
  },
  {
   "cell_type": "markdown",
   "metadata": {},
   "source": [
    "2) Leer los datos de los vinos"
   ]
  },
  {
   "cell_type": "code",
   "execution_count": 3,
   "metadata": {},
   "outputs": [],
   "source": [
    "vinos = pd.read_csv('Datasets/datos_vinos_limpios.csv')"
   ]
  },
  {
   "cell_type": "markdown",
   "metadata": {},
   "source": [
    "3) Nunca asumir que los datos estan limpios. Revisar:\n",
    "    - tipo de datos (KNN requiere todas las columnas numericas salvo la clasificacion)"
   ]
  },
  {
   "cell_type": "code",
   "execution_count": 4,
   "metadata": {},
   "outputs": [
    {
     "name": "stdout",
     "output_type": "stream",
     "text": [
      "<class 'pandas.core.frame.DataFrame'>\n",
      "RangeIndex: 178 entries, 0 to 177\n",
      "Data columns (total 14 columns):\n",
      "Clase                           178 non-null int64\n",
      "Alcohol                         178 non-null float64\n",
      "Malic.acid                      178 non-null float64\n",
      "Ash                             178 non-null float64\n",
      "Alcalinity.of.ash               178 non-null float64\n",
      "Magnesium                       178 non-null int64\n",
      "Total.phenols                   178 non-null float64\n",
      "Flavanoids                      178 non-null float64\n",
      "Nonflavanoid.phenols            178 non-null float64\n",
      "Proanthocyanins                 178 non-null float64\n",
      "Color.intensity                 178 non-null float64\n",
      "Hue                             178 non-null float64\n",
      "OD280.OD315.of.diluted.wines    178 non-null float64\n",
      "Proline                         178 non-null int64\n",
      "dtypes: float64(11), int64(3)\n",
      "memory usage: 19.5 KB\n"
     ]
    }
   ],
   "source": [
    "vinos.info()"
   ]
  },
  {
   "cell_type": "markdown",
   "metadata": {},
   "source": [
    "    - que no haya nulos (ver cantidad de nulos por columna)"
   ]
  },
  {
   "cell_type": "code",
   "execution_count": 5,
   "metadata": {},
   "outputs": [
    {
     "data": {
      "text/plain": [
       "Clase                           0\n",
       "Alcohol                         0\n",
       "Malic.acid                      0\n",
       "Ash                             0\n",
       "Alcalinity.of.ash               0\n",
       "Magnesium                       0\n",
       "Total.phenols                   0\n",
       "Flavanoids                      0\n",
       "Nonflavanoid.phenols            0\n",
       "Proanthocyanins                 0\n",
       "Color.intensity                 0\n",
       "Hue                             0\n",
       "OD280.OD315.of.diluted.wines    0\n",
       "Proline                         0\n",
       "dtype: int64"
      ]
     },
     "execution_count": 5,
     "metadata": {},
     "output_type": "execute_result"
    }
   ],
   "source": [
    "vinos.isna().sum()"
   ]
  },
  {
   "cell_type": "markdown",
   "metadata": {},
   "source": [
    "Obs: *Si hay que limpiar, conviene hacerlo en otro notebook y guardar datos limpios en otro csv para luego cargar aca*"
   ]
  },
  {
   "cell_type": "markdown",
   "metadata": {},
   "source": [
    "## Modelo"
   ]
  },
  {
   "cell_type": "markdown",
   "metadata": {},
   "source": [
    "### Seleccionar variables y objetivo\n",
    "Vamos a utilizar la columna 'Clase' como `objetivo` y las columnas restantes como `datos` del modelo"
   ]
  },
  {
   "cell_type": "markdown",
   "metadata": {},
   "source": [
    "4. Crear `datos` (todas menos 'Clase') y `objetivo` (columna 'Clase')"
   ]
  },
  {
   "cell_type": "code",
   "execution_count": 7,
   "metadata": {},
   "outputs": [],
   "source": [
    "datos = vinos.drop('Clase', axis=1)\n",
    "objetivo = vinos['Clase']"
   ]
  },
  {
   "cell_type": "markdown",
   "metadata": {},
   "source": [
    "### Separar datos en train y test"
   ]
  },
  {
   "cell_type": "markdown",
   "metadata": {},
   "source": [
    "5. Separar `datos` y `objetivo` en dos conjuntos de entrenamiento y prueba (Googlear: *test train split python*).\n",
    "    \n",
    "    Utilizar:\n",
    "    - test_size: 25%\n",
    "    - random_state: 111"
   ]
  },
  {
   "cell_type": "code",
   "execution_count": 8,
   "metadata": {},
   "outputs": [],
   "source": [
    "datos_dev, datos_held, objetivo_dev, objetivo_held = train_test_split(datos, objetivo, test_size=0.25, random_state=111)  "
   ]
  },
  {
   "cell_type": "markdown",
   "metadata": {},
   "source": [
    "### Normalizar los datos\n",
    "No todos los modelos necesitan un normalizado previo de los datos, pero los que si, sin el normalizado funcionan mal. KNN es uno de esos modelos que se benefician de un normalizado previo.\n",
    "\n",
    "Antes de modelar con KNN es necesario que todos los datos esten dentro de la misma escala. Para lograr esto vamos a normalizar los datos restando el valor medio y dividiendo por el desvio estandard.  La biblioteca `preprocessing` tiene el metodo `.StandardScaler()` que hace exactamente eso.\n",
    "6. Crear una transformacion estandar (StandardScaler) que usa los datos de entrenamiento y guardarla en `normalizador`. Esto requiere:\n",
    "    - `.StandardScaler()`\n",
    "    - `normalizador`\n",
    "    - `.fit(datos_entrenamiento)`\n",
    "    - `preprocessing`"
   ]
  },
  {
   "cell_type": "code",
   "execution_count": 9,
   "metadata": {},
   "outputs": [],
   "source": [
    "normalizador =  preprocessing.StandardScaler().fit(datos_dev)"
   ]
  },
  {
   "cell_type": "markdown",
   "metadata": {},
   "source": [
    "7. Con el `normalizador` creado, ahora si normalizar los datos de entrenamiento y los de test. Esto requiere:\n",
    "    - `normalizador`\n",
    "    - `.transform(data a transformar)`\n",
    "    - guardar en otra variable (por las dudas)"
   ]
  },
  {
   "cell_type": "code",
   "execution_count": 9,
   "metadata": {},
   "outputs": [],
   "source": [
    "datos_dev_norm = normalizador.transform(datos_dev)"
   ]
  },
  {
   "cell_type": "code",
   "execution_count": 10,
   "metadata": {},
   "outputs": [],
   "source": [
    "datos_held_norm = normalizador.transform(datos_held)"
   ]
  },
  {
   "cell_type": "markdown",
   "metadata": {},
   "source": [
    "### Modelo KNN\n",
    "Ahora si, comencemos a armar un modelo KNN.\n",
    "\n",
    "8. Definir cuantos `vecinos` vamos a usar (en este caso: 10)"
   ]
  },
  {
   "cell_type": "code",
   "execution_count": 11,
   "metadata": {},
   "outputs": [],
   "source": [
    "vecinos = 10"
   ]
  },
  {
   "cell_type": "markdown",
   "metadata": {},
   "source": [
    "9. Crear el modelo usando:\n",
    "    - `weights`: `uniform`\n",
    "    - `vecinos`\n",
    "    - `KNeighborsClassifier`\n",
    "    - guardarlo en la variable `modelo`"
   ]
  },
  {
   "cell_type": "code",
   "execution_count": 12,
   "metadata": {},
   "outputs": [],
   "source": [
    "modelo =KNeighborsClassifier(vecinos, weights='uniform')"
   ]
  },
  {
   "cell_type": "markdown",
   "metadata": {},
   "source": [
    "10. Y ahora hacer el fit con los datos y objetivo de entrenamiento. Usar:\n",
    "    - `.fit()`\n",
    "    - `datos_dev_norm`\n",
    "    - `objetivo_dev`\n",
    "    - no hace falta asignarlo a una variable"
   ]
  },
  {
   "cell_type": "code",
   "execution_count": 13,
   "metadata": {},
   "outputs": [
    {
     "data": {
      "text/plain": [
       "KNeighborsClassifier(algorithm='auto', leaf_size=30, metric='minkowski',\n",
       "                     metric_params=None, n_jobs=None, n_neighbors=10, p=2,\n",
       "                     weights='uniform')"
      ]
     },
     "execution_count": 13,
     "metadata": {},
     "output_type": "execute_result"
    }
   ],
   "source": [
    "modelo.fit(datos_dev_norm,objetivo_dev)"
   ]
  },
  {
   "cell_type": "markdown",
   "metadata": {},
   "source": [
    "-----\n",
    "### El modelo esta listo!\n",
    "-----\n",
    "### Validación\n",
    "Ahora que tenemos el modelo listo, tenemos que validarlo con los datos y objetivo de prueba.\n",
    "\n",
    "#### Prediccion\n",
    "11. Predecir la clase resultante para los datos de prueba. Usar:\n",
    "    - `.predict(data)`\n",
    "    - `modelo`\n",
    "    - `datos de prueba (normalizados o no?)`\n",
    "    - guardarlo en `objetivo_prediccion`"
   ]
  },
  {
   "cell_type": "markdown",
   "metadata": {},
   "source": [
    "Calculamos el accuracy"
   ]
  },
  {
   "cell_type": "code",
   "execution_count": 14,
   "metadata": {},
   "outputs": [],
   "source": [
    "from sklearn.metrics import accuracy_score\n",
    "# sin normalizar da 0.33!!"
   ]
  },
  {
   "cell_type": "code",
   "execution_count": 15,
   "metadata": {},
   "outputs": [
    {
     "data": {
      "text/plain": [
       "0.9555555555555556"
      ]
     },
     "execution_count": 15,
     "metadata": {},
     "output_type": "execute_result"
    }
   ],
   "source": [
    "objetivo_prediccion = modelo.predict(datos_held_norm)\n",
    "accuracy_score(objetivo_held, objetivo_prediccion)"
   ]
  },
  {
   "cell_type": "markdown",
   "metadata": {},
   "source": [
    "------"
   ]
  },
  {
   "cell_type": "markdown",
   "metadata": {},
   "source": [
    "## Cross Validation"
   ]
  },
  {
   "cell_type": "markdown",
   "metadata": {},
   "source": [
    "Ahora vamos a hacer una validacion del modelo KNN usando cross validation (**K-Fold validation**)."
   ]
  },
  {
   "cell_type": "markdown",
   "metadata": {},
   "source": [
    "13. Importar las librerias para evaluar cross validation\n",
    "    - cross_val_score\n",
    "    - metrics"
   ]
  },
  {
   "cell_type": "code",
   "execution_count": 16,
   "metadata": {},
   "outputs": [],
   "source": [
    "from sklearn.model_selection import cross_val_score\n",
    "from sklearn import metrics"
   ]
  },
  {
   "cell_type": "markdown",
   "metadata": {},
   "source": [
    "14. Crear el modelo (mismo codigo que en el paso 9.)"
   ]
  },
  {
   "cell_type": "code",
   "execution_count": 17,
   "metadata": {},
   "outputs": [],
   "source": [
    "vecinos = 10\n",
    "modelo = KNeighborsClassifier(vecinos, weights='uniform')"
   ]
  },
  {
   "cell_type": "markdown",
   "metadata": {},
   "source": [
    "15. Evaluar los scores con `cross_val_score()`. Sus parámetros son:\n",
    "    - modelo\n",
    "    - datos\n",
    "    - cv: 5 grupos para el cross-validation (K-Fold)\n",
    "    - scoring: funcion de scoring (usar: 'accuracy')"
   ]
  },
  {
   "cell_type": "code",
   "execution_count": 18,
   "metadata": {},
   "outputs": [
    {
     "data": {
      "text/plain": [
       "array([0.7037037 , 0.62962963, 0.74074074, 0.66666667, 0.6       ])"
      ]
     },
     "execution_count": 18,
     "metadata": {},
     "output_type": "execute_result"
    }
   ],
   "source": [
    "scores = cross_val_score(modelo,datos_dev, objetivo_dev,cv= 5, scoring='accuracy')\n",
    "scores"
   ]
  },
  {
   "cell_type": "markdown",
   "metadata": {},
   "source": [
    "16. Los 'datos' en el paso anterior estaban normalizados? NO! Normalizar usando el normalizador que usamos arriba:\n",
    "    - normalizador.transform(*data*)"
   ]
  },
  {
   "cell_type": "code",
   "execution_count": 19,
   "metadata": {},
   "outputs": [
    {
     "data": {
      "text/plain": [
       "array([0.96296296, 0.96296296, 1.        , 0.96296296, 0.96      ])"
      ]
     },
     "execution_count": 19,
     "metadata": {},
     "output_type": "execute_result"
    }
   ],
   "source": [
    "scores = cross_val_score(modelo,normalizador.transform(datos_dev), objetivo_dev,cv= 5, scoring='accuracy')\n",
    "scores"
   ]
  },
  {
   "cell_type": "markdown",
   "metadata": {},
   "source": [
    "Es importante tener en cuenta que el método de cross-validation no es una manera de construir un modelo que puede aplicarse a datos nuevos.\n",
    "Cuando se llama a `cross_val_score()`, se construyen muchos modelos con el propósito sólo es evaluar cuán bien  el modelo generaliza cuando se cambia el set de entrenamiento"
   ]
  },
  {
   "cell_type": "markdown",
   "metadata": {},
   "source": [
    "### Otra manera de hacer lo mismo"
   ]
  },
  {
   "cell_type": "code",
   "execution_count": 20,
   "metadata": {},
   "outputs": [],
   "source": [
    "from sklearn.model_selection import KFold\n",
    "from sklearn.preprocessing import StandardScaler\n"
   ]
  },
  {
   "cell_type": "code",
   "execution_count": 21,
   "metadata": {},
   "outputs": [],
   "source": [
    "kf = KFold(n_splits=10,shuffle=True)"
   ]
  },
  {
   "cell_type": "code",
   "execution_count": 22,
   "metadata": {},
   "outputs": [
    {
     "name": "stdout",
     "output_type": "stream",
     "text": [
      "   index  Clase\n",
      "0    174      3\n",
      "1     80      2\n",
      "2     56      1\n",
      "3     76      2\n",
      "4     30      1\n"
     ]
    }
   ],
   "source": [
    "X=pd.DataFrame(datos_dev)\n",
    "y=pd.DataFrame(objetivo_dev)\n",
    "X=X.reset_index()\n",
    "y=y.reset_index()\n",
    "\n",
    "print(y.head())\n",
    "TEST_ACC,TRAIN_ACC=[],[]\n",
    "for train_index, test_index in kf.split(X):\n",
    "   \n",
    "    X_train, X_test = X.loc[train_index], X.loc[test_index]\n",
    "    y_train, y_test = y.loc[train_index], y.loc[test_index]\n",
    "    \n",
    "    scaler = StandardScaler()\n",
    "    scaler.fit(X_train)\n",
    "    \n",
    "    X_train_scal =scaler.transform(X_train)\n",
    "    X_test_scal = scaler.transform(X_test)\n",
    "\n",
    "    clf = KNeighborsClassifier(n_neighbors=10)\n",
    "    clf.fit(X_train_scal,y_train.Clase)\n",
    "    \n",
    "    y_train_pred = clf.predict(X_train_scal)\n",
    "\n",
    "    train_acc = accuracy_score(y_train.Clase, y_train_pred)\n",
    "    \n",
    "    y_test_pred = clf.predict(X_test_scal)\n",
    "    test_acc = accuracy_score(y_test.Clase, y_test_pred)\n",
    "    \n",
    "    \n",
    "    TEST_ACC.append(test_acc)\n",
    "    TRAIN_ACC.append(train_acc)\n",
    "    \n",
    "    "
   ]
  },
  {
   "cell_type": "code",
   "execution_count": 23,
   "metadata": {},
   "outputs": [
    {
     "data": {
      "text/plain": [
       "<matplotlib.legend.Legend at 0x7f2d0782cd68>"
      ]
     },
     "execution_count": 23,
     "metadata": {},
     "output_type": "execute_result"
    }
   ],
   "source": [
    "import matplotlib.pyplot as plt\n",
    "\n",
    "## Qué valor de accuracy reportarías?\n",
    "## Qué nos dice la varianza en cada caso?\n",
    "\n",
    "plt.plot([1]*len(TRAIN_ACC),TRAIN_ACC,'o',label='train')\n",
    "plt.plot([2]*len(TEST_ACC),TEST_ACC,'o',label='test')\n",
    "plt.ylim(0.8,1.05)\n",
    "plt.boxplot([TRAIN_ACC,TEST_ACC]);\n",
    "plt.grid()\n",
    "plt.legend()"
   ]
  },
  {
   "cell_type": "code",
   "execution_count": 24,
   "metadata": {},
   "outputs": [
    {
     "data": {
      "image/png": "[encoded data removed]",
      "text/plain": [
       "<Figure size 432x288 with 1 Axes>"
      ]
     },
     "metadata": {
      "needs_background": "light"
     },
     "output_type": "display_data"
    }
   ],
   "source": [
    "import numpy as np\n",
    "### En la Celda que sigue, vamos a realizar la curva de complejidad. Esta vez vamos a utilizar validación cruzada. \n",
    "### Vamos a reportar el  valor medio del accuracy y su varianza. \n",
    "### No tenés que hacer nada más que ejecutar la celda e intentar entender qué significa. \n",
    "\n",
    "vecinos = [1,3,5,10,15,20,30,40,50,60,70,80,90,100]\n",
    "\n",
    "X=pd.DataFrame(datos_dev)\n",
    "y=pd.DataFrame(objetivo_dev)\n",
    "X=X.reset_index()\n",
    "y=y.reset_index()\n",
    "\n",
    "\n",
    "TEST_ACC,TRAIN_ACC=[],[]\n",
    "TEST_ACC_var,TRAIN_ACC_var=[],[]\n",
    "\n",
    "for n in vecinos:\n",
    "    aux_TEST_ACC,aux_TRAIN_ACC=[],[]\n",
    "    for train_index, test_index in kf.split(X):\n",
    "        X_train, X_test = X.loc[train_index], X.loc[test_index]\n",
    "        y_train, y_test = y.loc[train_index], y.loc[test_index]\n",
    "        \n",
    "        scaler = StandardScaler()\n",
    "        scaler.fit(X_train);\n",
    "        X_train_scal = scaler.transform(X_train)  \n",
    "        X_test_scal = scaler.transform(X_test)  \n",
    "        \n",
    "        clf = KNeighborsClassifier(n_neighbors=n)\n",
    "        clf.fit(X_train_scal,y_train.Clase)\n",
    "        y_train_pred = clf.predict(X_train_scal)\n",
    "        train_acc = accuracy_score(y_train.Clase, y_train_pred)\n",
    "        \n",
    "        y_test_pred = clf.predict(X_test_scal)\n",
    "        test_acc = accuracy_score(y_test.Clase, y_test_pred)\n",
    "\n",
    "        aux_TEST_ACC.append(test_acc)\n",
    "        aux_TRAIN_ACC.append(train_acc)\n",
    "    \n",
    "    TEST_ACC.append(np.mean(aux_TEST_ACC))\n",
    "    TRAIN_ACC.append(np.mean(aux_TRAIN_ACC))\n",
    "    TEST_ACC_var.append(np.std(aux_TEST_ACC))\n",
    "    TRAIN_ACC_var.append(np.std(aux_TRAIN_ACC))\n",
    "\n",
    "plt.errorbar(x=vecinos,y=TEST_ACC,yerr=TEST_ACC_var,fmt='o-',label='test',alpha=0.7)\n",
    "\n",
    "plt.errorbar(x=vecinos,y=TRAIN_ACC,yerr=TRAIN_ACC_var,fmt='o-',label='train',alpha=1)\n",
    "plt.xlabel('Vecinos')\n",
    "plt.ylabel('Accuracy')\n",
    "\n",
    "plt.legend()\n",
    "plt.show()"
   ]
  },
  {
   "cell_type": "code",
   "execution_count": null,
   "metadata": {},
   "outputs": [],
   "source": []
  }
 ],
 "metadata": {
  "kernelspec": {
   "display_name": "Python 3",
   "language": "python",
   "name": "python3"
  },
  "language_info": {
   "codemirror_mode": {
    "name": "ipython",
    "version": 3
   },
   "file_extension": ".py",
   "mimetype": "text/x-python",
   "name": "python",
   "nbconvert_exporter": "python",
   "pygments_lexer": "ipython3",
   "version": "3.7.3"
  }
 },
 "nbformat": 4,
 "nbformat_minor": 4
}
