{
 "cells": [
  {
   "cell_type": "markdown",
   "metadata": {},
   "source": [
    "# Python parte II\n",
    "\n",
    "A continuación hacemos un muy (muy) breve resumen sobre algunas cosas que podemos hacer con un lenguaje de programación en general y Python en particular, inspirado en https://learnxinyminutes.com/docs/python3/\n",
    "\n"
   ]
  },
  {
   "cell_type": "markdown",
   "metadata": {},
   "source": [
    "### Booleanos\n",
    "\n",
    "Un booleano es - para nuestros fines prácticos - algo que puede ser Verdadero o Falso."
   ]
  },
  {
   "cell_type": "code",
   "execution_count": 1,
   "metadata": {},
   "outputs": [
    {
     "data": {
      "text/plain": [
       "True"
      ]
     },
     "execution_count": 1,
     "metadata": {},
     "output_type": "execute_result"
    }
   ],
   "source": [
    "1 == 1  #notar que un (1) = es asignacion, dos (2) == es comparacion."
   ]
  },
  {
   "cell_type": "markdown",
   "metadata": {},
   "source": [
    "Y lo podemos asignar a una variable"
   ]
  },
  {
   "cell_type": "code",
   "execution_count": 2,
   "metadata": {},
   "outputs": [
    {
     "name": "stdout",
     "output_type": "stream",
     "text": [
      "True True False False\n"
     ]
    }
   ],
   "source": [
    "a = 1 == 1\n",
    "b = True\n",
    "c = 1 == 2\n",
    "d = False\n",
    "print(a,b,c,d)"
   ]
  },
  {
   "cell_type": "markdown",
   "metadata": {},
   "source": [
    "### if/else\n",
    "\n",
    "Los booleanos se combinan muy bien con declaraciones if/else"
   ]
  },
  {
   "cell_type": "code",
   "execution_count": null,
   "metadata": {},
   "outputs": [],
   "source": [
    "A = 1\n",
    "B = 2\n",
    "if A == B:\n",
    "    print('A es igual a B')\n",
    "else:\n",
    "    print('A no es igual a B')"
   ]
  },
  {
   "cell_type": "code",
   "execution_count": null,
   "metadata": {},
   "outputs": [],
   "source": [
    "a = 3\n",
    "b = 4\n",
    "if a>b :\n",
    "    print('a es mayor a b' )\n",
    "else:\n",
    "    print('b es mayor a a')"
   ]
  },
  {
   "cell_type": "markdown",
   "metadata": {},
   "source": [
    "### for\n",
    "Las listas se suelen recorrer usando la instrucción *for*. "
   ]
  },
  {
   "cell_type": "code",
   "execution_count": null,
   "metadata": {},
   "outputs": [],
   "source": [
    "for i in [1,2,3]:\n",
    "    print(i)"
   ]
  },
  {
   "cell_type": "code",
   "execution_count": 25,
   "metadata": {},
   "outputs": [
    {
     "name": "stdout",
     "output_type": "stream",
     "text": [
      "1 3\n",
      "1 4\n",
      "300 3\n",
      "300 4\n",
      "4 3\n",
      "4 4\n",
      "5 3\n",
      "5 4\n",
      "1 3\n",
      "1 4\n",
      "3 3\n",
      "3 4\n",
      "6 3\n",
      "6 4\n",
      "6 3\n",
      "6 4\n",
      "6 3\n",
      "6 4\n"
     ]
    }
   ],
   "source": [
    "x = [1,300,4,5]\n",
    "y = [1,3,6,6,6]\n",
    "for elemento in x+y:\n",
    "    for i in [3,4]:\n",
    "        print(elemento,i)"
   ]
  },
  {
   "cell_type": "markdown",
   "metadata": {},
   "source": [
    "## Ejercicios\n",
    "* Hacer una declaración if/else que compare dos variables y que decida cuál es mayor.\n",
    "* ¿cuáles son las operaciones con booleanos básicas? Pistas: and, or.\n",
    "* ¿Qué pasa si sumás, restás, multiplicás o dividís booleanos?\n",
    "* Hace un for loop que le sume uno a todos los elementos de la lista A = [0,1,2,3,4] y lo imprima.\n",
    "* Hace un for loop que le sume uno a todos los elementos de la lista A = [0,1,2,3,4] y lo guarde en una lista nueva B. Googlear: append.\n",
    "* ¿Qué hace el comando *range*?\n"
   ]
  },
  {
   "cell_type": "code",
   "execution_count": 32,
   "metadata": {},
   "outputs": [
    {
     "ename": "AttributeError",
     "evalue": "'str' object has no attribute 'append'",
     "output_type": "error",
     "traceback": [
      "\u001b[1;31m---------------------------------------------------------------------------\u001b[0m",
      "\u001b[1;31mAttributeError\u001b[0m                            Traceback (most recent call last)",
      "\u001b[1;32m<ipython-input-32-c305c61f39dd>\u001b[0m in \u001b[0;36m<module>\u001b[1;34m\u001b[0m\n\u001b[0;32m      5\u001b[0m         \u001b[0mt\u001b[0m\u001b[1;33m.\u001b[0m\u001b[0mappend\u001b[0m\u001b[1;33m(\u001b[0m\u001b[0mt\u001b[0m\u001b[1;33m.\u001b[0m\u001b[0mremove\u001b[0m\u001b[1;33m(\u001b[0m\u001b[1;33m)\u001b[0m\u001b[1;33m)\u001b[0m\u001b[1;33m\u001b[0m\u001b[1;33m\u001b[0m\u001b[0m\n\u001b[0;32m      6\u001b[0m     \u001b[0mmotrar\u001b[0m\u001b[1;33m(\u001b[0m\u001b[0mt\u001b[0m\u001b[1;33m)\u001b[0m\u001b[1;33m\u001b[0m\u001b[1;33m\u001b[0m\u001b[0m\n\u001b[1;32m----> 7\u001b[1;33m \u001b[0mremove_duplicates\u001b[0m\u001b[1;33m(\u001b[0m\u001b[1;33m)\u001b[0m\u001b[1;33m\u001b[0m\u001b[1;33m\u001b[0m\u001b[0m\n\u001b[0m",
      "\u001b[1;32m<ipython-input-32-c305c61f39dd>\u001b[0m in \u001b[0;36mremove_duplicates\u001b[1;34m()\u001b[0m\n\u001b[0;32m      3\u001b[0m     \u001b[0mt2\u001b[0m \u001b[1;33m=\u001b[0m \u001b[1;33m[\u001b[0m\u001b[1;34m'a'\u001b[0m\u001b[1;33m,\u001b[0m \u001b[1;34m'c'\u001b[0m\u001b[1;33m,\u001b[0m \u001b[1;34m'd'\u001b[0m\u001b[1;33m]\u001b[0m\u001b[1;33m\u001b[0m\u001b[1;33m\u001b[0m\u001b[0m\n\u001b[0;32m      4\u001b[0m     \u001b[1;32mfor\u001b[0m \u001b[0mt\u001b[0m \u001b[1;32min\u001b[0m \u001b[0mt2\u001b[0m\u001b[1;33m:\u001b[0m\u001b[1;33m\u001b[0m\u001b[1;33m\u001b[0m\u001b[0m\n\u001b[1;32m----> 5\u001b[1;33m         \u001b[0mt\u001b[0m\u001b[1;33m.\u001b[0m\u001b[0mappend\u001b[0m\u001b[1;33m(\u001b[0m\u001b[0mt\u001b[0m\u001b[1;33m.\u001b[0m\u001b[0mremove\u001b[0m\u001b[1;33m(\u001b[0m\u001b[1;33m)\u001b[0m\u001b[1;33m)\u001b[0m\u001b[1;33m\u001b[0m\u001b[1;33m\u001b[0m\u001b[0m\n\u001b[0m\u001b[0;32m      6\u001b[0m     \u001b[0mmotrar\u001b[0m\u001b[1;33m(\u001b[0m\u001b[0mt\u001b[0m\u001b[1;33m)\u001b[0m\u001b[1;33m\u001b[0m\u001b[1;33m\u001b[0m\u001b[0m\n\u001b[0;32m      7\u001b[0m \u001b[0mremove_duplicates\u001b[0m\u001b[1;33m(\u001b[0m\u001b[1;33m)\u001b[0m\u001b[1;33m\u001b[0m\u001b[1;33m\u001b[0m\u001b[0m\n",
      "\u001b[1;31mAttributeError\u001b[0m: 'str' object has no attribute 'append'"
     ]
    }
   ],
   "source": [
    "def remove_duplicates():\n",
    "    t = ['a', 'b', 'c', 'd']\n",
    "    t2 = ['a', 'c', 'd']\n",
    "    for t in t2:\n",
    "        t.append(t.remove())\n",
    "    motrar(t)\n",
    "remove_duplicates()"
   ]
  },
  {
   "cell_type": "markdown",
   "metadata": {},
   "source": [
    "### **Ejercicios Adicionales**\n",
    "**Ejercicio 1**: Escribir una rutina que imprima aquellos elementos de la lista *a* que son menores que 10. \n",
    "Pistas: *for*, *if*"
   ]
  },
  {
   "cell_type": "code",
   "execution_count": 19,
   "metadata": {},
   "outputs": [],
   "source": [
    "a = [1, 1, 2, 3, 5, 8, 8, 13, 21, 34, 34, 55, 89]"
   ]
  },
  {
   "cell_type": "code",
   "execution_count": 29,
   "metadata": {},
   "outputs": [
    {
     "name": "stdout",
     "output_type": "stream",
     "text": [
      "[1, 1, 2, 3, 5, 8, 8]\n",
      "{1, 2, 3, 5, 8}\n",
      "[1, 2, 3, 5, 8]\n",
      "----------------\n"
     ]
    },
    {
     "ename": "NameError",
     "evalue": "name 'repetino' is not defined",
     "output_type": "error",
     "traceback": [
      "\u001b[1;31m---------------------------------------------------------------------------\u001b[0m",
      "\u001b[1;31mNameError\u001b[0m                                 Traceback (most recent call last)",
      "\u001b[1;32m<ipython-input-29-6802484377de>\u001b[0m in \u001b[0;36m<module>\u001b[1;34m\u001b[0m\n\u001b[0;32m     25\u001b[0m         \u001b[1;32mreturn\u001b[0m \u001b[0mx\u001b[0m\u001b[1;33m\u001b[0m\u001b[1;33m\u001b[0m\u001b[0m\n\u001b[0;32m     26\u001b[0m \u001b[1;33m\u001b[0m\u001b[0m\n\u001b[1;32m---> 27\u001b[1;33m \u001b[0mcccc\u001b[0m \u001b[1;33m=\u001b[0m \u001b[0mrepetino\u001b[0m\u001b[1;33m(\u001b[0m\u001b[0maaaa\u001b[0m\u001b[1;33m)\u001b[0m\u001b[1;33m\u001b[0m\u001b[1;33m\u001b[0m\u001b[0m\n\u001b[0m\u001b[0;32m     28\u001b[0m \u001b[0mmostrar\u001b[0m\u001b[1;33m(\u001b[0m\u001b[0mcccc\u001b[0m\u001b[1;33m)\u001b[0m\u001b[1;33m\u001b[0m\u001b[1;33m\u001b[0m\u001b[0m\n\u001b[0;32m     29\u001b[0m \u001b[1;33m\u001b[0m\u001b[0m\n",
      "\u001b[1;31mNameError\u001b[0m: name 'repetino' is not defined"
     ]
    }
   ],
   "source": [
    "adicional1 = []\n",
    "otro = []\n",
    "def iterar(x):\n",
    "    for i in x:\n",
    "        calcular(i)\n",
    "        \n",
    "def calcular(x):\n",
    "    if x < 10:\n",
    "        adicional1.append(x)\n",
    "         \n",
    "def mostrar(x):\n",
    "    print(x)\n",
    "        \n",
    "iterar(a)\n",
    "mostrar(adicional1)\n",
    "aaaa = adicional1\n",
    "mostrar(set(adicional1))\n",
    "cc = list(set(adicional1))\n",
    "mostrar(cc)\n",
    "mostrar(\"----------------\")\n",
    "\n",
    "def repetido(x):\n",
    "    for x in aaaa:\n",
    "        x.append(x.remove())\n",
    "        return x\n",
    "       \n",
    "cccc = repetino(aaaa)\n",
    "mostrar(cccc)\n",
    "            \n",
    "\n"
   ]
  },
  {
   "cell_type": "markdown",
   "metadata": {},
   "source": [
    "**Extras**: en lugar de imprimir los elementos de a uno, armar una nueva lista con aquellos elementos que sean menores a 10. ¿Cómo filtran elementos repetidos?"
   ]
  },
  {
   "cell_type": "markdown",
   "metadata": {},
   "source": [
    "**Ejercicio 2**: Escribir una rutina que decida si un número *b* es par o impar. Si es par, que imprima en pantalla \"Es Par\" y si es impar, que imprima \"No es Par\". Pistas: *if*."
   ]
  },
  {
   "cell_type": "markdown",
   "metadata": {},
   "source": [
    "**Ejercicio 3**: dadas dos listas *a* y *b*, armar una lista con:\n",
    "* Con todos los elementos de *a* y *b*\n",
    "* Con todos los elementos de *a* y *b*, ordenados de menor a mayor\n",
    "* Con todos los elementos de *a* y *b*, ordenados de mayor a menor\n",
    "* Con todos los elementos de *a* y *b*, ordenados de menor a mayor y sin elementos repetidos\n",
    "* Con todos los elementos que están en ambas listas\n",
    "* Con todos los elementos que NO están en ambas listas"
   ]
  },
  {
   "cell_type": "code",
   "execution_count": 2,
   "metadata": {},
   "outputs": [],
   "source": [
    "aa = [12,3,5,12,8,9,25,12,1,3,4,5,17,15]\n",
    "bb = [3,5,7,8,45,8,9,16,1,11,30,41,2,3,15,1,29,22]"
   ]
  },
  {
   "cell_type": "code",
   "execution_count": 22,
   "metadata": {},
   "outputs": [
    {
     "name": "stdout",
     "output_type": "stream",
     "text": [
      "a + b\n",
      "[45, 41, 30, 29, 25, 25, 25, 25, 25, 25, 25, 25, 25, 25, 25, 22, 17, 17, 17, 17, 17, 17, 17, 17, 17, 17, 17, 16, 15, 15, 15, 15, 15, 15, 15, 15, 15, 15, 15, 15, 12, 12, 12, 12, 12, 12, 12, 12, 12, 12, 12, 12, 12, 12, 12, 12, 12, 12, 12, 12, 12, 12, 12, 12, 12, 12, 12, 12, 12, 12, 12, 12, 12, 11, 9, 9, 9, 9, 9, 9, 9, 9, 9, 9, 9, 9, 8, 8, 8, 8, 8, 8, 8, 8, 8, 8, 8, 8, 8, 7, 5, 5, 5, 5, 5, 5, 5, 5, 5, 5, 5, 5, 5, 5, 5, 5, 5, 5, 5, 5, 5, 5, 5, 4, 4, 4, 4, 4, 4, 4, 4, 4, 4, 4, 3, 3, 3, 3, 3, 3, 3, 3, 3, 3, 3, 3, 3, 3, 3, 3, 3, 3, 3, 3, 3, 3, 3, 3, 2, 1, 1, 1, 1, 1, 1, 1, 1, 1, 1, 1, 1, 1, 12, 3, 5, 12, 8, 9, 25, 12, 1, 3, 4, 5, 17, 15]\n",
      "a + b sort\n",
      "[1, 1, 1, 1, 1, 1, 1, 1, 1, 1, 1, 1, 1, 1, 2, 3, 3, 3, 3, 3, 3, 3, 3, 3, 3, 3, 3, 3, 3, 3, 3, 3, 3, 3, 3, 3, 3, 3, 3, 3, 3, 4, 4, 4, 4, 4, 4, 4, 4, 4, 4, 4, 4, 5, 5, 5, 5, 5, 5, 5, 5, 5, 5, 5, 5, 5, 5, 5, 5, 5, 5, 5, 5, 5, 5, 5, 5, 5, 7, 8, 8, 8, 8, 8, 8, 8, 8, 8, 8, 8, 8, 8, 8, 9, 9, 9, 9, 9, 9, 9, 9, 9, 9, 9, 9, 9, 11, 12, 12, 12, 12, 12, 12, 12, 12, 12, 12, 12, 12, 12, 12, 12, 12, 12, 12, 12, 12, 12, 12, 12, 12, 12, 12, 12, 12, 12, 12, 12, 12, 12, 12, 12, 12, 15, 15, 15, 15, 15, 15, 15, 15, 15, 15, 15, 15, 15, 16, 17, 17, 17, 17, 17, 17, 17, 17, 17, 17, 17, 17, 22, 25, 25, 25, 25, 25, 25, 25, 25, 25, 25, 25, 25, 29, 30, 41, 45]\n",
      "a + b reverse\n",
      "[45, 41, 30, 29, 25, 25, 25, 25, 25, 25, 25, 25, 25, 25, 25, 25, 22, 17, 17, 17, 17, 17, 17, 17, 17, 17, 17, 17, 17, 16, 15, 15, 15, 15, 15, 15, 15, 15, 15, 15, 15, 15, 15, 12, 12, 12, 12, 12, 12, 12, 12, 12, 12, 12, 12, 12, 12, 12, 12, 12, 12, 12, 12, 12, 12, 12, 12, 12, 12, 12, 12, 12, 12, 12, 12, 12, 12, 12, 12, 11, 9, 9, 9, 9, 9, 9, 9, 9, 9, 9, 9, 9, 9, 8, 8, 8, 8, 8, 8, 8, 8, 8, 8, 8, 8, 8, 8, 7, 5, 5, 5, 5, 5, 5, 5, 5, 5, 5, 5, 5, 5, 5, 5, 5, 5, 5, 5, 5, 5, 5, 5, 5, 5, 4, 4, 4, 4, 4, 4, 4, 4, 4, 4, 4, 4, 3, 3, 3, 3, 3, 3, 3, 3, 3, 3, 3, 3, 3, 3, 3, 3, 3, 3, 3, 3, 3, 3, 3, 3, 3, 3, 2, 1, 1, 1, 1, 1, 1, 1, 1, 1, 1, 1, 1, 1, 1]\n",
      "a + b sin repetir\n",
      "[1, 2, 3, 4, 5, 7, 8, 9, 11, 12, 15, 16, 17, 22, 25, 29, 30, 41, 45]\n",
      "[45, 41, 30, 29, 25, 22, 17, 16, 15, 12, 11, 9, 8, 7, 5, 4, 3, 2, 1]\n"
     ]
    }
   ],
   "source": [
    "##aa.sort()\n",
    "qwe = bb\n",
    "\n",
    "for i in aa:\n",
    "    qwe.append(i)\n",
    "\n",
    "mostrar(\"a + b\") \n",
    "mostrar(qwe)\n",
    "mostrar(\"a + b sort\")\n",
    "qwe.sort()\n",
    "mostrar(qwe)\n",
    "mostrar(\"a + b reverse\")\n",
    "qwe.reverse()\n",
    "mostrar(qwe)\n",
    "qwer = list(set(qwe))\n",
    "mostrar(\"a + b sin repetir\")\n",
    "mostrar(qwer)\n",
    "qwer.reverse()\n",
    "mostrar(qwer)"
   ]
  },
  {
   "cell_type": "code",
   "execution_count": null,
   "metadata": {},
   "outputs": [],
   "source": []
  }
 ],
 "metadata": {
  "kernelspec": {
   "display_name": "Python 3",
   "language": "python",
   "name": "python3"
  },
  "language_info": {
   "codemirror_mode": {
    "name": "ipython",
    "version": 3
   },
   "file_extension": ".py",
   "mimetype": "text/x-python",
   "name": "python",
   "nbconvert_exporter": "python",
   "pygments_lexer": "ipython3",
   "version": "3.7.3"
  }
 },
 "nbformat": 4,
 "nbformat_minor": 2
}
