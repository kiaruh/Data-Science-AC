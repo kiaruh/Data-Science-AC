{
 "cells": [
  {
   "cell_type": "markdown",
   "metadata": {},
   "source": [
    "# Titanic\n",
    "\n",
    "Observar detenidamente los siguientes gráficos. NO importa si no entienden el código con el que se generaron.\n",
    "* ¿Qué conclusiones pueden extraer de ellos?\n",
    "* ¿Cuáles utilizarían para justificar la validez o no de la siguiente afirmación: *En el Titanic, al momento de sobrevivir, era favorable pertenecer a una clase alta que a una clase baja*?\n",
    "\n",
    "Opcionalmente, pueden usar como información *a priori* las siguientes conclusiones de análisis anteriores:\n",
    "* Las mujeres tienen una probabilidad más alta de supervivencia que los hombres.\n",
    "* Los bebes y niños tienen una probabilidad más alta de supervivencia que los adolescentes, adultos y ancianos.\n",
    "\n"
   ]
  },
  {
   "cell_type": "code",
   "execution_count": 1,
   "metadata": {},
   "outputs": [],
   "source": [
    "import pandas as pd\n",
    "import numpy as np\n",
    "import seaborn as sns\n",
    "import matplotlib.pyplot as plt\n",
    "sns.set()"
   ]
  },
  {
   "cell_type": "code",
   "execution_count": 5,
   "metadata": {},
   "outputs": [],
   "source": [
    "### Carga de datos\n",
    "#df = pd.read_csv('titanic.csv', delimiter='\\t')\n",
    "df = sns.load_dataset('titanic')\n"
   ]
  },
  {
   "cell_type": "code",
   "execution_count": 3,
   "metadata": {},
   "outputs": [],
   "source": [
    "'''\n",
    "Esta es una funcion que, dada la edad, indica a que rango etario pertenece\n",
    "'''\n",
    "def de_edad_a_rango_etario(edad):\n",
    "    if 0<edad<=3:\n",
    "        return 'bebe'\n",
    "\n",
    "    if 3<edad<=12:\n",
    "        return 'ninio'\n",
    "    \n",
    "    if 12<edad<=18:\n",
    "        return 'adolescente'\n",
    "    \n",
    "    if 18<edad<=60:\n",
    "        return 'adulto'\n",
    "    \n",
    "    if 60<edad:\n",
    "        return 'anciano'\n",
    "    "
   ]
  },
  {
   "cell_type": "code",
   "execution_count": null,
   "metadata": {},
   "outputs": [],
   "source": [
    "'''\n",
    "Aca creamos una nueva columna en el dataframe y la llenamos aplicando la funcion que definimos antes a todos los elementos de la columna edad.\n",
    "'''\n",
    "df['rango_etario'] = df.age.apply(lambda edad: de_edad_a_rango_etario(edad))\n",
    "df[['age', 'rango_etario']].head(5)"
   ]
  },
  {
   "cell_type": "code",
   "execution_count": null,
   "metadata": {},
   "outputs": [],
   "source": [
    "sns.countplot(df.rango_etario, order = ['bebe','ninio','adolescente','adulto','anciano'])\n",
    "plt.title('Distribución de los pasajeros por rango etario')\n",
    "plt.show()"
   ]
  },
  {
   "cell_type": "code",
   "execution_count": null,
   "metadata": {},
   "outputs": [],
   "source": [
    "sns.countplot(x=\"pclass\", data=df)\n",
    "plt.title('Distribución de los pasajeros por clase')\n",
    "plt.show()"
   ]
  },
  {
   "cell_type": "code",
   "execution_count": null,
   "metadata": {},
   "outputs": [],
   "source": [
    "sns.countplot(x='pclass', hue='survived', data=df)\n",
    "plt.title('Supervivencia desagregada por clase, cuentas totales')\n",
    "plt.show()"
   ]
  },
  {
   "cell_type": "code",
   "execution_count": null,
   "metadata": {},
   "outputs": [],
   "source": [
    "grouped = df.groupby(['pclass'])\n",
    "pclass_counts = grouped['survived'].value_counts(normalize=True)\n",
    "pclass_data = [\n",
    "    {'pclass': clase, 'survived': survived, 'percentage': percentage*100} for \n",
    "    (clase, survived), percentage in dict(pclass_counts).items()]\n",
    "\n",
    "df_pclass_data = pd.DataFrame(pclass_data)\n",
    "\n",
    "plt.title('Supervivencia desagregada por clase, porcentaje')\n",
    "sns.barplot(x=\"pclass\", y=\"percentage\", hue=\"survived\", data=df_pclass_data)\n",
    "plt.show()"
   ]
  },
  {
   "cell_type": "code",
   "execution_count": null,
   "metadata": {},
   "outputs": [],
   "source": [
    "sns.countplot(x='pclass', hue='sex', data=df, hue_order= ['male', 'female'])\n",
    "plt.title('Distribucion de hombres y mujeres por clase, cuentas totales')\n",
    "plt.show()"
   ]
  },
  {
   "cell_type": "code",
   "execution_count": null,
   "metadata": {},
   "outputs": [],
   "source": [
    "grouped = df.groupby(['pclass'])\n",
    "pclass_counts = grouped['sex'].value_counts(normalize=True)\n",
    "pclass_data = [\n",
    "    {'pclass': clase, 'sex': genero, 'percentage': percentage*100} for \n",
    "    (clase, genero), percentage in dict(pclass_counts).items()]\n",
    "\n",
    "df_pclass_data = pd.DataFrame(pclass_data)\n",
    "\n",
    "plt.title('Porcentaje de hombres y mujeres en cada clase')\n",
    "sns.barplot(x=\"pclass\", y=\"percentage\", hue=\"sex\", data=df_pclass_data, hue_order= ['male', 'female'])\n",
    "plt.show()"
   ]
  },
  {
   "cell_type": "code",
   "execution_count": null,
   "metadata": {},
   "outputs": [],
   "source": [
    "order = ['bebe','ninio','adolescente','adulto','anciano']\n",
    "\n",
    "sns.countplot(x='pclass', hue='rango_etario', data=df, hue_order=order)\n",
    "plt.title('Distribucion de rangos etarios por clase, cuentas totales')\n",
    "plt.show()"
   ]
  },
  {
   "cell_type": "code",
   "execution_count": null,
   "metadata": {},
   "outputs": [],
   "source": [
    "grouped = df.groupby(['pclass'])\n",
    "pclass_counts = grouped['rango_etario'].value_counts(normalize=True)\n",
    "pclass_data = [\n",
    "    {'pclass': clase, 'rango_etario': rango, 'percentage': percentage*100} for \n",
    "    (clase, rango), percentage in dict(pclass_counts).items()]\n",
    "\n",
    "df_pclass_data = pd.DataFrame(pclass_data)\n",
    "\n",
    "plt.title('Distribucion de rangos etarios por clase, porcentajes')\n",
    "sns.barplot(x=\"pclass\", y=\"percentage\", hue=\"rango_etario\", data=df_pclass_data, hue_order=order)\n",
    "plt.show()"
   ]
  },
  {
   "cell_type": "markdown",
   "metadata": {},
   "source": [
    "Con la información que tienen hasta acá, ¿qué pueden decir acerca de la validez de la afirmación presentada?¿Qué gráficos les gustaría hacer para seguir explorando? No importa si no lo saben hacer, describirlo y explicar qué esperarían ver.\n",
    "\n",
    "Una vez que hayan hecho eso, correr la celda de abajo (cambiar False por True)."
   ]
  },
  {
   "cell_type": "code",
   "execution_count": null,
   "metadata": {},
   "outputs": [],
   "source": [
    "if True:\n",
    "    grouped = df.groupby(['pclass','sex'])\n",
    "\n",
    "    pclass_counts = grouped['survived'].value_counts(normalize=True)\n",
    "    # print(pclass_counts)\n",
    "    pclass_data = [\n",
    "        {'pclass': clase, 'sex': genero, 'survived': survived, 'percentage': percentage*100} for \n",
    "        (clase, genero, survived), percentage in dict(pclass_counts).items()]\n",
    "\n",
    "    df_pclass_data = pd.DataFrame(pclass_data)\n",
    "    # df_pclass_data\n",
    "\n",
    "    ## Nos quedamos solo con los que sobrevivieron\n",
    "    df_pclass_data_survived = df_pclass_data[df_pclass_data.survived == 1]\n",
    "\n",
    "    plt.title('Porcentaje de hombres y mujeres QUE SOBREVIVIERON en cada clase')\n",
    "    sns.barplot(x=\"pclass\", y=\"percentage\", hue=\"sex\", data=df_pclass_data_survived, hue_order= ['male', 'female'])\n",
    "    plt.show()"
   ]
  },
  {
   "cell_type": "code",
   "execution_count": null,
   "metadata": {},
   "outputs": [],
   "source": []
  }
 ],
 "metadata": {
  "kernelspec": {
   "display_name": "Python 3",
   "language": "python",
   "name": "python3"
  },
  "language_info": {
   "codemirror_mode": {
    "name": "ipython",
    "version": 3
   },
   "file_extension": ".py",
   "mimetype": "text/x-python",
   "name": "python",
   "nbconvert_exporter": "python",
   "pygments_lexer": "ipython3",
   "version": "3.7.3"
  }
 },
 "nbformat": 4,
 "nbformat_minor": 4
}
