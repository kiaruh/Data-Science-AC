{
 "cells": [
  {
   "cell_type": "markdown",
   "metadata": {},
   "source": [
    "## Optimizacion y evaluacion de modelos\n",
    "\n",
    "Vamos a trabajar sobre lo que ya trabajamos en el Dataset de Paltas. Para eso, primero vamos a seleccionar los datos de Paltas convencionales de Chicago siguiendo exactamente los mismos pasos que la clase 18."
   ]
  },
  {
   "cell_type": "code",
   "execution_count": null,
   "metadata": {},
   "outputs": [],
   "source": [
    "import numpy as np\n",
    "import pandas as pd\n",
    "import matplotlib.pyplot as plt\n",
    "import seaborn as sns\n",
    "import datetime as dt\n",
    "\n",
    "sns.set()"
   ]
  },
  {
   "cell_type": "code",
   "execution_count": null,
   "metadata": {},
   "outputs": [],
   "source": [
    "palta = pd.read_csv('avocado.csv', delimiter=',', parse_dates=[\"Date\"])\n",
    "\n",
    "palta.drop('Unnamed: 0', axis = 1, inplace = True)\n",
    "palta.sort_values(\"Date\", inplace = True)\n",
    "palta.reset_index(inplace = True, drop  = True)\n",
    "\n",
    "palta_chicago = palta[palta.region == 'Chicago']\n",
    "palta_chicago.reset_index(inplace = True, drop = True)\n",
    "palta_chicago['Date']=palta_chicago['Date'].map(dt.datetime.toordinal)\n",
    "palta_chicago_convencional = palta_chicago[palta_chicago.type == 'conventional']\n",
    "\n",
    "X = palta_chicago_convencional.Date.values.reshape(-1,1)\n",
    "y = palta_chicago_convencional.AveragePrice.values  "
   ]
  },
  {
   "cell_type": "markdown",
   "metadata": {},
   "source": [
    "Antes de empezar a trabajar, vamos a separar nuestros datos en el conjunto de datos de entrenamiento y el de Held-out."
   ]
  },
  {
   "cell_type": "code",
   "execution_count": null,
   "metadata": {},
   "outputs": [],
   "source": [
    "### importar de Sckit-learn la funcion \"train_test_split\"\n",
    "### Separar los datos de entrenamiento y Held-out utilizando la funcion que acabamos de importar. \n",
    "\n",
    "### IMPORTAR\n",
    "X_train, X_test, y_train, y_test = #COMPLETAR"
   ]
  },
  {
   "cell_type": "code",
   "execution_count": null,
   "metadata": {},
   "outputs": [],
   "source": [
    "# RESPUESTA\n",
    "from sklearn.model_selection import train_test_split\n",
    "X_train, X_test, y_train, y_test = train_test_split(X, y, test_size=0.30, random_state=0)"
   ]
  },
  {
   "cell_type": "code",
   "execution_count": null,
   "metadata": {},
   "outputs": [],
   "source": [
    "### Para realizar el gridsearch, seguir los siguientes pasos:\n",
    "### 1) Importa la funcion \"DecisionTreeRegressor\"\n",
    "### 2) Cargar un DecisionTreeRegressor en la variable \"rgr_tree\"\n",
    "### 3) En la variable diccionario \"parameters\" especificar qué valores \n",
    "### son en los que queremos realizar el Grid Search (sólo tenes que completar la ayuda!)\n",
    "### 4) Ejecutar el Grid search. Buscá en internet qué significa la variable cv y completá. \n",
    "\n",
    "from sklearn.model_selection import GridSearchCV\n",
    "### IMPORTAR\n",
    "\n",
    "rgr_tree = ### COMPLETAR\n",
    "parameters = {'criterion':['mae', 'mse'], 'max_depth':###completar  con una lista de numeros}\n",
    "clf = GridSearchCV(rgr_tree, parameters, cv=### completar)\n"
   ]
  },
  {
   "cell_type": "code",
   "execution_count": null,
   "metadata": {},
   "outputs": [],
   "source": [
    "### RESPUESTA\n",
    "from sklearn.tree import DecisionTreeRegressor\n",
    "from sklearn.model_selection import GridSearchCV\n",
    "\n",
    "\n",
    "rgr_tree = DecisionTreeRegressor()\n",
    "parameters = {'criterion':['mae', 'mse'], 'max_depth':[2,5,7,10,15,20]}\n",
    "clf = GridSearchCV(rgr_tree, parameters, cv=5,return_train_score=True)\n"
   ]
  },
  {
   "cell_type": "code",
   "execution_count": null,
   "metadata": {},
   "outputs": [],
   "source": [
    "#Una vez que determinamos cuales son los parametros de busqueda, vamos a entrenar el gridsearch con los datos \n",
    "# de entrenamiento.Solamente tenes que ejecutar esta celda.\n",
    "\n",
    "clf.fit(X_train, y_train)"
   ]
  },
  {
   "cell_type": "code",
   "execution_count": null,
   "metadata": {},
   "outputs": [],
   "source": [
    "## Te invito a explorar los resultados\n",
    "results = pd.DataFrame(clf.cv_results_)\n",
    "results.head()"
   ]
  },
  {
   "cell_type": "code",
   "execution_count": null,
   "metadata": {},
   "outputs": [],
   "source": [
    "### Graficamos la curva de complejidad para el 'mae'.\n",
    "mask_mae = results.param_criterion == 'mae'\n",
    "\n",
    "plt.figure(0)\n",
    "plt.title('MAE')\n",
    "plt.ylim(0,1)\n",
    "plt.errorbar(x=results[mask_mae].param_max_depth, y=results[mask_mae].mean_test_score,yerr=results[mask_mae].std_test_score,fmt='o:')"
   ]
  },
  {
   "cell_type": "code",
   "execution_count": null,
   "metadata": {},
   "outputs": [],
   "source": [
    "### Plotea exactamente la misma curva que anter, pero para el caso de mse\n"
   ]
  },
  {
   "cell_type": "code",
   "execution_count": null,
   "metadata": {},
   "outputs": [],
   "source": [
    "### RESPUESTA\n",
    "\n",
    "mask_mse = results.param_criterion == 'mse'\n",
    "\n",
    "plt.figure(1)\n",
    "plt.title('MSE')\n",
    "plt.ylim(0,1)\n",
    "plt.errorbar(x=results[mask_mse].param_max_depth, y=results[mask_mse].mean_test_score,yerr=results[mask_mse].std_test_score,fmt='o:')"
   ]
  },
  {
   "cell_type": "markdown",
   "metadata": {},
   "source": [
    "Que magnitudes son las que ploteaste? <br>\n",
    "Que significa el error de cada curva? <br>\n",
    "En que se parecen y en que se diferencian las curvas de arriba? De donde crees que vienen las diferencias? <br>\n",
    "Plotearias algo que te ayude a comprobar tu hipotesis? <br>"
   ]
  },
  {
   "cell_type": "code",
   "execution_count": null,
   "metadata": {},
   "outputs": [],
   "source": [
    "### Descomenta e investiga algunas cosas.\n",
    "### Podes ver mas funciones en la documentacion!\n",
    "\n",
    "print(clf.best_estimator_)\n",
    "print(clf.best_score_)\n",
    "\n",
    "results.sort_values(by=['rank_test_score'],inplace=True)\n",
    "print(results[['rank_test_score','mean_test_score','std_test_score','params']])\n"
   ]
  },
  {
   "cell_type": "markdown",
   "metadata": {},
   "source": [
    "Te parece razonable el modelo que elogio el Grid Search? O eligirias algun otro?"
   ]
  },
  {
   "cell_type": "code",
   "execution_count": null,
   "metadata": {},
   "outputs": [],
   "source": [
    "### Una vez que hayas elegido el que pensas que es el mejor modelo, reporta tu estimacion de la performance \n",
    "### evaluando sobre el conjunto Held-out que separaste al principio."
   ]
  },
  {
   "cell_type": "markdown",
   "metadata": {},
   "source": [
    "## DESAFIO\n",
    "Realiza el mismo procedimiento, pero esta vez implementando el algoritmo de regresion de KNN. <br>\n",
    "\n",
    "Antes de empezar, pensa cuales son los hiperparametros que recorrerias con el Grid Search."
   ]
  },
  {
   "cell_type": "code",
   "execution_count": null,
   "metadata": {},
   "outputs": [],
   "source": []
  }
 ],
 "metadata": {
  "kernelspec": {
   "display_name": "Python 3",
   "language": "python",
   "name": "python3"
  },
  "language_info": {
   "codemirror_mode": {
    "name": "ipython",
    "version": 3
   },
   "file_extension": ".py",
   "mimetype": "text/x-python",
   "name": "python",
   "nbconvert_exporter": "python",
   "pygments_lexer": "ipython3",
   "version": "3.7.3"
  }
 },
 "nbformat": 4,
 "nbformat_minor": 2
}
