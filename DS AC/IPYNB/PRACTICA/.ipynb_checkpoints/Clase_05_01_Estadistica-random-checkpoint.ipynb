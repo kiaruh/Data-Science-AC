{
 "cells": [
  {
   "cell_type": "markdown",
   "metadata": {},
   "source": [
    "# Estadistica: Números aleatorios en Python con NumPy\n",
    "\n",
    "NumPy ofrece funciones para generar datos aleatorios simples y algunas distribuciones estadísticas, que luego amplía SciPy.\n",
    "\n",
    "Vamos a mencionar sin explicar las distribuciones uniforme y normal, así que si quieres una explicación más detallada te recomiendo que leas el artículo sobre estadística en Python con SciPy. \n",
    "\n",
    "# ¿Aleatorios?\n",
    "\n",
    "Antes que nada, hay algo importante que tenemos que aclarar. En realidad, no hay algoritmos que generen números puramente aleatorios y que sean deterministas, por lo que usando solamente software es imposible obtener números verdaderamente aleatorios. \n",
    "\n",
    "En computación realmente se dispone de números pseudoaleatorios, que son secuencias determinadas a partir de unos ciertos datos iniciales que se parecen bastante a una aleatoria. NumPy utiliza un algoritmo llamado \"Mersenne twister\", creado por dos matemáticos japoneses y que utilizan otros programas como MATLAB.\n",
    "\n",
    "Ahora que ya hemos hecho esta aclaración, en adelante llamaremos aleatorios a los números pseudoaleatorios - por brevedad \n",
    "\n",
    "En la librería estándar de Python viene ya incluido el módulo random, con funciones pensadas para trabajar con valores escalares y listas. Las que vamos a ver ahora pueden trabajar con arrays de NumPy."
   ]
  },
  {
   "cell_type": "markdown",
   "metadata": {},
   "source": [
    "# Datos aleatorios simples con NumPy\n",
    "# Generación de datos aleatorios\n",
    "\n",
    "En el paquete random de NumPy encontramos varias funciones para generar datos aleatorios de manera sencilla. La primera es np.random.rand, que devuelve un número aleatorio procedente de una distribución uniforme en el intervalo [0,1)\n"
   ]
  },
  {
   "cell_type": "code",
   "execution_count": 1,
   "metadata": {},
   "outputs": [],
   "source": [
    "import random\n",
    "import numpy as np"
   ]
  },
  {
   "cell_type": "code",
   "execution_count": 10,
   "metadata": {},
   "outputs": [
    {
     "data": {
      "text/plain": [
       "0.29382719582410366"
      ]
     },
     "execution_count": 10,
     "metadata": {},
     "output_type": "execute_result"
    }
   ],
   "source": [
    "np.random.rand()  # Sin argumentos devuelve escalar"
   ]
  },
  {
   "cell_type": "code",
   "execution_count": 11,
   "metadata": {},
   "outputs": [
    {
     "data": {
      "text/plain": [
       "array([0.90144648, 0.3357956 , 0.86636302, 0.08417107])"
      ]
     },
     "execution_count": 11,
     "metadata": {},
     "output_type": "execute_result"
    }
   ],
   "source": [
    "np.random.rand(4)  # Un array de 4 elementos"
   ]
  },
  {
   "cell_type": "code",
   "execution_count": 12,
   "metadata": {},
   "outputs": [
    {
     "data": {
      "text/plain": [
       "array([[0.58946211, 0.67642349],\n",
       "       [0.43156158, 0.80276997],\n",
       "       [0.82634637, 0.27998131]])"
      ]
     },
     "execution_count": 12,
     "metadata": {},
     "output_type": "execute_result"
    }
   ],
   "source": [
    "np.random.rand(3, 2)"
   ]
  },
  {
   "cell_type": "markdown",
   "metadata": {},
   "source": [
    "La función np.random.random_sample hace lo mismo, pero recibe el argumento en forma de tupla. Tiene cuatro alias: random, sample y ranf"
   ]
  },
  {
   "cell_type": "code",
   "execution_count": 13,
   "metadata": {},
   "outputs": [
    {
     "data": {
      "text/plain": [
       "array([[0.16398753, 0.97996055],\n",
       "       [0.35677357, 0.49093268]])"
      ]
     },
     "execution_count": 13,
     "metadata": {},
     "output_type": "execute_result"
    }
   ],
   "source": [
    "np.random.random_sample((2, 2))"
   ]
  },
  {
   "cell_type": "code",
   "execution_count": 14,
   "metadata": {},
   "outputs": [
    {
     "data": {
      "text/plain": [
       "array([[0.5488135 , 0.71518937],\n",
       "       [0.60276338, 0.54488318]])"
      ]
     },
     "execution_count": 14,
     "metadata": {},
     "output_type": "execute_result"
    }
   ],
   "source": [
    "np.random.seed(0)\n",
    "np.random.random_sample((2, 2))"
   ]
  },
  {
   "cell_type": "markdown",
   "metadata": {},
   "source": [
    "¿recordas que hemos dicho que estos números son pseudoaleatorios?\n",
    "\n",
    "A veces nos puede interesar, por ejemplo para pruebas, utilizar siempre una misma secuencia pseudoaleatoria. Utilizando la función np.random.seed imponemos las condiciones iniciales del generador; si no se llama (como hemos hecho antes\n",
    "), NumPy escoge la hora como semilla, de tal forma que cada programa utilice secuencias diferentes:"
   ]
  },
  {
   "cell_type": "code",
   "execution_count": null,
   "metadata": {},
   "outputs": [],
   "source": [
    "np.random.seed(0)  # Ponemos la semilla a 0 (puede ser cualquier número)\n",
    "np.random.rand(3)"
   ]
  },
  {
   "cell_type": "markdown",
   "metadata": {},
   "source": [
    "Si queremos generar datos enteros entonces tenemos que usar la función np.random.randint, que admite un argumento obligatorio y dos opcionales:\n",
    "\n",
    "    Si se llama con un argumento, np.random.randint(a) devuelve una muestra de la distribución uniforme discreta en [0,a)\n",
    "    Si se llama con dos argumentos, np.random.randint(a, b) devuelve una muestra de la distribución uniforme discreta en [a,b)\n",
    "    Si se llama con tres argumentos, np.random.randint(a, b, size) devuelve un array de muestras en [a,b) y de tamaño size."
   ]
  },
  {
   "cell_type": "code",
   "execution_count": null,
   "metadata": {},
   "outputs": [],
   "source": [
    "np.random.randint(10)"
   ]
  },
  {
   "cell_type": "code",
   "execution_count": null,
   "metadata": {},
   "outputs": [],
   "source": [
    "np.random.randint(100, 200)"
   ]
  },
  {
   "cell_type": "code",
   "execution_count": null,
   "metadata": {},
   "outputs": [],
   "source": [
    "np.random.randint(100, 1000, (3, 2))"
   ]
  },
  {
   "cell_type": "markdown",
   "metadata": {},
   "source": [
    "# Mezclas y elecciones aleatorias\n",
    "\n",
    "NumPy también nos permite, dado un array de datos ya existente, mezclarlo de manera aleatoria (como barajar un mazo de cartas) o escoger un elemento al azar.\n",
    "\n",
    "**Ejercicio 1**: explicar para qué sirve la función np.random.choice, sus parámetros y dar un ejemplo"
   ]
  },
  {
   "cell_type": "code",
   "execution_count": null,
   "metadata": {},
   "outputs": [],
   "source": [
    "# escribir àca\n"
   ]
  },
  {
   "cell_type": "markdown",
   "metadata": {},
   "source": [
    "#### Hacer Doble click en la celda de abajo para ver una posible solución"
   ]
  },
  {
   "cell_type": "code",
   "execution_count": null,
   "metadata": {},
   "outputs": [],
   "source": [
    "\n",
    "# a = np.arange(10)\n",
    "# np.random.choice(a)  # Entero aleatorio entre 0 y 9\n",
    "# np.random.choice(a, 3)  # Tres enteros\n",
    "# np.random.choice(a, 10, replace=True)  # Por defecto\n",
    "# np.random.choice(a, 10, replace=False)  # Simplemente una ordenación"
   ]
  },
  {
   "cell_type": "markdown",
   "metadata": {},
   "source": [
    "# Distribuciones estadísticas\n",
    "\n",
    "Hasta ahora hemos manejado básicamente distribuciones uniformes, pero NumPy incluye otras distribuciones estadísticas continuas y SciPy amplía con muchas más, añadiendo también distribuciones discretas. Estas se encuentran en el paquete scipy.stats. Usando las distribuciones de NumPy:"
   ]
  },
  {
   "cell_type": "code",
   "execution_count": null,
   "metadata": {},
   "outputs": [],
   "source": [
    "np.random.poisson()  # Muestra de una distribución de Poisson con lambda=1"
   ]
  },
  {
   "cell_type": "code",
   "execution_count": null,
   "metadata": {},
   "outputs": [],
   "source": [
    "np.random.standard_normal()  # Normal estándar"
   ]
  },
  {
   "cell_type": "code",
   "execution_count": null,
   "metadata": {},
   "outputs": [],
   "source": [
    "np.random.randn()  # Lo mismo que lo anterior"
   ]
  },
  {
   "cell_type": "markdown",
   "metadata": {},
   "source": [
    "**Ahora visualicemos una distribución uniforme y normal**"
   ]
  },
  {
   "cell_type": "code",
   "execution_count": null,
   "metadata": {},
   "outputs": [],
   "source": [
    "import matplotlib.pyplot  as plt\n",
    "%matplotlib inline\n",
    "# Graficando histograma\n",
    "mu, sigma = 0, 0.2 # media y desvio estandar\n",
    "datos = np.random.uniform(mu, sigma, 1000) #creando muestra de datos\n",
    "# histograma de distribución uniforme.\n",
    "cuenta, cajas, ignorar = plt.hist(datos, 20)\n",
    "plt.ylabel('frequencia')\n",
    "plt.xlabel('valores')\n",
    "plt.title('Histograma')\n",
    "plt.show()\n"
   ]
  },
  {
   "cell_type": "code",
   "execution_count": null,
   "metadata": {},
   "outputs": [],
   "source": [
    "datos = np.random.normal(mu, sigma, 1000) #creando muestra de datos\n",
    "# histograma de distribución normal.\n",
    "cuenta, cajas, ignorar = plt.hist(datos, 20)\n",
    "plt.ylabel('frequencia')\n",
    "plt.xlabel('valores')\n",
    "plt.title('Histograma')\n",
    "plt.show()"
   ]
  },
  {
   "cell_type": "markdown",
   "metadata": {},
   "source": [
    "**Ejercicio 2**: que estadisticos podría calcular de estas distribuciones ?"
   ]
  },
  {
   "cell_type": "code",
   "execution_count": null,
   "metadata": {},
   "outputs": [],
   "source": []
  }
 ],
 "metadata": {
  "kernelspec": {
   "display_name": "Python 3",
   "language": "python",
   "name": "python3"
  },
  "language_info": {
   "codemirror_mode": {
    "name": "ipython",
    "version": 3
   },
   "file_extension": ".py",
   "mimetype": "text/x-python",
   "name": "python",
   "nbconvert_exporter": "python",
   "pygments_lexer": "ipython3",
   "version": "3.7.3"
  }
 },
 "nbformat": 4,
 "nbformat_minor": 4
}
