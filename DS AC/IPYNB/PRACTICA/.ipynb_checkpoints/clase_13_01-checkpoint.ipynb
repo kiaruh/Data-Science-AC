{
 "cells": [
  {
   "cell_type": "markdown",
   "metadata": {},
   "source": [
    "# Conceptos básicos ML\n",
    "\n",
    "Los siguientes ejercicios fueron tomados de la materia de Aprendizaje Automático de la FCEN, dictada por Agustín Gravano y Pablo Brusco. Ellos, a su vez, aclaran que *Algunos ejercicios fueron adaptados de los libros “Machine Learning”, de Tom Mitchell (McGraw-Hill, 1997); “Pattern Recognition and Machine Learning”, de Christopher Bishop (Springer, 2006); y “An Introduction to Statistical Learning”, de James, Witten, Hastie & Tibshirani (Springer, 2015).*\n",
    "\n",
    "Aprovechamos a mencionar que “Machine Learning”, de Tom Mitchell (McGraw-Hill, 1997), es uno de los libros clásicos sobre el tema, y es un libro bastante accesible en su lectura. De todas formas, hay libros más modernos y actualizados."
   ]
  },
  {
   "cell_type": "markdown",
   "metadata": {},
   "source": [
    "**Ejercicio 1**: ¿Cual es la diferencia entre el aprendizaje supervisado, el aprendizaje no supervisado y el aprendizaje por refuerzos?\n"
   ]
  },
  {
   "cell_type": "markdown",
   "metadata": {},
   "source": [
    "**Ejercicio 2**: ¿Cual es la diferencia entre un problema de clasificacion y uno de regresion? Determinar para los siguientes problemas de aprendizaje supervisado si se trata de problemas de clasificacion o de regresion.\n",
    "1. Dado un tweet, determinar si habla en contra o a favor de un candidato presidencial.\n",
    "2. Predecir cuanto gastara una empresa en luz el proximo semestre. \n",
    "3. Predecir la nota que tendrá un alumno en un examen cuya nota puede ser 0,1,2, . . . ,10 \n",
    "4. Predecir la nota que tendrá un alumno en un examen cuya nota puede ser “A”, “R” o “I”. \n",
    "5. Predecir donde vive una persona.\n",
    "6. Predecir donde vivira una persona dentro de 5 años.\n",
    "7. Predecir si se gastará más o menos que 50.000 por mes de luz el proximo semestre.\n",
    "8. Predecir la probabilidad de que una persona haya comprado un bote el ́ultimo año.\n",
    "9. Decidir, dada las características de un pasajero del Titanic (edad, género, clase donde viajaba), si sobrevivió o no.\n",
    "\n",
    "Pista: pensar con qué base de datos/etiquetas se entrena al algoritmo. "
   ]
  },
  {
   "cell_type": "markdown",
   "metadata": {},
   "source": [
    "**Ejercicio 3**: Decidir si los siguientes problemas son de clasificación o regresión, qué tipo de base de datos utilizarían (cuáles features) y cómo evaluarían su perfomance.\n",
    "\n",
    "1. Filtro de spam \n",
    "2. Valor de una propiedad\n",
    "3. Autenticacion biometrica (ej: huellas dactilares)\n",
    "4. Deteccion de fraude en tarjetas de credito"
   ]
  },
  {
   "cell_type": "markdown",
   "metadata": {},
   "source": [
    "**Ejercicio 4**: Decidir si los siguientes problemas son de clasificación o regresión, qué tipo de base de datos utilizarían (cuáles features) y cómo evaluarían su perfomance.\n",
    "    \n",
    "1. Recopilamos un conjunto de datos sobre las 500 principales empresas en los Estados Unidos. Para cada firma registramos ganancias, número de empleados, industria y Salario CEO. Estamos interesados en entender qué factores afectar el salario del CEO.\n",
    "\n",
    "2. Estamos considerando lanzar un nuevo producto y deseamos saber si será un éxito o un fracaso. Recopilamos datos sobre 20 productos similares que se lanzaron previamente. Para cada producto De hecho, hemos registrado si fue un éxito o un fracaso, el precio cobrado por el producto, presupuesto de marketing, precio de competencia, y otras diez variables."
   ]
  },
  {
   "cell_type": "markdown",
   "metadata": {},
   "source": [
    "**Ejercicio 5**: Pensemos en un problema real, identificarlo y decidir si los siguientes problemas son de clasificación o regresión, qué tipo de base de datos utilizarían (cuáles features) y cómo evaluarían su perfomance."
   ]
  },
  {
   "cell_type": "markdown",
   "metadata": {},
   "source": [
    "**Ejercicio 6**: Identificar en cual de las siguientes figuras hay: Underfitting , Overfitting y cual seria una buena aproximación.\n",
    "\n",
    "![title](ejemplo.png)"
   ]
  }
 ],
 "metadata": {
  "kernelspec": {
   "display_name": "Python 3",
   "language": "python",
   "name": "python3"
  },
  "language_info": {
   "codemirror_mode": {
    "name": "ipython",
    "version": 3
   },
   "file_extension": ".py",
   "mimetype": "text/x-python",
   "name": "python",
   "nbconvert_exporter": "python",
   "pygments_lexer": "ipython3",
   "version": "3.7.3"
  }
 },
 "nbformat": 4,
 "nbformat_minor": 2
}
