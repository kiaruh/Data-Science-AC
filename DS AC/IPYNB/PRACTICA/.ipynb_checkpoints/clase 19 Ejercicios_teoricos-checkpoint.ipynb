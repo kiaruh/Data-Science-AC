{
 "cells": [
  {
   "cell_type": "markdown",
   "metadata": {},
   "source": [
    "## Ejericicios de repaso"
   ]
  },
  {
   "cell_type": "markdown",
   "metadata": {},
   "source": [
    "**Ejericio 1** :En la Figura Cortes en el espacio de atributos puede verse diversas regiones en el espacio de atributos.\n",
    "\n",
    "Determinar cuáles de ellas pueden haber sido generadas por árboles de decisión.\n",
    "\n",
    "Para las que lo sean, mostrar un árbol que hubiese generado estas regiones (suponer ejes x 1 y x 2 )\n",
    "\n",
    "\n",
    "<img src=\"figura1.png\">"
   ]
  },
  {
   "cell_type": "markdown",
   "metadata": {},
   "source": [
    "**Ejericio 2** :[True or False] El algoritmo k-NN tarda más tiempo en la estimación que en el entrenamiento. \n",
    "\n",
    "**Ejericio 3** : ¿Cuál de las siguientes opciones es verdadera sobre el algoritmo k-NN y árboles de decisión?\n",
    "\n",
    "    A) Se puede usar para clasificación\n",
    "    B) Se puede usar para regresión\n",
    "    C) Se puede usar tanto en clasificación como en regresión\n",
    "\n",
    "**Ejericio 4** : ¿Cuál de las siguientes afirmaciones es verdadera sobre el algoritmo k-NN?\n",
    "\n",
    "    A)k-NN funciona mucho mejor si todos los datos tienen la misma escala\n",
    "    B)k-NN funciona bien con una pequeña cantidad de variables de entrada (p), pero tiene dificultades cuando la cantidad de entradas es muy grande\n",
    "    C)k-NN no hace suposiciones sobre la forma funcional del problema que se está resolviendo\n",
    "\n",
    "\n",
    "**Ejericio 5** :Imaginen que se tienen instancias con sólo dos atributos: altura de una persona (medido en metros) y edad\n",
    "de la persona (medida en años). Se quiere saber si la persona se convertirá o no es basquetbolista profesional tomando\n",
    "en cuenta la experiencia de muchas personas.\n",
    "\n",
    "    A) ¿Es buena idea utilizar el algoritmo de K-vecinos más cercanos con estos datos?\n",
    "\n",
    "    B) ¿Suponiendo que se utiliza dicho modelo, será útil realizar alguna transformación a los datos previo a ejecutar el algoritmo? ¿Cuál?"
   ]
  },
  {
   "cell_type": "markdown",
   "metadata": {},
   "source": [
    "**Ejercicio 6**. En la imagen a continuación, cuál sería el mejor valor para k, suponiendo que el algoritmo que está utilizando es k-Nearest Neighbour.\n",
    "\n",
    "\n",
    "\n",
    "\n",
    "<img src=\"knn.png\">\n",
    "\n"
   ]
  },
  {
   "cell_type": "markdown",
   "metadata": {},
   "source": [
    "\n",
    "**Ejercicio 7**.  Qué es la entropía y ganancia de información?\n",
    "\n",
    "**Ejercicio 8**. Qué es la pre-poda de un árbol de decisión?\n",
    "\n",
    "**Ejercicio 9**. Cómo son las fronteras de decisión en un árbol de decisión?\n",
    "\n",
    "**Ejercicio 10**. Qué es la cross-validación?\n",
    "\n",
    "**Ejercicio 11**. Cuáles son las métricas de evaluación utilizadas para los modelos de regresión?\n",
    "\n",
    "**Ejercicio 12**.  Qué es un hiper-parámetro? Dar ejemplos"
   ]
  }
 ],
 "metadata": {
  "kernelspec": {
   "display_name": "Python 3",
   "language": "python",
   "name": "python3"
  },
  "language_info": {
   "codemirror_mode": {
    "name": "ipython",
    "version": 3
   },
   "file_extension": ".py",
   "mimetype": "text/x-python",
   "name": "python",
   "nbconvert_exporter": "python",
   "pygments_lexer": "ipython3",
   "version": "3.7.3"
  }
 },
 "nbformat": 4,
 "nbformat_minor": 2
}
