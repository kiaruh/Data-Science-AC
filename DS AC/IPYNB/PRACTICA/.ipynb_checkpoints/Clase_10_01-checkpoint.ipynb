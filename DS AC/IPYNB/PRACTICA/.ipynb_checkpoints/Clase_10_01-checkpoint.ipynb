{
 "cells": [
  {
   "cell_type": "markdown",
   "metadata": {},
   "source": [
    "# Ingeniería de features de las propiedades en venta.\n",
    "La idea de este notebook es que comencemos a pensar como procesar los features del Dataset de Properatti que utilizaron para la primer entrega. La ingenieria de features lleva mucho tiempo y trabajo. En esta actividad les presentamos algunas buenas prácticas y les sugerimos algunas ideas, pero queda mucho por hacer! Les invitamos a seguir procesándolo en sus casas :)"
   ]
  },
  {
   "cell_type": "code",
   "execution_count": 2,
   "metadata": {},
   "outputs": [],
   "source": [
    "import numpy as np\n",
    "import pandas as pd\n",
    "import matplotlib.pyplot as plt\n",
    "import seaborn as sns"
   ]
  },
  {
   "cell_type": "code",
   "execution_count": 3,
   "metadata": {},
   "outputs": [],
   "source": [
    "properati = pd.read_csv('Datasets/datos_properati.csv', delimiter=',', parse_dates = ['created_on'])"
   ]
  },
  {
   "cell_type": "code",
   "execution_count": 4,
   "metadata": {},
   "outputs": [
    {
     "data": {
      "text/plain": [
       "created_on                 datetime64[ns]\n",
       "operation                          object\n",
       "property_type                      object\n",
       "place_with_parent_names            object\n",
       "lat-lon                            object\n",
       "lat                               float64\n",
       "lon                               float64\n",
       "price_aprox_usd                   float64\n",
       "surface_total_in_m2               float64\n",
       "surface_covered_in_m2             float64\n",
       "price_usd_per_m2                  float64\n",
       "floor                             float64\n",
       "rooms                             float64\n",
       "expenses                          float64\n",
       "properati_url                      object\n",
       "barrio                             object\n",
       "comuna                            float64\n",
       "dtype: object"
      ]
     },
     "execution_count": 4,
     "metadata": {},
     "output_type": "execute_result"
    }
   ],
   "source": [
    "properati.dtypes"
   ]
  },
  {
   "cell_type": "markdown",
   "metadata": {},
   "source": [
    "## 1- Amigarse con el Dataset\n",
    "\n",
    "**a)** Indica a qué grupo pertenece las variables de cada columna del Dataset, siendo los grupos:\n",
    "\n",
    "- Numéricas. \n",
    "- Categóricas Nominales.\n",
    "- Categóricas Ordinales.\n",
    "- Fechas - Hora - Ubicacion.\n",
    "\n",
    "Por ejemplo, la columna \"lat\" tiene variables del tipo \" Fechas - Hora - Ubicacion\"\n"
   ]
  },
  {
   "cell_type": "code",
   "execution_count": 5,
   "metadata": {},
   "outputs": [
    {
     "name": "stdout",
     "output_type": "stream",
     "text": [
      "0 created_on\n",
      "1 operation\n",
      "2 property_type\n",
      "3 place_with_parent_names\n",
      "4 lat-lon\n",
      "5 lat\n",
      "6 lon\n",
      "7 price_aprox_usd\n",
      "8 surface_total_in_m2\n",
      "9 surface_covered_in_m2\n",
      "10 price_usd_per_m2\n",
      "11 floor\n",
      "12 rooms\n",
      "13 expenses\n",
      "14 properati_url\n",
      "15 barrio\n",
      "16 comuna\n"
     ]
    }
   ],
   "source": [
    "#for col in properati.columns:\n",
    "#    print(col)\n",
    "    \n",
    "for indice, elemento in enumerate(properati.columns):\n",
    "    print(indice, elemento)"
   ]
  },
  {
   "cell_type": "code",
   "execution_count": 11,
   "metadata": {},
   "outputs": [
    {
     "name": "stdout",
     "output_type": "stream",
     "text": [
      "0 - En la columna \"created_on\" tenemos variables de tipo \"Fechas - Hora - Ubicacion\" \n",
      "\n",
      "1 - En la columna \"operation\" tenemos variables de tipo \"\" \n",
      "\n",
      "2 - En la columna \"property_type\" tenemos variables de tipo \"\" \n",
      "\n",
      "3 - En la columna \"place_with_parent_names\" tenemos variables de tipo \"\" \n",
      "\n",
      "4 - En la columna \"lat-lon\" tenemos variables de tipo \"\" \n",
      "\n",
      "5 - En la columna \"lat\" tenemos variables de tipo \"Fechas - Hora - Ubicacion\" \n",
      "\n",
      "6 - En la columna \"lon\" tenemos variables de tipo \"\" \n",
      "\n",
      "7 - En la columna \"price_aprox_usd\" tenemos variables de tipo \"\" \n",
      "\n",
      "8 - En la columna \"surface_total_in_m2\" tenemos variables de tipo \"\" \n",
      "\n",
      "9 - En la columna \"surface_covered_in_m2\" tenemos variables de tipo \"\" \n",
      "\n",
      "10 - En la columna \"price_usd_per_m2\" tenemos variables de tipo \"\" \n",
      "\n",
      "11 - En la columna \"floor\" tenemos variables de tipo \"\" \n",
      "\n",
      "12 - En la columna \"rooms\" tenemos variables de tipo \"\" \n",
      "\n",
      "13 - En la columna \"expenses\" tenemos variables de tipo \"\" \n",
      "\n",
      "14 - En la columna \"properati_url\" tenemos variables de tipo \"\" \n",
      "\n",
      "15 - En la columna \"barrio\" tenemos variables de tipo \"\" \n",
      "\n",
      "16 - En la columna \"comuna\" tenemos variables de tipo \"\" \n",
      "\n"
     ]
    }
   ],
   "source": [
    "tipo_variable = [None]*len(properati.columns)\n",
    "#Numéricas.\n",
    "#Categóricas Nominales.\n",
    "#Categóricas Ordinales.\n",
    "#Fechas - Hora - Ubicacion.\n",
    "tipo_variable[0] = 'Fechas - Hora - Ubicacion'\n",
    "tipo_variable[1] = ''\n",
    "tipo_variable[2] = ''\n",
    "tipo_variable[3] = ''\n",
    "tipo_variable[4] = ''\n",
    "tipo_variable[5] = 'Fechas - Hora - Ubicacion'\n",
    "tipo_variable[6] = ''\n",
    "tipo_variable[7] = ''\n",
    "tipo_variable[8] = ''\n",
    "tipo_variable[9] = ''\n",
    "tipo_variable[10] = ''\n",
    "tipo_variable[11] = ''\n",
    "tipo_variable[12] = ''\n",
    "tipo_variable[13] = ''\n",
    "tipo_variable[14] = ''\n",
    "tipo_variable[15] = ''\n",
    "tipo_variable[16] = ''\n",
    "\n",
    "for orden,col in enumerate(properati.columns):\n",
    "    print('{} - En la columna \"{}\" tenemos variables de tipo \"{}\" \\n'.format(orden,col,tipo_variable[orden]))"
   ]
  },
  {
   "cell_type": "markdown",
   "metadata": {},
   "source": [
    "**b-** Indica qué columnas tienen NaNs. En caso de tenerlos, cuántos"
   ]
  },
  {
   "cell_type": "code",
   "execution_count": 12,
   "metadata": {},
   "outputs": [
    {
     "name": "stdout",
     "output_type": "stream",
     "text": [
      "<class 'pandas.core.frame.DataFrame'>\n",
      "RangeIndex: 18979 entries, 0 to 18978\n",
      "Data columns (total 17 columns):\n",
      "created_on                 18979 non-null datetime64[ns]\n",
      "operation                  18979 non-null object\n",
      "property_type              18979 non-null object\n",
      "place_with_parent_names    18979 non-null object\n",
      "lat-lon                    18979 non-null object\n",
      "lat                        18979 non-null float64\n",
      "lon                        18979 non-null float64\n",
      "price_aprox_usd            17445 non-null float64\n",
      "surface_total_in_m2        16586 non-null float64\n",
      "surface_covered_in_m2      16876 non-null float64\n",
      "price_usd_per_m2           16037 non-null float64\n",
      "floor                      2756 non-null float64\n",
      "rooms                      13517 non-null float64\n",
      "expenses                   3815 non-null float64\n",
      "properati_url              18979 non-null object\n",
      "barrio                     18979 non-null object\n",
      "comuna                     18979 non-null float64\n",
      "dtypes: datetime64[ns](1), float64(10), object(6)\n",
      "memory usage: 2.5+ MB\n"
     ]
    },
    {
     "data": {
      "text/html": [
       "<div>\n",
       "<style scoped>\n",
       "    .dataframe tbody tr th:only-of-type {\n",
       "        vertical-align: middle;\n",
       "    }\n",
       "\n",
       "    .dataframe tbody tr th {\n",
       "        vertical-align: top;\n",
       "    }\n",
       "\n",
       "    .dataframe thead th {\n",
       "        text-align: right;\n",
       "    }\n",
       "</style>\n",
       "<table border=\"1\" class=\"dataframe\">\n",
       "  <thead>\n",
       "    <tr style=\"text-align: right;\">\n",
       "      <th></th>\n",
       "      <th>Total</th>\n",
       "      <th>Percent</th>\n",
       "    </tr>\n",
       "  </thead>\n",
       "  <tbody>\n",
       "    <tr>\n",
       "      <th>floor</th>\n",
       "      <td>16223</td>\n",
       "      <td>0.854787</td>\n",
       "    </tr>\n",
       "    <tr>\n",
       "      <th>expenses</th>\n",
       "      <td>15164</td>\n",
       "      <td>0.798988</td>\n",
       "    </tr>\n",
       "    <tr>\n",
       "      <th>rooms</th>\n",
       "      <td>5462</td>\n",
       "      <td>0.287792</td>\n",
       "    </tr>\n",
       "    <tr>\n",
       "      <th>price_usd_per_m2</th>\n",
       "      <td>2942</td>\n",
       "      <td>0.155013</td>\n",
       "    </tr>\n",
       "    <tr>\n",
       "      <th>surface_total_in_m2</th>\n",
       "      <td>2393</td>\n",
       "      <td>0.126087</td>\n",
       "    </tr>\n",
       "    <tr>\n",
       "      <th>surface_covered_in_m2</th>\n",
       "      <td>2103</td>\n",
       "      <td>0.110807</td>\n",
       "    </tr>\n",
       "    <tr>\n",
       "      <th>price_aprox_usd</th>\n",
       "      <td>1534</td>\n",
       "      <td>0.080826</td>\n",
       "    </tr>\n",
       "    <tr>\n",
       "      <th>lat-lon</th>\n",
       "      <td>0</td>\n",
       "      <td>0.000000</td>\n",
       "    </tr>\n",
       "    <tr>\n",
       "      <th>operation</th>\n",
       "      <td>0</td>\n",
       "      <td>0.000000</td>\n",
       "    </tr>\n",
       "    <tr>\n",
       "      <th>property_type</th>\n",
       "      <td>0</td>\n",
       "      <td>0.000000</td>\n",
       "    </tr>\n",
       "    <tr>\n",
       "      <th>place_with_parent_names</th>\n",
       "      <td>0</td>\n",
       "      <td>0.000000</td>\n",
       "    </tr>\n",
       "    <tr>\n",
       "      <th>comuna</th>\n",
       "      <td>0</td>\n",
       "      <td>0.000000</td>\n",
       "    </tr>\n",
       "    <tr>\n",
       "      <th>lat</th>\n",
       "      <td>0</td>\n",
       "      <td>0.000000</td>\n",
       "    </tr>\n",
       "    <tr>\n",
       "      <th>lon</th>\n",
       "      <td>0</td>\n",
       "      <td>0.000000</td>\n",
       "    </tr>\n",
       "    <tr>\n",
       "      <th>barrio</th>\n",
       "      <td>0</td>\n",
       "      <td>0.000000</td>\n",
       "    </tr>\n",
       "    <tr>\n",
       "      <th>properati_url</th>\n",
       "      <td>0</td>\n",
       "      <td>0.000000</td>\n",
       "    </tr>\n",
       "    <tr>\n",
       "      <th>created_on</th>\n",
       "      <td>0</td>\n",
       "      <td>0.000000</td>\n",
       "    </tr>\n",
       "  </tbody>\n",
       "</table>\n",
       "</div>"
      ],
      "text/plain": [
       "                         Total   Percent\n",
       "floor                    16223  0.854787\n",
       "expenses                 15164  0.798988\n",
       "rooms                     5462  0.287792\n",
       "price_usd_per_m2          2942  0.155013\n",
       "surface_total_in_m2       2393  0.126087\n",
       "surface_covered_in_m2     2103  0.110807\n",
       "price_aprox_usd           1534  0.080826\n",
       "lat-lon                      0  0.000000\n",
       "operation                    0  0.000000\n",
       "property_type                0  0.000000\n",
       "place_with_parent_names      0  0.000000\n",
       "comuna                       0  0.000000\n",
       "lat                          0  0.000000\n",
       "lon                          0  0.000000\n",
       "barrio                       0  0.000000\n",
       "properati_url                0  0.000000\n",
       "created_on                   0  0.000000"
      ]
     },
     "execution_count": 12,
     "metadata": {},
     "output_type": "execute_result"
    }
   ],
   "source": [
    "# Respuesta\n",
    "def draw_missing_data_table(df):\n",
    "    total = df.isnull().sum().sort_values(ascending=False)\n",
    "    percent = (df.isnull().sum()/df.isnull().count()).sort_values(ascending=False)\n",
    "    missing_data = pd.concat([total, percent], axis=1, keys=['Total', 'Percent'])\n",
    "    return missing_data\n",
    "\n",
    "properati.info()\n",
    "draw_missing_data_table(properati)"
   ]
  },
  {
   "cell_type": "markdown",
   "metadata": {},
   "source": [
    "## 2- Manejo de NaNs.\n",
    "Muchas veces no queremos eliminar las instancias que posean NaNs en algun atributo / feature. \n",
    "\n",
    "\n",
    "**a)** Les proponemos utilizar el imputer de Scikit-learn para reemplazar los valores faltantes con algún indicador estadústico. Por ejemplo, en la columna \"price_usd_per_m2\" podemos reemplazar los valores faltantes por la mediana (les parece correcta esta elección?)."
   ]
  },
  {
   "cell_type": "code",
   "execution_count": 13,
   "metadata": {},
   "outputs": [
    {
     "name": "stderr",
     "output_type": "stream",
     "text": [
      "C:\\Users\\user\\Anaconda3\\envs\\AcamicaDs1\\lib\\site-packages\\sklearn\\utils\\deprecation.py:66: DeprecationWarning: Class Imputer is deprecated; Imputer was deprecated in version 0.20 and will be removed in 0.22. Import impute.SimpleImputer from sklearn instead.\n",
      "  warnings.warn(msg, category=DeprecationWarning)\n"
     ]
    }
   ],
   "source": [
    "from sklearn.preprocessing import Imputer\n",
    "#from sklearn.impute import SimpleImputer\n",
    "#imp = SimpleImputer(missing_values='NaN', strategy='median', axis=0)\n",
    "imp = Imputer(missing_values='NaN', strategy='median', axis=0)\n",
    "## Completar con la instruccion fit_transform. Utilizar como argumento properati[['price_aprox_usd']]\n",
    "properati_price_imp  = imp.fit_transform(properati[['price_aprox_usd']])"
   ]
  },
  {
   "cell_type": "code",
   "execution_count": 14,
   "metadata": {},
   "outputs": [
    {
     "name": "stdout",
     "output_type": "stream",
     "text": [
      "[180000.]\n"
     ]
    },
    {
     "data": {
      "text/html": [
       "<div>\n",
       "<style scoped>\n",
       "    .dataframe tbody tr th:only-of-type {\n",
       "        vertical-align: middle;\n",
       "    }\n",
       "\n",
       "    .dataframe tbody tr th {\n",
       "        vertical-align: top;\n",
       "    }\n",
       "\n",
       "    .dataframe thead th {\n",
       "        text-align: right;\n",
       "    }\n",
       "</style>\n",
       "<table border=\"1\" class=\"dataframe\">\n",
       "  <thead>\n",
       "    <tr style=\"text-align: right;\">\n",
       "      <th></th>\n",
       "      <th>Total</th>\n",
       "      <th>Percent</th>\n",
       "    </tr>\n",
       "  </thead>\n",
       "  <tbody>\n",
       "    <tr>\n",
       "      <th>floor</th>\n",
       "      <td>16223</td>\n",
       "      <td>0.854787</td>\n",
       "    </tr>\n",
       "    <tr>\n",
       "      <th>expenses</th>\n",
       "      <td>15164</td>\n",
       "      <td>0.798988</td>\n",
       "    </tr>\n",
       "    <tr>\n",
       "      <th>rooms</th>\n",
       "      <td>5462</td>\n",
       "      <td>0.287792</td>\n",
       "    </tr>\n",
       "    <tr>\n",
       "      <th>price_usd_per_m2</th>\n",
       "      <td>2942</td>\n",
       "      <td>0.155013</td>\n",
       "    </tr>\n",
       "    <tr>\n",
       "      <th>surface_total_in_m2</th>\n",
       "      <td>2393</td>\n",
       "      <td>0.126087</td>\n",
       "    </tr>\n",
       "    <tr>\n",
       "      <th>surface_covered_in_m2</th>\n",
       "      <td>2103</td>\n",
       "      <td>0.110807</td>\n",
       "    </tr>\n",
       "    <tr>\n",
       "      <th>price_aprox_usd</th>\n",
       "      <td>1534</td>\n",
       "      <td>0.080826</td>\n",
       "    </tr>\n",
       "    <tr>\n",
       "      <th>lat-lon</th>\n",
       "      <td>0</td>\n",
       "      <td>0.000000</td>\n",
       "    </tr>\n",
       "    <tr>\n",
       "      <th>operation</th>\n",
       "      <td>0</td>\n",
       "      <td>0.000000</td>\n",
       "    </tr>\n",
       "    <tr>\n",
       "      <th>property_type</th>\n",
       "      <td>0</td>\n",
       "      <td>0.000000</td>\n",
       "    </tr>\n",
       "    <tr>\n",
       "      <th>place_with_parent_names</th>\n",
       "      <td>0</td>\n",
       "      <td>0.000000</td>\n",
       "    </tr>\n",
       "    <tr>\n",
       "      <th>comuna</th>\n",
       "      <td>0</td>\n",
       "      <td>0.000000</td>\n",
       "    </tr>\n",
       "    <tr>\n",
       "      <th>lat</th>\n",
       "      <td>0</td>\n",
       "      <td>0.000000</td>\n",
       "    </tr>\n",
       "    <tr>\n",
       "      <th>lon</th>\n",
       "      <td>0</td>\n",
       "      <td>0.000000</td>\n",
       "    </tr>\n",
       "    <tr>\n",
       "      <th>barrio</th>\n",
       "      <td>0</td>\n",
       "      <td>0.000000</td>\n",
       "    </tr>\n",
       "    <tr>\n",
       "      <th>properati_url</th>\n",
       "      <td>0</td>\n",
       "      <td>0.000000</td>\n",
       "    </tr>\n",
       "    <tr>\n",
       "      <th>created_on</th>\n",
       "      <td>0</td>\n",
       "      <td>0.000000</td>\n",
       "    </tr>\n",
       "  </tbody>\n",
       "</table>\n",
       "</div>"
      ],
      "text/plain": [
       "                         Total   Percent\n",
       "floor                    16223  0.854787\n",
       "expenses                 15164  0.798988\n",
       "rooms                     5462  0.287792\n",
       "price_usd_per_m2          2942  0.155013\n",
       "surface_total_in_m2       2393  0.126087\n",
       "surface_covered_in_m2     2103  0.110807\n",
       "price_aprox_usd           1534  0.080826\n",
       "lat-lon                      0  0.000000\n",
       "operation                    0  0.000000\n",
       "property_type                0  0.000000\n",
       "place_with_parent_names      0  0.000000\n",
       "comuna                       0  0.000000\n",
       "lat                          0  0.000000\n",
       "lon                          0  0.000000\n",
       "barrio                       0  0.000000\n",
       "properati_url                0  0.000000\n",
       "created_on                   0  0.000000"
      ]
     },
     "execution_count": 14,
     "metadata": {},
     "output_type": "execute_result"
    }
   ],
   "source": [
    "print(imp.statistics_)\n",
    "draw_missing_data_table(properati)"
   ]
  },
  {
   "cell_type": "markdown",
   "metadata": {},
   "source": [
    "**b)** Chequear cuántas columnas tiene la variable \"properati_price_imp\". Tiene algún NaN?"
   ]
  },
  {
   "cell_type": "code",
   "execution_count": 49,
   "metadata": {},
   "outputs": [
    {
     "data": {
      "text/plain": [
       "False"
      ]
     },
     "execution_count": 49,
     "metadata": {},
     "output_type": "execute_result"
    }
   ],
   "source": [
    "### Respuesta\n",
    "pd.isnull(properati_price_imp).any()"
   ]
  },
  {
   "cell_type": "code",
   "execution_count": 66,
   "metadata": {},
   "outputs": [
    {
     "data": {
      "text/plain": [
       "0    2000000.0\n",
       "1     790000.0\n",
       "2     343000.0\n",
       "Name: price_aprox_usd, dtype: float64"
      ]
     },
     "execution_count": 66,
     "metadata": {},
     "output_type": "execute_result"
    }
   ],
   "source": [
    "properati['price_aprox_usd'].head(3)"
   ]
  },
  {
   "cell_type": "code",
   "execution_count": 65,
   "metadata": {},
   "outputs": [
    {
     "data": {
      "text/plain": [
       "array([[2000000.],\n",
       "       [ 790000.],\n",
       "       [ 343000.]])"
      ]
     },
     "execution_count": 65,
     "metadata": {},
     "output_type": "execute_result"
    }
   ],
   "source": [
    "properati_price_imp[:3,]"
   ]
  },
  {
   "cell_type": "markdown",
   "metadata": {},
   "source": [
    "**c)** Reemplazar los valores de la columna \"properati['price_aprox_usd']\"  por los valores de la variable \"properati_price_imp\"."
   ]
  },
  {
   "cell_type": "code",
   "execution_count": 73,
   "metadata": {},
   "outputs": [
    {
     "data": {
      "text/plain": [
       "0    2000000.0\n",
       "1     790000.0\n",
       "2     343000.0\n",
       "Name: price_aprox_usd, dtype: float64"
      ]
     },
     "execution_count": 73,
     "metadata": {},
     "output_type": "execute_result"
    }
   ],
   "source": [
    "### Respuesta\n",
    "properati.at[properati.index, 'price_aprox_usd'] = properati_price_imp\n",
    "properati['price_aprox_usd'].head(3)"
   ]
  },
  {
   "cell_type": "code",
   "execution_count": 76,
   "metadata": {},
   "outputs": [],
   "source": [
    "properati['price_aprox_usd']=properati_price_imp"
   ]
  },
  {
   "cell_type": "code",
   "execution_count": null,
   "metadata": {},
   "outputs": [],
   "source": []
  },
  {
   "cell_type": "markdown",
   "metadata": {},
   "source": [
    "**d)** Responder:\n",
    "    - Cuáles son ahora las instancias con valores faltantes?\n",
    "    - Se modificó la mediana de la columna 'price_aprox_usd'? Por qué?\n",
    "    - Proponer (y NO efectuar) una estrategia para procesar otra columna con valores faltantes."
   ]
  },
  {
   "cell_type": "code",
   "execution_count": 86,
   "metadata": {},
   "outputs": [
    {
     "data": {
      "text/plain": [
       "created_on                 False\n",
       "operation                  False\n",
       "property_type              False\n",
       "place_with_parent_names    False\n",
       "lat-lon                    False\n",
       "lat                        False\n",
       "lon                        False\n",
       "price_aprox_usd            False\n",
       "surface_total_in_m2         True\n",
       "surface_covered_in_m2       True\n",
       "price_usd_per_m2            True\n",
       "floor                       True\n",
       "rooms                       True\n",
       "expenses                    True\n",
       "properati_url              False\n",
       "barrio                     False\n",
       "comuna                     False\n",
       "dtype: bool"
      ]
     },
     "execution_count": 86,
     "metadata": {},
     "output_type": "execute_result"
    }
   ],
   "source": [
    "properati.isnull().any()"
   ]
  },
  {
   "cell_type": "markdown",
   "metadata": {},
   "source": [
    "**e)** Eliminar el resto de las features que tienen valores faltantes. "
   ]
  },
  {
   "cell_type": "markdown",
   "metadata": {},
   "source": [
    "## 3- Extrayendo información útil\n",
    "\n",
    "Los algoritmos de aprendizaje automático que utilizaremos reconocerán patrones en los atributos (o combinaciones de ellos) que les introduzcamos. Entonces, la calidad de funcionamiento del algoritmo esta íntimamente relacionada al preprocesamiento de estos atributos. \n",
    "\n",
    "\n",
    "En este caso, las variables del grupo \"Fechas - Hora - Ubicacion\" pocas veces nos dan la información que queremos y muchas veces hay que reescribirlas. Les proponemos crear **nuevas features** de las cuales sea mas fácil extraer informacion. \n",
    "\n",
    "\n",
    "**a)** Les proponemos crear 3 features nuevas, una con el año en que fue publicada cada casa, otra con el mes, y otra con el día. Tomamos como materia prima la información de la columna 'created_on'.\n",
    "\n",
    "Les mostramos un ejemplo creando la columna \"anio\", y les proponemos que hagan \"mes\" y \"dias\" por su cuenta."
   ]
  },
  {
   "cell_type": "code",
   "execution_count": 87,
   "metadata": {},
   "outputs": [],
   "source": [
    "properati['anio'] = pd.DataFrame((properati['created_on'].map(lambda x: x.year)))\n",
    "if False: properati['mes'] = None\n",
    "if False: properati['dia'] = None"
   ]
  },
  {
   "cell_type": "markdown",
   "metadata": {},
   "source": [
    "### 4- Manipulación de variables categóricas nominales (o dummies).\n",
    "Usando LabelEncoder de Scikit-learn podemos transformar nuestras variables categóricas en numéricas sin pasar por variables dummies. Luego, vamos a utilizar OneHotEncoder para transformar las categorías numéricas en categorías binarias.\n",
    "\n",
    "\n",
    "Nos centraremos en la columna 'property_type'."
   ]
  },
  {
   "cell_type": "code",
   "execution_count": 88,
   "metadata": {},
   "outputs": [
    {
     "data": {
      "text/plain": [
       "0    house\n",
       "1    store\n",
       "2    store\n",
       "3    store\n",
       "4    store\n",
       "Name: property_type, dtype: object"
      ]
     },
     "execution_count": 88,
     "metadata": {},
     "output_type": "execute_result"
    }
   ],
   "source": [
    "from sklearn.preprocessing import LabelEncoder\n",
    "from sklearn.preprocessing import OneHotEncoder\n",
    "\n",
    " \n",
    "(properati['property_type']).head()"
   ]
  },
  {
   "cell_type": "code",
   "execution_count": 89,
   "metadata": {},
   "outputs": [
    {
     "data": {
      "text/plain": [
       "LabelEncoder()"
      ]
     },
     "execution_count": 89,
     "metadata": {},
     "output_type": "execute_result"
    }
   ],
   "source": [
    "# Llamamos al algoritmo\n",
    "le_prop_type = LabelEncoder()\n",
    "# Lo fiteamos con las categorias que tenemos en nuestro dataset.\n",
    "le_prop_type.fit(properati['property_type'])"
   ]
  },
  {
   "cell_type": "code",
   "execution_count": 90,
   "metadata": {},
   "outputs": [
    {
     "data": {
      "text/plain": [
       "array(['PH', 'apartment', 'house', 'store'], dtype=object)"
      ]
     },
     "execution_count": 90,
     "metadata": {},
     "output_type": "execute_result"
    }
   ],
   "source": [
    "# Estas son las categorias que eligio el algoritmo. Les asignara un numero a cada categoria, \n",
    "# yendo de izquierda a derecha [recordemos que python cuenta desde 0]\n",
    "le_prop_type.classes_"
   ]
  },
  {
   "cell_type": "code",
   "execution_count": 91,
   "metadata": {},
   "outputs": [],
   "source": [
    "#Transformamos la categoria \"property_type\" en numeros.\n",
    "cat_prop_type = le_prop_type.transform(properati['property_type'])"
   ]
  },
  {
   "cell_type": "code",
   "execution_count": 96,
   "metadata": {},
   "outputs": [
    {
     "name": "stdout",
     "output_type": "stream",
     "text": [
      "[2 3 3 ... 3 1 1]\n"
     ]
    },
    {
     "data": {
      "text/plain": [
       "[<matplotlib.lines.Line2D at 0x1d0ad63e780>]"
      ]
     },
     "execution_count": 96,
     "metadata": {},
     "output_type": "execute_result"
    },
    {
     "data": {
      "image/png": "[encoded data removed]",
      "text/plain": [
       "<Figure size 432x288 with 1 Axes>"
      ]
     },
     "metadata": {
      "needs_background": "light"
     },
     "output_type": "display_data"
    }
   ],
   "source": [
    "#Les proponemos formas de visualizar que hizo sckit-learn\n",
    "print(cat_prop_type)\n",
    "plt.plot(cat_prop_type,'o')"
   ]
  },
  {
   "cell_type": "code",
   "execution_count": 97,
   "metadata": {},
   "outputs": [],
   "source": [
    "# Actualizamos el viejo dataset\n",
    "properati['property_type'] = cat_prop_type"
   ]
  },
  {
   "cell_type": "markdown",
   "metadata": {},
   "source": [
    "Ahora vamos a transformar las categorías numéricas que acabamos de definir, en binarias. De lo contrario, el algoritmo de ML que vayamos a usar las interpretaria como variables categoricas ordinales [y no lo son!]."
   ]
  },
  {
   "cell_type": "code",
   "execution_count": 98,
   "metadata": {},
   "outputs": [
    {
     "name": "stdout",
     "output_type": "stream",
     "text": [
      "[[2]\n",
      " [3]\n",
      " [3]\n",
      " ...\n",
      " [3]\n",
      " [1]\n",
      " [1]]\n"
     ]
    }
   ],
   "source": [
    "onehot_encoder = OneHotEncoder(sparse = False)\n",
    "# No olvidemos que hay que cambiarle las dimensiones al set de etrenamiento del OneHotEncoder!\n",
    "cat_prop_type_rs = cat_prop_type.reshape(-1,1)\n",
    "print(cat_prop_type_rs)"
   ]
  },
  {
   "cell_type": "code",
   "execution_count": 99,
   "metadata": {},
   "outputs": [
    {
     "name": "stdout",
     "output_type": "stream",
     "text": [
      "[[0. 0. 1. 0.]\n",
      " [0. 0. 0. 1.]\n",
      " [0. 0. 0. 1.]\n",
      " ...\n",
      " [0. 0. 0. 1.]\n",
      " [0. 1. 0. 0.]\n",
      " [0. 1. 0. 0.]]\n"
     ]
    },
    {
     "name": "stderr",
     "output_type": "stream",
     "text": [
      "C:\\Users\\user\\Anaconda3\\envs\\AcamicaDs1\\lib\\site-packages\\sklearn\\preprocessing\\_encoders.py:415: FutureWarning: The handling of integer data will change in version 0.22. Currently, the categories are determined based on the range [0, max(values)], while in the future they will be determined based on the unique values.\n",
      "If you want the future behaviour and silence this warning, you can specify \"categories='auto'\".\n",
      "In case you used a LabelEncoder before this OneHotEncoder to convert the categories to integers, then you can now use the OneHotEncoder directly.\n",
      "  warnings.warn(msg, FutureWarning)\n"
     ]
    }
   ],
   "source": [
    "#Como estamos cancheres, realizamos directamente el fit y transform juntos!\n",
    "cat_prop_type_encoded = onehot_encoder.fit_transform(cat_prop_type_rs)\n",
    "print(cat_prop_type_encoded)"
   ]
  },
  {
   "cell_type": "markdown",
   "metadata": {},
   "source": [
    "**a)** RESPONDER:\n",
    "\n",
    "    - Por qué la variable 'cat_prop_type_encoded' tiene esa forma? Qué significa cada cosa?\n",
    "    - Podriamos haber usado el OneHotEncoder sin utilizar primero el LabelEncoder?"
   ]
  },
  {
   "cell_type": "code",
   "execution_count": 100,
   "metadata": {},
   "outputs": [
    {
     "name": "stdout",
     "output_type": "stream",
     "text": [
      "[[0. 0. 1. 0.]\n",
      " [0. 0. 0. 1.]\n",
      " [0. 0. 0. 1.]\n",
      " ...\n",
      " [0. 0. 0. 1.]\n",
      " [0. 1. 0. 0.]\n",
      " [0. 1. 0. 0.]]\n"
     ]
    }
   ],
   "source": [
    "print(cat_prop_type_encoded)"
   ]
  },
  {
   "cell_type": "markdown",
   "metadata": {},
   "source": [
    "**b)** Scikit-learn tiene una excelente documentación. Te proponemos que lo chequees por vos misme. Te proponemos que explores https://scikit-learn.org/stable/modules/generated/sklearn.preprocessing.OneHotEncoder.html. Qué funciones tiene? Qué te parece que hace la función *inverse_transform*?"
   ]
  },
  {
   "cell_type": "markdown",
   "metadata": {},
   "source": [
    "**c)** Utilizando la estrategia que quieras, elegí otra variable dummie y convertila en categórica binaria [No te olvides que aprender a programas es copiar y pegar. Sin embargo, es muy importante que estes segure de saber qué estas haciendo en cada paso]"
   ]
  },
  {
   "cell_type": "markdown",
   "metadata": {},
   "source": [
    "### 5- Desafio.\n",
    "- Crea una columna que indique el precio promedio por m2 en cada barrio. Te parece que es útil? Para qué?\n",
    "- Crea una columna que tenga un 1 si la propiedad es del sur de la Ciudad de Buenos Aires y 0 si no lo es (y es del norte).\n"
   ]
  },
  {
   "cell_type": "code",
   "execution_count": 103,
   "metadata": {},
   "outputs": [
    {
     "ename": "NameError",
     "evalue": "name 'barrio' is not defined",
     "output_type": "error",
     "traceback": [
      "\u001b[1;31m---------------------------------------------------------------------------\u001b[0m",
      "\u001b[1;31mNameError\u001b[0m                                 Traceback (most recent call last)",
      "\u001b[1;32m<ipython-input-103-45ba492c175e>\u001b[0m in \u001b[0;36m<module>\u001b[1;34m\u001b[0m\n\u001b[1;32m----> 1\u001b[1;33m \u001b[0mbarrio\u001b[0m\u001b[1;33m[\u001b[0m\u001b[1;34m'10'\u001b[0m\u001b[1;33m]\u001b[0m\u001b[1;33m\u001b[0m\u001b[1;33m\u001b[0m\u001b[0m\n\u001b[0m",
      "\u001b[1;31mNameError\u001b[0m: name 'barrio' is not defined"
     ]
    }
   ],
   "source": []
  }
 ],
 "metadata": {
  "kernelspec": {
   "display_name": "Python 3",
   "language": "python",
   "name": "python3"
  },
  "language_info": {
   "codemirror_mode": {
    "name": "ipython",
    "version": 3
   },
   "file_extension": ".py",
   "mimetype": "text/x-python",
   "name": "python",
   "nbconvert_exporter": "python",
   "pygments_lexer": "ipython3",
   "version": "3.7.3"
  }
 },
 "nbformat": 4,
 "nbformat_minor": 4
}
