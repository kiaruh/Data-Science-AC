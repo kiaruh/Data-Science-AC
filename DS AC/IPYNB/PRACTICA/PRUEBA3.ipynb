{
 "cells": [
  {
   "cell_type": "code",
   "execution_count": 21,
   "metadata": {},
   "outputs": [
    {
     "ename": "SyntaxError",
     "evalue": "invalid syntax (<ipython-input-21-6c7ab757f192>, line 4)",
     "output_type": "error",
     "traceback": [
      "\u001b[1;36m  File \u001b[1;32m\"<ipython-input-21-6c7ab757f192>\"\u001b[1;36m, line \u001b[1;32m4\u001b[0m\n\u001b[1;33m    while numero != 0 :\u001b[0m\n\u001b[1;37m        ^\u001b[0m\n\u001b[1;31mSyntaxError\u001b[0m\u001b[1;31m:\u001b[0m invalid syntax\n"
     ]
    }
   ],
   "source": [
    "\n",
    "def ingresar (arreglo1):\n",
    "    numero = 1\n",
    "    numero = int(input(\"ingrese un numero: \")\n",
    "    while numero != 0 :\n",
    "        arreglo1.append(numero)\n",
    "        numero = int (input(\"ingrese un numero\")\n",
    "                      \n",
    "                    \n",
    "\n",
    "def mostrar (arreglo1):\n",
    "    for i in range (len(arreglo1):\n",
    "        print (arreglo1(arreglo1))\n",
    "\n",
    "def main():\n",
    "    int(input(\"ingrese un numero: \"))\n",
    "    ingresar(arreglo1)\n",
    "    mostrar(arreglo1)"
   ]
  },
  {
   "cell_type": "code",
   "execution_count": 6,
   "metadata": {},
   "outputs": [
    {
     "ename": "SyntaxError",
     "evalue": "invalid syntax (<ipython-input-6-0c6087a2007b>, line 3)",
     "output_type": "error",
     "traceback": [
      "\u001b[1;36m  File \u001b[1;32m\"<ipython-input-6-0c6087a2007b>\"\u001b[1;36m, line \u001b[1;32m3\u001b[0m\n\u001b[1;33m    x for x in b #if x not in a:\u001b[0m\n\u001b[1;37m        ^\u001b[0m\n\u001b[1;31mSyntaxError\u001b[0m\u001b[1;31m:\u001b[0m invalid syntax\n"
     ]
    }
   ],
   "source": [
    "a = (1,2,3,4)\n",
    "b = (2,3,5,6)\n",
    "x for x in b #if x not in a:\n",
    "   "
   ]
  },
  {
   "cell_type": "code",
   "execution_count": null,
   "metadata": {},
   "outputs": [],
   "source": []
  }
 ],
 "metadata": {
  "kernelspec": {
   "display_name": "Python 3",
   "language": "python",
   "name": "python3"
  },
  "language_info": {
   "codemirror_mode": {
    "name": "ipython",
    "version": 3
   },
   "file_extension": ".py",
   "mimetype": "text/x-python",
   "name": "python",
   "nbconvert_exporter": "python",
   "pygments_lexer": "ipython3",
   "version": "3.7.5"
  }
 },
 "nbformat": 4,
 "nbformat_minor": 2
}
