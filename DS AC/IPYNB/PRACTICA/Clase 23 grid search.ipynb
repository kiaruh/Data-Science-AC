{
 "cells": [
  {
   "cell_type": "markdown",
   "metadata": {},
   "source": [
    "## Optimizacion y evaluacion de modelos\n",
    "\n",
    "Vamos a trabajar sobre lo que ya trabajamos en el Dataset de Paltas. Para eso, primero vamos a seleccionar los datos de Paltas convencionales de Chicago siguiendo exactamente los mismos pasos que la clase 18."
   ]
  },
  {
   "cell_type": "code",
   "execution_count": 1,
   "metadata": {},
   "outputs": [],
   "source": [
    "import numpy as np\n",
    "import pandas as pd\n",
    "import matplotlib.pyplot as plt\n",
    "import seaborn as sns\n",
    "import datetime as dt\n",
    "\n",
    "sns.set()"
   ]
  },
  {
   "cell_type": "code",
   "execution_count": 3,
   "metadata": {},
   "outputs": [
    {
     "name": "stderr",
     "output_type": "stream",
     "text": [
      "C:\\Users\\user\\Anaconda3\\envs\\DataScienceAC\\lib\\site-packages\\ipykernel_launcher.py:9: SettingWithCopyWarning: \n",
      "A value is trying to be set on a copy of a slice from a DataFrame.\n",
      "Try using .loc[row_indexer,col_indexer] = value instead\n",
      "\n",
      "See the caveats in the documentation: http://pandas.pydata.org/pandas-docs/stable/indexing.html#indexing-view-versus-copy\n",
      "  if __name__ == '__main__':\n"
     ]
    }
   ],
   "source": [
    "palta = pd.read_csv('Datasets/avocado.csv', delimiter=',', parse_dates=[\"Date\"])\n",
    "\n",
    "palta.drop('Unnamed: 0', axis = 1, inplace = True)\n",
    "palta.sort_values(\"Date\", inplace = True)\n",
    "palta.reset_index(inplace = True, drop  = True)\n",
    "\n",
    "palta_chicago = palta[palta.region == 'Chicago']\n",
    "palta_chicago.reset_index(inplace = True, drop = True)\n",
    "palta_chicago['Date']=palta_chicago['Date'].map(dt.datetime.toordinal)\n",
    "palta_chicago_convencional = palta_chicago[palta_chicago.type == 'conventional']\n",
    "\n",
    "X = palta_chicago_convencional.Date.values.reshape(-1,1)\n",
    "y = palta_chicago_convencional.AveragePrice.values  "
   ]
  },
  {
   "cell_type": "markdown",
   "metadata": {},
   "source": [
    "Antes de empezar a trabajar, vamos a separar nuestros datos en el conjunto de datos de entrenamiento y el de Held-out."
   ]
  },
  {
   "cell_type": "code",
   "execution_count": null,
   "metadata": {},
   "outputs": [],
   "source": [
    "### importar de Sckit-learn la funcion \"train_test_split\"\n",
    "### Separar los datos de entrenamiento y Held-out utilizando la funcion que acabamos de importar. \n",
    "\n",
    "### IMPORTAR\n",
    "X_train, X_test, y_train, y_test = #COMPLETAR"
   ]
  },
  {
   "cell_type": "code",
   "execution_count": 4,
   "metadata": {},
   "outputs": [],
   "source": [
    "# RESPUESTA\n",
    "from sklearn.model_selection import train_test_split\n",
    "X_train, X_test, y_train, y_test = train_test_split(X, y, test_size=0.30, random_state=0)"
   ]
  },
  {
   "cell_type": "code",
   "execution_count": 12,
   "metadata": {},
   "outputs": [],
   "source": [
    "### Para realizar el gridsearch, seguir los siguientes pasos:\n",
    "### 1) Importa la funcion \"DecisionTreeRegressor\"\n",
    "### 2) Cargar un DecisionTreeRegressor en la variable \"rgr_tree\"\n",
    "### 3) En la variable diccionario \"parameters\" especificar qué valores \n",
    "### son en los que queremos realizar el Grid Search (sólo tenes que completar la ayuda!)\n",
    "### 4) Ejecutar el Grid search. Buscá en internet qué significa la variable cv y completá. \n",
    "\n",
    "from sklearn.model_selection import GridSearchCV\n",
    "### IMPORTAR\n",
    "\n",
    "#rgr_tree = ### COMPLETAR\n",
    "#parameters = {'criterion':['mae', 'mse'], 'max_depth':###completar  con una lista de numeros}\n",
    "#clf = GridSearchCV(rgr_tree, parameters, cv=### completar)\n"
   ]
  },
  {
   "cell_type": "code",
   "execution_count": 6,
   "metadata": {},
   "outputs": [],
   "source": [
    "### RESPUESTA\n",
    "from sklearn.tree import DecisionTreeRegressor\n",
    "from sklearn.model_selection import GridSearchCV\n",
    "\n",
    "\n",
    "rgr_tree = DecisionTreeRegressor()\n",
    "parameters = {'criterion':['mae', 'mse'], 'max_depth':[2,5,7,10,15,20]}\n",
    "clf = GridSearchCV(rgr_tree, parameters, cv=5,return_train_score=True)\n"
   ]
  },
  {
   "cell_type": "code",
   "execution_count": 13,
   "metadata": {},
   "outputs": [],
   "source": [
    "GridSearchCV?"
   ]
  },
  {
   "cell_type": "code",
   "execution_count": 7,
   "metadata": {},
   "outputs": [
    {
     "name": "stderr",
     "output_type": "stream",
     "text": [
      "C:\\Users\\user\\Anaconda3\\envs\\DataScienceAC\\lib\\site-packages\\sklearn\\model_selection\\_search.py:813: DeprecationWarning: The default of the `iid` parameter will change from True to False in version 0.22 and will be removed in 0.24. This will change numeric results when test-set sizes are unequal.\n",
      "  DeprecationWarning)\n"
     ]
    },
    {
     "data": {
      "text/plain": [
       "GridSearchCV(cv=5, error_score='raise-deprecating',\n",
       "             estimator=DecisionTreeRegressor(criterion='mse', max_depth=None,\n",
       "                                             max_features=None,\n",
       "                                             max_leaf_nodes=None,\n",
       "                                             min_impurity_decrease=0.0,\n",
       "                                             min_impurity_split=None,\n",
       "                                             min_samples_leaf=1,\n",
       "                                             min_samples_split=2,\n",
       "                                             min_weight_fraction_leaf=0.0,\n",
       "                                             presort=False, random_state=None,\n",
       "                                             splitter='best'),\n",
       "             iid='warn', n_jobs=None,\n",
       "             param_grid={'criterion': ['mae', 'mse'],\n",
       "                         'max_depth': [2, 5, 7, 10, 15, 20]},\n",
       "             pre_dispatch='2*n_jobs', refit=True, return_train_score=True,\n",
       "             scoring=None, verbose=0)"
      ]
     },
     "execution_count": 7,
     "metadata": {},
     "output_type": "execute_result"
    }
   ],
   "source": [
    "#Una vez que determinamos cuales son los parametros de busqueda, vamos a entrenar el gridsearch con los datos \n",
    "# de entrenamiento.Solamente tenes que ejecutar esta celda.\n",
    "\n",
    "clf.fit(X_train, y_train)"
   ]
  },
  {
   "cell_type": "code",
   "execution_count": 8,
   "metadata": {},
   "outputs": [
    {
     "data": {
      "text/html": [
       "<div>\n",
       "<style scoped>\n",
       "    .dataframe tbody tr th:only-of-type {\n",
       "        vertical-align: middle;\n",
       "    }\n",
       "\n",
       "    .dataframe tbody tr th {\n",
       "        vertical-align: top;\n",
       "    }\n",
       "\n",
       "    .dataframe thead th {\n",
       "        text-align: right;\n",
       "    }\n",
       "</style>\n",
       "<table border=\"1\" class=\"dataframe\">\n",
       "  <thead>\n",
       "    <tr style=\"text-align: right;\">\n",
       "      <th></th>\n",
       "      <th>mean_fit_time</th>\n",
       "      <th>std_fit_time</th>\n",
       "      <th>mean_score_time</th>\n",
       "      <th>std_score_time</th>\n",
       "      <th>param_criterion</th>\n",
       "      <th>param_max_depth</th>\n",
       "      <th>params</th>\n",
       "      <th>split0_test_score</th>\n",
       "      <th>split1_test_score</th>\n",
       "      <th>split2_test_score</th>\n",
       "      <th>...</th>\n",
       "      <th>mean_test_score</th>\n",
       "      <th>std_test_score</th>\n",
       "      <th>rank_test_score</th>\n",
       "      <th>split0_train_score</th>\n",
       "      <th>split1_train_score</th>\n",
       "      <th>split2_train_score</th>\n",
       "      <th>split3_train_score</th>\n",
       "      <th>split4_train_score</th>\n",
       "      <th>mean_train_score</th>\n",
       "      <th>std_train_score</th>\n",
       "    </tr>\n",
       "  </thead>\n",
       "  <tbody>\n",
       "    <tr>\n",
       "      <th>0</th>\n",
       "      <td>0.000914</td>\n",
       "      <td>0.000900</td>\n",
       "      <td>0.000241</td>\n",
       "      <td>0.000482</td>\n",
       "      <td>mae</td>\n",
       "      <td>2</td>\n",
       "      <td>{'criterion': 'mae', 'max_depth': 2}</td>\n",
       "      <td>0.300011</td>\n",
       "      <td>0.420151</td>\n",
       "      <td>0.643778</td>\n",
       "      <td>...</td>\n",
       "      <td>0.480779</td>\n",
       "      <td>0.116830</td>\n",
       "      <td>11</td>\n",
       "      <td>0.601992</td>\n",
       "      <td>0.545866</td>\n",
       "      <td>0.504832</td>\n",
       "      <td>0.540573</td>\n",
       "      <td>0.529736</td>\n",
       "      <td>0.544600</td>\n",
       "      <td>0.031981</td>\n",
       "    </tr>\n",
       "    <tr>\n",
       "      <th>1</th>\n",
       "      <td>0.000558</td>\n",
       "      <td>0.000460</td>\n",
       "      <td>0.000604</td>\n",
       "      <td>0.000493</td>\n",
       "      <td>mae</td>\n",
       "      <td>5</td>\n",
       "      <td>{'criterion': 'mae', 'max_depth': 5}</td>\n",
       "      <td>0.257804</td>\n",
       "      <td>0.699026</td>\n",
       "      <td>0.928655</td>\n",
       "      <td>...</td>\n",
       "      <td>0.671308</td>\n",
       "      <td>0.224001</td>\n",
       "      <td>10</td>\n",
       "      <td>0.800866</td>\n",
       "      <td>0.942801</td>\n",
       "      <td>0.930591</td>\n",
       "      <td>0.702410</td>\n",
       "      <td>0.945806</td>\n",
       "      <td>0.864495</td>\n",
       "      <td>0.097399</td>\n",
       "    </tr>\n",
       "    <tr>\n",
       "      <th>2</th>\n",
       "      <td>0.000713</td>\n",
       "      <td>0.000606</td>\n",
       "      <td>0.000398</td>\n",
       "      <td>0.000488</td>\n",
       "      <td>mae</td>\n",
       "      <td>7</td>\n",
       "      <td>{'criterion': 'mae', 'max_depth': 7}</td>\n",
       "      <td>0.756963</td>\n",
       "      <td>0.620540</td>\n",
       "      <td>0.919215</td>\n",
       "      <td>...</td>\n",
       "      <td>0.785547</td>\n",
       "      <td>0.106602</td>\n",
       "      <td>2</td>\n",
       "      <td>0.981325</td>\n",
       "      <td>0.986871</td>\n",
       "      <td>0.981101</td>\n",
       "      <td>0.972316</td>\n",
       "      <td>0.976712</td>\n",
       "      <td>0.979665</td>\n",
       "      <td>0.004888</td>\n",
       "    </tr>\n",
       "    <tr>\n",
       "      <th>3</th>\n",
       "      <td>0.000410</td>\n",
       "      <td>0.000820</td>\n",
       "      <td>0.000211</td>\n",
       "      <td>0.000421</td>\n",
       "      <td>mae</td>\n",
       "      <td>10</td>\n",
       "      <td>{'criterion': 'mae', 'max_depth': 10}</td>\n",
       "      <td>0.705386</td>\n",
       "      <td>0.620185</td>\n",
       "      <td>0.914568</td>\n",
       "      <td>...</td>\n",
       "      <td>0.775179</td>\n",
       "      <td>0.113687</td>\n",
       "      <td>3</td>\n",
       "      <td>0.999281</td>\n",
       "      <td>0.998916</td>\n",
       "      <td>0.998077</td>\n",
       "      <td>0.999891</td>\n",
       "      <td>0.995910</td>\n",
       "      <td>0.998415</td>\n",
       "      <td>0.001383</td>\n",
       "    </tr>\n",
       "    <tr>\n",
       "      <th>4</th>\n",
       "      <td>0.002916</td>\n",
       "      <td>0.005331</td>\n",
       "      <td>0.000200</td>\n",
       "      <td>0.000400</td>\n",
       "      <td>mae</td>\n",
       "      <td>15</td>\n",
       "      <td>{'criterion': 'mae', 'max_depth': 15}</td>\n",
       "      <td>0.704255</td>\n",
       "      <td>0.598867</td>\n",
       "      <td>0.903649</td>\n",
       "      <td>...</td>\n",
       "      <td>0.765154</td>\n",
       "      <td>0.118167</td>\n",
       "      <td>5</td>\n",
       "      <td>1.000000</td>\n",
       "      <td>1.000000</td>\n",
       "      <td>1.000000</td>\n",
       "      <td>1.000000</td>\n",
       "      <td>1.000000</td>\n",
       "      <td>1.000000</td>\n",
       "      <td>0.000000</td>\n",
       "    </tr>\n",
       "  </tbody>\n",
       "</table>\n",
       "<p>5 rows × 22 columns</p>\n",
       "</div>"
      ],
      "text/plain": [
       "   mean_fit_time  std_fit_time  mean_score_time  std_score_time  \\\n",
       "0       0.000914      0.000900         0.000241        0.000482   \n",
       "1       0.000558      0.000460         0.000604        0.000493   \n",
       "2       0.000713      0.000606         0.000398        0.000488   \n",
       "3       0.000410      0.000820         0.000211        0.000421   \n",
       "4       0.002916      0.005331         0.000200        0.000400   \n",
       "\n",
       "  param_criterion param_max_depth                                 params  \\\n",
       "0             mae               2   {'criterion': 'mae', 'max_depth': 2}   \n",
       "1             mae               5   {'criterion': 'mae', 'max_depth': 5}   \n",
       "2             mae               7   {'criterion': 'mae', 'max_depth': 7}   \n",
       "3             mae              10  {'criterion': 'mae', 'max_depth': 10}   \n",
       "4             mae              15  {'criterion': 'mae', 'max_depth': 15}   \n",
       "\n",
       "   split0_test_score  split1_test_score  split2_test_score  ...  \\\n",
       "0           0.300011           0.420151           0.643778  ...   \n",
       "1           0.257804           0.699026           0.928655  ...   \n",
       "2           0.756963           0.620540           0.919215  ...   \n",
       "3           0.705386           0.620185           0.914568  ...   \n",
       "4           0.704255           0.598867           0.903649  ...   \n",
       "\n",
       "   mean_test_score  std_test_score  rank_test_score  split0_train_score  \\\n",
       "0         0.480779        0.116830               11            0.601992   \n",
       "1         0.671308        0.224001               10            0.800866   \n",
       "2         0.785547        0.106602                2            0.981325   \n",
       "3         0.775179        0.113687                3            0.999281   \n",
       "4         0.765154        0.118167                5            1.000000   \n",
       "\n",
       "   split1_train_score  split2_train_score  split3_train_score  \\\n",
       "0            0.545866            0.504832            0.540573   \n",
       "1            0.942801            0.930591            0.702410   \n",
       "2            0.986871            0.981101            0.972316   \n",
       "3            0.998916            0.998077            0.999891   \n",
       "4            1.000000            1.000000            1.000000   \n",
       "\n",
       "   split4_train_score  mean_train_score  std_train_score  \n",
       "0            0.529736          0.544600         0.031981  \n",
       "1            0.945806          0.864495         0.097399  \n",
       "2            0.976712          0.979665         0.004888  \n",
       "3            0.995910          0.998415         0.001383  \n",
       "4            1.000000          1.000000         0.000000  \n",
       "\n",
       "[5 rows x 22 columns]"
      ]
     },
     "execution_count": 8,
     "metadata": {},
     "output_type": "execute_result"
    }
   ],
   "source": [
    "## Te invito a explorar los resultados\n",
    "results = pd.DataFrame(clf.cv_results_)\n",
    "results.head()"
   ]
  },
  {
   "cell_type": "code",
   "execution_count": 9,
   "metadata": {},
   "outputs": [
    {
     "data": {
      "text/plain": [
       "<ErrorbarContainer object of 3 artists>"
      ]
     },
     "execution_count": 9,
     "metadata": {},
     "output_type": "execute_result"
    },
    {
     "data": {
      "image/png": "[encoded data removed]",
      "text/plain": [
       "<Figure size 432x288 with 1 Axes>"
      ]
     },
     "metadata": {
      "needs_background": "light"
     },
     "output_type": "display_data"
    }
   ],
   "source": [
    "### Graficamos la curva de complejidad para el 'mae'.\n",
    "mask_mae = results.param_criterion == 'mae'\n",
    "\n",
    "plt.figure(0)\n",
    "plt.title('MAE')\n",
    "plt.ylim(0,1)\n",
    "plt.errorbar(x=results[mask_mae].param_max_depth, y=results[mask_mae].mean_test_score,yerr=results[mask_mae].std_test_score,fmt='o:')"
   ]
  },
  {
   "cell_type": "code",
   "execution_count": null,
   "metadata": {},
   "outputs": [],
   "source": [
    "### Plotea exactamente la misma curva que anter, pero para el caso de mse\n"
   ]
  },
  {
   "cell_type": "code",
   "execution_count": 10,
   "metadata": {},
   "outputs": [
    {
     "data": {
      "text/plain": [
       "<ErrorbarContainer object of 3 artists>"
      ]
     },
     "execution_count": 10,
     "metadata": {},
     "output_type": "execute_result"
    },
    {
     "data": {
      "image/png": "[encoded data removed]",
      "text/plain": [
       "<Figure size 432x288 with 1 Axes>"
      ]
     },
     "metadata": {
      "needs_background": "light"
     },
     "output_type": "display_data"
    }
   ],
   "source": [
    "### RESPUESTA\n",
    "\n",
    "mask_mse = results.param_criterion == 'mse'\n",
    "\n",
    "plt.figure(1)\n",
    "plt.title('MSE')\n",
    "plt.ylim(0,1)\n",
    "plt.errorbar(x=results[mask_mse].param_max_depth, y=results[mask_mse].mean_test_score,yerr=results[mask_mse].std_test_score,fmt='o:')"
   ]
  },
  {
   "cell_type": "markdown",
   "metadata": {},
   "source": [
    "Que magnitudes son las que ploteaste? <br>\n",
    "Que significa el error de cada curva? <br>\n",
    "En que se parecen y en que se diferencian las curvas de arriba? De donde crees que vienen las diferencias? <br>\n",
    "Plotearias algo que te ayude a comprobar tu hipotesis? <br>"
   ]
  },
  {
   "cell_type": "code",
   "execution_count": 11,
   "metadata": {},
   "outputs": [
    {
     "name": "stdout",
     "output_type": "stream",
     "text": [
      "DecisionTreeRegressor(criterion='mse', max_depth=5, max_features=None,\n",
      "                      max_leaf_nodes=None, min_impurity_decrease=0.0,\n",
      "                      min_impurity_split=None, min_samples_leaf=1,\n",
      "                      min_samples_split=2, min_weight_fraction_leaf=0.0,\n",
      "                      presort=False, random_state=None, splitter='best')\n",
      "0.7859973269666587\n",
      "    rank_test_score  mean_test_score  std_test_score  \\\n",
      "7                 1         0.785997        0.103976   \n",
      "2                 2         0.785547        0.106602   \n",
      "3                 3         0.775179        0.113687   \n",
      "9                 4         0.765159        0.118219   \n",
      "4                 5         0.765154        0.118167   \n",
      "5                 5         0.765154        0.118167   \n",
      "10                5         0.765154        0.118167   \n",
      "11                5         0.765154        0.118167   \n",
      "8                 9         0.759187        0.116938   \n",
      "1                10         0.671308        0.224001   \n",
      "0                11         0.480779        0.116830   \n",
      "6                12         0.436270        0.110037   \n",
      "\n",
      "                                   params  \n",
      "7    {'criterion': 'mse', 'max_depth': 5}  \n",
      "2    {'criterion': 'mae', 'max_depth': 7}  \n",
      "3   {'criterion': 'mae', 'max_depth': 10}  \n",
      "9   {'criterion': 'mse', 'max_depth': 10}  \n",
      "4   {'criterion': 'mae', 'max_depth': 15}  \n",
      "5   {'criterion': 'mae', 'max_depth': 20}  \n",
      "10  {'criterion': 'mse', 'max_depth': 15}  \n",
      "11  {'criterion': 'mse', 'max_depth': 20}  \n",
      "8    {'criterion': 'mse', 'max_depth': 7}  \n",
      "1    {'criterion': 'mae', 'max_depth': 5}  \n",
      "0    {'criterion': 'mae', 'max_depth': 2}  \n",
      "6    {'criterion': 'mse', 'max_depth': 2}  \n"
     ]
    }
   ],
   "source": [
    "### Descomenta e investiga algunas cosas.\n",
    "### Podes ver mas funciones en la documentacion!\n",
    "\n",
    "print(clf.best_estimator_)\n",
    "print(clf.best_score_)\n",
    "\n",
    "results.sort_values(by=['rank_test_score'],inplace=True)\n",
    "print(results[['rank_test_score','mean_test_score','std_test_score','params']])\n"
   ]
  },
  {
   "cell_type": "markdown",
   "metadata": {},
   "source": [
    "Te parece razonable el modelo que elogio el Grid Search? O eligirias algun otro?"
   ]
  },
  {
   "cell_type": "code",
   "execution_count": null,
   "metadata": {},
   "outputs": [],
   "source": [
    "### Una vez que hayas elegido el que pensas que es el mejor modelo, reporta tu estimacion de la performance \n",
    "### evaluando sobre el conjunto Held-out que separaste al principio."
   ]
  },
  {
   "cell_type": "markdown",
   "metadata": {},
   "source": [
    "## DESAFIO\n",
    "Realiza el mismo procedimiento, pero esta vez implementando el algoritmo de regresion de KNN. <br>\n",
    "\n",
    "Antes de empezar, pensa cuales son los hiperparametros que recorrerias con el Grid Search."
   ]
  },
  {
   "cell_type": "code",
   "execution_count": 21,
   "metadata": {},
   "outputs": [],
   "source": [
    "import warnings \n",
    "warnings.simplefilter('ignore')\n",
    "import pandas as pd\n",
    "from sklearn.datasets import load_iris\n",
    "from sklearn.neighbors import KNeighborsClassifier\n",
    "from sklearn.model_selection import cross_val_score, train_test_split\n",
    "import matplotlib.pyplot as plt\n",
    "%matplotlib inline"
   ]
  },
  {
   "cell_type": "code",
   "execution_count": null,
   "metadata": {},
   "outputs": [],
   "source": []
  }
 ],
 "metadata": {
  "kernelspec": {
   "display_name": "Python 3",
   "language": "python",
   "name": "python3"
  },
  "language_info": {
   "codemirror_mode": {
    "name": "ipython",
    "version": 3
   },
   "file_extension": ".py",
   "mimetype": "text/x-python",
   "name": "python",
   "nbconvert_exporter": "python",
   "pygments_lexer": "ipython3",
   "version": "3.7.3"
  }
 },
 "nbformat": 4,
 "nbformat_minor": 2
}
