{
 "cells": [
  {
   "cell_type": "markdown",
   "metadata": {
    "colab_type": "text",
    "id": "uPWXg2Gziri0"
   },
   "source": [
    "# PRÁCTICA GUIADA: Árboles de decisión"
   ]
  },
  {
   "cell_type": "markdown",
   "metadata": {
    "colab_type": "text",
    "id": "u_FTPM47iri6"
   },
   "source": [
    "## Introducción\n",
    "\n",
    "En este lab practicaremos cómo aplicar árboles de decisión a problemas de regresión y clasificación. En particular, utilizaremos árboles de regresión para predecir el precio mediano de las casas en Boston y para predecir la aceptabilidad de los autos."
   ]
  },
  {
   "cell_type": "markdown",
   "metadata": {
    "colab_type": "text",
    "id": "x3A_823Iiri8"
   },
   "source": [
    "## Recursos Adicionales\n",
    "\n",
    "- [scikit-learn documentación de árboles de decisión](http://scikit-learn.org/stable/modules/tree.html)\n",
    "- [Gini Vs Entropia](http://www.garysieling.com/blog/sklearn-gini-vs-entropy-criteria)"
   ]
  },
  {
   "cell_type": "markdown",
   "metadata": {
    "colab_type": "text",
    "id": "bfokznH8irjB"
   },
   "source": [
    "## 1: Construir un árbol de regresión"
   ]
  },
  {
   "cell_type": "markdown",
   "metadata": {
    "colab_type": "text",
    "id": "EUxdjw4virjF"
   },
   "source": [
    "#### ¿Cómo construye la computadora un árbol de regresión?\n",
    "\n",
    "El enfoque ideal sería que la computadora considere todas las particiones posibles del espacio de atributos. Sin embargo esto es computacionalmente inviable, por lo que en su lugar se utiliza un algorítmo voraz (greedy) de **división binaria recursiva:**\n",
    "\n",
    "- Comenzar en la raíz del árbol.\n",
    "- Para cada atributo, examinar cada punto de corte posible y elegir el atributo y punto de corte de manera que el árbol resultante de hacer la división tenga el **menor error cuadrático medio (ECM)**.\n",
    "- Repetir el proceso para las dos ramas resultantes y nuevamente hacer una sola división (en cada rama) para minimizar el ECM.\n",
    "- Repitir este proceso hasta que se cumpla un criterio de detención.\n",
    "\n",
    "**¿Cómo sabe cuándo parar?**\n",
    "\n",
    "1. Podríamos definir un criterio de detención, como la **profundidad máxima** del árbol o **el número mínimo de muestras en la hoja**.\n",
    "2. También podríamos hacer crecer el árbol grande y luego \"podarlo\" utilizando algún método de poda como \"cost complexity pruning\"\n",
    "\n",
    "> Nota: El método 2 no es soportado por scikit-learn, por lo que aquí vamos a utilizar el método 1.\n",
    "\n",
    "**¿Como decidir que división es la mejor?**\n",
    "\n",
    "Una forma de decidir cual es la mejor división es calcular la ganancia en la reduccion del error cuadrático medio, si se aplica la división candidata.\n",
    "\n",
    "$$\n",
    "\\Delta = ECM(\\text{padre}) - \\sum_{j \\in \\text{hijos}}\\frac{N_j}{N}ECM(\\text{hijo}_j)\n",
    "$$\n",
    "\n",
    "El objetivo es buscar la maxima $\\Delta$, donde $ECM$ es el Error Cuadrático Medio, $N_j$ es el número de registros en el nodo hijo $j$ y $N$ es el número de registros en el nodo padre.\n"
   ]
  },
  {
   "cell_type": "markdown",
   "metadata": {
    "colab_type": "text",
    "id": "5ur124vKirjH"
   },
   "source": [
    "### 1.a  Realizar un análisis descriptivo del dataset\n",
    "\n",
    "El set de entrenamiento es el viejo y conocido dataset de Boston. El objetivo es predecir el precio mediano de los condados.   \n",
    "\n",
    "Instrucciones:\n",
    "\n",
    "1. Leer los datos con Pandas.\n",
    "- Explorar los datos ordenándolos o graficándolos."
   ]
  },
  {
   "cell_type": "code",
   "execution_count": null,
   "metadata": {
    "colab": {},
    "colab_type": "code",
    "id": "kPjj8JBUirjK"
   },
   "outputs": [],
   "source": [
    "# Leer los datos con Pandas.\n",
    "import numpy as np\n",
    "import pandas as pd\n",
    "import matplotlib.pyplot as plt\n",
    "%matplotlib inline\n",
    "from sklearn.datasets import load_boston\n",
    "data = load_boston()\n",
    "\n",
    "X = pd.DataFrame(data.data, columns=data.feature_names)\n",
    "y = pd.DataFrame(data.target, columns=['price'])"
   ]
  },
  {
   "cell_type": "code",
   "execution_count": null,
   "metadata": {
    "colab": {
     "base_uri": "https://localhost:8080/",
     "height": 195
    },
    "colab_type": "code",
    "executionInfo": {
     "elapsed": 871,
     "status": "ok",
     "timestamp": 1541982046968,
     "user": {
      "displayName": "Eli Lopez",
      "photoUrl": "https://lh3.googleusercontent.com/--iqGRJP2m48/AAAAAAAAAAI/AAAAAAAALCs/nW2SHmh5Ae8/s64/photo.jpg",
      "userId": "08516766164759183963"
     },
     "user_tz": 180
    },
    "id": "MLZosVA7SShV",
    "outputId": "c1ae067a-7f07-4658-b66e-a1d3ad969a18"
   },
   "outputs": [],
   "source": [
    "X.head()"
   ]
  },
  {
   "cell_type": "markdown",
   "metadata": {
    "colab_type": "text",
    "id": "s-amWUP3irjT"
   },
   "source": [
    "### 2: Construir un árbol de regresión con scikit-learn\n",
    "\n",
    "Como puede intuirse, construir un árbol a mano no es tan fácil. Ahora vamos a utilizar scikit-learn para construir un árbol de regresión óptimo. \n",
    "Hacer lo siguiente:\n",
    "\n",
    "- Crear una matriz `X` que contenga los valores de los atributos y un vector `y` que contenga los precios\n",
    "- Partir los datos en entrenamiento-testeo usando un `random_state`=41 y un `test_size` del 30%\n",
    "- Importar e inicializar el `DecisionTreeRegressor` de scikit-learn\n",
    "- Ajustarlo al set de entrenamiento\n",
    "- Predecir los valores del set de testeo\n",
    "- Mostrar los valores predichos y reales en un gráfico\n",
    "- Usar r2_score para juzgar la bondad de la regresión"
   ]
  },
  {
   "cell_type": "code",
   "execution_count": null,
   "metadata": {
    "colab": {},
    "colab_type": "code",
    "id": "WlrtB6LGirjV"
   },
   "outputs": [],
   "source": [
    "# partimos en entrenamiento-prueba\n"
   ]
  },
  {
   "cell_type": "code",
   "execution_count": null,
   "metadata": {
    "colab": {
     "base_uri": "https://localhost:8080/",
     "height": 105
    },
    "colab_type": "code",
    "executionInfo": {
     "elapsed": 1252,
     "status": "ok",
     "timestamp": 1541982169249,
     "user": {
      "displayName": "Eli Lopez",
      "photoUrl": "https://lh3.googleusercontent.com/--iqGRJP2m48/AAAAAAAAAAI/AAAAAAAALCs/nW2SHmh5Ae8/s64/photo.jpg",
      "userId": "08516766164759183963"
     },
     "user_tz": 180
    },
    "id": "zL8O6lAnirjd",
    "outputId": "364f3b07-d1cc-4a46-8e58-69d7d338bf39"
   },
   "outputs": [],
   "source": [
    "# Importar el DecisionTreeRegressor, inicializarlo y ajustarlo al set de entrenamiento\n"
   ]
  },
  {
   "cell_type": "code",
   "execution_count": null,
   "metadata": {
    "colab": {},
    "colab_type": "code",
    "id": "-ok4WJ2Hirjp"
   },
   "outputs": [],
   "source": [
    "# Predecir los precios del set de prueba\n"
   ]
  },
  {
   "cell_type": "code",
   "execution_count": null,
   "metadata": {
    "colab": {
     "base_uri": "https://localhost:8080/",
     "height": 320
    },
    "colab_type": "code",
    "executionInfo": {
     "elapsed": 1949,
     "status": "ok",
     "timestamp": 1541982361224,
     "user": {
      "displayName": "Eli Lopez",
      "photoUrl": "https://lh3.googleusercontent.com/--iqGRJP2m48/AAAAAAAAAAI/AAAAAAAALCs/nW2SHmh5Ae8/s64/photo.jpg",
      "userId": "08516766164759183963"
     },
     "user_tz": 180
    },
    "id": "-cCs-AbJirjy",
    "outputId": "b4f6900e-dec4-4c24-c216-fcae917feca2",
    "scrolled": true
   },
   "outputs": [],
   "source": [
    "# Mostrar los valores predichos y reales en un gráfico\n"
   ]
  },
  {
   "cell_type": "code",
   "execution_count": null,
   "metadata": {
    "colab": {
     "base_uri": "https://localhost:8080/",
     "height": 34
    },
    "colab_type": "code",
    "executionInfo": {
     "elapsed": 825,
     "status": "ok",
     "timestamp": 1541982378034,
     "user": {
      "displayName": "Eli Lopez",
      "photoUrl": "https://lh3.googleusercontent.com/--iqGRJP2m48/AAAAAAAAAAI/AAAAAAAALCs/nW2SHmh5Ae8/s64/photo.jpg",
      "userId": "08516766164759183963"
     },
     "user_tz": 180
    },
    "id": "eHquBFs1irj7",
    "outputId": "0454e157-0984-4c02-e217-c643653267df"
   },
   "outputs": [],
   "source": [
    "# Usar r2_score para juzgar la bondad de la regresión\n"
   ]
  },
  {
   "cell_type": "markdown",
   "metadata": {
    "colab_type": "text",
    "id": "Eu3knolUSShy"
   },
   "source": [
    "El r2 en el set de testeo arroja resultados pobres, pero la misma métrica en el set de training arroja resultados perfecto. Esto significa que, como era de esperarse, el árbol está sobre ajustando el set de entrenamiento."
   ]
  },
  {
   "cell_type": "code",
   "execution_count": null,
   "metadata": {
    "colab": {
     "base_uri": "https://localhost:8080/",
     "height": 34
    },
    "colab_type": "code",
    "executionInfo": {
     "elapsed": 817,
     "status": "ok",
     "timestamp": 1541982425777,
     "user": {
      "displayName": "Eli Lopez",
      "photoUrl": "https://lh3.googleusercontent.com/--iqGRJP2m48/AAAAAAAAAAI/AAAAAAAALCs/nW2SHmh5Ae8/s64/photo.jpg",
      "userId": "08516766164759183963"
     },
     "user_tz": 180
    },
    "id": "6vmT_RUDSSh0",
    "outputId": "932c56b3-7621-4de8-e9c2-1fe5ab846000"
   },
   "outputs": [],
   "source": [
    "preds_train = treereg.predict(X_train)\n",
    "r2_score(y_train, preds_train)"
   ]
  },
  {
   "cell_type": "code",
   "execution_count": null,
   "metadata": {
    "colab": {
     "base_uri": "https://localhost:8080/",
     "height": 320
    },
    "colab_type": "code",
    "executionInfo": {
     "elapsed": 2066,
     "status": "ok",
     "timestamp": 1541982487347,
     "user": {
      "displayName": "Eli Lopez",
      "photoUrl": "https://lh3.googleusercontent.com/--iqGRJP2m48/AAAAAAAAAAI/AAAAAAAALCs/nW2SHmh5Ae8/s64/photo.jpg",
      "userId": "08516766164759183963"
     },
     "user_tz": 180
    },
    "id": "V3U_T8ywSSh4",
    "outputId": "5ce668a9-8bd4-4896-c391-487e51e45bb5"
   },
   "outputs": [],
   "source": [
    "plt.figure(figsize=(5,5))\n",
    "plt.scatter(preds_train, y_train);"
   ]
  },
  {
   "cell_type": "markdown",
   "metadata": {
    "colab_type": "text",
    "id": "QX-TDP0cirkH"
   },
   "source": [
    "### 2.b Parámetros globales\n",
    "\n",
    "El `DecisionTreeRegressor` ofrece algunos parámetros globales que se pueden cambiar en la inicialización. Por ejemplo, se pueden establecer los parámetros `max_depth` o `min_samples_leaf` e imponer limitaciones globales en el espacio de las soluciones.\n",
    "\n",
    "1. Utilizar `cross_val_score` y hacer validación cruzada de 3-fold para encontrar el valor óptimo para `max_depth` (explorar los valores 1 - 10). Tener en cuenta que tendrá que establecer `scoring='neg_mean_squared_error'` como criterio para el score. Establecer siempre `random_state=1`\n",
    "- Graficar el error como función de `max_depth`"
   ]
  },
  {
   "cell_type": "code",
   "execution_count": null,
   "metadata": {
    "colab": {},
    "colab_type": "code",
    "id": "jhWgZG5tirkQ"
   },
   "outputs": [],
   "source": [
    "# Usar cross-validation para encontrar el mejor max_depth\n"
   ]
  },
  {
   "cell_type": "code",
   "execution_count": null,
   "metadata": {
    "colab": {
     "base_uri": "https://localhost:8080/",
     "height": 314
    },
    "colab_type": "code",
    "executionInfo": {
     "elapsed": 952,
     "status": "ok",
     "timestamp": 1541982528474,
     "user": {
      "displayName": "Eli Lopez",
      "photoUrl": "https://lh3.googleusercontent.com/--iqGRJP2m48/AAAAAAAAAAI/AAAAAAAALCs/nW2SHmh5Ae8/s64/photo.jpg",
      "userId": "08516766164759183963"
     },
     "user_tz": 180
    },
    "id": "-yY31MnBirkZ",
    "outputId": "20d5869e-cf27-4758-ea30-89a93ebc508d"
   },
   "outputs": [],
   "source": []
  },
  {
   "cell_type": "code",
   "execution_count": null,
   "metadata": {
    "colab": {},
    "colab_type": "code",
    "id": "LdsG0rUkSSiD"
   },
   "outputs": [],
   "source": [
    "# Ajustar el modelo utilizando la mejor max_depth\n",
    "treereg_cv = DecisionTreeRegressor(max_depth=***, random_state=1)\n",
    "treereg_cv.fit(X_train, y_train)\n",
    "\n",
    "preds_cv = treereg_cv.predict(X_test)"
   ]
  },
  {
   "cell_type": "code",
   "execution_count": null,
   "metadata": {
    "colab": {
     "base_uri": "https://localhost:8080/",
     "height": 34
    },
    "colab_type": "code",
    "executionInfo": {
     "elapsed": 836,
     "status": "ok",
     "timestamp": 1541982582853,
     "user": {
      "displayName": "Eli Lopez",
      "photoUrl": "https://lh3.googleusercontent.com/--iqGRJP2m48/AAAAAAAAAAI/AAAAAAAALCs/nW2SHmh5Ae8/s64/photo.jpg",
      "userId": "08516766164759183963"
     },
     "user_tz": 180
    },
    "id": "XfPDCIeUSSiK",
    "outputId": "16fcc355-8ddd-4b3d-9772-0039bda49654"
   },
   "outputs": [],
   "source": [
    "# Calculamos nuevamente el r2_score para juzgar la bondad de la regresión\n",
    "r2_score(y_test, preds_cv)"
   ]
  },
  {
   "cell_type": "markdown",
   "metadata": {
    "colab_type": "text",
    "id": "nYn59QOrirki"
   },
   "source": [
    "### 2.c Importancia de los atributos\n",
    "\n",
    "La clase DecisionTreeRegressor expone un atributo llamado `feature_importances_`. Es la contribunción a la reducción en la métrica de error utilizada (en este caso, MSE) a lo largo de todo el árbol. \n",
    "\n",
    "1. Comprobar la importancia de cada atributo. ¿Cuál es la más importante? ¿De qué otra forma podríamos visualizar esta importancia de forma más simple?"
   ]
  },
  {
   "cell_type": "code",
   "execution_count": null,
   "metadata": {
    "colab": {
     "base_uri": "https://localhost:8080/",
     "height": 432
    },
    "colab_type": "code",
    "executionInfo": {
     "elapsed": 1621,
     "status": "ok",
     "timestamp": 1541982602887,
     "user": {
      "displayName": "Eli Lopez",
      "photoUrl": "https://lh3.googleusercontent.com/--iqGRJP2m48/AAAAAAAAAAI/AAAAAAAALCs/nW2SHmh5Ae8/s64/photo.jpg",
      "userId": "08516766164759183963"
     },
     "user_tz": 180
    },
    "id": "g2-fGoojirkk",
    "outputId": "209fe098-df10-4cda-cc48-3af0b85a9630"
   },
   "outputs": [],
   "source": [
    "pd.DataFrame({'atributo':data.feature_names, 'importancia':treereg_cv.feature_importances_}).sort_values('importancia', ascending = False)"
   ]
  },
  {
   "cell_type": "markdown",
   "metadata": {
    "colab_type": "text",
    "id": "pDB8p9wWirkq"
   },
   "source": [
    "### 2.d Visualización del árbol\n",
    "\n",
    "Seguir el ejemplo de la [documentación](http://scikit-learn.org/stable/modules/tree.html) para visualizar el árbol.  \n",
    "Podría ser necesario instalar `pydotplus` si aún no lo tiene instalado."
   ]
  },
  {
   "cell_type": "code",
   "execution_count": null,
   "metadata": {
    "colab": {
     "base_uri": "https://localhost:8080/",
     "height": 380
    },
    "colab_type": "code",
    "executionInfo": {
     "elapsed": 985,
     "status": "error",
     "timestamp": 1541982624144,
     "user": {
      "displayName": "Eli Lopez",
      "photoUrl": "https://lh3.googleusercontent.com/--iqGRJP2m48/AAAAAAAAAAI/AAAAAAAALCs/nW2SHmh5Ae8/s64/photo.jpg",
      "userId": "08516766164759183963"
     },
     "user_tz": 180
    },
    "id": "6ZrCZni_irks",
    "outputId": "2d113a7e-f7ff-4b55-e1ce-17c07a3da42f"
   },
   "outputs": [],
   "source": [
    "from IPython.display import Image\n",
    "from sklearn.tree import export_graphviz\n",
    "import pydotplus\n",
    "\n",
    "dot_data=export_graphviz(treereg_cv, out_file=None,  \n",
    "                feature_names=data.feature_names,  \n",
    "                filled=True, rounded=True,  \n",
    "                special_characters=True)  \n",
    "graph = pydotplus.graph_from_dot_data(dot_data)\n",
    "Image(graph.create_png())  "
   ]
  },
  {
   "cell_type": "markdown",
   "metadata": {
    "colab_type": "text",
    "id": "5ax4CtNmirlH"
   },
   "source": [
    "#### Interpretando el diagrama de un árbol\n",
    "\n",
    "¿Cómo leer este árbol de decisión?\n",
    "\n",
    "**Nodos internos:**\n",
    "\n",
    "- `samples` es el número de observaciones en el nodo antes de ser dividido. (verificar que es la suma del valor `samples` de sus nodos hijos)\n",
    "- `mse` es el error cuadrático medio calculado comparando los valores observados de respuesta en ese nodo con el valor medio de respuesta en ese nodo\n",
    "- La primera línea es la condición utilizada para dividir ese nodo (ir a la izquierda si es verdadera, ir a la derecha si es falsa)\n",
    "\n",
    "**Hojas:**\n",
    "\n",
    "- `samples` es el número de observaciones en el nodo\n",
    "- `value` es el valor medio de respuesta en ese nodo\n",
    "- `mse` es el error cuadrático medio calculado comparando los valores observados de respuesta en ese nodo frente a `value`"
   ]
  },
  {
   "cell_type": "markdown",
   "metadata": {
    "colab_type": "text",
    "id": "TcOqPnPwirle"
   },
   "source": [
    "## 3 Árboles de clasificación\n",
    "\n",
    "Los árboles de clasificación son muy similares a los árboles de regresión. Aquí hay una comparación rápida:\n",
    "\n",
    "| árboles de regresión | árboles de clasificación |\n",
    "|---|---|\n",
    "| predicen respuestas continuas | predicen respuestas categóricas |\n",
    "| predice utilizando la respuesta media en cada hoja | predice usando la clase mas común en cada hoja |\n",
    "| Se eligen las divisiones para minimizar el ECM | Se eligen las divisiones para minimizar un criterio diferente (discutido más adelante) |\n",
    "\n"
   ]
  },
  {
   "cell_type": "markdown",
   "metadata": {
    "colab_type": "text",
    "id": "SwPP-xgZirlh"
   },
   "source": [
    "### 3.a Construyendo un árbol de clasificación con scikit-learn\n",
    "Construiremos un árbol de clasificación usando el dataset de autos.\n",
    "\n",
    "- Leer los datos con Pandas.\n",
    "- Comprobar si hay valores vacíos\n",
    "- Encodear todos los atributos categóricos como booleanos usando `pd.get_dummies`\n",
    "- Encodear las etiquetas usando `LabelEncoder`\n",
    "- Dividir X e y con train_test_split así:\n",
    "        train_test_split(X, y, test_size=0.3, random_state=42)\n",
    "- Ajustar un árbol de clasificación con `max_depth=3`\n",
    "- Visualizar el árbol usando graphviz\n",
    "- Calcular la importancia de los atributos\n",
    "- Calcular y mostrar la matriz de confusión\n",
    "- Sacar la restricción de `max_depth=3` y ver si la clasificación mejora"
   ]
  },
  {
   "cell_type": "code",
   "execution_count": null,
   "metadata": {
    "colab": {},
    "colab_type": "code",
    "id": "xqBTgZBqirll"
   },
   "outputs": [],
   "source": [
    "# leer el dataset"
   ]
  },
  {
   "cell_type": "code",
   "execution_count": null,
   "metadata": {
    "colab": {},
    "colab_type": "code",
    "id": "QZ4E-xolirlx"
   },
   "outputs": [],
   "source": [
    "# Buscar si hay valores vacíos\n"
   ]
  },
  {
   "cell_type": "code",
   "execution_count": null,
   "metadata": {
    "colab": {},
    "colab_type": "code",
    "id": "8gcaigDeirl6"
   },
   "outputs": [],
   "source": [
    "# ver info"
   ]
  },
  {
   "cell_type": "code",
   "execution_count": null,
   "metadata": {
    "colab": {},
    "colab_type": "code",
    "id": "wDHWICXFirmL"
   },
   "outputs": [],
   "source": [
    "# Encodear todos los atributos categóricos como booleanos usando pd.get_dummies\n",
    "\n",
    "\n",
    "# Encodear las etiquetas usando LabelEncoder\n",
    "\n",
    "\n",
    "# Dividir X e y con train_test_split\n"
   ]
  },
  {
   "cell_type": "code",
   "execution_count": null,
   "metadata": {
    "colab": {},
    "colab_type": "code",
    "id": "TnSK_gBASSjG"
   },
   "outputs": [],
   "source": [
    "le.classes_"
   ]
  },
  {
   "cell_type": "code",
   "execution_count": null,
   "metadata": {
    "colab": {},
    "colab_type": "code",
    "id": "8ErqxKufirmS"
   },
   "outputs": [],
   "source": [
    "# Ajustar un árbol de clasificación con max_depth=3\n",
    "from sklearn.tree import DecisionTreeClassifier\n"
   ]
  },
  {
   "cell_type": "code",
   "execution_count": null,
   "metadata": {
    "colab": {},
    "colab_type": "code",
    "id": "Wh8DW_MOirmV"
   },
   "outputs": [],
   "source": [
    "# Visualizar el árbol usando graphviz\n",
    "dot_data = export_graphviz(***, out_file=None,  \n",
    "                feature_names=atributos,  \n",
    "                filled=True, rounded=True,  \n",
    "                special_characters=True)  \n",
    "graph = pydotplus.graph_from_dot_data(dot_data)\n",
    "Image(graph.create_png())"
   ]
  },
  {
   "cell_type": "code",
   "execution_count": null,
   "metadata": {
    "colab": {},
    "colab_type": "code",
    "id": "fqC0FE2mirme"
   },
   "outputs": [],
   "source": [
    "# Calcular la importancia de los atributos\n",
    "pd.DataFrame({'Atributo':atributos,\n",
    "              'importancia':***.feature_importances_}).sort_values('importancia',\n",
    "                                                                      ascending=False).head()"
   ]
  },
  {
   "cell_type": "code",
   "execution_count": null,
   "metadata": {
    "colab": {},
    "colab_type": "code",
    "id": "t5U5__8Girmp"
   },
   "outputs": [],
   "source": [
    "# Calcular y mostrar la matriz de confusión\n",
    "from sklearn.metrics import confusion_matrix\n",
    "conf = confusion_matrix(y_test, ***.predict(X_test))\n",
    "predicted_cols = ['pred_'+c for c in le.classes_]\n",
    "pd.DataFrame(conf, index = le.classes_, columns = predicted_cols)"
   ]
  },
  {
   "cell_type": "code",
   "execution_count": null,
   "metadata": {
    "colab": {},
    "colab_type": "code",
    "id": "LRVs0wy9irms"
   },
   "outputs": [],
   "source": [
    "# Sacar la restricción de max_depth=3 y ver si la clasificación mejora\n"
   ]
  },
  {
   "cell_type": "markdown",
   "metadata": {
    "colab_type": "text",
    "id": "at_XaEtFirmx"
   },
   "source": [
    "## Extra\n",
    "\n",
    "Visualizar el último árbol. ¿Podés interpretarlo? ¿Qué te enseña esto acerca de la interpretación del árbol de decisión?"
   ]
  },
  {
   "cell_type": "code",
   "execution_count": null,
   "metadata": {
    "colab": {},
    "colab_type": "code",
    "id": "BaQiuesyirm0"
   },
   "outputs": [],
   "source": [
    "dot_data = export_graphviz(****, out_file=None,  \n",
    "                feature_names=atributos,  \n",
    "                filled=True, rounded=True,  \n",
    "                special_characters=True)  \n",
    "graph = pydotplus.graph_from_dot_data(dot_data)  \n",
    "Image(graph.create_png())  "
   ]
  },
  {
   "cell_type": "code",
   "execution_count": null,
   "metadata": {
    "colab": {},
    "colab_type": "code",
    "id": "5Q_nzAylirm9"
   },
   "outputs": [],
   "source": []
  }
 ],
 "metadata": {
  "colab": {
   "collapsed_sections": [],
   "name": "1.PRACTICA_GUIADA_Intro_CARTS.ipynb",
   "provenance": [],
   "version": "0.3.2"
  },
  "kernelspec": {
   "display_name": "Python 3",
   "language": "python",
   "name": "python3"
  },
  "language_info": {
   "codemirror_mode": {
    "name": "ipython",
    "version": 3
   },
   "file_extension": ".py",
   "mimetype": "text/x-python",
   "name": "python",
   "nbconvert_exporter": "python",
   "pygments_lexer": "ipython3",
   "version": "3.7.3"
  }
 },
 "nbformat": 4,
 "nbformat_minor": 4
}
