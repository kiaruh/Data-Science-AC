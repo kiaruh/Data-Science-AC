{
 "cells": [
  {
   "cell_type": "markdown",
   "metadata": {},
   "source": [
    "# Importar librerías"
   ]
  },
  {
   "cell_type": "markdown",
   "metadata": {},
   "source": [
    "- pandas\n",
    "- matplotlib.pyplot\n",
    "- seaborn\n",
    "- scipy.stats"
   ]
  },
  {
   "cell_type": "code",
   "execution_count": 11,
   "metadata": {},
   "outputs": [],
   "source": [
    "import pandas as pd\n",
    "import seaborn as sns\n",
    "import numpy as np\n",
    "import matplotlib.pyplot as plt\n",
    "import scipy.stats as stats"
   ]
  },
  {
   "cell_type": "markdown",
   "metadata": {},
   "source": [
    "# Cargar datos"
   ]
  },
  {
   "cell_type": "markdown",
   "metadata": {},
   "source": [
    "Cargar el archivo `mediciones.csv`"
   ]
  },
  {
   "cell_type": "code",
   "execution_count": 13,
   "metadata": {},
   "outputs": [],
   "source": [
    "mediciones= pd.read_csv('Datasets/mediciones.csv', sep= ' ')"
   ]
  },
  {
   "cell_type": "markdown",
   "metadata": {},
   "source": [
    "Ver que tipo de datos contiene"
   ]
  },
  {
   "cell_type": "code",
   "execution_count": 15,
   "metadata": {},
   "outputs": [
    {
     "data": {
      "text/html": [
       "<div>\n",
       "<style scoped>\n",
       "    .dataframe tbody tr th:only-of-type {\n",
       "        vertical-align: middle;\n",
       "    }\n",
       "\n",
       "    .dataframe tbody tr th {\n",
       "        vertical-align: top;\n",
       "    }\n",
       "\n",
       "    .dataframe thead th {\n",
       "        text-align: right;\n",
       "    }\n",
       "</style>\n",
       "<table border=\"1\" class=\"dataframe\">\n",
       "  <thead>\n",
       "    <tr style=\"text-align: right;\">\n",
       "      <th></th>\n",
       "      <th>tiempo</th>\n",
       "      <th>voltaje</th>\n",
       "    </tr>\n",
       "  </thead>\n",
       "  <tbody>\n",
       "    <tr>\n",
       "      <th>7056</th>\n",
       "      <td>14600.689655</td>\n",
       "      <td>11.01</td>\n",
       "    </tr>\n",
       "    <tr>\n",
       "      <th>10048</th>\n",
       "      <td>20791.034483</td>\n",
       "      <td>9.83</td>\n",
       "    </tr>\n",
       "    <tr>\n",
       "      <th>8425</th>\n",
       "      <td>17433.103448</td>\n",
       "      <td>9.43</td>\n",
       "    </tr>\n",
       "    <tr>\n",
       "      <th>3068</th>\n",
       "      <td>6349.655172</td>\n",
       "      <td>9.72</td>\n",
       "    </tr>\n",
       "    <tr>\n",
       "      <th>1315</th>\n",
       "      <td>2722.758621</td>\n",
       "      <td>9.59</td>\n",
       "    </tr>\n",
       "  </tbody>\n",
       "</table>\n",
       "</div>"
      ],
      "text/plain": [
       "             tiempo  voltaje\n",
       "7056   14600.689655    11.01\n",
       "10048  20791.034483     9.83\n",
       "8425   17433.103448     9.43\n",
       "3068    6349.655172     9.72\n",
       "1315    2722.758621     9.59"
      ]
     },
     "execution_count": 15,
     "metadata": {},
     "output_type": "execute_result"
    }
   ],
   "source": [
    "mediciones.sample(5)\n"
   ]
  },
  {
   "cell_type": "markdown",
   "metadata": {},
   "source": [
    "# Supuesto de normalidad\n",
    "\n",
    "Una herramienta visual e interesante es el gráfico cuantil-cuantil, más conocido como **Q-Q Plot**. Consiste en una comparación de los valores observados con los que deberíamos haber obtenido si la distribución de la variable bajo análisis fuese la Normal.\n",
    "\n",
    "- Cuanto más se peguen los puntos a la línea, mayor aproximación a la normal.\n",
    "\n",
    "Ejemplos:\n",
    "\n",
    "<img src=\"https://i.ytimg.com/vi/-KXy4i8awOg/maxresdefault.jpg\" width=\"600\">\n",
    "\n",
    "Otra opción es hacer el test de Kolmogorov-Smirnov. Es una prueba no paramétrica que determina la bondad de ajuste de dos distribuciones de probabilidad entre sí.\n",
    "\n",
    "En el caso de que queramos verificar la normalidad de una distribución, la prueba de Lilliefors conlleva algunas mejoras con respecto a la de Kolmogórov-Smirnov; y, en general, el test de Shapiro–Wilk o la prueba de Anderson-Darling son alternativas más potentes. \n",
    "\n",
    "Más información en:\n",
    "https://docs.scipy.org/doc/scipy-0.14.0/reference/generated/scipy.stats.kstest.html"
   ]
  },
  {
   "cell_type": "markdown",
   "metadata": {},
   "source": [
    "*Q-Q PLOT*"
   ]
  },
  {
   "cell_type": "code",
   "execution_count": 31,
   "metadata": {},
   "outputs": [
    {
     "data": {
      "image/png": "[encoded data removed]",
      "text/plain": [
       "<Figure size 432x288 with 1 Axes>"
      ]
     },
     "metadata": {
      "needs_background": "light"
     },
     "output_type": "display_data"
    }
   ],
   "source": [
    "stats.probplot(mediciones['voltaje'], dist=\"norm\", sparams=(2.5,),plot=plt)\n",
    "plt.show()"
   ]
  },
  {
   "cell_type": "markdown",
   "metadata": {},
   "source": [
    "*Test Kolmogorov-Smirnov* "
   ]
  },
  {
   "cell_type": "code",
   "execution_count": 32,
   "metadata": {},
   "outputs": [
    {
     "data": {
      "text/plain": [
       "KstestResult(statistic=1.0, pvalue=0.0)"
      ]
     },
     "execution_count": 32,
     "metadata": {},
     "output_type": "execute_result"
    }
   ],
   "source": [
    "stats.kstest(mediciones['voltaje'], 'norm')"
   ]
  },
  {
   "cell_type": "markdown",
   "metadata": {},
   "source": [
    "# Outliers"
   ]
  },
  {
   "cell_type": "markdown",
   "metadata": {},
   "source": [
    "## Método intercuantil"
   ]
  },
  {
   "cell_type": "markdown",
   "metadata": {},
   "source": [
    "Calcular:\n",
    "-  Q1 y Q3\n",
    "- IQR\n",
    "- Q1 - 1.5 * IQR\n",
    "- Q3 + 1.5 * IQR"
   ]
  },
  {
   "cell_type": "code",
   "execution_count": 33,
   "metadata": {},
   "outputs": [
    {
     "data": {
      "text/plain": [
       "<function matplotlib.pyplot.xlim(*args, **kwargs)>"
      ]
     },
     "execution_count": 33,
     "metadata": {},
     "output_type": "execute_result"
    },
    {
     "data": {
      "image/png": "[encoded data removed]",
      "text/plain": [
       "<Figure size 432x288 with 1 Axes>"
      ]
     },
     "metadata": {
      "needs_background": "light"
     },
     "output_type": "display_data"
    }
   ],
   "source": [
    "sns.boxplot(x=mediciones)\n",
    "plt.xlim"
   ]
  },
  {
   "cell_type": "code",
   "execution_count": 34,
   "metadata": {},
   "outputs": [
    {
     "name": "stdout",
     "output_type": "stream",
     "text": [
      "Q1:  9.6\n",
      "Q3:  11172.931034482726\n",
      "IQR:  11163.331034482726\n",
      "Umbral menor:  -16735.39655172409\n",
      "Umbral mayor:  27917.927586206817\n"
     ]
    }
   ],
   "source": [
    "# vamos a hacer en un solo paso este cálculo\n",
    "# para todas las variables en el data frame\n",
    "\n",
    "Q1 = np.percentile(mediciones, 25)\n",
    "Q3 = np.percentile(mediciones, 75)\n",
    "\n",
    "IQR = Q3 - Q1\n",
    "print(\"Q1: \", Q1)\n",
    "print(\"Q3: \", Q3)\n",
    "print(\"IQR: \", IQR)\n",
    "print(\"Umbral menor: \", Q1 - IQR*1.5)\n",
    "print(\"Umbral mayor: \", Q3 + IQR*1.5)"
   ]
  },
  {
   "cell_type": "markdown",
   "metadata": {},
   "source": [
    "Cuántos outliers hay en total (puntos mas alla de los \"bigotes\")"
   ]
  },
  {
   "cell_type": "code",
   "execution_count": 63,
   "metadata": {},
   "outputs": [
    {
     "data": {
      "text/plain": [
       "tiempo     0.0\n",
       "voltaje    0.0\n",
       "dtype: float64"
      ]
     },
     "execution_count": 63,
     "metadata": {},
     "output_type": "execute_result"
    }
   ],
   "source": [
    "# para ver cuántos outliers identificamos\n",
    "outliers_df = (mediciones['voltaje'] < (Q1 - 1.5 * IQR)) |(mediciones['voltaje']> (Q3 + 1.5 * IQR))\n",
    "aux =  outliers_df\n",
    "mediciones[aux].sum()"
   ]
  },
  {
   "cell_type": "markdown",
   "metadata": {},
   "source": [
    "### Z-Score\n",
    "\n",
    "Sea una variable $X$ tal que sige una distribución de tipo Normal con media $\\mu$ y desviación estándar $\\sigma$. Es decir:\n",
    "\n",
    "$$X \\sim N(\\mu,\\sigma)$$\n",
    "\n",
    "Comúnmente se representa con el nombre Z a la variable estandarizada:\n",
    "\n",
    "$$ Z = \\frac{X - \\mu}{\\sigma} $$\n",
    "\n",
    "La intuición detrás del Z-score es describir cualquier punto de datos encontrando su relación con la desviación estándar y la media. Es correr la media de los datos a 0 y la desviación estándar es 1, como en la distribución normal estándar.\n",
    "\n",
    "¿cómo ayuda esto a identificar los valores atípicos?\n",
    "Cuando calculamos el  Z-Score cambiamos la escala, centramos los datos y buscamos valores que se encuentren muy lejos de cero. Estos casos que están muy lejos de cero serán tratados como valores atípicos. Comunmente se utiliza un umbral de -3 y 3, es decir, si el valor del Z-Score es menor que -3 o mayor que 3, es considerado outlier.\n",
    "\n",
    "Nota: recordar que en la clase vimos que el 99,75% de las observaciones se encuentran entre -3 y 3.\n",
    "\n",
    "<img src=\"https://cdn-images-1.medium.com/max/2600/1*IdGgdrY_n_9_YfkaCh-dag.png\" width=\"400\">\n",
    "\n",
    "\n",
    "## Ejercicio:\n",
    "\n",
    "Calcular el z-score para todos los datos y ver cuántos:\n",
    "- superan el 95% y 99%\n",
    "- están por debajo del 5% y 1%"
   ]
  },
  {
   "cell_type": "code",
   "execution_count": 65,
   "metadata": {},
   "outputs": [
    {
     "data": {
      "text/plain": [
       "array([[-1.73189044, -0.32673054],\n",
       "       [-1.73156969, -0.37948534],\n",
       "       [-1.73124894, -0.43224015],\n",
       "       [-1.73092819, -0.45861755],\n",
       "       [-1.73060744, -0.40586275]])"
      ]
     },
     "execution_count": 65,
     "metadata": {},
     "output_type": "execute_result"
    }
   ],
   "source": [
    "from scipy import stats\n",
    "import numpy as np\n",
    "\n",
    "#Construyo dataset transformado\n",
    "z_dis = stats.zscore(mediciones)\n",
    "z_dis[0:5]"
   ]
  },
  {
   "cell_type": "code",
   "execution_count": 66,
   "metadata": {},
   "outputs": [
    {
     "name": "stdout",
     "output_type": "stream",
     "text": [
      "Minimo: -1.731890439918187 \n",
      "\n",
      "Maximo: 7.771132090533057\n"
     ]
    }
   ],
   "source": [
    "print(\"Minimo:\", z_dis.min(), '\\n')\n",
    "print(\"Maximo:\", z_dis.max())"
   ]
  },
  {
   "cell_type": "code",
   "execution_count": 68,
   "metadata": {},
   "outputs": [
    {
     "name": "stdout",
     "output_type": "stream",
     "text": [
      "(array([  182,   183,   184,   185,   186,   187,   443,   444,   445,\n",
      "         446,   447,   448,   449,   450,   713,   714,   715,   716,\n",
      "         717,   718,   988,   989,   990,   991,   992,   993,   994,\n",
      "         995,  1262,  1263,  1264,  1265,  1266,  1267,  1268,  1549,\n",
      "        1550,  1551,  1552,  1553,  1554,  1845,  1846,  1847,  1848,\n",
      "        1849,  1850,  2132,  2133,  2134,  2135,  2136,  2137,  2138,\n",
      "        2398,  2399,  2400,  2401,  2402,  2403,  2404,  2405,  2666,\n",
      "        2667,  2668,  2669,  2670,  2671,  2939,  2940,  2941,  2942,\n",
      "        2943,  2944,  3215,  3216,  3217,  3218,  3219,  3220,  3497,\n",
      "        3498,  3499,  3500,  3501,  3502,  3503,  3883,  3884,  3885,\n",
      "        3886,  3887,  3888,  4182,  4183,  4184,  4185,  4186,  4187,\n",
      "        4188,  4465,  4466,  4467,  4468,  4469,  4470,  4471,  4756,\n",
      "        4757,  4758,  4759,  4760,  4761,  4762,  5053,  5054,  5055,\n",
      "        5056,  5057,  5058,  5339,  5340,  5341,  5342,  5343,  5344,\n",
      "        5607,  5608,  5609,  5610,  5611,  5612,  5879,  5880,  5881,\n",
      "        5882,  5883,  5884,  5885,  6182,  6183,  6184,  6185,  6186,\n",
      "        6187,  6188,  6488,  6489,  6490,  6491,  6492,  6493,  6494,\n",
      "        6767,  6768,  6769,  6770,  6771,  6772,  6773,  7050,  7051,\n",
      "        7052,  7053,  7054,  7055,  7056,  7316,  7317,  7318,  7319,\n",
      "        7320,  7321,  7585,  7586,  7587,  7588,  7589,  7590,  7591,\n",
      "        7592,  7852,  7853,  7854,  7855,  7856,  7857,  7858,  8111,\n",
      "        8112,  8113,  8114,  8115,  8116,  8117,  8371,  8372,  8373,\n",
      "        8374,  8375,  8376,  8629,  8630,  8631,  8632,  8633,  8634,\n",
      "        8877,  8878,  8879,  8880,  8881,  8882,  9129,  9130,  9131,\n",
      "        9132,  9133,  9134,  9385,  9386,  9387,  9388,  9389,  9390,\n",
      "        9391,  9640,  9641,  9642,  9643,  9644,  9645,  9646,  9905,\n",
      "        9906,  9907,  9908,  9909,  9910,  9911, 10189, 10190, 10191,\n",
      "       10192, 10193, 10194, 10458, 10459, 10460, 10461, 10462, 10463,\n",
      "       10464, 10726, 10727, 10728, 10729, 10730, 10731, 10732],\n",
      "      dtype=int64), array([1, 1, 1, 1, 1, 1, 1, 1, 1, 1, 1, 1, 1, 1, 1, 1, 1, 1, 1, 1, 1, 1,\n",
      "       1, 1, 1, 1, 1, 1, 1, 1, 1, 1, 1, 1, 1, 1, 1, 1, 1, 1, 1, 1, 1, 1,\n",
      "       1, 1, 1, 1, 1, 1, 1, 1, 1, 1, 1, 1, 1, 1, 1, 1, 1, 1, 1, 1, 1, 1,\n",
      "       1, 1, 1, 1, 1, 1, 1, 1, 1, 1, 1, 1, 1, 1, 1, 1, 1, 1, 1, 1, 1, 1,\n",
      "       1, 1, 1, 1, 1, 1, 1, 1, 1, 1, 1, 1, 1, 1, 1, 1, 1, 1, 1, 1, 1, 1,\n",
      "       1, 1, 1, 1, 1, 1, 1, 1, 1, 1, 1, 1, 1, 1, 1, 1, 1, 1, 1, 1, 1, 1,\n",
      "       1, 1, 1, 1, 1, 1, 1, 1, 1, 1, 1, 1, 1, 1, 1, 1, 1, 1, 1, 1, 1, 1,\n",
      "       1, 1, 1, 1, 1, 1, 1, 1, 1, 1, 1, 1, 1, 1, 1, 1, 1, 1, 1, 1, 1, 1,\n",
      "       1, 1, 1, 1, 1, 1, 1, 1, 1, 1, 1, 1, 1, 1, 1, 1, 1, 1, 1, 1, 1, 1,\n",
      "       1, 1, 1, 1, 1, 1, 1, 1, 1, 1, 1, 1, 1, 1, 1, 1, 1, 1, 1, 1, 1, 1,\n",
      "       1, 1, 1, 1, 1, 1, 1, 1, 1, 1, 1, 1, 1, 1, 1, 1, 1, 1, 1, 1, 1, 1,\n",
      "       1, 1, 1, 1, 1, 1, 1, 1, 1, 1, 1, 1, 1, 1, 1, 1, 1, 1], dtype=int64))\n"
     ]
    }
   ],
   "source": [
    "# Vamos a considerar como outliers:\n",
    "# casos menores que -3\n",
    "# casos mayores que 3\n",
    "# voy a definir un valor de threshold=3\n",
    "threshold = 3\n",
    "# imprimo casos cuyo valor absoluto es > 3\n",
    "print(np.where(np.abs(z_dis) > threshold)) "
   ]
  },
  {
   "cell_type": "markdown",
   "metadata": {},
   "source": [
    "## Visual con boxplot"
   ]
  },
  {
   "cell_type": "markdown",
   "metadata": {},
   "source": [
    "Hacer un boxplot para ver los outliers de la variable medida (voltaje)"
   ]
  },
  {
   "cell_type": "code",
   "execution_count": 69,
   "metadata": {},
   "outputs": [
    {
     "data": {
      "text/plain": [
       "(8.8305, 12.779499999999999)"
      ]
     },
     "execution_count": 69,
     "metadata": {},
     "output_type": "execute_result"
    },
    {
     "data": {
      "image/png": "[encoded data removed]",
      "text/plain": [
       "<Figure size 432x288 with 1 Axes>"
      ]
     },
     "metadata": {
      "needs_background": "light"
     },
     "output_type": "display_data"
    }
   ],
   "source": [
    "sns.boxplot(x=mediciones['voltaje'])\n",
    "plt.xlim()"
   ]
  },
  {
   "cell_type": "markdown",
   "metadata": {},
   "source": [
    "La cantidad de outliers que aparecen es consistente con el resultado analítico? \n",
    "\n",
    "Hacer un scatterplot de voltaje vs tiempo para visualizar la señal de otra manera."
   ]
  },
  {
   "cell_type": "code",
   "execution_count": 70,
   "metadata": {},
   "outputs": [
    {
     "data": {
      "text/plain": [
       "<matplotlib.axes._subplots.AxesSubplot at 0x1b1473d2438>"
      ]
     },
     "execution_count": 70,
     "metadata": {},
     "output_type": "execute_result"
    },
    {
     "data": {
      "image/png": "[encoded data removed]",
      "text/plain": [
       "<Figure size 432x288 with 1 Axes>"
      ]
     },
     "metadata": {
      "needs_background": "light"
     },
     "output_type": "display_data"
    }
   ],
   "source": [
    "sns.scatterplot(x=\"voltaje\", y=\"tiempo\", data=mediciones)\n"
   ]
  },
  {
   "cell_type": "markdown",
   "metadata": {},
   "source": [
    "Hacer un plot con lineas del mismo gráfico"
   ]
  },
  {
   "cell_type": "code",
   "execution_count": 71,
   "metadata": {},
   "outputs": [
    {
     "data": {
      "image/png": "[encoded data removed]",
      "text/plain": [
       "<Figure size 432x288 with 1 Axes>"
      ]
     },
     "metadata": {
      "needs_background": "light"
     },
     "output_type": "display_data"
    }
   ],
   "source": [
    "mediciones.plot(x='tiempo', y='voltaje', kind='bar') \n",
    "plt.show()"
   ]
  },
  {
   "cell_type": "markdown",
   "metadata": {},
   "source": [
    "Hacer un zoom del plot solo con los primeros 1000 datos"
   ]
  },
  {
   "cell_type": "code",
   "execution_count": null,
   "metadata": {},
   "outputs": [],
   "source": []
  },
  {
   "cell_type": "markdown",
   "metadata": {},
   "source": [
    "### Electrocardiograma"
   ]
  },
  {
   "cell_type": "markdown",
   "metadata": {},
   "source": [
    "Es un electrocardiograma!  \n",
    "\n",
    "Los outliers son los picos de la señal. Hubiese sido incorrecto eliminarlos o corregir su valor.\n",
    "\n",
    "Un dato útil a extraer es el tiempo entre picos. La pregunta es cómo hacerlo.\n",
    "\n",
    "Opciones:\n",
    "* Filtrar el dataframe con un umbral de voltaje\n",
    "    * Este método podria no ser preciso \n",
    "* Buscar los picos y luego el indice donde hay un méximo dentro de él\n",
    "    * a veces conviene empezar a buscarlos manualmente y luego tratar de ir generalizando el metodo para llevarlo a un proceso automatico.\n",
    "\n",
    "Este proceso es el más trabajoso de este análisis. Hay que usar la imaginación y la cabeza. :)\n",
    "\n"
   ]
  },
  {
   "cell_type": "markdown",
   "metadata": {},
   "source": [
    "### Selección por umbral"
   ]
  },
  {
   "cell_type": "markdown",
   "metadata": {},
   "source": [
    "Seleccionemos todos los puntos donde el voltaje supera un valor fijo"
   ]
  },
  {
   "cell_type": "code",
   "execution_count": null,
   "metadata": {},
   "outputs": [],
   "source": [
    "seleccion = mediciones.voltaje > 11.5"
   ]
  },
  {
   "cell_type": "markdown",
   "metadata": {},
   "source": [
    "Creamos un nuevo dataframe con solo las filas que nos interesan"
   ]
  },
  {
   "cell_type": "code",
   "execution_count": null,
   "metadata": {},
   "outputs": [],
   "source": [
    "df2 = mediciones.loc[seleccion]"
   ]
  },
  {
   "cell_type": "markdown",
   "metadata": {},
   "source": [
    "Veamos el plot de las primeras 50 filas"
   ]
  },
  {
   "cell_type": "code",
   "execution_count": null,
   "metadata": {},
   "outputs": [],
   "source": [
    "plt.plot(df2.tiempo[:50], df2.voltaje[:50], \"-\")"
   ]
  },
  {
   "cell_type": "code",
   "execution_count": null,
   "metadata": {},
   "outputs": [],
   "source": [
    "df2.head()"
   ]
  },
  {
   "cell_type": "markdown",
   "metadata": {},
   "source": [
    "### Importo numpy (aunque deberia moverlo al principio)"
   ]
  },
  {
   "cell_type": "code",
   "execution_count": null,
   "metadata": {},
   "outputs": [],
   "source": [
    "import numpy as np"
   ]
  },
  {
   "cell_type": "markdown",
   "metadata": {},
   "source": [
    "Voy a calcular el diff de los elementos de la columna tiempo.\n",
    "\n",
    "Si tengo un array A = [a0, a1, a2, ...]\n",
    "\n",
    "np.diff(A) es [a1-a0 , a2-a1 , a3-a2, ...]\n",
    "\n",
    "es la resta entre un elemento y su inmediato anterior.\n",
    "\n",
    "*Nota:* diff siempre devuelve un array con un elemento menos que el original."
   ]
  },
  {
   "cell_type": "code",
   "execution_count": null,
   "metadata": {},
   "outputs": [],
   "source": [
    "deltaT = np.diff(df2.tiempo)"
   ]
  },
  {
   "cell_type": "markdown",
   "metadata": {},
   "source": [
    "Veamos que resulta el diff de tiempo (ya filtrado y guardado en df2)"
   ]
  },
  {
   "cell_type": "code",
   "execution_count": null,
   "metadata": {},
   "outputs": [],
   "source": [
    "deltaT[:50]"
   ]
  },
  {
   "cell_type": "markdown",
   "metadata": {},
   "source": [
    "Se ve que hay varios que difieren en poco (2.1) y algunos que difieren en mucho (500+).\n",
    "\n",
    "Este salto es el tiempo entre picos"
   ]
  },
  {
   "cell_type": "code",
   "execution_count": null,
   "metadata": {},
   "outputs": [],
   "source": [
    "picos = deltaT[deltaT>100]"
   ]
  },
  {
   "cell_type": "markdown",
   "metadata": {},
   "source": [
    "Veamos si hay outliers en los tiempos entre picos"
   ]
  },
  {
   "cell_type": "code",
   "execution_count": null,
   "metadata": {},
   "outputs": [],
   "source": [
    "sns.boxplot(picos)"
   ]
  },
  {
   "cell_type": "markdown",
   "metadata": {},
   "source": [
    "### Calculemos Latidos por Minuto"
   ]
  },
  {
   "cell_type": "code",
   "execution_count": null,
   "metadata": {},
   "outputs": [],
   "source": [
    "lxm = 60000/picos"
   ]
  },
  {
   "cell_type": "code",
   "execution_count": null,
   "metadata": {},
   "outputs": [],
   "source": [
    "lxm"
   ]
  },
  {
   "cell_type": "markdown",
   "metadata": {},
   "source": [
    "Veamos el histograma. \n",
    "\n",
    "**Ejercicio:** Incluir los labels a la figura"
   ]
  },
  {
   "cell_type": "code",
   "execution_count": null,
   "metadata": {},
   "outputs": [],
   "source": [
    "plt.hist(lxm)"
   ]
  },
  {
   "cell_type": "code",
   "execution_count": null,
   "metadata": {},
   "outputs": [],
   "source": []
  },
  {
   "cell_type": "markdown",
   "metadata": {},
   "source": []
  },
  {
   "cell_type": "markdown",
   "metadata": {},
   "source": [
    "# Moraleja"
   ]
  },
  {
   "cell_type": "markdown",
   "metadata": {},
   "source": [
    "* Los outliers no necesariamente son puntos malos\n",
    "* Siempre entender de donde provienen los datos y que representan\n",
    "* Analizar los outliers en contexto\n",
    "* Y a veces hay que transformar los datos para obtener datos útiles (latidos por minuto)"
   ]
  },
  {
   "cell_type": "markdown",
   "metadata": {},
   "source": [
    "## Funciones para calcular Z-Score, Z-score modificado y IQR"
   ]
  },
  {
   "cell_type": "markdown",
   "metadata": {},
   "source": [
    "Se proponen 3 funciones alternativas al comando "
   ]
  },
  {
   "cell_type": "code",
   "execution_count": null,
   "metadata": {
    "collapsed": true,
    "jupyter": {
     "outputs_hidden": true
    }
   },
   "outputs": [],
   "source": [
    "import numpy as np\n",
    "\n",
    "def outliers_z_score(ys):\n",
    "    threshold = 3\n",
    "\n",
    "    mean_y = np.mean(ys)\n",
    "    stdev_y = np.std(ys)\n",
    "    z_scores = [(y - mean_y) / stdev_y for y in ys]\n",
    "    return np.where(np.abs(z_scores) > threshold)"
   ]
  },
  {
   "cell_type": "code",
   "execution_count": null,
   "metadata": {
    "collapsed": true,
    "jupyter": {
     "outputs_hidden": true
    }
   },
   "outputs": [],
   "source": [
    "import numpy as np\n",
    "\n",
    "def outliers_modified_z_score(ys):\n",
    "    threshold = 3.5\n",
    "\n",
    "    median_y = np.median(ys)\n",
    "    median_absolute_deviation_y = np.median([np.abs(y - median_y) for y in ys])\n",
    "    modified_z_scores = [0.6745 * (y - median_y) / median_absolute_deviation_y\n",
    "                         for y in ys]\n",
    "    return np.where(np.abs(modified_z_scores) > threshold)\n",
    "#A further benefit of the modified Z-score method is that it uses the median and MAD rather \n",
    "#than the mean and standard deviation. The median and MAD are robust measures of central tendency and dispersion, \n",
    "#resp"
   ]
  },
  {
   "cell_type": "code",
   "execution_count": null,
   "metadata": {
    "collapsed": true,
    "jupyter": {
     "outputs_hidden": true
    }
   },
   "outputs": [],
   "source": [
    "import numpy as np\n",
    "\n",
    "def outliers_iqr(ys):\n",
    "    quartile_1, quartile_3 = np.percentile(ys, [25, 75])\n",
    "    iqr = quartile_3 - quartile_1\n",
    "    lower_bound = quartile_1 - (iqr * 1.5)\n",
    "    upper_bound = quartile_3 + (iqr * 1.5)\n",
    "    return np.where((ys > upper_bound) | (ys < lower_bound))"
   ]
  },
  {
   "cell_type": "markdown",
   "metadata": {},
   "source": [
    "**Explicación de cuando remover outliers**\n",
    "\n",
    "Diriamos que datos sucios, malos cálculos, son Outliers y se deberían remover pero al mismo tiempo puede ser que los queramos corregir también, porque inciden en las estimaciones de parámetros.\n",
    "\n",
    "Ejemplo: 5 personas tienen salarios de 10K, 20K, 30K, 40K y 50K, y de repente una de estas personas empieza a recibir un salario de 100K. Consideremos esta situación desde el punto de vista de un empleador. El aumento salarial de esta persona puede parecer sesgado y puede que tenga que subir el sueldo de otros empleados para mantener el balance. Así que, puede haber múltiples razones para entender a qué se deben y corregir los outliers.\n",
    "\n",
    "Resumen\n",
    "A través de este ejercicio vimos cómo en la fase de análisis de los datos podeos encontrarnos con datos inusuales (outliers). Aprendimos técnicas de detección y eliminación de outliers. Queda en discusión la pregunta sobre si es el camino correcto efectuar una eliminación de estos casos. Para responderla se dejan propuestas lecturas:\n",
    "\n",
    "http://www.renc.es/imagenes/auxiliar/files/NUTR.%20COMUN.%20SUPL.%201-2015_Tratamiento%20atipicos.pdf\n",
    "\n",
    "https://www.researchgate.net/post/When_is_it_justifiable_to_exclude_outlier_data_points_from_statistical_analyses\n",
    "\n",
    "https://www.researchgate.net/post/Which_is_the_best_method_for_removing_outliers_in_a_data_set\n",
    "\n",
    "https://www.theanalysisfactor.com/outliers-to-drop-or-not-to-drop/"
   ]
  }
 ],
 "metadata": {
  "kernelspec": {
   "display_name": "Python 3",
   "language": "python",
   "name": "python3"
  },
  "language_info": {
   "codemirror_mode": {
    "name": "ipython",
    "version": 3
   },
   "file_extension": ".py",
   "mimetype": "text/x-python",
   "name": "python",
   "nbconvert_exporter": "python",
   "pygments_lexer": "ipython3",
   "version": "3.7.3"
  }
 },
 "nbformat": 4,
 "nbformat_minor": 4
}
