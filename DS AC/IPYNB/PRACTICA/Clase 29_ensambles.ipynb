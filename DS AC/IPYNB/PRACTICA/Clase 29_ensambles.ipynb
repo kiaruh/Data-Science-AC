{
 "cells": [
  {
   "cell_type": "markdown",
   "metadata": {
    "colab_type": "text",
    "id": "0cj6end90ac_"
   },
   "source": [
    "# LAB: Ensambles para clasificación de dígitos"
   ]
  },
  {
   "cell_type": "markdown",
   "metadata": {
    "colab_type": "text",
    "id": "PoforLGY0adC"
   },
   "source": [
    "## INTRODUCCION\n",
    "\n",
    "Vamos a utilizar un dataset de `sklearn` para realizar una clasificación de imágenes de dígitos manuscritos. El objetivo es lograr clasificar a qué dígito pertenece cada una de las imágenes.\n",
    "\n",
    "Para eso vamos a usar los modelos vistos y algunas versiones más similares."
   ]
  },
  {
   "cell_type": "markdown",
   "metadata": {
    "colab_type": "text",
    "id": "kxWsdQJY0adF"
   },
   "source": [
    "Veamos brevemente la estructura de los datos. Básicamente "
   ]
  },
  {
   "cell_type": "code",
   "execution_count": 1,
   "metadata": {
    "colab": {},
    "colab_type": "code",
    "id": "kdaFkl4L0adI",
    "outputId": "7fefa70c-814d-4a88-8aa4-967e93f9d0f3"
   },
   "outputs": [
    {
     "name": "stdout",
     "output_type": "stream",
     "text": [
      ".. _digits_dataset:\n",
      "\n",
      "Optical recognition of handwritten digits dataset\n",
      "--------------------------------------------------\n",
      "\n",
      "**Data Set Characteristics:**\n",
      "\n",
      "    :Number of Instances: 5620\n",
      "    :Number of Attributes: 64\n",
      "    :Attribute Information: 8x8 image of integer pixels in the range 0..16.\n",
      "    :Missing Attribute Values: None\n",
      "    :Creator: E. Alpaydin (alpaydin '@' boun.edu.tr)\n",
      "    :Date: July; 1998\n",
      "\n",
      "This is a copy of the test set of the UCI ML hand-written digits datasets\n",
      "https://archive.ics.uci.edu/ml/datasets/Optical+Recognition+of+Handwritten+Digits\n",
      "\n",
      "The data set contains images of hand-written digits: 10 classes where\n",
      "each class refers to a digit.\n",
      "\n",
      "Preprocessing programs made available by NIST were used to extract\n",
      "normalized bitmaps of handwritten digits from a preprinted form. From a\n",
      "total of 43 people, 30 contributed to the training set and different 13\n",
      "to the test set. 32x32 bitmaps are divided into nonoverlapping blocks of\n",
      "4x4 and the number of on pixels are counted in each block. This generates\n",
      "an input matrix of 8x8 where each element is an integer in the range\n",
      "0..16. This reduces dimensionality and gives invariance to small\n",
      "distortions.\n",
      "\n",
      "For info on NIST preprocessing routines, see M. D. Garris, J. L. Blue, G.\n",
      "T. Candela, D. L. Dimmick, J. Geist, P. J. Grother, S. A. Janet, and C.\n",
      "L. Wilson, NIST Form-Based Handprint Recognition System, NISTIR 5469,\n",
      "1994.\n",
      "\n",
      ".. topic:: References\n",
      "\n",
      "  - C. Kaynak (1995) Methods of Combining Multiple Classifiers and Their\n",
      "    Applications to Handwritten Digit Recognition, MSc Thesis, Institute of\n",
      "    Graduate Studies in Science and Engineering, Bogazici University.\n",
      "  - E. Alpaydin, C. Kaynak (1998) Cascading Classifiers, Kybernetika.\n",
      "  - Ken Tang and Ponnuthurai N. Suganthan and Xi Yao and A. Kai Qin.\n",
      "    Linear dimensionalityreduction using relevance weighted LDA. School of\n",
      "    Electrical and Electronic Engineering Nanyang Technological University.\n",
      "    2005.\n",
      "  - Claudio Gentile. A New Approximate Maximal Margin Classification\n",
      "    Algorithm. NIPS. 2000.\n"
     ]
    }
   ],
   "source": [
    "from sklearn.datasets import load_digits\n",
    "digits = load_digits()\n",
    "print(digits.DESCR)"
   ]
  },
  {
   "cell_type": "code",
   "execution_count": 3,
   "metadata": {
    "colab": {},
    "colab_type": "code",
    "id": "X3f78RXW0adT",
    "outputId": "9c3fca45-c710-43ff-af6b-b49d5c21d87e"
   },
   "outputs": [
    {
     "data": {
      "text/plain": [
       "dict_keys(['data', 'target', 'target_names', 'images', 'DESCR'])"
      ]
     },
     "execution_count": 3,
     "metadata": {},
     "output_type": "execute_result"
    }
   ],
   "source": [
    "digits.keys()\n"
   ]
  },
  {
   "cell_type": "code",
   "execution_count": 3,
   "metadata": {
    "colab": {},
    "colab_type": "code",
    "id": "7Xz7XzTT0adZ",
    "outputId": "fad653fa-beb8-4f10-ade5-a56e255e6d88"
   },
   "outputs": [
    {
     "data": {
      "text/plain": [
       "(1797, 8, 8)"
      ]
     },
     "execution_count": 3,
     "metadata": {},
     "output_type": "execute_result"
    }
   ],
   "source": [
    "digits.images.shape"
   ]
  },
  {
   "cell_type": "code",
   "execution_count": 4,
   "metadata": {
    "colab": {},
    "colab_type": "code",
    "id": "Zux1mcF90adc",
    "outputId": "f9da71a5-290c-402e-f4ff-d1dd10cffeb6"
   },
   "outputs": [
    {
     "data": {
      "text/plain": [
       "(1797, 64)"
      ]
     },
     "execution_count": 4,
     "metadata": {},
     "output_type": "execute_result"
    }
   ],
   "source": [
    "digits.data.shape"
   ]
  },
  {
   "cell_type": "code",
   "execution_count": 5,
   "metadata": {
    "colab": {},
    "colab_type": "code",
    "id": "eFaHDUkK0adk",
    "outputId": "5c5846d7-33f3-4286-9ebe-29448862113a"
   },
   "outputs": [
    {
     "data": {
      "text/plain": [
       "(10,)"
      ]
     },
     "execution_count": 5,
     "metadata": {},
     "output_type": "execute_result"
    }
   ],
   "source": [
    "digits.target_names.shape"
   ]
  },
  {
   "cell_type": "code",
   "execution_count": 6,
   "metadata": {
    "colab": {},
    "colab_type": "code",
    "id": "yrqmWAHO0adp",
    "outputId": "79dc3c1c-871b-487a-8bbf-875d6d87c59c"
   },
   "outputs": [
    {
     "data": {
      "text/plain": [
       "(1797,)"
      ]
     },
     "execution_count": 6,
     "metadata": {},
     "output_type": "execute_result"
    }
   ],
   "source": [
    "digits.target.shape"
   ]
  },
  {
   "cell_type": "code",
   "execution_count": 7,
   "metadata": {
    "colab": {},
    "colab_type": "code",
    "id": "EnEYqtD20adv",
    "outputId": "1821230c-f87e-49f3-e4c7-2f2172238d71"
   },
   "outputs": [
    {
     "data": {
      "text/plain": [
       "array([[[ 0.,  0.,  5., 13.,  9.,  1.,  0.,  0.],\n",
       "        [ 0.,  0., 13., 15., 10., 15.,  5.,  0.],\n",
       "        [ 0.,  3., 15.,  2.,  0., 11.,  8.,  0.],\n",
       "        [ 0.,  4., 12.,  0.,  0.,  8.,  8.,  0.],\n",
       "        [ 0.,  5.,  8.,  0.,  0.,  9.,  8.,  0.],\n",
       "        [ 0.,  4., 11.,  0.,  1., 12.,  7.,  0.],\n",
       "        [ 0.,  2., 14.,  5., 10., 12.,  0.,  0.],\n",
       "        [ 0.,  0.,  6., 13., 10.,  0.,  0.,  0.]],\n",
       "\n",
       "       [[ 0.,  0.,  0., 12., 13.,  5.,  0.,  0.],\n",
       "        [ 0.,  0.,  0., 11., 16.,  9.,  0.,  0.],\n",
       "        [ 0.,  0.,  3., 15., 16.,  6.,  0.,  0.],\n",
       "        [ 0.,  7., 15., 16., 16.,  2.,  0.,  0.],\n",
       "        [ 0.,  0.,  1., 16., 16.,  3.,  0.,  0.],\n",
       "        [ 0.,  0.,  1., 16., 16.,  6.,  0.,  0.],\n",
       "        [ 0.,  0.,  1., 16., 16.,  6.,  0.,  0.],\n",
       "        [ 0.,  0.,  0., 11., 16., 10.,  0.,  0.]]])"
      ]
     },
     "execution_count": 7,
     "metadata": {},
     "output_type": "execute_result"
    }
   ],
   "source": [
    "digits.images[0:2]"
   ]
  },
  {
   "cell_type": "code",
   "execution_count": 8,
   "metadata": {
    "colab": {},
    "colab_type": "code",
    "id": "yECy1gX80ad0",
    "outputId": "89861cf3-cb49-4a0a-e531-6a6164983b9b"
   },
   "outputs": [
    {
     "data": {
      "text/plain": [
       "array([ 0.,  0.,  5., 13.,  9.,  1.,  0.,  0.,  0.,  0., 13., 15., 10.,\n",
       "       15.,  5.,  0.,  0.,  3., 15.,  2.,  0., 11.,  8.,  0.,  0.,  4.,\n",
       "       12.,  0.,  0.,  8.,  8.,  0.,  0.,  5.,  8.,  0.,  0.,  9.,  8.,\n",
       "        0.,  0.,  4., 11.,  0.,  1., 12.,  7.,  0.,  0.,  2., 14.,  5.,\n",
       "       10., 12.,  0.,  0.,  0.,  0.,  6., 13., 10.,  0.,  0.,  0.])"
      ]
     },
     "execution_count": 8,
     "metadata": {},
     "output_type": "execute_result"
    }
   ],
   "source": [
    "digits.data[0]"
   ]
  },
  {
   "cell_type": "code",
   "execution_count": 9,
   "metadata": {
    "colab": {},
    "colab_type": "code",
    "id": "_GMwEALt0ad4"
   },
   "outputs": [],
   "source": [
    "%matplotlib inline\n",
    "import numpy as np\n",
    "import matplotlib.pyplot as plt\n",
    "import seaborn as sns; sns.set()"
   ]
  },
  {
   "cell_type": "code",
   "execution_count": 10,
   "metadata": {
    "colab": {},
    "colab_type": "code",
    "id": "jVxmrWna0ad7",
    "scrolled": true
   },
   "outputs": [],
   "source": []
  },
  {
   "cell_type": "markdown",
   "metadata": {
    "colab_type": "text",
    "id": "8XvCKy110ad-"
   },
   "source": [
    "Visualizemos algunos registros del dataset."
   ]
  },
  {
   "cell_type": "code",
   "execution_count": 11,
   "metadata": {
    "colab": {},
    "colab_type": "code",
    "id": "MbkGTGby0aeA"
   },
   "outputs": [
    {
     "data": {
      "image/png": "[encoded data removed]",
      "text/plain": [
       "<Figure size 432x432 with 64 Axes>"
      ]
     },
     "metadata": {},
     "output_type": "display_data"
    }
   ],
   "source": [
    "# Generamos los gráficos\n",
    "fig = plt.figure(figsize=(6, 6))  # figure size in inches\n",
    "fig.subplots_adjust(left=0, right=1, bottom=0, top=1, hspace=0.05, wspace=0.05)\n",
    "\n",
    "# Ploteamos los dígitos: cada imagen es de 8x8 pixels\n",
    "for i in range(64):\n",
    "    ax = fig.add_subplot(8, 8, i + 1, xticks=[], yticks=[])\n",
    "    ax.imshow(digits.images[i], cmap=plt.cm.binary, interpolation='nearest')\n",
    "    \n",
    "    # etiquetamos la imagen con el target value\n",
    "    ax.text(0, 7, str(digits.target[i]))"
   ]
  },
  {
   "cell_type": "markdown",
   "metadata": {
    "colab_type": "text",
    "id": "a9L8Idm90aeD"
   },
   "source": [
    "## Random Forest"
   ]
  },
  {
   "cell_type": "markdown",
   "metadata": {
    "colab_type": "text",
    "id": "k92L8DHf0aeE"
   },
   "source": [
    "Podemos usar un clasificador de dígitos muy rápidamente utilizando un Random Forest:"
   ]
  },
  {
   "cell_type": "code",
   "execution_count": null,
   "metadata": {
    "colab": {},
    "colab_type": "code",
    "id": "whNEObhV0aeF"
   },
   "outputs": [],
   "source": [
    "from sklearn.ensemble import RandomForestClassifier\n",
    "from sklearn.model_selection import train_test_split\n",
    "\n"
   ]
  },
  {
   "cell_type": "markdown",
   "metadata": {
    "colab_type": "text",
    "id": "boDsxTMe0aeK"
   },
   "source": [
    "Veamos el reporte de clasificación:"
   ]
  },
  {
   "cell_type": "code",
   "execution_count": null,
   "metadata": {
    "colab": {},
    "colab_type": "code",
    "id": "RUx7UQGZ0aeK"
   },
   "outputs": [],
   "source": [
    "from sklearn import metrics\n"
   ]
  },
  {
   "cell_type": "markdown",
   "metadata": {
    "colab_type": "text",
    "id": "Ra2_EIqy0aeP"
   },
   "source": [
    "Y para evaluarlo, podemos usar la matriz de confusión:"
   ]
  },
  {
   "cell_type": "code",
   "execution_count": null,
   "metadata": {
    "colab": {},
    "colab_type": "code",
    "id": "tSwM6RgB0aeQ"
   },
   "outputs": [],
   "source": [
    "from sklearn.metrics import confusion_matrix\n"
   ]
  },
  {
   "cell_type": "markdown",
   "metadata": {
    "colab_type": "text",
    "id": "PAZR9qvI0aeU"
   },
   "source": [
    "Es interesante ver cómo un clasificador basado en Random Forest (sin ningún tipo de tuneo) resulta en una muy precisa clasisicación de los datos de dígitos."
   ]
  },
  {
   "cell_type": "markdown",
   "metadata": {
    "colab_type": "text",
    "id": "Ws201c380afK"
   },
   "source": [
    "## Extra Tree \n",
    "\n",
    "Extra Trees es un algoritmo similar al Random Forest, construye múltiples árboles y separa los nodos usando subsets de features aleatorio, pero con dos diferencias claves:  no hace un bootstrap de las observaciones (muestreo sin reemplazo), y los nodos se separando de forma aleatoria, no con la mejor separación (en relación al criterio). Entonces, en resumen:\n",
    "- se construyen mcuhos árboles con  bootstrap = False por default\n",
    "- los nodos se separan de forma aleatoria para cada subset de features elegidos al azar en cada nodoode\n",
    "\n",
    "\n",
    "El nombre ExtraTrees viene Extremely Randomized Trees.\n",
    "https://medium.com/@namanbhandari/extratreesclassifier-8e7fc0502c7"
   ]
  },
  {
   "cell_type": "markdown",
   "metadata": {
    "colab_type": "text",
    "id": "3bnQxspC0afL"
   },
   "source": [
    "Probemos ahora un Extra Tree."
   ]
  },
  {
   "cell_type": "code",
   "execution_count": null,
   "metadata": {
    "colab": {},
    "colab_type": "code",
    "id": "wJU6-bPx0afM"
   },
   "outputs": [],
   "source": [
    "from sklearn.ensemble import ExtraTreesClassifier\n",
    "et = ExtraTreesClassifier(n_estimators=1000, class_weight='balanced')"
   ]
  },
  {
   "cell_type": "code",
   "execution_count": null,
   "metadata": {},
   "outputs": [],
   "source": [
    "et.fit(Xtrain, ytrain)\n",
    "ypred_et = et.predict(Xtest)"
   ]
  },
  {
   "cell_type": "code",
   "execution_count": null,
   "metadata": {},
   "outputs": [],
   "source": [
    "print(metrics.classification_report(ypred_et, ytest))"
   ]
  },
  {
   "cell_type": "code",
   "execution_count": null,
   "metadata": {},
   "outputs": [],
   "source": [
    "mat = confusion_matrix(ytest, ypred_et)\n",
    "sns.heatmap(mat.T, square=True, annot=True, fmt='d', cbar=False)\n",
    "plt.xlabel('predicted label')\n",
    "plt.ylabel('true label');"
   ]
  },
  {
   "cell_type": "markdown",
   "metadata": {},
   "source": [
    "# Boosting \n",
    "\n",
    "Boosting es otra estrategia de ensemble que se puede emplear con un amplio grupo de métodos de statistical learning, entre ellos los árboles de predicción. La idea detrás de boosting es ajustar, de forma secuencial, múltiples weak learners (modelos sencillos que predicen solo ligeramente mejor que lo esperado por azar). Cada nuevo modelo emplea información del modelo anterior para aprender de sus errores, mejorando iteración a iteración. En el caso de los árboles de predicción, un weak learners se consigue utilizando árboles con una o pocas ramificaciones. A diferencia del método de bagging, el boosting no hace uso de muestreo repetido (bootstrapping), por lo que cada árbol construido depende en gran medida de los árboles previos. Tres de los algoritmos de boosting más empleados son AdaBoost, Gradient Boosting y Stochastic Gradient Boosting."
   ]
  },
  {
   "cell_type": "markdown",
   "metadata": {
    "colab_type": "text",
    "id": "1Nt0yf8H0afO"
   },
   "source": [
    "## Gradient Boosting\n",
    "\n",
    "Gradient Boosting es una generalización del algoritmo AdaBoost que permite emplear cualquier función de coste, siempre que esta sea diferenciable. La flexibilidad de este algoritmo ha hecho posible aplicar boosting a multitud de problemas (regresión, clasificación con más de dos clases…). Para cada uno de ellos, el algoritmo de Gradient Boosting es ligeramente distinto, pero, para todos, la idea es la misma: dada una función de coste (por ejemplo, residuos cuadrados para regresión) y un weak learner (por ejemplo, árboles), el algoritmo trata de encontrar el modelo que minimiza la función de coste. Suele iniciarse con la mejor aproximación de la variable respuesta (la media en el caso de regresión), se calculan los residuos y con ellos se ajusta un nuevo weak learner que intente minimizar la función de coste. Este proceso se repite M\n",
    "\n",
    "veces, de forma que cada nuevo modelo minimiza los residuos (errores) del anterior.\n",
    "\n",
    "Dado que el objetivo de Gradient Boosting es ir minimizando los residuos iteración a iteración, es susceptible de overfitting. Una forma de evitar este problema es empleando un valor de regularización, también conocido como learning rate (λ\n",
    "), que limite la influencia de cada modelo en el conjunto del ensemble. Como consecuencia de esta regularización, se necesitan más modelos para formar el ensemble pero se consiguen mejores resultados.\n",
    "\n",
    "https://medium.com/diogo-menezes-borges/boosting-with-adaboost-and-gradient-boosting-9cbab2a1af81\n",
    "\n",
    "¿Qué sucede si usamos un GradientBoosting con los parámetros por defecto?"
   ]
  },
  {
   "cell_type": "code",
   "execution_count": null,
   "metadata": {
    "colab": {},
    "colab_type": "code",
    "id": "vT47znoa0afR"
   },
   "outputs": [],
   "source": [
    "from sklearn.ensemble import GradientBoostingClassifier\n"
   ]
  },
  {
   "cell_type": "markdown",
   "metadata": {
    "colab_type": "text",
    "id": "d3vyoEnf0afT"
   },
   "source": [
    "## AdaBoost\n",
    "\n",
    "AdaBoost es una contracción de “Adaptive Boosting”, en donde el término Adaptive hace alusión a su principal diferencia con su predecesor (boosting). En términos de funcionalidad son iguales, ambos algoritmos buscan crear un clasificador fuerte cuya base sea la combinación lineal de clasificadores “débiles simples”. Sin embargo, AdaBoost propone entrenar una serie de clasificadores débiles de manera iterativa, de modo que cada nuevo clasificador\n",
    "o “weak learner ” se enfoque en los datos que fueron erróneamente clasificados por su predecesor, de esta manera el algoritmo se adapta y logra obtener mejores resultados.\n",
    "\n",
    "El nombre de este meta-algoritmo proviene de la abreviación de adaptive boosting y hace referencia a una estrategia de ponderar de manera diferente a cada uno de los ejemplos, durante el entrenamiento. Aquellos ejemplos que fueron clasificados incorrectamente en una iteración, reciben una ponderación más alta en la siguiente iteración. Por el contrario, los ejemplos que fueron clasificados correctamente en esa iteración, recibirán menos importancia en la siguiente. Esta estrategia permite que AdaBoost se enfoque, iteración tras iteración, en aquellos ejemplos que aún no han sido clasificados correctamente por el ensamble de clasificadores débiles."
   ]
  },
  {
   "cell_type": "markdown",
   "metadata": {
    "colab_type": "text",
    "id": "gueMa5Qk0afV"
   },
   "source": [
    "Probemos ahora con un AdaBoost con los parámetros por defecto:"
   ]
  },
  {
   "cell_type": "code",
   "execution_count": null,
   "metadata": {
    "colab": {},
    "colab_type": "code",
    "id": "JHCgEW8Z0afW"
   },
   "outputs": [],
   "source": [
    "from sklearn.ensemble import AdaBoostClassifier\n",
    "from sklearn.model_selection import RandomizedSearchCV, GridSearchCV\n",
    "from sklearn.tree import DecisionTreeClassifier"
   ]
  },
  {
   "cell_type": "markdown",
   "metadata": {
    "colab_type": "text",
    "id": "JAeG3nEo0afY"
   },
   "source": [
    "Seguramente podrán ver que AdaBoost parece tener una performance notablemente peor que la de los modelos anteriores. Una posibilidad, entonces, es tratar de tunear los hiperparámetros para buscar mejorar su performance.\n",
    "\n",
    "Tengan en cuenta que la \"arquitectura\" de AdaBoost es diferente. Unos de sus parámetros es `base_estimator`. Por defecto, `AdaBoostClassifier` utiliza un árbol de decisión (es decir, `base_estimator=DecisionTreeClassifier()`). Por lo cual deben tener en cuenta este hecho al momento de definir la grilla de parámetros para la búsqueda: hay algunos parámetros que corresponden al `base_estimator` -en este caso, árboles- y otros que corresponden a `AdaBoostClassifier`.\n",
    "\n",
    "**Pista**: pueden pasar parámetros de cada estimador de forma análoga a cómo los pasan en un pipeline: `{'base_estimator__[parametro_del_base_estimator': [grilla]}`"
   ]
  },
  {
   "cell_type": "code",
   "execution_count": null,
   "metadata": {
    "colab": {},
    "colab_type": "code",
    "id": "k2uzQsyE0afZ"
   },
   "outputs": [],
   "source": [
    "params = {\"base_estimator__max_depth\": [1, 10, 50],\n",
    "          \"base_estimator__min_samples_split\": [5, 10, 15], \n",
    "          \"base_estimator__max_features\": [5, 25, 61],\n",
    "          \"base_estimator__min_samples_leaf\": [5, 10, 15],\n",
    "          \"n_estimators\": [100, 500],\n",
    "          \"learning_rate\":[0.01, 0.1, 1.0]\n",
    "         }\n",
    "\n",
    "grid_ab = RandomizedSearchCV(AdaBoostClassifier(base_estimator=DecisionTreeClassifier()), params, n_iter=1, verbose=1)\n",
    "grid_ab.fit(Xtrain, ytrain)"
   ]
  },
  {
   "cell_type": "markdown",
   "metadata": {
    "colab_type": "text",
    "id": "kMt6p-zY0afe"
   },
   "source": [
    "## BONUS\n",
    "\n",
    "Traten de mejorar la performance de Gradient Boosting haciendo un tunning de los parámetros."
   ]
  },
  {
   "cell_type": "code",
   "execution_count": null,
   "metadata": {
    "colab": {},
    "colab_type": "code",
    "id": "WNISPio-0afe"
   },
   "outputs": [],
   "source": [
    "from sklearn.ensemble import GradientBoostingClassifier\n",
    "from sklearn.model_selection import RandomizedSearchCV\n",
    "\n",
    "gb = GradientBoostingClassifier()\n",
    "param_grid_gb = {'n_estimators':[100, 500, 1000] , \n",
    "                 'max_depth': [5, 10, 15], \n",
    "                 'min_samples_split': [5, 10, 15],\n",
    "                 'min_samples_leaf': [5, 10, 15],\n",
    "                 'learning_rate':[0.001, 0.001, 0.1, 1.0]}\n"
   ]
  }
 ],
 "metadata": {
  "colab": {
   "name": "3.Starter_LAB1_Random_Forest.ipynb",
   "provenance": [],
   "version": "0.3.2"
  },
  "kernelspec": {
   "display_name": "Python 3",
   "language": "python",
   "name": "python3"
  },
  "language_info": {
   "codemirror_mode": {
    "name": "ipython",
    "version": 3
   },
   "file_extension": ".py",
   "mimetype": "text/x-python",
   "name": "python",
   "nbconvert_exporter": "python",
   "pygments_lexer": "ipython3",
   "version": "3.7.3"
  }
 },
 "nbformat": 4,
 "nbformat_minor": 4
}
