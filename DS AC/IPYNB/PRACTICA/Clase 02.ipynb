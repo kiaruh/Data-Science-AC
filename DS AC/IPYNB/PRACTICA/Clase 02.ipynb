{
 "cells": [
  {
   "cell_type": "markdown",
   "metadata": {},
   "source": [
    "# Herramientas de Analisis "
   ]
  },
  {
   "cell_type": "markdown",
   "metadata": {},
   "source": [
    "Ejemplos de textos:\n",
    "\n",
    "# Heading 1\n",
    "# Heading 2\n",
    "## Heading 2.1\n",
    "## Heading 2.2\n"
   ]
  },
  {
   "cell_type": "markdown",
   "metadata": {},
   "source": [
    "# Ecuaciones \n",
    "$e^{i\\pi} + 1 = 0$\n"
   ]
  },
  {
   "cell_type": "markdown",
   "metadata": {},
   "source": [
    "# Tablas\n",
    "\n",
    "| This | is   |\n",
    "|------|------|\n",
    "|   a  | table|"
   ]
  },
  {
   "cell_type": "markdown",
   "metadata": {},
   "source": [
    "Referencia:\n",
    "\n",
    "![alt text][logo]\n",
    "\n",
    "[logo]: https://github.com/adam-p/markdown-here/raw/master/src/common/images/icon48.png \"Logo Title Text 2\"\n"
   ]
  },
  {
   "cell_type": "markdown",
   "metadata": {},
   "source": [
    "Listas: \n",
    "\n",
    "1. First ordered list item\n",
    "2. Another item\n",
    "⋅⋅* Unordered sub-list. \n",
    "1. Actual numbers don't matter, just that it's a number\n",
    "⋅⋅1. Ordered sub-list\n",
    "4. And another item.\n",
    "\n",
    "⋅⋅⋅You can have properly indented paragraphs within list items. Notice the blank line above, and the leading spaces (at least one, but we'll use three here to also align the raw Markdown).\n",
    "\n",
    "⋅⋅⋅To have a line break without a paragraph, you will need to use two trailing spaces.⋅⋅\n",
    "⋅⋅⋅Note that this line is separate, but within the same paragraph.⋅⋅\n",
    "⋅⋅⋅(This is contrary to the typical GFM line break behaviour, where trailing spaces are not required.)\n",
    "\n",
    "* Unordered list can use asterisks\n",
    "- Or minuses\n",
    "+ Or pluses"
   ]
  },
  {
   "cell_type": "markdown",
   "metadata": {},
   "source": [
    "# COMANDOS MAGICOS"
   ]
  },
  {
   "cell_type": "code",
   "execution_count": 9,
   "metadata": {},
   "outputs": [
    {
     "name": "stdout",
     "output_type": "stream",
     "text": [
      "CPU times: user 13 µs, sys: 2 µs, total: 15 µs\n",
      "Wall time: 26 µs\n",
      "0\n",
      "1\n",
      "2\n",
      "3\n",
      "4\n",
      "5\n",
      "6\n",
      "7\n",
      "8\n",
      "9\n"
     ]
    }
   ],
   "source": [
    "%time\n",
    "for x in range(0,10):\n",
    "    print(x)"
   ]
  },
  {
   "cell_type": "code",
   "execution_count": 10,
   "metadata": {},
   "outputs": [],
   "source": [
    "import numpy as np\n",
    "from numpy.random import randint\n",
    "\n",
    "# A function to simulate one million dice throws.\n",
    "def one_million_dice():\n",
    "    return randint(low=1, high=7, size=1000000)\n"
   ]
  },
  {
   "cell_type": "code",
   "execution_count": 11,
   "metadata": {},
   "outputs": [
    {
     "name": "stdout",
     "output_type": "stream",
     "text": [
      "CPU times: user 17.5 ms, sys: 7.65 ms, total: 25.1 ms\n",
      "Wall time: 23 ms\n",
      "CPU times: user 2.26 ms, sys: 0 ns, total: 2.26 ms\n",
      "Wall time: 1.6 ms\n",
      "7.55 ms ± 91.4 µs per loop (mean ± std. dev. of 7 runs, 100 loops each)\n",
      "840 µs ± 21.7 µs per loop (mean ± std. dev. of 7 runs, 1000 loops each)\n"
     ]
    }
   ],
   "source": [
    "\n",
    "# Let's try %time first\n",
    "%time throws = one_million_dice()\n",
    "%time mean = np.mean(throws)\n",
    "\n",
    "# Outputs:\n",
    "# Wall time: 20.6 ms\n",
    "# Wall time: 3.01 ms\n",
    "\n",
    "# Let's do the same with %timeit\n",
    "%timeit throws = one_million_dice()\n",
    "%timeit mean = np.mean(throws)"
   ]
  },
  {
   "cell_type": "code",
   "execution_count": 15,
   "metadata": {},
   "outputs": [],
   "source": [
    "from numpy.random import randint\n",
    "import matplotlib.pyplot as plt\n",
    "\n",
    "# Sample 1000 random values to create a scatterplot\n",
    "x = randint(low=1, high=1000, size=100)\n",
    "y = randint(low=1, high=1000, size=100)\n",
    "\n",
    "# This will show nothing in a Jupyter Notebook\n",
    "plt.scatter(x, y)\n",
    "plt.show()\n",
    "\n",
    "# Let the magic happen!\n",
    "# %matplotlib \n",
    "# plt.scatter(x, y)\n",
    "# plt.show()"
   ]
  },
  {
   "cell_type": "markdown",
   "metadata": {},
   "source": [
    "# Listas, tuplas y Diccionarios"
   ]
  },
  {
   "cell_type": "markdown",
   "metadata": {},
   "source": [
    "Operaciones más habituales con listas en Python\n",
    "\n",
    "Las operaciones más habituales que se realizan en Python son las siguientes:\n",
    "\n",
    "    lista[i]: Devuelve el elemento que está en la posición i de la lista.\n",
    "    lista.pop(i): Devuelve el elemento en la posición i de una lista y luego lo borra.\n",
    "    lista.append(elemento): Añade elemento al final de la lista.\n",
    "    lista.insert(i, elemento): Inserta elemento en la posición i.\n",
    "    lista.extend(lista2): Fusiona lista con lista2.\n",
    "    lista.remove(elemento): Elimina la primera vez que aparece elemento.\n"
   ]
  },
  {
   "cell_type": "code",
   "execution_count": null,
   "metadata": {},
   "outputs": [],
   "source": [
    "ListaEstaciones = ['Invierno', 2, 'Verano','Invierno'] \n",
    "print(ListaEstaciones)"
   ]
  },
  {
   "cell_type": "code",
   "execution_count": null,
   "metadata": {},
   "outputs": [],
   "source": [
    "ListaEstaciones [0]"
   ]
  },
  {
   "cell_type": "code",
   "execution_count": null,
   "metadata": {},
   "outputs": [],
   "source": [
    "ListaEstaciones [0]=2"
   ]
  },
  {
   "cell_type": "code",
   "execution_count": null,
   "metadata": {},
   "outputs": [],
   "source": [
    "print(ListaEstaciones)"
   ]
  },
  {
   "cell_type": "code",
   "execution_count": null,
   "metadata": {},
   "outputs": [],
   "source": [
    "TuplaDiasSemana = ('LU', 'MA', 'MI', 'JU', 'VI', 'SA', 'DO') "
   ]
  },
  {
   "cell_type": "code",
   "execution_count": null,
   "metadata": {},
   "outputs": [],
   "source": [
    "tupla= ('LU', 2, 'MI', 'JU', 'VI', 'SA', 'DO') \n",
    "print(tupla)"
   ]
  },
  {
   "cell_type": "code",
   "execution_count": null,
   "metadata": {},
   "outputs": [],
   "source": [
    "tupla[0]"
   ]
  },
  {
   "cell_type": "code",
   "execution_count": null,
   "metadata": {},
   "outputs": [],
   "source": [
    "tupla[0]=2"
   ]
  },
  {
   "cell_type": "code",
   "execution_count": null,
   "metadata": {},
   "outputs": [],
   "source": [
    "capitales = {'Chile':'Santiago', 'España':'Madrid', 'Francia':'París'}"
   ]
  },
  {
   "cell_type": "code",
   "execution_count": null,
   "metadata": {},
   "outputs": [],
   "source": [
    "capitales['Chile']"
   ]
  },
  {
   "cell_type": "code",
   "execution_count": null,
   "metadata": {},
   "outputs": [],
   "source": [
    "capitales['Chile']='XX'"
   ]
  },
  {
   "cell_type": "code",
   "execution_count": null,
   "metadata": {},
   "outputs": [],
   "source": [
    "capitales"
   ]
  },
  {
   "cell_type": "code",
   "execution_count": null,
   "metadata": {},
   "outputs": [],
   "source": [
    "capitales['Argentina']='La Plata'"
   ]
  },
  {
   "cell_type": "code",
   "execution_count": null,
   "metadata": {},
   "outputs": [],
   "source": [
    "capitales"
   ]
  },
  {
   "cell_type": "code",
   "execution_count": null,
   "metadata": {},
   "outputs": [],
   "source": [
    "del capitales['Chile']"
   ]
  },
  {
   "cell_type": "code",
   "execution_count": null,
   "metadata": {},
   "outputs": [],
   "source": [
    "capitales"
   ]
  },
  {
   "cell_type": "markdown",
   "metadata": {},
   "source": [
    "Operaciones más habituales con diccionarios en Python\n",
    "\n",
    "Es similar a las listas, con el matiz de que dado que los diccionarios no tienen orden, no tienen funciones en las que se tenga en cuenta la posición.\n",
    "\n",
    "    diccionario.get(‘key’): Devuelve el valor que corresponde con la key introducida.\n",
    "    diccionario.pop(‘key’): Devuelve el valor que corresponde con la key introducida, y luego borra la key y el valor.\n",
    "    diccionario.update({‘key’:’valor’}): Inserta una determinada key o actualiza su valor si ya existiera.\n",
    "    «key» in diccionario: Devuelve verdadero (True) o falso (False) si la key (no los valores) existe en el diccionario.\n",
    "    «definicion» in diccionario.values(): Devuelve verdadero (True) o falso (False) si definición existe en el diccionario (no como key).\n"
   ]
  },
  {
   "cell_type": "markdown",
   "metadata": {},
   "source": [
    "# IF else for while"
   ]
  },
  {
   "cell_type": "code",
   "execution_count": 14,
   "metadata": {},
   "outputs": [
    {
     "name": "stdin",
     "output_type": "stream",
     "text": [
      "Escriba un número positivo:  2\n"
     ]
    },
    {
     "name": "stdout",
     "output_type": "stream",
     "text": [
      "Ha escrito el número 2\n"
     ]
    }
   ],
   "source": [
    "numero = int(input(\"Escriba un número positivo: \"))\n",
    "if numero < 0:\n",
    "    print(\"¡Le he dicho que escriba un número positivo!\")\n",
    "print(f\"Ha escrito el número {numero}\")\n"
   ]
  },
  {
   "cell_type": "code",
   "execution_count": 15,
   "metadata": {},
   "outputs": [
    {
     "name": "stdin",
     "output_type": "stream",
     "text": [
      "¿Cuántos años tiene?  2\n"
     ]
    },
    {
     "name": "stdout",
     "output_type": "stream",
     "text": [
      "Es usted menor de edad\n",
      "¡Hasta la próxima!\n"
     ]
    }
   ],
   "source": [
    "edad = int(input(\"¿Cuántos años tiene? \"))\n",
    "if edad < 18:\n",
    "    print(\"Es usted menor de edad\")\n",
    "else:\n",
    "    print(\"Es usted mayor de edad\")\n",
    "print(\"¡Hasta la próxima!\")\n"
   ]
  },
  {
   "cell_type": "code",
   "execution_count": 16,
   "metadata": {},
   "outputs": [
    {
     "name": "stdin",
     "output_type": "stream",
     "text": [
      "¿Cuántos años tiene?  2\n"
     ]
    },
    {
     "name": "stdout",
     "output_type": "stream",
     "text": [
      "Es usted menor de edad\n"
     ]
    }
   ],
   "source": [
    "edad = int(input(\"¿Cuántos años tiene? \"))\n",
    "if edad < 0:\n",
    "    print(\"No se puede tener una edad negativa\")\n",
    "elif edad < 18:\n",
    "    print(\"Es usted menor de edad\")\n",
    "else:\n",
    "    print(\"Es usted mayor de edad\")\n"
   ]
  },
  {
   "cell_type": "code",
   "execution_count": 18,
   "metadata": {},
   "outputs": [
    {
     "name": "stdout",
     "output_type": "stream",
     "text": [
      "We're on time 0\n",
      "We're on time 1\n",
      "We're on time 2\n"
     ]
    }
   ],
   "source": [
    "for x in range(0, 3):\n",
    "    print (\"We're on time %d\" % (x))\n",
    "# Muestra 0,1,2,3,4"
   ]
  },
  {
   "cell_type": "code",
   "execution_count": 20,
   "metadata": {},
   "outputs": [
    {
     "name": "stdout",
     "output_type": "stream",
     "text": [
      "0\n",
      "1\n",
      "2\n",
      "3\n",
      "4\n"
     ]
    }
   ],
   "source": [
    "count = 0\n",
    "while count < 5:\n",
    "    print (count)\n",
    "    count += 1  # This is the same as count = count + 1\n"
   ]
  },
  {
   "cell_type": "markdown",
   "metadata": {},
   "source": [
    "# Ejercicio presentacion"
   ]
  },
  {
   "cell_type": "code",
   "execution_count": 12,
   "metadata": {},
   "outputs": [
    {
     "name": "stdout",
     "output_type": "stream",
     "text": [
      "COMPARADOR DE NÚMEROS\n"
     ]
    },
    {
     "name": "stdin",
     "output_type": "stream",
     "text": [
      "Escriba un número:  1\n",
      "Escriba otro número:  2\n"
     ]
    },
    {
     "name": "stdout",
     "output_type": "stream",
     "text": [
      "Menor: 1.0 Mayor: 2.0\n"
     ]
    }
   ],
   "source": [
    "\n",
    "print(\"COMPARADOR DE NÚMEROS\")\n",
    "numero_1 = float(input(\"Escriba un número: \"))\n",
    "numero_2 = float(input(\"Escriba otro número: \"))\n",
    "\n",
    "if numero_1 > numero_2:\n",
    "    print(f\"Menor: {numero_2} Mayor: {numero_1}\")\n",
    "elif numero_1 < numero_2:\n",
    "    print(f\"Menor: {numero_1} Mayor: {numero_2}\")\n",
    "else:\n",
    "    print(\"Los dos números son iguales.\")\n"
   ]
  },
  {
   "cell_type": "markdown",
   "metadata": {},
   "source": [
    "# Ejercicio extra"
   ]
  },
  {
   "cell_type": "code",
   "execution_count": 2,
   "metadata": {},
   "outputs": [],
   "source": [
    "usuarios = [\"Marta\", \"David\", \"Elvira\", \"Juan\", \"Marcos\"]\n",
    "\n",
    "administradores = [\"Juan\", \"Marta\"]"
   ]
  },
  {
   "cell_type": "code",
   "execution_count": 3,
   "metadata": {},
   "outputs": [
    {
     "data": {
      "text/plain": [
       "list"
      ]
     },
     "execution_count": 3,
     "metadata": {},
     "output_type": "execute_result"
    }
   ],
   "source": [
    "type(usuarios)"
   ]
  },
  {
   "cell_type": "code",
   "execution_count": 4,
   "metadata": {},
   "outputs": [],
   "source": [
    "administradores.remove(\"Juan\")"
   ]
  },
  {
   "cell_type": "code",
   "execution_count": 5,
   "metadata": {},
   "outputs": [],
   "source": [
    "administradores.append(\"Marcos\")"
   ]
  },
  {
   "cell_type": "code",
   "execution_count": 6,
   "metadata": {},
   "outputs": [
    {
     "name": "stdout",
     "output_type": "stream",
     "text": [
      "Marta es admin\n",
      "David no es admin\n",
      "Elvira no es admin\n",
      "Juan no es admin\n",
      "Marcos es admin\n"
     ]
    }
   ],
   "source": [
    "for usuario in usuarios:\n",
    "    if usuario in administradores:\n",
    "        print(usuario, \"es admin\")\n",
    "    else:\n",
    "        print(usuario, \"no es admin\")"
   ]
  }
 ],
 "metadata": {
  "kernelspec": {
   "display_name": "Python 3",
   "language": "python",
   "name": "python3"
  },
  "language_info": {
   "codemirror_mode": {
    "name": "ipython",
    "version": 3
   },
   "file_extension": ".py",
   "mimetype": "text/x-python",
   "name": "python",
   "nbconvert_exporter": "python",
   "pygments_lexer": "ipython3",
   "version": "3.7.3"
  }
 },
 "nbformat": 4,
 "nbformat_minor": 2
}
