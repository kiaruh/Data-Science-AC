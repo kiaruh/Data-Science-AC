{
 "cells": [
  {
   "cell_type": "markdown",
   "metadata": {},
   "source": [
    "# Ejercicio sobre Molinetes de Subte"
   ]
  },
  {
   "cell_type": "markdown",
   "metadata": {},
   "source": [
    "El Feature Engineering o ingeniería de atributos, que hace referencia a las técnicas de ingeniería utilizadas para trabajar sobre los atributos del problema que estudiamos, representa uno de los aspectos más delicados de la ciencia de datos.\n",
    "\n",
    "En efecto, las características de un problema determinado no siempre se presentan de manera natural y evidente.\n",
    "\n",
    "Hace falta bastante esfuerzo para imaginar cuáles podrían ser los atributos adecuados, crearlos, seleccionarlos, probarlos y transformarlos para hacerlos relevantes y asimilables por nuestros algoritmos. Las buenas prácticas requieren buenos atributos (en inglés, predictors o features).\n",
    "\n",
    "El trabajo en la elección y la parametrización de los modelos, la medición de los errores de predicción (o de clasificación) y la atenta interpretación de los resultados son tres elementos indisociables de la disciplina llamada Feature Engineering.\n",
    "\n",
    "La idea general es ajustar y transformar los datos brutos (data) para que nos aporten una mayor información. \n",
    "\n",
    "Manos a la obra! \n",
    "\n",
    "El objetivo de este notebook es que comencemos a pensar como procesar los features de un Dataset. La ingenieria de features lleva mucho tiempo y trabajo. \n",
    "\n",
    "Vamos a trabajar con el siguiente dataset:' Cantidad de pasajeros por molinete en cada estación en rangos de a 15 minutos y discriminando según tipo de pasaje correspondiente al año 2017.'\n",
    "\n",
    "Descargar la base de: https://data.buenosaires.gob.ar/dataset/subte-viajes-molinetes/archivo/202.6\n",
    "\n",
    "En dicha página esta la información detallada de las variables del dataset."
   ]
  },
  {
   "cell_type": "markdown",
   "metadata": {},
   "source": [
    "### Importar las librerías necesarias"
   ]
  },
  {
   "cell_type": "code",
   "execution_count": 4,
   "metadata": {},
   "outputs": [],
   "source": [
    "import pandas as pd\n",
    "import numpy as np\n",
    "import matplotlib.pyplot as plt"
   ]
  },
  {
   "cell_type": "markdown",
   "metadata": {},
   "source": [
    "### Leer la base descargada (y descomprimida)\n",
    "\n",
    "Es una base de datos muy grande, lo cual se asemeja a las bases de datos que podemos llegar a trabajar en la realidad. Sin embargo, para no tener problemas de memoria recomendamos limitar la cantidad de instancias a importar (nrows). Ayuda: separador es ';'.\n",
    "\n",
    "En este dataset hay un atributo llamado FECHA. Qué argumento tengo que usar para que pandas lo importe como una variable datetime."
   ]
  },
  {
   "cell_type": "code",
   "execution_count": 73,
   "metadata": {},
   "outputs": [],
   "source": [
    "molinetes = pd.read_csv('Datasets/molinetes_historico.csv',sep=';',parse_dates = ['FECHA'],nrows=5000000)\n"
   ]
  },
  {
   "cell_type": "markdown",
   "metadata": {},
   "source": [
    "Recorda ver que tipo de delimitador utiliza. "
   ]
  },
  {
   "cell_type": "markdown",
   "metadata": {},
   "source": [
    "### Ver los primeros 5 registros. ¿Recuerdan lo que hace el comando .describe()?¿Y .info?"
   ]
  },
  {
   "cell_type": "code",
   "execution_count": 74,
   "metadata": {
    "scrolled": true
   },
   "outputs": [
    {
     "data": {
      "text/html": [
       "<div>\n",
       "<style scoped>\n",
       "    .dataframe tbody tr th:only-of-type {\n",
       "        vertical-align: middle;\n",
       "    }\n",
       "\n",
       "    .dataframe tbody tr th {\n",
       "        vertical-align: top;\n",
       "    }\n",
       "\n",
       "    .dataframe thead th {\n",
       "        text-align: right;\n",
       "    }\n",
       "</style>\n",
       "<table border=\"1\" class=\"dataframe\">\n",
       "  <thead>\n",
       "    <tr style=\"text-align: right;\">\n",
       "      <th></th>\n",
       "      <th>PERIODO</th>\n",
       "      <th>FECHA</th>\n",
       "      <th>DESDE</th>\n",
       "      <th>HASTA</th>\n",
       "      <th>LINEA</th>\n",
       "      <th>MOLINETE</th>\n",
       "      <th>ESTACION</th>\n",
       "      <th>PAX_PAGOS</th>\n",
       "      <th>PAX_PASES_PAGOS</th>\n",
       "      <th>PAX_FRANQ</th>\n",
       "      <th>TOTAL</th>\n",
       "      <th>ID</th>\n",
       "    </tr>\n",
       "  </thead>\n",
       "  <tbody>\n",
       "    <tr>\n",
       "      <th>765361</th>\n",
       "      <td>201701</td>\n",
       "      <td>2017-01-23</td>\n",
       "      <td>18:45:00</td>\n",
       "      <td>19:00:00</td>\n",
       "      <td>LINEA_D</td>\n",
       "      <td>LINEA_D_TRIBUNA_E_TURN02</td>\n",
       "      <td>TRIBUNALES</td>\n",
       "      <td>33</td>\n",
       "      <td>0</td>\n",
       "      <td>0</td>\n",
       "      <td>33</td>\n",
       "      <td>8</td>\n",
       "    </tr>\n",
       "    <tr>\n",
       "      <th>2969859</th>\n",
       "      <td>201702</td>\n",
       "      <td>2017-02-15</td>\n",
       "      <td>15:45:00</td>\n",
       "      <td>16:00:00</td>\n",
       "      <td>LINEA_B</td>\n",
       "      <td>LINEA_B_CALLAOB_S_TURN03</td>\n",
       "      <td>CALLAO.B</td>\n",
       "      <td>65</td>\n",
       "      <td>0</td>\n",
       "      <td>4</td>\n",
       "      <td>69</td>\n",
       "      <td>23</td>\n",
       "    </tr>\n",
       "    <tr>\n",
       "      <th>2780611</th>\n",
       "      <td>201711</td>\n",
       "      <td>2017-10-11</td>\n",
       "      <td>08:15:00</td>\n",
       "      <td>08:30:00</td>\n",
       "      <td>LINEA_B</td>\n",
       "      <td>LINEA_B_PELLEGRINI_E_TURN06</td>\n",
       "      <td>CARLOS PELLEGRINI</td>\n",
       "      <td>73</td>\n",
       "      <td>0</td>\n",
       "      <td>0</td>\n",
       "      <td>73</td>\n",
       "      <td>21</td>\n",
       "    </tr>\n",
       "    <tr>\n",
       "      <th>190097</th>\n",
       "      <td>201705</td>\n",
       "      <td>2017-05-05</td>\n",
       "      <td>18:15:00</td>\n",
       "      <td>18:30:00</td>\n",
       "      <td>LINEA_H</td>\n",
       "      <td>LINEA_H_HPRIMO_NORTE_TURN02</td>\n",
       "      <td>HUMBERTO I</td>\n",
       "      <td>29</td>\n",
       "      <td>1</td>\n",
       "      <td>0</td>\n",
       "      <td>30</td>\n",
       "      <td>3</td>\n",
       "    </tr>\n",
       "    <tr>\n",
       "      <th>765054</th>\n",
       "      <td>201701</td>\n",
       "      <td>2017-01-23</td>\n",
       "      <td>08:45:00</td>\n",
       "      <td>09:00:00</td>\n",
       "      <td>LINEA_D</td>\n",
       "      <td>LINEA_D_TRIBUNA_O_TURN03</td>\n",
       "      <td>TRIBUNALES</td>\n",
       "      <td>26</td>\n",
       "      <td>0</td>\n",
       "      <td>0</td>\n",
       "      <td>26</td>\n",
       "      <td>8</td>\n",
       "    </tr>\n",
       "  </tbody>\n",
       "</table>\n",
       "</div>"
      ],
      "text/plain": [
       "         PERIODO      FECHA     DESDE     HASTA    LINEA  \\\n",
       "765361    201701 2017-01-23  18:45:00  19:00:00  LINEA_D   \n",
       "2969859   201702 2017-02-15  15:45:00  16:00:00  LINEA_B   \n",
       "2780611   201711 2017-10-11  08:15:00  08:30:00  LINEA_B   \n",
       "190097    201705 2017-05-05  18:15:00  18:30:00  LINEA_H   \n",
       "765054    201701 2017-01-23  08:45:00  09:00:00  LINEA_D   \n",
       "\n",
       "                            MOLINETE           ESTACION  PAX_PAGOS  \\\n",
       "765361      LINEA_D_TRIBUNA_E_TURN02         TRIBUNALES         33   \n",
       "2969859     LINEA_B_CALLAOB_S_TURN03           CALLAO.B         65   \n",
       "2780611  LINEA_B_PELLEGRINI_E_TURN06  CARLOS PELLEGRINI         73   \n",
       "190097   LINEA_H_HPRIMO_NORTE_TURN02         HUMBERTO I         29   \n",
       "765054      LINEA_D_TRIBUNA_O_TURN03         TRIBUNALES         26   \n",
       "\n",
       "         PAX_PASES_PAGOS  PAX_FRANQ  TOTAL  ID  \n",
       "765361                 0          0     33   8  \n",
       "2969859                0          4     69  23  \n",
       "2780611                0          0     73  21  \n",
       "190097                 1          0     30   3  \n",
       "765054                 0          0     26   8  "
      ]
     },
     "execution_count": 74,
     "metadata": {},
     "output_type": "execute_result"
    }
   ],
   "source": [
    "molinetes.sample(5)"
   ]
  },
  {
   "cell_type": "code",
   "execution_count": 75,
   "metadata": {},
   "outputs": [
    {
     "name": "stdout",
     "output_type": "stream",
     "text": [
      "<class 'pandas.core.frame.DataFrame'>\n",
      "RangeIndex: 5000000 entries, 0 to 4999999\n",
      "Data columns (total 12 columns):\n",
      "PERIODO            int64\n",
      "FECHA              datetime64[ns]\n",
      "DESDE              object\n",
      "HASTA              object\n",
      "LINEA              object\n",
      "MOLINETE           object\n",
      "ESTACION           object\n",
      "PAX_PAGOS          int64\n",
      "PAX_PASES_PAGOS    int64\n",
      "PAX_FRANQ          int64\n",
      "TOTAL              int64\n",
      "ID                 int64\n",
      "dtypes: datetime64[ns](1), int64(6), object(5)\n",
      "memory usage: 457.8+ MB\n"
     ]
    }
   ],
   "source": [
    "molinetes.info()"
   ]
  },
  {
   "cell_type": "markdown",
   "metadata": {},
   "source": [
    "### Ver el tamaño de nuestro dataframe (El dataset completo tiene 11 millones de filas!)"
   ]
  },
  {
   "cell_type": "code",
   "execution_count": 76,
   "metadata": {},
   "outputs": [
    {
     "data": {
      "text/plain": [
       "(5000000, 12)"
      ]
     },
     "execution_count": 76,
     "metadata": {},
     "output_type": "execute_result"
    }
   ],
   "source": [
    "molinetes.shape"
   ]
  },
  {
   "cell_type": "markdown",
   "metadata": {},
   "source": [
    "Evaluar la presencia de datos nulos"
   ]
  },
  {
   "cell_type": "code",
   "execution_count": 77,
   "metadata": {},
   "outputs": [
    {
     "data": {
      "text/plain": [
       "PERIODO            False\n",
       "FECHA              False\n",
       "DESDE              False\n",
       "HASTA              False\n",
       "LINEA              False\n",
       "MOLINETE           False\n",
       "ESTACION           False\n",
       "PAX_PAGOS          False\n",
       "PAX_PASES_PAGOS    False\n",
       "PAX_FRANQ          False\n",
       "TOTAL              False\n",
       "ID                 False\n",
       "dtype: bool"
      ]
     },
     "execution_count": 77,
     "metadata": {},
     "output_type": "execute_result"
    }
   ],
   "source": [
    "molinetes.isnull().any()"
   ]
  },
  {
   "cell_type": "markdown",
   "metadata": {},
   "source": [
    "## Feature Engineering"
   ]
  },
  {
   "cell_type": "markdown",
   "metadata": {},
   "source": [
    "### Indica a que grupo pertenece las variables de cada columna del Dataset, siendo los grupos:\n",
    "\n",
    "- Numéricas. \n",
    "- Categóricas Nominales.\n",
    "- Categóricas Ordinales.\n",
    "- Fechas - Hora - Ubicacion.\n",
    "\n",
    "Por ejemplo, la columna \"Fecha\" tiene variables del tipo \" Fechas - Hora - Ubicacion\""
   ]
  },
  {
   "cell_type": "code",
   "execution_count": 78,
   "metadata": {},
   "outputs": [
    {
     "data": {
      "text/plain": [
       "['PERIODO',\n",
       " 'FECHA',\n",
       " 'DESDE',\n",
       " 'HASTA',\n",
       " 'LINEA',\n",
       " 'MOLINETE',\n",
       " 'ESTACION',\n",
       " 'PAX_PAGOS',\n",
       " 'PAX_PASES_PAGOS',\n",
       " 'PAX_FRANQ',\n",
       " 'TOTAL',\n",
       " 'ID']"
      ]
     },
     "execution_count": 78,
     "metadata": {},
     "output_type": "execute_result"
    }
   ],
   "source": [
    "a = molinetes.columns.tolist()\n",
    "a"
   ]
  },
  {
   "cell_type": "markdown",
   "metadata": {},
   "source": [
    "## MAP\n",
    "### Les proponemos crear 3 features nuevas, una con el año, otra con el mes, y otra con el dia. \n",
    "\n",
    "Les mostramos un ejemplo creando la columna \"FECHA\", y les proponemos que hagan \"mes\" y \"dias\" por su cuenta."
   ]
  },
  {
   "cell_type": "code",
   "execution_count": 79,
   "metadata": {},
   "outputs": [],
   "source": [
    "molinetes['anio'] = pd.DataFrame((molinetes['FECHA'].map(lambda x: x.year)))\n",
    "molinetes['mes'] = pd.DataFrame((molinetes['FECHA'].map(lambda x: x.month)))\n",
    "molinetes['dia'] = pd.DataFrame((molinetes['FECHA'].map(lambda x: x.day)))\n",
    "\n",
    " "
   ]
  },
  {
   "cell_type": "code",
   "execution_count": 80,
   "metadata": {},
   "outputs": [
    {
     "data": {
      "text/html": [
       "<div>\n",
       "<style scoped>\n",
       "    .dataframe tbody tr th:only-of-type {\n",
       "        vertical-align: middle;\n",
       "    }\n",
       "\n",
       "    .dataframe tbody tr th {\n",
       "        vertical-align: top;\n",
       "    }\n",
       "\n",
       "    .dataframe thead th {\n",
       "        text-align: right;\n",
       "    }\n",
       "</style>\n",
       "<table border=\"1\" class=\"dataframe\">\n",
       "  <thead>\n",
       "    <tr style=\"text-align: right;\">\n",
       "      <th></th>\n",
       "      <th>PERIODO</th>\n",
       "      <th>FECHA</th>\n",
       "      <th>DESDE</th>\n",
       "      <th>HASTA</th>\n",
       "      <th>LINEA</th>\n",
       "      <th>MOLINETE</th>\n",
       "      <th>ESTACION</th>\n",
       "      <th>PAX_PAGOS</th>\n",
       "      <th>PAX_PASES_PAGOS</th>\n",
       "      <th>PAX_FRANQ</th>\n",
       "      <th>TOTAL</th>\n",
       "      <th>ID</th>\n",
       "      <th>anio</th>\n",
       "      <th>mes</th>\n",
       "      <th>dia</th>\n",
       "    </tr>\n",
       "  </thead>\n",
       "  <tbody>\n",
       "    <tr>\n",
       "      <th>4471674</th>\n",
       "      <td>201709</td>\n",
       "      <td>2017-09-14</td>\n",
       "      <td>22:15:00</td>\n",
       "      <td>22:30:00</td>\n",
       "      <td>LINEA_A</td>\n",
       "      <td>LINEA_A_SNZPEÑA_S_TURN01</td>\n",
       "      <td>SAENZ PEÑA</td>\n",
       "      <td>1</td>\n",
       "      <td>0</td>\n",
       "      <td>1</td>\n",
       "      <td>2</td>\n",
       "      <td>34</td>\n",
       "      <td>2017</td>\n",
       "      <td>9</td>\n",
       "      <td>14</td>\n",
       "    </tr>\n",
       "    <tr>\n",
       "      <th>1076606</th>\n",
       "      <td>201711</td>\n",
       "      <td>2017-11-23</td>\n",
       "      <td>18:00:00</td>\n",
       "      <td>18:15:00</td>\n",
       "      <td>LINEA_D</td>\n",
       "      <td>LINEA_D_SCAL_ORTIZ_NORTE_TURN03</td>\n",
       "      <td>SCALABRINI ORTIZ</td>\n",
       "      <td>36</td>\n",
       "      <td>0</td>\n",
       "      <td>0</td>\n",
       "      <td>36</td>\n",
       "      <td>10</td>\n",
       "      <td>2017</td>\n",
       "      <td>11</td>\n",
       "      <td>23</td>\n",
       "    </tr>\n",
       "    <tr>\n",
       "      <th>4745626</th>\n",
       "      <td>201705</td>\n",
       "      <td>2017-05-13</td>\n",
       "      <td>11:45:00</td>\n",
       "      <td>12:00:00</td>\n",
       "      <td>LINEA_A</td>\n",
       "      <td>LINEA_A_ALBERTI_TURN03</td>\n",
       "      <td>ALBERTI</td>\n",
       "      <td>24</td>\n",
       "      <td>0</td>\n",
       "      <td>1</td>\n",
       "      <td>25</td>\n",
       "      <td>37</td>\n",
       "      <td>2017</td>\n",
       "      <td>5</td>\n",
       "      <td>13</td>\n",
       "    </tr>\n",
       "    <tr>\n",
       "      <th>372125</th>\n",
       "      <td>201707</td>\n",
       "      <td>2017-07-13</td>\n",
       "      <td>10:45:00</td>\n",
       "      <td>11:00:00</td>\n",
       "      <td>LINEA_H</td>\n",
       "      <td>LINEA_H_ONCE_NORTE_TURN01</td>\n",
       "      <td>ONCE</td>\n",
       "      <td>8</td>\n",
       "      <td>0</td>\n",
       "      <td>0</td>\n",
       "      <td>8</td>\n",
       "      <td>5</td>\n",
       "      <td>2017</td>\n",
       "      <td>7</td>\n",
       "      <td>13</td>\n",
       "    </tr>\n",
       "    <tr>\n",
       "      <th>3378431</th>\n",
       "      <td>201702</td>\n",
       "      <td>2017-02-13</td>\n",
       "      <td>12:30:00</td>\n",
       "      <td>12:45:00</td>\n",
       "      <td>LINEA_B</td>\n",
       "      <td>LINEA_B_GARDEL_S_TURN01</td>\n",
       "      <td>CARLOS GARDEL</td>\n",
       "      <td>28</td>\n",
       "      <td>0</td>\n",
       "      <td>1</td>\n",
       "      <td>29</td>\n",
       "      <td>26</td>\n",
       "      <td>2017</td>\n",
       "      <td>2</td>\n",
       "      <td>13</td>\n",
       "    </tr>\n",
       "    <tr>\n",
       "      <th>3295291</th>\n",
       "      <td>201706</td>\n",
       "      <td>2017-06-27</td>\n",
       "      <td>10:30:00</td>\n",
       "      <td>10:45:00</td>\n",
       "      <td>LINEA_B</td>\n",
       "      <td>LINEA_B_PUEYR_N_TURN01</td>\n",
       "      <td>PUEYRREDON</td>\n",
       "      <td>46</td>\n",
       "      <td>1</td>\n",
       "      <td>7</td>\n",
       "      <td>54</td>\n",
       "      <td>25</td>\n",
       "      <td>2017</td>\n",
       "      <td>6</td>\n",
       "      <td>27</td>\n",
       "    </tr>\n",
       "    <tr>\n",
       "      <th>71754</th>\n",
       "      <td>201710</td>\n",
       "      <td>2017-07-10</td>\n",
       "      <td>14:00:00</td>\n",
       "      <td>14:15:00</td>\n",
       "      <td>LINEA_H</td>\n",
       "      <td>LINEA_H_CASEROS_NORTE_TURN02</td>\n",
       "      <td>CASEROS</td>\n",
       "      <td>8</td>\n",
       "      <td>0</td>\n",
       "      <td>1</td>\n",
       "      <td>9</td>\n",
       "      <td>1</td>\n",
       "      <td>2017</td>\n",
       "      <td>7</td>\n",
       "      <td>10</td>\n",
       "    </tr>\n",
       "    <tr>\n",
       "      <th>2874975</th>\n",
       "      <td>201705</td>\n",
       "      <td>2017-05-24</td>\n",
       "      <td>09:00:00</td>\n",
       "      <td>09:15:00</td>\n",
       "      <td>LINEA_B</td>\n",
       "      <td>LINEA_B_URUGUAY_S_ASC01</td>\n",
       "      <td>URUGUAY</td>\n",
       "      <td>1</td>\n",
       "      <td>0</td>\n",
       "      <td>0</td>\n",
       "      <td>1</td>\n",
       "      <td>22</td>\n",
       "      <td>2017</td>\n",
       "      <td>5</td>\n",
       "      <td>24</td>\n",
       "    </tr>\n",
       "    <tr>\n",
       "      <th>3244331</th>\n",
       "      <td>201703</td>\n",
       "      <td>2017-03-16</td>\n",
       "      <td>18:30:00</td>\n",
       "      <td>18:45:00</td>\n",
       "      <td>LINEA_B</td>\n",
       "      <td>LINEA_B_PUEYR_N_TURN02</td>\n",
       "      <td>PUEYRREDON</td>\n",
       "      <td>39</td>\n",
       "      <td>0</td>\n",
       "      <td>0</td>\n",
       "      <td>39</td>\n",
       "      <td>25</td>\n",
       "      <td>2017</td>\n",
       "      <td>3</td>\n",
       "      <td>16</td>\n",
       "    </tr>\n",
       "    <tr>\n",
       "      <th>1015099</th>\n",
       "      <td>201707</td>\n",
       "      <td>2017-07-20</td>\n",
       "      <td>19:45:00</td>\n",
       "      <td>20:00:00</td>\n",
       "      <td>LINEA_D</td>\n",
       "      <td>LINEA_D_SCAL_ORTIZ_NORTE_TURN03</td>\n",
       "      <td>SCALABRINI ORTIZ</td>\n",
       "      <td>24</td>\n",
       "      <td>0</td>\n",
       "      <td>0</td>\n",
       "      <td>24</td>\n",
       "      <td>10</td>\n",
       "      <td>2017</td>\n",
       "      <td>7</td>\n",
       "      <td>20</td>\n",
       "    </tr>\n",
       "  </tbody>\n",
       "</table>\n",
       "</div>"
      ],
      "text/plain": [
       "         PERIODO      FECHA     DESDE     HASTA    LINEA  \\\n",
       "4471674   201709 2017-09-14  22:15:00  22:30:00  LINEA_A   \n",
       "1076606   201711 2017-11-23  18:00:00  18:15:00  LINEA_D   \n",
       "4745626   201705 2017-05-13  11:45:00  12:00:00  LINEA_A   \n",
       "372125    201707 2017-07-13  10:45:00  11:00:00  LINEA_H   \n",
       "3378431   201702 2017-02-13  12:30:00  12:45:00  LINEA_B   \n",
       "3295291   201706 2017-06-27  10:30:00  10:45:00  LINEA_B   \n",
       "71754     201710 2017-07-10  14:00:00  14:15:00  LINEA_H   \n",
       "2874975   201705 2017-05-24  09:00:00  09:15:00  LINEA_B   \n",
       "3244331   201703 2017-03-16  18:30:00  18:45:00  LINEA_B   \n",
       "1015099   201707 2017-07-20  19:45:00  20:00:00  LINEA_D   \n",
       "\n",
       "                                MOLINETE          ESTACION  PAX_PAGOS  \\\n",
       "4471674         LINEA_A_SNZPEÑA_S_TURN01        SAENZ PEÑA          1   \n",
       "1076606  LINEA_D_SCAL_ORTIZ_NORTE_TURN03  SCALABRINI ORTIZ         36   \n",
       "4745626           LINEA_A_ALBERTI_TURN03           ALBERTI         24   \n",
       "372125         LINEA_H_ONCE_NORTE_TURN01              ONCE          8   \n",
       "3378431          LINEA_B_GARDEL_S_TURN01     CARLOS GARDEL         28   \n",
       "3295291           LINEA_B_PUEYR_N_TURN01        PUEYRREDON         46   \n",
       "71754       LINEA_H_CASEROS_NORTE_TURN02           CASEROS          8   \n",
       "2874975          LINEA_B_URUGUAY_S_ASC01           URUGUAY          1   \n",
       "3244331           LINEA_B_PUEYR_N_TURN02        PUEYRREDON         39   \n",
       "1015099  LINEA_D_SCAL_ORTIZ_NORTE_TURN03  SCALABRINI ORTIZ         24   \n",
       "\n",
       "         PAX_PASES_PAGOS  PAX_FRANQ  TOTAL  ID  anio  mes  dia  \n",
       "4471674                0          1      2  34  2017    9   14  \n",
       "1076606                0          0     36  10  2017   11   23  \n",
       "4745626                0          1     25  37  2017    5   13  \n",
       "372125                 0          0      8   5  2017    7   13  \n",
       "3378431                0          1     29  26  2017    2   13  \n",
       "3295291                1          7     54  25  2017    6   27  \n",
       "71754                  0          1      9   1  2017    7   10  \n",
       "2874975                0          0      1  22  2017    5   24  \n",
       "3244331                0          0     39  25  2017    3   16  \n",
       "1015099                0          0     24  10  2017    7   20  "
      ]
     },
     "execution_count": 80,
     "metadata": {},
     "output_type": "execute_result"
    }
   ],
   "source": [
    "molinetes.sample(10)"
   ]
  },
  {
   "cell_type": "code",
   "execution_count": 82,
   "metadata": {},
   "outputs": [
    {
     "data": {
      "text/plain": [
       "3517012    2017\n",
       "265031     2017\n",
       "1328019    2017\n",
       "3539486    2017\n",
       "2406743    2017\n",
       "2607410    2017\n",
       "4927918    2017\n",
       "3498433    2017\n",
       "4873958    2017\n",
       "233065     2017\n",
       "Name: anio, dtype: int64"
      ]
     },
     "execution_count": 82,
     "metadata": {},
     "output_type": "execute_result"
    }
   ],
   "source": [
    "molinetes['anio'].sample(10)"
   ]
  },
  {
   "cell_type": "markdown",
   "metadata": {},
   "source": [
    "Ahora incluir esas nuevas variables a nuestro dataset"
   ]
  },
  {
   "cell_type": "code",
   "execution_count": 83,
   "metadata": {},
   "outputs": [
    {
     "data": {
      "text/html": [
       "<div>\n",
       "<style scoped>\n",
       "    .dataframe tbody tr th:only-of-type {\n",
       "        vertical-align: middle;\n",
       "    }\n",
       "\n",
       "    .dataframe tbody tr th {\n",
       "        vertical-align: top;\n",
       "    }\n",
       "\n",
       "    .dataframe thead th {\n",
       "        text-align: right;\n",
       "    }\n",
       "</style>\n",
       "<table border=\"1\" class=\"dataframe\">\n",
       "  <thead>\n",
       "    <tr style=\"text-align: right;\">\n",
       "      <th></th>\n",
       "      <th>FECHA</th>\n",
       "      <th>anio</th>\n",
       "      <th>mes</th>\n",
       "      <th>dia</th>\n",
       "    </tr>\n",
       "  </thead>\n",
       "  <tbody>\n",
       "    <tr>\n",
       "      <th>3962232</th>\n",
       "      <td>2017-07-30</td>\n",
       "      <td>2017</td>\n",
       "      <td>7</td>\n",
       "      <td>30</td>\n",
       "    </tr>\n",
       "    <tr>\n",
       "      <th>4667092</th>\n",
       "      <td>2017-03-31</td>\n",
       "      <td>2017</td>\n",
       "      <td>3</td>\n",
       "      <td>31</td>\n",
       "    </tr>\n",
       "    <tr>\n",
       "      <th>1207693</th>\n",
       "      <td>2017-01-04</td>\n",
       "      <td>2017</td>\n",
       "      <td>1</td>\n",
       "      <td>4</td>\n",
       "    </tr>\n",
       "    <tr>\n",
       "      <th>2110942</th>\n",
       "      <td>2017-05-07</td>\n",
       "      <td>2017</td>\n",
       "      <td>5</td>\n",
       "      <td>7</td>\n",
       "    </tr>\n",
       "    <tr>\n",
       "      <th>4185788</th>\n",
       "      <td>2017-03-11</td>\n",
       "      <td>2017</td>\n",
       "      <td>3</td>\n",
       "      <td>11</td>\n",
       "    </tr>\n",
       "    <tr>\n",
       "      <th>2854919</th>\n",
       "      <td>2017-07-14</td>\n",
       "      <td>2017</td>\n",
       "      <td>7</td>\n",
       "      <td>14</td>\n",
       "    </tr>\n",
       "    <tr>\n",
       "      <th>1946358</th>\n",
       "      <td>2017-10-03</td>\n",
       "      <td>2017</td>\n",
       "      <td>10</td>\n",
       "      <td>3</td>\n",
       "    </tr>\n",
       "    <tr>\n",
       "      <th>285343</th>\n",
       "      <td>2017-02-09</td>\n",
       "      <td>2017</td>\n",
       "      <td>2</td>\n",
       "      <td>9</td>\n",
       "    </tr>\n",
       "    <tr>\n",
       "      <th>858763</th>\n",
       "      <td>2017-08-22</td>\n",
       "      <td>2017</td>\n",
       "      <td>8</td>\n",
       "      <td>22</td>\n",
       "    </tr>\n",
       "    <tr>\n",
       "      <th>2526288</th>\n",
       "      <td>2017-03-28</td>\n",
       "      <td>2017</td>\n",
       "      <td>3</td>\n",
       "      <td>28</td>\n",
       "    </tr>\n",
       "  </tbody>\n",
       "</table>\n",
       "</div>"
      ],
      "text/plain": [
       "             FECHA  anio  mes  dia\n",
       "3962232 2017-07-30  2017    7   30\n",
       "4667092 2017-03-31  2017    3   31\n",
       "1207693 2017-01-04  2017    1    4\n",
       "2110942 2017-05-07  2017    5    7\n",
       "4185788 2017-03-11  2017    3   11\n",
       "2854919 2017-07-14  2017    7   14\n",
       "1946358 2017-10-03  2017   10    3\n",
       "285343  2017-02-09  2017    2    9\n",
       "858763  2017-08-22  2017    8   22\n",
       "2526288 2017-03-28  2017    3   28"
      ]
     },
     "execution_count": 83,
     "metadata": {},
     "output_type": "execute_result"
    }
   ],
   "source": [
    "# vemos que valores toman esas columnas\n",
    "molinetes[['FECHA','anio', 'mes', 'dia']].sample(10)"
   ]
  },
  {
   "cell_type": "markdown",
   "metadata": {},
   "source": [
    "### Crear Variables Rangos: \n",
    "\n",
    "Les proponemos crear las variables rangos de las siguientes columnas: \n",
    "\n",
    "PAX_PAGOS, PAX_PASES_PAGOS, PAX_FRANQ, TOTAL\n",
    "\n",
    "Primero visualizar el rango de valores que toma cada variables para poder definir los rangos\n"
   ]
  },
  {
   "cell_type": "code",
   "execution_count": 85,
   "metadata": {},
   "outputs": [
    {
     "data": {
      "image/png": "[encoded data removed]",
      "text/plain": [
       "<Figure size 432x288 with 1 Axes>"
      ]
     },
     "metadata": {
      "needs_background": "light"
     },
     "output_type": "display_data"
    }
   ],
   "source": [
    "# Tomamos un rango más razonable\n",
    "molinetes['PAX_PAGOS'].value_counts().sort_index().plot.line()\n",
    "molinetes['PAX_PASES_PAGOS'].value_counts().sort_index().plot.line()\n",
    "molinetes['PAX_FRANQ'].value_counts().sort_index().plot.line()\n",
    "molinetes['TOTAL'].value_counts().sort_index().plot.line()\n",
    "plt.show()"
   ]
  },
  {
   "cell_type": "markdown",
   "metadata": {},
   "source": [
    "En este paso definimos los bins y creamos las variables rangos"
   ]
  },
  {
   "cell_type": "code",
   "execution_count": 86,
   "metadata": {},
   "outputs": [
    {
     "data": {
      "text/plain": [
       "Index(['PERIODO', 'FECHA', 'DESDE', 'HASTA', 'LINEA', 'MOLINETE', 'ESTACION',\n",
       "       'PAX_PAGOS', 'PAX_PASES_PAGOS', 'PAX_FRANQ', 'TOTAL', 'ID', 'anio',\n",
       "       'mes', 'dia', 'rango_PAX_PAGOS'],\n",
       "      dtype='object')"
      ]
     },
     "execution_count": 86,
     "metadata": {},
     "output_type": "execute_result"
    }
   ],
   "source": [
    "# Creamos rangos para agruparlos\n",
    "bins = [0, 2, 4, 6, 8, 10]\n",
    "molinetes['rango_PAX_PAGOS'] = pd.cut(molinetes.PAX_PAGOS, bins)\n",
    "molinetes.columns"
   ]
  },
  {
   "cell_type": "markdown",
   "metadata": {},
   "source": [
    "Veamos que valores toman !"
   ]
  },
  {
   "cell_type": "code",
   "execution_count": 87,
   "metadata": {},
   "outputs": [
    {
     "data": {
      "text/html": [
       "<div>\n",
       "<style scoped>\n",
       "    .dataframe tbody tr th:only-of-type {\n",
       "        vertical-align: middle;\n",
       "    }\n",
       "\n",
       "    .dataframe tbody tr th {\n",
       "        vertical-align: top;\n",
       "    }\n",
       "\n",
       "    .dataframe thead th {\n",
       "        text-align: right;\n",
       "    }\n",
       "</style>\n",
       "<table border=\"1\" class=\"dataframe\">\n",
       "  <thead>\n",
       "    <tr style=\"text-align: right;\">\n",
       "      <th></th>\n",
       "      <th>PAX_PAGOS</th>\n",
       "      <th>rango_PAX_PAGOS</th>\n",
       "    </tr>\n",
       "  </thead>\n",
       "  <tbody>\n",
       "    <tr>\n",
       "      <th>0</th>\n",
       "      <td>1</td>\n",
       "      <td>(0, 2]</td>\n",
       "    </tr>\n",
       "    <tr>\n",
       "      <th>1</th>\n",
       "      <td>1</td>\n",
       "      <td>(0, 2]</td>\n",
       "    </tr>\n",
       "    <tr>\n",
       "      <th>2</th>\n",
       "      <td>2</td>\n",
       "      <td>(0, 2]</td>\n",
       "    </tr>\n",
       "    <tr>\n",
       "      <th>3</th>\n",
       "      <td>1</td>\n",
       "      <td>(0, 2]</td>\n",
       "    </tr>\n",
       "    <tr>\n",
       "      <th>4</th>\n",
       "      <td>2</td>\n",
       "      <td>(0, 2]</td>\n",
       "    </tr>\n",
       "  </tbody>\n",
       "</table>\n",
       "</div>"
      ],
      "text/plain": [
       "   PAX_PAGOS rango_PAX_PAGOS\n",
       "0          1          (0, 2]\n",
       "1          1          (0, 2]\n",
       "2          2          (0, 2]\n",
       "3          1          (0, 2]\n",
       "4          2          (0, 2]"
      ]
     },
     "execution_count": 87,
     "metadata": {},
     "output_type": "execute_result"
    }
   ],
   "source": [
    "# vemos que valores toma\n",
    "molinetes[['PAX_PAGOS', 'rango_PAX_PAGOS']].head()"
   ]
  },
  {
   "cell_type": "markdown",
   "metadata": {},
   "source": [
    "### Crear Variables Dummies: \n",
    "\n",
    "En general, las variables numéricas podrían ser usadas sin demasiado preprocesamiento, ya que ya están en un formato que los modelos entienden. Sin embargo, muchas veces no es ese el caso. Algunas de las cosas que se suelen hacer son:\n",
    "* Discretización y binning\n",
    "* Reescalar (más adelante en el curso)\n",
    "* Combinar con otras variables (más adelante en el curso)\n",
    "\n",
    "\n",
    "**Discretización y binning con Pandas**\n",
    "\n",
    "Si ya sabemos qué bines usar, Pandas es muy útil.\n",
    "\n",
    "Les proponemos generar una variables Dummie de la columna LINEA"
   ]
  },
  {
   "cell_type": "code",
   "execution_count": 88,
   "metadata": {},
   "outputs": [
    {
     "data": {
      "text/plain": [
       "CONSTITUCION            474906\n",
       "RETIRO                  248519\n",
       "PLAZA MISERERE          221191\n",
       "FACULTAD DE MEDICINA    163761\n",
       "URUGUAY                 161762\n",
       "DORREGO                 160724\n",
       "ONCE                    153172\n",
       "CARLOS PELLEGRINI       153087\n",
       "PUEYRREDON              150269\n",
       "PERU                    145763\n",
       "FLORIDA                 145022\n",
       "CONGRESO                143609\n",
       "MALABIA                 143069\n",
       "CARLOS GARDEL           131969\n",
       "CALLAO.B                130643\n",
       "TRIBUNALES              129624\n",
       "PASTEUR                 128464\n",
       "ANGEL GALLARDO          127792\n",
       "MEDRANO                 127341\n",
       "9 DE JULIO              124281\n",
       "PALERMO                 120988\n",
       "MARIANO MORENO          113114\n",
       "SCALABRINI ORTIZ        108979\n",
       "LIMA                    108826\n",
       "SAENZ PEÑA              107385\n",
       "AVENIDA DE MAYO         102333\n",
       "LAVALLE                 101362\n",
       "PLAZA ITALIA             96363\n",
       "PIEDRAS                  92880\n",
       "INDEPENDENCIA            88967\n",
       "CASEROS                  86282\n",
       "VENEZUELA                85825\n",
       "AGUERO                   83591\n",
       "HUMBERTO I               73298\n",
       "INCLAN                   70266\n",
       "DIAGONAL NORTE           66612\n",
       "ALBERTI                  64330\n",
       "PASCO                    63631\n",
       "Name: ESTACION, dtype: int64"
      ]
     },
     "execution_count": 88,
     "metadata": {},
     "output_type": "execute_result"
    }
   ],
   "source": [
    "molinetes['ESTACION'].value_counts()"
   ]
  },
  {
   "cell_type": "code",
   "execution_count": 98,
   "metadata": {},
   "outputs": [
    {
     "data": {
      "text/html": [
       "<div>\n",
       "<style scoped>\n",
       "    .dataframe tbody tr th:only-of-type {\n",
       "        vertical-align: middle;\n",
       "    }\n",
       "\n",
       "    .dataframe tbody tr th {\n",
       "        vertical-align: top;\n",
       "    }\n",
       "\n",
       "    .dataframe thead th {\n",
       "        text-align: right;\n",
       "    }\n",
       "</style>\n",
       "<table border=\"1\" class=\"dataframe\">\n",
       "  <thead>\n",
       "    <tr style=\"text-align: right;\">\n",
       "      <th></th>\n",
       "      <th>LINEA_A</th>\n",
       "      <th>LINEA_B</th>\n",
       "      <th>LINEA_C</th>\n",
       "      <th>LINEA_D</th>\n",
       "      <th>LINEA_H</th>\n",
       "    </tr>\n",
       "  </thead>\n",
       "  <tbody>\n",
       "    <tr>\n",
       "      <th>4009404</th>\n",
       "      <td>0</td>\n",
       "      <td>1</td>\n",
       "      <td>0</td>\n",
       "      <td>0</td>\n",
       "      <td>0</td>\n",
       "    </tr>\n",
       "    <tr>\n",
       "      <th>946730</th>\n",
       "      <td>0</td>\n",
       "      <td>0</td>\n",
       "      <td>0</td>\n",
       "      <td>1</td>\n",
       "      <td>0</td>\n",
       "    </tr>\n",
       "    <tr>\n",
       "      <th>3887658</th>\n",
       "      <td>0</td>\n",
       "      <td>1</td>\n",
       "      <td>0</td>\n",
       "      <td>0</td>\n",
       "      <td>0</td>\n",
       "    </tr>\n",
       "    <tr>\n",
       "      <th>1976186</th>\n",
       "      <td>0</td>\n",
       "      <td>0</td>\n",
       "      <td>1</td>\n",
       "      <td>0</td>\n",
       "      <td>0</td>\n",
       "    </tr>\n",
       "    <tr>\n",
       "      <th>1905098</th>\n",
       "      <td>0</td>\n",
       "      <td>0</td>\n",
       "      <td>1</td>\n",
       "      <td>0</td>\n",
       "      <td>0</td>\n",
       "    </tr>\n",
       "    <tr>\n",
       "      <th>290867</th>\n",
       "      <td>0</td>\n",
       "      <td>0</td>\n",
       "      <td>0</td>\n",
       "      <td>0</td>\n",
       "      <td>1</td>\n",
       "    </tr>\n",
       "    <tr>\n",
       "      <th>3259836</th>\n",
       "      <td>0</td>\n",
       "      <td>1</td>\n",
       "      <td>0</td>\n",
       "      <td>0</td>\n",
       "      <td>0</td>\n",
       "    </tr>\n",
       "    <tr>\n",
       "      <th>3309803</th>\n",
       "      <td>0</td>\n",
       "      <td>1</td>\n",
       "      <td>0</td>\n",
       "      <td>0</td>\n",
       "      <td>0</td>\n",
       "    </tr>\n",
       "    <tr>\n",
       "      <th>2871102</th>\n",
       "      <td>0</td>\n",
       "      <td>1</td>\n",
       "      <td>0</td>\n",
       "      <td>0</td>\n",
       "      <td>0</td>\n",
       "    </tr>\n",
       "    <tr>\n",
       "      <th>4079217</th>\n",
       "      <td>1</td>\n",
       "      <td>0</td>\n",
       "      <td>0</td>\n",
       "      <td>0</td>\n",
       "      <td>0</td>\n",
       "    </tr>\n",
       "  </tbody>\n",
       "</table>\n",
       "</div>"
      ],
      "text/plain": [
       "         LINEA_A  LINEA_B  LINEA_C  LINEA_D  LINEA_H\n",
       "4009404        0        1        0        0        0\n",
       "946730         0        0        0        1        0\n",
       "3887658        0        1        0        0        0\n",
       "1976186        0        0        1        0        0\n",
       "1905098        0        0        1        0        0\n",
       "290867         0        0        0        0        1\n",
       "3259836        0        1        0        0        0\n",
       "3309803        0        1        0        0        0\n",
       "2871102        0        1        0        0        0\n",
       "4079217        1        0        0        0        0"
      ]
     },
     "execution_count": 98,
     "metadata": {},
     "output_type": "execute_result"
    }
   ],
   "source": [
    "dummieslinea = pd.get_dummies(molinetes['LINEA'])\n",
    "dummieslinea.sample(10)"
   ]
  },
  {
   "cell_type": "markdown",
   "metadata": {},
   "source": [
    "## Variables Categóricas\n",
    "\n",
    "Las variables categóricas pueden ser ordinales (que tienen un orden), como el talle de una remera, o nominales, como el color.\n",
    "\n",
    "### Ordinales\n",
    "\n",
    "Muchas veces, podemos asignar un orden intuitivo. En ese caso, podemos usar map de pandas.\n",
    "\n",
    "Para ver un ejemplo vamos a tener que crear un dataset"
   ]
  },
  {
   "cell_type": "code",
   "execution_count": 92,
   "metadata": {},
   "outputs": [
    {
     "data": {
      "text/html": [
       "<div>\n",
       "<style scoped>\n",
       "    .dataframe tbody tr th:only-of-type {\n",
       "        vertical-align: middle;\n",
       "    }\n",
       "\n",
       "    .dataframe tbody tr th {\n",
       "        vertical-align: top;\n",
       "    }\n",
       "\n",
       "    .dataframe thead th {\n",
       "        text-align: right;\n",
       "    }\n",
       "</style>\n",
       "<table border=\"1\" class=\"dataframe\">\n",
       "  <thead>\n",
       "    <tr style=\"text-align: right;\">\n",
       "      <th></th>\n",
       "      <th>color</th>\n",
       "      <th>size</th>\n",
       "      <th>price</th>\n",
       "      <th>classlabel</th>\n",
       "    </tr>\n",
       "  </thead>\n",
       "  <tbody>\n",
       "    <tr>\n",
       "      <th>0</th>\n",
       "      <td>green</td>\n",
       "      <td>M</td>\n",
       "      <td>10.1</td>\n",
       "      <td>class1</td>\n",
       "    </tr>\n",
       "    <tr>\n",
       "      <th>1</th>\n",
       "      <td>red</td>\n",
       "      <td>L</td>\n",
       "      <td>13.5</td>\n",
       "      <td>class2</td>\n",
       "    </tr>\n",
       "    <tr>\n",
       "      <th>2</th>\n",
       "      <td>blue</td>\n",
       "      <td>XL</td>\n",
       "      <td>15.3</td>\n",
       "      <td>class1</td>\n",
       "    </tr>\n",
       "  </tbody>\n",
       "</table>\n",
       "</div>"
      ],
      "text/plain": [
       "   color size  price classlabel\n",
       "0  green    M   10.1     class1\n",
       "1    red    L   13.5     class2\n",
       "2   blue   XL   15.3     class1"
      ]
     },
     "execution_count": 92,
     "metadata": {},
     "output_type": "execute_result"
    }
   ],
   "source": [
    "df_ropa = pd.DataFrame([\n",
    "            ['green', 'M', 10.1, 'class1'],\n",
    "            ['red', 'L', 13.5, 'class2'],\n",
    "            ['blue', 'XL', 15.3, 'class1']])\n",
    "df_ropa.columns = ['color', 'size', 'price', 'classlabel']\n",
    "df_ropa"
   ]
  },
  {
   "cell_type": "markdown",
   "metadata": {},
   "source": [
    "Y asignamos un *mapeo* a los talles. En este caso, $XL = L + 1 = M + 2$. Esto lo hacemos con un diccionario."
   ]
  },
  {
   "cell_type": "code",
   "execution_count": 93,
   "metadata": {},
   "outputs": [],
   "source": [
    "size_mapping = {'XL': 3,'ML': 2.5, 'L': 2,'M': 1}"
   ]
  },
  {
   "cell_type": "markdown",
   "metadata": {},
   "source": [
    "Y aplicamos la función map"
   ]
  },
  {
   "cell_type": "code",
   "execution_count": 94,
   "metadata": {},
   "outputs": [
    {
     "data": {
      "text/html": [
       "<div>\n",
       "<style scoped>\n",
       "    .dataframe tbody tr th:only-of-type {\n",
       "        vertical-align: middle;\n",
       "    }\n",
       "\n",
       "    .dataframe tbody tr th {\n",
       "        vertical-align: top;\n",
       "    }\n",
       "\n",
       "    .dataframe thead th {\n",
       "        text-align: right;\n",
       "    }\n",
       "</style>\n",
       "<table border=\"1\" class=\"dataframe\">\n",
       "  <thead>\n",
       "    <tr style=\"text-align: right;\">\n",
       "      <th></th>\n",
       "      <th>color</th>\n",
       "      <th>size</th>\n",
       "      <th>price</th>\n",
       "      <th>classlabel</th>\n",
       "    </tr>\n",
       "  </thead>\n",
       "  <tbody>\n",
       "    <tr>\n",
       "      <th>0</th>\n",
       "      <td>green</td>\n",
       "      <td>1.0</td>\n",
       "      <td>10.1</td>\n",
       "      <td>class1</td>\n",
       "    </tr>\n",
       "    <tr>\n",
       "      <th>1</th>\n",
       "      <td>red</td>\n",
       "      <td>2.0</td>\n",
       "      <td>13.5</td>\n",
       "      <td>class2</td>\n",
       "    </tr>\n",
       "    <tr>\n",
       "      <th>2</th>\n",
       "      <td>blue</td>\n",
       "      <td>3.0</td>\n",
       "      <td>15.3</td>\n",
       "      <td>class1</td>\n",
       "    </tr>\n",
       "  </tbody>\n",
       "</table>\n",
       "</div>"
      ],
      "text/plain": [
       "   color  size  price classlabel\n",
       "0  green   1.0   10.1     class1\n",
       "1    red   2.0   13.5     class2\n",
       "2   blue   3.0   15.3     class1"
      ]
     },
     "execution_count": 94,
     "metadata": {},
     "output_type": "execute_result"
    }
   ],
   "source": [
    "df_ropa['size'] = df_ropa['size'].map(size_mapping)\n",
    "df_ropa"
   ]
  },
  {
   "cell_type": "markdown",
   "metadata": {},
   "source": [
    "### Ahora con el dataset de molinetes\n",
    "\n",
    "Hacer una transformación de la variables Estación de la linea E dandole un orden en relación a la estación de cabecera\n",
    "\n",
    "https://es.wikipedia.org/wiki/L%C3%ADnea_E_(subte_de_Buenos_Aires)"
   ]
  },
  {
   "cell_type": "code",
   "execution_count": null,
   "metadata": {},
   "outputs": [],
   "source": []
  },
  {
   "cell_type": "markdown",
   "metadata": {},
   "source": [
    "**Extra**:\n",
    "\n",
    "Más ejercicios en :\n",
    "\n",
    "https://github.com/raytroop/FeatureEngineering/blob/master/Course-Notebooks/02.2_Categorical_variables.ipynb\n",
    "\n"
   ]
  }
 ],
 "metadata": {
  "kernelspec": {
   "display_name": "Python 3",
   "language": "python",
   "name": "python3"
  },
  "language_info": {
   "codemirror_mode": {
    "name": "ipython",
    "version": 3
   },
   "file_extension": ".py",
   "mimetype": "text/x-python",
   "name": "python",
   "nbconvert_exporter": "python",
   "pygments_lexer": "ipython3",
   "version": "3.7.3"
  }
 },
 "nbformat": 4,
 "nbformat_minor": 4
}
