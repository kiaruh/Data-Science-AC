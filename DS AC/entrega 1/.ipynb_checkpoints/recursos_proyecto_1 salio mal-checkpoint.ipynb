{
 "cells": [
  {
   "cell_type": "markdown",
   "metadata": {},
   "source": [
    "# Proyecto: Análisis mercado inmobiliario de la Ciudad de Buenos Aires"
   ]
  },
  {
   "cell_type": "markdown",
   "metadata": {},
   "source": [
    "¡Bienvenidos al primer proyecto de la carrera de Data Science de Acamica! \n",
    "\n",
    "En este proyecto vamos a trabajar con un dataset de propiedades en venta publicadas en el portal [Properati](www.properati.com.ar). El objetivo es dar los primeros pasos en el proceso de exploración de datos usando las herramientas que trabajamos en las activades.\n",
    "\n",
    "Vamos a enfocarnos en analizar algunos aspectos del mercado inmobiliario de la Ciudad de Buenos Aires pero para eso primero debemos limpiar un poco el dataset."
   ]
  },
  {
   "cell_type": "markdown",
   "metadata": {},
   "source": [
    "## El dataset: propiedades en venta en Ciudad de Buenos Aires."
   ]
  },
  {
   "cell_type": "markdown",
   "metadata": {},
   "source": [
    "En este proyecto, trabajaremos con una muestra del conjunto de datos de propiedades en venta mencionado. En este dataset, cada fila es una propiedad en venta. \n",
    "\n",
    "## Los atributos\n",
    "A continuación vamos a describir los atributos que consideramos en esta muestra:\n",
    "\n",
    "* **id**: id de la propiedad\n",
    "* **created_on**: fecha en la que la propiedad ingresó al sitio\n",
    "* **operation**: alquiler (rent) o venta (sell)\n",
    "* **property_type**: tipo de propiedad (casa, departamento, ph, etcétera)\n",
    "* **place_with_parent_names**: nombre del lugar donde se encuentra la propiedad según el publicador\n",
    "* **lat-lon**: coordenadas concatenadas\n",
    "* **lat**: latitud\n",
    "* **lon**: longitud\n",
    "* **price**: precio en la moneda especificada en currency\n",
    "* **currency**: divisa en la que está expresada la publicación\n",
    "* **price_aprox_usd**: precio aproximado en dólares estadounidenses\n",
    "* **surface_total_in_m2**: superficie total (en metros cuadrados)\n",
    "* **surface_covered_in_m2**: superficie cubierta (en metros cuadrados)\n",
    "* **price_usd_per_m2**: precio por metro cuadrado en dólares (precio dólares / superficie)\n",
    "* **floor**: número de piso (si corresponde)\n",
    "* **rooms**: cantidad de ambientes\n",
    "* **expenses**: expensas (si corresponde)\n",
    "* **barrio**: barrio según cartografía oficial\n",
    "* **properati_url**: url de la publicación en Properati\n"
   ]
  },
  {
   "cell_type": "markdown",
   "metadata": {},
   "source": [
    "## Importando las bibliotecas necesarias\n",
    "\n",
    "Para poder trabajar en la limpieza de datos y la visualización de nuestro dataset vamos a utilizar las bibliotecas numpy, pandas, matplotlib.pylab y seaborn. \n",
    "\n",
    "** 1) Importá ** cada una de ellas con los siguientes nombres: \n",
    "- **numpy** como **np**\n",
    "- **pandas** como **pd**\n",
    "- **matplotlib.pylab** como **plt**\n",
    "- **seaborn** como **sns**\n"
   ]
  },
  {
   "cell_type": "code",
   "execution_count": 1,
   "metadata": {},
   "outputs": [],
   "source": [
    "# Importar bibliotecas en esta celda\n",
    "import numpy as np\n",
    "import pandas as pd\n",
    "import matplotlib as plt\n",
    "import seaborn as sns\n",
    "import matplotlib.pyplot as plt"
   ]
  },
  {
   "cell_type": "code",
   "execution_count": 2,
   "metadata": {},
   "outputs": [],
   "source": [
    "# La siguiente línea es para ver las imagenes dentro del notebook\n",
    "%matplotlib inline\n",
    "# Acá configuramos el tamaño de las figuras\n",
    "plt.rcParams['figure.figsize'] = (12,8)\n",
    "# Seteamos opciones de pandas sobre las columnas y su ancho\n",
    "pd.set_option('max_columns', 120)\n",
    "pd.set_option('max_colwidth', 5000)\n"
   ]
  },
  {
   "cell_type": "markdown",
   "metadata": {},
   "source": [
    "## Cargando dataset de propiedades\n",
    "\n",
    "**2) Cargá** el dataset que se encuentra en la carpeta *dataset/* y guardalo en una variable llamada **df**. \n",
    "No te olvides de utilizar **parse_dates** sobre la columna **created_on**\n"
   ]
  },
  {
   "cell_type": "code",
   "execution_count": 3,
   "metadata": {},
   "outputs": [],
   "source": [
    "# cargá el dataset en esta celda\n",
    "df = pd.read_csv('dataset/datos_properati.csv',sep=',',parse_dates=['created_on'])\n"
   ]
  },
  {
   "cell_type": "markdown",
   "metadata": {},
   "source": [
    "## Exploración de datos"
   ]
  },
  {
   "cell_type": "markdown",
   "metadata": {},
   "source": [
    "Lo primero que vamos a hacer es ver qué forma tiene el dataset que acabamos de cargar. Para eso vamos a mostrar las primeras 3 entradas del mismo y utilizar la propiedad `shape` para ver la cantidad de instancias y atributos con los que vamos a estar trabajando."
   ]
  },
  {
   "cell_type": "code",
   "execution_count": 4,
   "metadata": {},
   "outputs": [
    {
     "name": "stdout",
     "output_type": "stream",
     "text": [
      "(18979, 17)\n"
     ]
    },
    {
     "data": {
      "text/html": [
       "<div>\n",
       "<style scoped>\n",
       "    .dataframe tbody tr th:only-of-type {\n",
       "        vertical-align: middle;\n",
       "    }\n",
       "\n",
       "    .dataframe tbody tr th {\n",
       "        vertical-align: top;\n",
       "    }\n",
       "\n",
       "    .dataframe thead th {\n",
       "        text-align: right;\n",
       "    }\n",
       "</style>\n",
       "<table border=\"1\" class=\"dataframe\">\n",
       "  <thead>\n",
       "    <tr style=\"text-align: right;\">\n",
       "      <th></th>\n",
       "      <th>created_on</th>\n",
       "      <th>operation</th>\n",
       "      <th>property_type</th>\n",
       "      <th>place_with_parent_names</th>\n",
       "      <th>lat-lon</th>\n",
       "      <th>lat</th>\n",
       "      <th>lon</th>\n",
       "      <th>price_aprox_usd</th>\n",
       "      <th>surface_total_in_m2</th>\n",
       "      <th>surface_covered_in_m2</th>\n",
       "      <th>price_usd_per_m2</th>\n",
       "      <th>floor</th>\n",
       "      <th>rooms</th>\n",
       "      <th>expenses</th>\n",
       "      <th>properati_url</th>\n",
       "      <th>barrio</th>\n",
       "      <th>comuna</th>\n",
       "    </tr>\n",
       "  </thead>\n",
       "  <tbody>\n",
       "    <tr>\n",
       "      <th>14858</th>\n",
       "      <td>2017-10-20</td>\n",
       "      <td>sell</td>\n",
       "      <td>store</td>\n",
       "      <td>|Argentina|Capital Federal|Almagro|</td>\n",
       "      <td>-34.6102191,-58.4157649</td>\n",
       "      <td>-34.610219</td>\n",
       "      <td>-58.415765</td>\n",
       "      <td>290000.00</td>\n",
       "      <td>212.0</td>\n",
       "      <td>212.0</td>\n",
       "      <td>1367.924528</td>\n",
       "      <td>NaN</td>\n",
       "      <td>NaN</td>\n",
       "      <td>NaN</td>\n",
       "      <td>https://www.properati.com.ar/1hb0h_venta_local_almagro_sotano_garage_subte-linea-a_bienvende-amelia-claro_ej0</td>\n",
       "      <td>ALMAGRO</td>\n",
       "      <td>5.0</td>\n",
       "    </tr>\n",
       "    <tr>\n",
       "      <th>8519</th>\n",
       "      <td>2018-01-25</td>\n",
       "      <td>sell</td>\n",
       "      <td>apartment</td>\n",
       "      <td>|Argentina|Capital Federal|Villa Luro|</td>\n",
       "      <td>-34.6441644,-58.4964253</td>\n",
       "      <td>-34.644164</td>\n",
       "      <td>-58.496425</td>\n",
       "      <td>87000.00</td>\n",
       "      <td>NaN</td>\n",
       "      <td>42.0</td>\n",
       "      <td>NaN</td>\n",
       "      <td>NaN</td>\n",
       "      <td>2.0</td>\n",
       "      <td>2200.0</td>\n",
       "      <td>https://www.properati.com.ar/1k2yc_venta_departamento_villa-luro_balcon_lavadero_parrilla_luminoso_vista_electrogeno_garage_grupo-mega-ziade</td>\n",
       "      <td>MATADEROS</td>\n",
       "      <td>9.0</td>\n",
       "    </tr>\n",
       "    <tr>\n",
       "      <th>11289</th>\n",
       "      <td>2017-10-13</td>\n",
       "      <td>sell</td>\n",
       "      <td>apartment</td>\n",
       "      <td>|Argentina|Capital Federal|Caballito|</td>\n",
       "      <td>-34.621876,-58.438085</td>\n",
       "      <td>-34.621876</td>\n",
       "      <td>-58.438085</td>\n",
       "      <td>449000.00</td>\n",
       "      <td>137.0</td>\n",
       "      <td>124.0</td>\n",
       "      <td>3277.372263</td>\n",
       "      <td>8.0</td>\n",
       "      <td>NaN</td>\n",
       "      <td>NaN</td>\n",
       "      <td>https://www.properati.com.ar/1gbp1_venta_departamento_caballito_san-jose-de-calasanz-al-200_balcon_gimnasio_lavadero_parrilla_piscina_terraza_garage_amenities_placard_subte-linea-a_subte-linea-e_lepore-propiedades</td>\n",
       "      <td>CABALLITO</td>\n",
       "      <td>6.0</td>\n",
       "    </tr>\n",
       "    <tr>\n",
       "      <th>6383</th>\n",
       "      <td>2018-01-08</td>\n",
       "      <td>sell</td>\n",
       "      <td>PH</td>\n",
       "      <td>|Argentina|Capital Federal|Villa Crespo|</td>\n",
       "      <td>-34.60379,-58.446401</td>\n",
       "      <td>-34.603790</td>\n",
       "      <td>-58.446401</td>\n",
       "      <td>320000.00</td>\n",
       "      <td>280.0</td>\n",
       "      <td>280.0</td>\n",
       "      <td>1142.857143</td>\n",
       "      <td>NaN</td>\n",
       "      <td>8.0</td>\n",
       "      <td>NaN</td>\n",
       "      <td>https://www.properati.com.ar/1jchd_venta_ph_villa-crespo_suite_parrilla_patio_quincho_terraza_toilette_luminoso_re-max-uno</td>\n",
       "      <td>VILLA CRESPO</td>\n",
       "      <td>15.0</td>\n",
       "    </tr>\n",
       "    <tr>\n",
       "      <th>11318</th>\n",
       "      <td>2017-10-17</td>\n",
       "      <td>sell</td>\n",
       "      <td>apartment</td>\n",
       "      <td>|Argentina|Capital Federal|Caballito|</td>\n",
       "      <td>-34.6258702,-58.4343029</td>\n",
       "      <td>-34.625870</td>\n",
       "      <td>-58.434303</td>\n",
       "      <td>210000.00</td>\n",
       "      <td>135.0</td>\n",
       "      <td>79.0</td>\n",
       "      <td>1555.555556</td>\n",
       "      <td>NaN</td>\n",
       "      <td>NaN</td>\n",
       "      <td>NaN</td>\n",
       "      <td>https://www.properati.com.ar/1gjlk_venta_departamento_caballito_hidromasaje_terraza_luminoso_subte-linea-e_bilardo-negocios-inmobiliarios</td>\n",
       "      <td>CABALLITO</td>\n",
       "      <td>6.0</td>\n",
       "    </tr>\n",
       "    <tr>\n",
       "      <th>12391</th>\n",
       "      <td>2017-10-17</td>\n",
       "      <td>sell</td>\n",
       "      <td>store</td>\n",
       "      <td>|Argentina|Capital Federal|Flores|</td>\n",
       "      <td>-34.6421859,-58.4594062</td>\n",
       "      <td>-34.642186</td>\n",
       "      <td>-58.459406</td>\n",
       "      <td>350000.00</td>\n",
       "      <td>NaN</td>\n",
       "      <td>NaN</td>\n",
       "      <td>NaN</td>\n",
       "      <td>NaN</td>\n",
       "      <td>NaN</td>\n",
       "      <td>NaN</td>\n",
       "      <td>https://www.properati.com.ar/1gjpx_venta_local_flores_subte-linea-e_subte-premetro_ciocale-inmobiliaria</td>\n",
       "      <td>FLORES</td>\n",
       "      <td>7.0</td>\n",
       "    </tr>\n",
       "    <tr>\n",
       "      <th>12456</th>\n",
       "      <td>2017-10-17</td>\n",
       "      <td>sell</td>\n",
       "      <td>PH</td>\n",
       "      <td>|Argentina|Capital Federal|Caballito|</td>\n",
       "      <td>-34.6292176667,-58.4545826912</td>\n",
       "      <td>-34.629218</td>\n",
       "      <td>-58.454583</td>\n",
       "      <td>470000.00</td>\n",
       "      <td>400.0</td>\n",
       "      <td>NaN</td>\n",
       "      <td>1175.000000</td>\n",
       "      <td>NaN</td>\n",
       "      <td>NaN</td>\n",
       "      <td>1000.0</td>\n",
       "      <td>https://www.properati.com.ar/1h1cw_venta_ph_caballito_balcon_patio_terraza_dependencias_subte-linea-a_su-ma-propiedades</td>\n",
       "      <td>FLORES</td>\n",
       "      <td>7.0</td>\n",
       "    </tr>\n",
       "    <tr>\n",
       "      <th>7936</th>\n",
       "      <td>2017-09-20</td>\n",
       "      <td>sell</td>\n",
       "      <td>apartment</td>\n",
       "      <td>|Argentina|Capital Federal|Nuñez|</td>\n",
       "      <td>-34.5427503,-58.4601452</td>\n",
       "      <td>-34.542750</td>\n",
       "      <td>-58.460145</td>\n",
       "      <td>309200.00</td>\n",
       "      <td>115.0</td>\n",
       "      <td>96.0</td>\n",
       "      <td>2688.695652</td>\n",
       "      <td>NaN</td>\n",
       "      <td>3.0</td>\n",
       "      <td>NaN</td>\n",
       "      <td>https://www.properati.com.ar/1f5yj_venta_departamento_nunez_sensusre_hba</td>\n",
       "      <td>NUEZ</td>\n",
       "      <td>13.0</td>\n",
       "    </tr>\n",
       "    <tr>\n",
       "      <th>17753</th>\n",
       "      <td>2017-09-10</td>\n",
       "      <td>sell</td>\n",
       "      <td>apartment</td>\n",
       "      <td>|Argentina|Capital Federal|San Telmo|</td>\n",
       "      <td>-34.6231486,-58.3668487</td>\n",
       "      <td>-34.623149</td>\n",
       "      <td>-58.366849</td>\n",
       "      <td>142010.98</td>\n",
       "      <td>47.0</td>\n",
       "      <td>41.0</td>\n",
       "      <td>3021.510213</td>\n",
       "      <td>NaN</td>\n",
       "      <td>NaN</td>\n",
       "      <td>NaN</td>\n",
       "      <td>https://www.properati.com.ar/1elzi_venta_departamento_san-telmo_subte-linea-d_subte-linea-b_subte-linea-a_subte-linea-c_toribio-achaval_e6w</td>\n",
       "      <td>SAN TELMO</td>\n",
       "      <td>1.0</td>\n",
       "    </tr>\n",
       "    <tr>\n",
       "      <th>2873</th>\n",
       "      <td>2017-09-09</td>\n",
       "      <td>sell</td>\n",
       "      <td>apartment</td>\n",
       "      <td>|Argentina|Capital Federal|Recoleta|</td>\n",
       "      <td>-34.5934036,-58.3928381</td>\n",
       "      <td>-34.593404</td>\n",
       "      <td>-58.392838</td>\n",
       "      <td>530000.00</td>\n",
       "      <td>211.0</td>\n",
       "      <td>211.0</td>\n",
       "      <td>2511.848341</td>\n",
       "      <td>NaN</td>\n",
       "      <td>6.0</td>\n",
       "      <td>NaN</td>\n",
       "      <td>https://www.properati.com.ar/1ejvp_venta_departamento_recoleta_suite_toilette_garage_subte-linea-d_subte-linea-h_toribio-achaval_e6y</td>\n",
       "      <td>RECOLETA</td>\n",
       "      <td>2.0</td>\n",
       "    </tr>\n",
       "  </tbody>\n",
       "</table>\n",
       "</div>"
      ],
      "text/plain": [
       "      created_on operation property_type  \\\n",
       "14858 2017-10-20      sell         store   \n",
       "8519  2018-01-25      sell     apartment   \n",
       "11289 2017-10-13      sell     apartment   \n",
       "6383  2018-01-08      sell            PH   \n",
       "11318 2017-10-17      sell     apartment   \n",
       "12391 2017-10-17      sell         store   \n",
       "12456 2017-10-17      sell            PH   \n",
       "7936  2017-09-20      sell     apartment   \n",
       "17753 2017-09-10      sell     apartment   \n",
       "2873  2017-09-09      sell     apartment   \n",
       "\n",
       "                        place_with_parent_names  \\\n",
       "14858       |Argentina|Capital Federal|Almagro|   \n",
       "8519     |Argentina|Capital Federal|Villa Luro|   \n",
       "11289     |Argentina|Capital Federal|Caballito|   \n",
       "6383   |Argentina|Capital Federal|Villa Crespo|   \n",
       "11318     |Argentina|Capital Federal|Caballito|   \n",
       "12391        |Argentina|Capital Federal|Flores|   \n",
       "12456     |Argentina|Capital Federal|Caballito|   \n",
       "7936          |Argentina|Capital Federal|Nuñez|   \n",
       "17753     |Argentina|Capital Federal|San Telmo|   \n",
       "2873       |Argentina|Capital Federal|Recoleta|   \n",
       "\n",
       "                             lat-lon        lat        lon  price_aprox_usd  \\\n",
       "14858        -34.6102191,-58.4157649 -34.610219 -58.415765        290000.00   \n",
       "8519         -34.6441644,-58.4964253 -34.644164 -58.496425         87000.00   \n",
       "11289          -34.621876,-58.438085 -34.621876 -58.438085        449000.00   \n",
       "6383            -34.60379,-58.446401 -34.603790 -58.446401        320000.00   \n",
       "11318        -34.6258702,-58.4343029 -34.625870 -58.434303        210000.00   \n",
       "12391        -34.6421859,-58.4594062 -34.642186 -58.459406        350000.00   \n",
       "12456  -34.6292176667,-58.4545826912 -34.629218 -58.454583        470000.00   \n",
       "7936         -34.5427503,-58.4601452 -34.542750 -58.460145        309200.00   \n",
       "17753        -34.6231486,-58.3668487 -34.623149 -58.366849        142010.98   \n",
       "2873         -34.5934036,-58.3928381 -34.593404 -58.392838        530000.00   \n",
       "\n",
       "       surface_total_in_m2  surface_covered_in_m2  price_usd_per_m2  floor  \\\n",
       "14858                212.0                  212.0       1367.924528    NaN   \n",
       "8519                   NaN                   42.0               NaN    NaN   \n",
       "11289                137.0                  124.0       3277.372263    8.0   \n",
       "6383                 280.0                  280.0       1142.857143    NaN   \n",
       "11318                135.0                   79.0       1555.555556    NaN   \n",
       "12391                  NaN                    NaN               NaN    NaN   \n",
       "12456                400.0                    NaN       1175.000000    NaN   \n",
       "7936                 115.0                   96.0       2688.695652    NaN   \n",
       "17753                 47.0                   41.0       3021.510213    NaN   \n",
       "2873                 211.0                  211.0       2511.848341    NaN   \n",
       "\n",
       "       rooms  expenses  \\\n",
       "14858    NaN       NaN   \n",
       "8519     2.0    2200.0   \n",
       "11289    NaN       NaN   \n",
       "6383     8.0       NaN   \n",
       "11318    NaN       NaN   \n",
       "12391    NaN       NaN   \n",
       "12456    NaN    1000.0   \n",
       "7936     3.0       NaN   \n",
       "17753    NaN       NaN   \n",
       "2873     6.0       NaN   \n",
       "\n",
       "                                                                                                                                                                                                               properati_url  \\\n",
       "14858                                                                                                          https://www.properati.com.ar/1hb0h_venta_local_almagro_sotano_garage_subte-linea-a_bienvende-amelia-claro_ej0   \n",
       "8519                                                                            https://www.properati.com.ar/1k2yc_venta_departamento_villa-luro_balcon_lavadero_parrilla_luminoso_vista_electrogeno_garage_grupo-mega-ziade   \n",
       "11289  https://www.properati.com.ar/1gbp1_venta_departamento_caballito_san-jose-de-calasanz-al-200_balcon_gimnasio_lavadero_parrilla_piscina_terraza_garage_amenities_placard_subte-linea-a_subte-linea-e_lepore-propiedades   \n",
       "6383                                                                                              https://www.properati.com.ar/1jchd_venta_ph_villa-crespo_suite_parrilla_patio_quincho_terraza_toilette_luminoso_re-max-uno   \n",
       "11318                                                                              https://www.properati.com.ar/1gjlk_venta_departamento_caballito_hidromasaje_terraza_luminoso_subte-linea-e_bilardo-negocios-inmobiliarios   \n",
       "12391                                                                                                                https://www.properati.com.ar/1gjpx_venta_local_flores_subte-linea-e_subte-premetro_ciocale-inmobiliaria   \n",
       "12456                                                                                                https://www.properati.com.ar/1h1cw_venta_ph_caballito_balcon_patio_terraza_dependencias_subte-linea-a_su-ma-propiedades   \n",
       "7936                                                                                                                                                https://www.properati.com.ar/1f5yj_venta_departamento_nunez_sensusre_hba   \n",
       "17753                                                                            https://www.properati.com.ar/1elzi_venta_departamento_san-telmo_subte-linea-d_subte-linea-b_subte-linea-a_subte-linea-c_toribio-achaval_e6w   \n",
       "2873                                                                                    https://www.properati.com.ar/1ejvp_venta_departamento_recoleta_suite_toilette_garage_subte-linea-d_subte-linea-h_toribio-achaval_e6y   \n",
       "\n",
       "             barrio  comuna  \n",
       "14858       ALMAGRO     5.0  \n",
       "8519      MATADEROS     9.0  \n",
       "11289     CABALLITO     6.0  \n",
       "6383   VILLA CRESPO    15.0  \n",
       "11318     CABALLITO     6.0  \n",
       "12391        FLORES     7.0  \n",
       "12456        FLORES     7.0  \n",
       "7936           NUEZ    13.0  \n",
       "17753     SAN TELMO     1.0  \n",
       "2873       RECOLETA     2.0  "
      ]
     },
     "execution_count": 4,
     "metadata": {},
     "output_type": "execute_result"
    }
   ],
   "source": [
    "print(df.shape)\n",
    "df.sample(10)"
   ]
  },
  {
   "cell_type": "markdown",
   "metadata": {},
   "source": [
    "## Categorías de propiedades\n",
    "En primer lugar vamos a ver qué categorías existen en el campo `property_type`. Y de esas categorías cuantos valores tenemos de cada uno.\n",
    "\n",
    "**3) Mostrá** las categorías de `property_type` y cuántas instancias hay de cada una.\n",
    "\n",
    "Recordá utilizar funciones del **dataframe** de pandas para realizar esto."
   ]
  },
  {
   "cell_type": "code",
   "execution_count": 5,
   "metadata": {},
   "outputs": [
    {
     "data": {
      "text/html": [
       "<div>\n",
       "<style scoped>\n",
       "    .dataframe tbody tr th:only-of-type {\n",
       "        vertical-align: middle;\n",
       "    }\n",
       "\n",
       "    .dataframe tbody tr th {\n",
       "        vertical-align: top;\n",
       "    }\n",
       "\n",
       "    .dataframe thead th {\n",
       "        text-align: right;\n",
       "    }\n",
       "</style>\n",
       "<table border=\"1\" class=\"dataframe\">\n",
       "  <thead>\n",
       "    <tr style=\"text-align: right;\">\n",
       "      <th></th>\n",
       "      <th>property_type</th>\n",
       "      <th>totales</th>\n",
       "    </tr>\n",
       "  </thead>\n",
       "  <tbody>\n",
       "    <tr>\n",
       "      <th>0</th>\n",
       "      <td>apartment</td>\n",
       "      <td>14807</td>\n",
       "    </tr>\n",
       "    <tr>\n",
       "      <th>1</th>\n",
       "      <td>house</td>\n",
       "      <td>1618</td>\n",
       "    </tr>\n",
       "    <tr>\n",
       "      <th>2</th>\n",
       "      <td>PH</td>\n",
       "      <td>1463</td>\n",
       "    </tr>\n",
       "    <tr>\n",
       "      <th>3</th>\n",
       "      <td>store</td>\n",
       "      <td>1091</td>\n",
       "    </tr>\n",
       "  </tbody>\n",
       "</table>\n",
       "</div>"
      ],
      "text/plain": [
       "  property_type  totales\n",
       "0     apartment    14807\n",
       "1         house     1618\n",
       "2            PH     1463\n",
       "3         store     1091"
      ]
     },
     "execution_count": 5,
     "metadata": {},
     "output_type": "execute_result"
    }
   ],
   "source": [
    "# mostrá las categorías del campo property_type y mostrá la cant. de valores en esta celda\n",
    "a = df['property_type'] #forma comun df['property_type'].value_counts() quise buscar una alternativa\n",
    "b = a.value_counts().rename_axis('property_type').reset_index(name='totales')\n",
    "b #Cuento sus valores totales de cada valor unico y cambio los nombres de sus columnas"
   ]
  },
  {
   "cell_type": "markdown",
   "metadata": {},
   "source": [
    "### Filtrando las categorías\n",
    "\n",
    "De las categorías existentes sólo queremos quedarnos con las que sean casas (house), departamentos (apartment) o PH (PH). \n",
    "\n",
    "Para esto, \n",
    "\n",
    "**4) filtrá** el `dataframe` original creando un **nuevo** `dataframe` llamado `df_filtered`. Este es el `dataframe` que seguirás usando a lo largo del análisis.\n"
   ]
  },
  {
   "cell_type": "code",
   "execution_count": 6,
   "metadata": {},
   "outputs": [
    {
     "data": {
      "text/html": [
       "<div>\n",
       "<style scoped>\n",
       "    .dataframe tbody tr th:only-of-type {\n",
       "        vertical-align: middle;\n",
       "    }\n",
       "\n",
       "    .dataframe tbody tr th {\n",
       "        vertical-align: top;\n",
       "    }\n",
       "\n",
       "    .dataframe thead th {\n",
       "        text-align: right;\n",
       "    }\n",
       "</style>\n",
       "<table border=\"1\" class=\"dataframe\">\n",
       "  <thead>\n",
       "    <tr style=\"text-align: right;\">\n",
       "      <th></th>\n",
       "      <th>created_on</th>\n",
       "      <th>operation</th>\n",
       "      <th>property_type</th>\n",
       "      <th>place_with_parent_names</th>\n",
       "      <th>lat-lon</th>\n",
       "      <th>lat</th>\n",
       "      <th>lon</th>\n",
       "      <th>price_aprox_usd</th>\n",
       "      <th>surface_total_in_m2</th>\n",
       "      <th>surface_covered_in_m2</th>\n",
       "      <th>price_usd_per_m2</th>\n",
       "      <th>floor</th>\n",
       "      <th>rooms</th>\n",
       "      <th>expenses</th>\n",
       "      <th>properati_url</th>\n",
       "      <th>barrio</th>\n",
       "      <th>comuna</th>\n",
       "    </tr>\n",
       "  </thead>\n",
       "  <tbody>\n",
       "    <tr>\n",
       "      <th>694</th>\n",
       "      <td>2017-10-19</td>\n",
       "      <td>sell</td>\n",
       "      <td>apartment</td>\n",
       "      <td>|Argentina|Capital Federal|Palermo|</td>\n",
       "      <td>-34.5779953,-58.4233068</td>\n",
       "      <td>-34.577995</td>\n",
       "      <td>-58.423307</td>\n",
       "      <td>79500.00</td>\n",
       "      <td>22.0</td>\n",
       "      <td>22.0</td>\n",
       "      <td>3613.636364</td>\n",
       "      <td>NaN</td>\n",
       "      <td>1.0</td>\n",
       "      <td>1800.0</td>\n",
       "      <td>https://www.properati.com.ar/1h51s_venta_departamento_palermo_fray-justo-santamaria-de-oro_2600_luminoso_subte-linea-d_baigun-operaciones-inmobiliarias</td>\n",
       "      <td>PALERMO</td>\n",
       "      <td>14.0</td>\n",
       "    </tr>\n",
       "    <tr>\n",
       "      <th>1438</th>\n",
       "      <td>2017-12-09</td>\n",
       "      <td>sell</td>\n",
       "      <td>apartment</td>\n",
       "      <td>|Argentina|Capital Federal|Palermo|Palermo Hollywood|</td>\n",
       "      <td>-34.5869524323,-58.4378133931</td>\n",
       "      <td>-34.586952</td>\n",
       "      <td>-58.437813</td>\n",
       "      <td>220000.00</td>\n",
       "      <td>102.0</td>\n",
       "      <td>42.0</td>\n",
       "      <td>2156.862745</td>\n",
       "      <td>NaN</td>\n",
       "      <td>2.0</td>\n",
       "      <td>NaN</td>\n",
       "      <td>https://www.properati.com.ar/1iv7r_venta_departamento_palermo-hollywood_patio_terraza_luminoso_garage_feli-mackinlay-broker-inmobiliario_dui</td>\n",
       "      <td>PALERMO</td>\n",
       "      <td>14.0</td>\n",
       "    </tr>\n",
       "    <tr>\n",
       "      <th>7863</th>\n",
       "      <td>2018-01-19</td>\n",
       "      <td>sell</td>\n",
       "      <td>apartment</td>\n",
       "      <td>|Argentina|Capital Federal|Floresta|</td>\n",
       "      <td>-34.634015,-58.483239</td>\n",
       "      <td>-34.634015</td>\n",
       "      <td>-58.483239</td>\n",
       "      <td>250000.00</td>\n",
       "      <td>121.0</td>\n",
       "      <td>121.0</td>\n",
       "      <td>2066.115702</td>\n",
       "      <td>10.0</td>\n",
       "      <td>4.0</td>\n",
       "      <td>NaN</td>\n",
       "      <td>https://www.properati.com.ar/1jp5r_venta_departamento_floresta_balcon_baulera_jardin_luminoso_garage_re-max-life</td>\n",
       "      <td>VELEZ SARSFIELD</td>\n",
       "      <td>10.0</td>\n",
       "    </tr>\n",
       "    <tr>\n",
       "      <th>17256</th>\n",
       "      <td>2017-12-05</td>\n",
       "      <td>sell</td>\n",
       "      <td>PH</td>\n",
       "      <td>|Argentina|Capital Federal|Villa Luro|</td>\n",
       "      <td>-34.641008,-58.4896935</td>\n",
       "      <td>-34.641008</td>\n",
       "      <td>-58.489694</td>\n",
       "      <td>170000.00</td>\n",
       "      <td>152.0</td>\n",
       "      <td>100.0</td>\n",
       "      <td>1118.421053</td>\n",
       "      <td>NaN</td>\n",
       "      <td>4.0</td>\n",
       "      <td>NaN</td>\n",
       "      <td>https://www.properati.com.ar/1inz7_venta_ph_villa-luro_balcon_lavadero_parrilla_quincho_terraza_claudio-parra-propiedades</td>\n",
       "      <td>VILLA LURO</td>\n",
       "      <td>10.0</td>\n",
       "    </tr>\n",
       "    <tr>\n",
       "      <th>12908</th>\n",
       "      <td>2018-01-21</td>\n",
       "      <td>sell</td>\n",
       "      <td>house</td>\n",
       "      <td>|Argentina|Capital Federal|Flores|</td>\n",
       "      <td>-34.642636,-58.46558</td>\n",
       "      <td>-34.642636</td>\n",
       "      <td>-58.465580</td>\n",
       "      <td>315000.00</td>\n",
       "      <td>200.0</td>\n",
       "      <td>200.0</td>\n",
       "      <td>1575.000000</td>\n",
       "      <td>NaN</td>\n",
       "      <td>6.0</td>\n",
       "      <td>NaN</td>\n",
       "      <td>https://www.properati.com.ar/1k10t_venta_casa_flores_lavadero_parrilla_patio_toilette_garage_impecable_placard_aire-acondicionado_subte-linea-e_subte-premetro_re-max-premium-ii</td>\n",
       "      <td>FLORES</td>\n",
       "      <td>7.0</td>\n",
       "    </tr>\n",
       "    <tr>\n",
       "      <th>9486</th>\n",
       "      <td>2017-09-16</td>\n",
       "      <td>sell</td>\n",
       "      <td>apartment</td>\n",
       "      <td>|Argentina|Capital Federal|Belgrano|</td>\n",
       "      <td>-34.558519,-58.443558</td>\n",
       "      <td>-34.558519</td>\n",
       "      <td>-58.443558</td>\n",
       "      <td>146385.83</td>\n",
       "      <td>42.0</td>\n",
       "      <td>33.0</td>\n",
       "      <td>3485.376905</td>\n",
       "      <td>NaN</td>\n",
       "      <td>1.0</td>\n",
       "      <td>NaN</td>\n",
       "      <td>https://www.properati.com.ar/1evv1_venta_departamento_belgrano_toribio-achaval_e6w</td>\n",
       "      <td>BELGRANO</td>\n",
       "      <td>13.0</td>\n",
       "    </tr>\n",
       "    <tr>\n",
       "      <th>18941</th>\n",
       "      <td>2018-01-20</td>\n",
       "      <td>sell</td>\n",
       "      <td>apartment</td>\n",
       "      <td>|Argentina|Capital Federal|Villa Pueyrredón|</td>\n",
       "      <td>-34.577302,-58.5084239</td>\n",
       "      <td>-34.577302</td>\n",
       "      <td>-58.508424</td>\n",
       "      <td>150860.00</td>\n",
       "      <td>90.0</td>\n",
       "      <td>72.0</td>\n",
       "      <td>1676.222222</td>\n",
       "      <td>NaN</td>\n",
       "      <td>2.0</td>\n",
       "      <td>NaN</td>\n",
       "      <td>https://www.properati.com.ar/1jyue_venta_departamento_villa-pueyrredon_suite_patio_toilette_garage_aire-acondicionado_century-21-republicador</td>\n",
       "      <td>VILLA PUEYRREDON</td>\n",
       "      <td>12.0</td>\n",
       "    </tr>\n",
       "    <tr>\n",
       "      <th>14753</th>\n",
       "      <td>2017-10-12</td>\n",
       "      <td>sell</td>\n",
       "      <td>apartment</td>\n",
       "      <td>|Argentina|Capital Federal|Almagro|</td>\n",
       "      <td>-34.6101816,-58.4249856</td>\n",
       "      <td>-34.610182</td>\n",
       "      <td>-58.424986</td>\n",
       "      <td>85500.00</td>\n",
       "      <td>38.0</td>\n",
       "      <td>35.0</td>\n",
       "      <td>2250.000000</td>\n",
       "      <td>1.0</td>\n",
       "      <td>NaN</td>\n",
       "      <td>NaN</td>\n",
       "      <td>https://www.properati.com.ar/1g8wr_venta_departamento_almagro_mitre-bartolome-al-4100_balcon_garage_subte-linea-a_lepore-propiedades</td>\n",
       "      <td>ALMAGRO</td>\n",
       "      <td>5.0</td>\n",
       "    </tr>\n",
       "    <tr>\n",
       "      <th>13868</th>\n",
       "      <td>2018-01-19</td>\n",
       "      <td>sell</td>\n",
       "      <td>apartment</td>\n",
       "      <td>|Argentina|Capital Federal|Villa Urquiza|</td>\n",
       "      <td>-34.5778717,-58.4831232</td>\n",
       "      <td>-34.577872</td>\n",
       "      <td>-58.483123</td>\n",
       "      <td>267000.00</td>\n",
       "      <td>89.0</td>\n",
       "      <td>69.0</td>\n",
       "      <td>3000.000000</td>\n",
       "      <td>NaN</td>\n",
       "      <td>3.0</td>\n",
       "      <td>NaN</td>\n",
       "      <td>https://www.properati.com.ar/1jtgb_venta_departamento_villa-urquiza_balcon_suite_lavadero_patio_garage_impecable_subte-linea-b_valjor</td>\n",
       "      <td>VILLA URQUIZA</td>\n",
       "      <td>12.0</td>\n",
       "    </tr>\n",
       "    <tr>\n",
       "      <th>5255</th>\n",
       "      <td>2018-01-19</td>\n",
       "      <td>sell</td>\n",
       "      <td>apartment</td>\n",
       "      <td>|Argentina|Capital Federal|Balvanera|</td>\n",
       "      <td>-34.6101223,-58.4059406</td>\n",
       "      <td>-34.610122</td>\n",
       "      <td>-58.405941</td>\n",
       "      <td>111000.00</td>\n",
       "      <td>43.0</td>\n",
       "      <td>38.0</td>\n",
       "      <td>2581.395349</td>\n",
       "      <td>NaN</td>\n",
       "      <td>2.0</td>\n",
       "      <td>NaN</td>\n",
       "      <td>https://www.properati.com.ar/1jrm9_venta_departamento_balvanera_luminoso_garage_amenities_subte-linea-b_subte-linea-a_subte-linea-h_riveros-negocios-inmobiliarios</td>\n",
       "      <td>BALVANERA</td>\n",
       "      <td>3.0</td>\n",
       "    </tr>\n",
       "    <tr>\n",
       "      <th>3141</th>\n",
       "      <td>2017-10-11</td>\n",
       "      <td>sell</td>\n",
       "      <td>apartment</td>\n",
       "      <td>|Argentina|Capital Federal|Recoleta|</td>\n",
       "      <td>-34.5899605,-58.4037776</td>\n",
       "      <td>-34.589960</td>\n",
       "      <td>-58.403778</td>\n",
       "      <td>250000.00</td>\n",
       "      <td>83.0</td>\n",
       "      <td>74.0</td>\n",
       "      <td>3012.048193</td>\n",
       "      <td>7.0</td>\n",
       "      <td>NaN</td>\n",
       "      <td>3100.0</td>\n",
       "      <td>https://www.properati.com.ar/1g5og_venta_departamento_recoleta_juncal-al-2600_balcon_jardin_luminoso_impecable_aire-acondicionado_subte-linea-d_subte-linea-h_apto-credito-hipotecario_lepore-propiedades-palermo</td>\n",
       "      <td>RECOLETA</td>\n",
       "      <td>2.0</td>\n",
       "    </tr>\n",
       "    <tr>\n",
       "      <th>3623</th>\n",
       "      <td>2017-11-22</td>\n",
       "      <td>sell</td>\n",
       "      <td>apartment</td>\n",
       "      <td>|Argentina|Capital Federal|Recoleta|</td>\n",
       "      <td>-34.5863256,-58.3983158</td>\n",
       "      <td>-34.586326</td>\n",
       "      <td>-58.398316</td>\n",
       "      <td>410000.00</td>\n",
       "      <td>160.0</td>\n",
       "      <td>153.0</td>\n",
       "      <td>2562.500000</td>\n",
       "      <td>NaN</td>\n",
       "      <td>7.0</td>\n",
       "      <td>4980.0</td>\n",
       "      <td>https://www.properati.com.ar/1ibqd_venta_departamento_recoleta_suite_lavadero_patio_toilette_dependencias_subte-linea-h_pilar-recoleta_6nt</td>\n",
       "      <td>RECOLETA</td>\n",
       "      <td>2.0</td>\n",
       "    </tr>\n",
       "    <tr>\n",
       "      <th>16341</th>\n",
       "      <td>2018-01-08</td>\n",
       "      <td>sell</td>\n",
       "      <td>apartment</td>\n",
       "      <td>|Argentina|Capital Federal|Saavedra|</td>\n",
       "      <td>-34.552978,-58.480825</td>\n",
       "      <td>-34.552978</td>\n",
       "      <td>-58.480825</td>\n",
       "      <td>250874.00</td>\n",
       "      <td>116.0</td>\n",
       "      <td>73.0</td>\n",
       "      <td>2162.706897</td>\n",
       "      <td>NaN</td>\n",
       "      <td>3.0</td>\n",
       "      <td>NaN</td>\n",
       "      <td>https://www.properati.com.ar/1jcek_venta_departamento_saavedra_balcon_baulera_terraza_toilette_placard_aire-acondicionado_re-max-del-plata</td>\n",
       "      <td>SAAVEDRA</td>\n",
       "      <td>12.0</td>\n",
       "    </tr>\n",
       "    <tr>\n",
       "      <th>16229</th>\n",
       "      <td>2017-10-17</td>\n",
       "      <td>sell</td>\n",
       "      <td>apartment</td>\n",
       "      <td>|Argentina|Capital Federal|Saavedra|</td>\n",
       "      <td>-34.5426806,-58.4798472</td>\n",
       "      <td>-34.542681</td>\n",
       "      <td>-58.479847</td>\n",
       "      <td>68000.00</td>\n",
       "      <td>NaN</td>\n",
       "      <td>45.0</td>\n",
       "      <td>NaN</td>\n",
       "      <td>NaN</td>\n",
       "      <td>NaN</td>\n",
       "      <td>NaN</td>\n",
       "      <td>https://www.properati.com.ar/1gyno_venta_departamento_saavedra_gustavo-figueroa-asociados</td>\n",
       "      <td>SAAVEDRA</td>\n",
       "      <td>12.0</td>\n",
       "    </tr>\n",
       "    <tr>\n",
       "      <th>7641</th>\n",
       "      <td>2018-01-30</td>\n",
       "      <td>sell</td>\n",
       "      <td>apartment</td>\n",
       "      <td>|Argentina|Capital Federal|Centro / Microcentro|</td>\n",
       "      <td>-34.6000112,-58.3789057195</td>\n",
       "      <td>-34.600011</td>\n",
       "      <td>-58.378906</td>\n",
       "      <td>80000.00</td>\n",
       "      <td>25.0</td>\n",
       "      <td>25.0</td>\n",
       "      <td>3200.000000</td>\n",
       "      <td>NaN</td>\n",
       "      <td>1.0</td>\n",
       "      <td>NaN</td>\n",
       "      <td>https://www.properati.com.ar/1k8db_venta_departamento_centro-microcentro_subte-linea-d_subte-linea-b_subte-linea-c_apto-credito-hipotecario_riveros-negocios-inmobiliarios</td>\n",
       "      <td>SAN NICOLAS</td>\n",
       "      <td>1.0</td>\n",
       "    </tr>\n",
       "    <tr>\n",
       "      <th>859</th>\n",
       "      <td>2017-10-31</td>\n",
       "      <td>sell</td>\n",
       "      <td>apartment</td>\n",
       "      <td>|Argentina|Capital Federal|Palermo|</td>\n",
       "      <td>-34.5711496,-58.4232966</td>\n",
       "      <td>-34.571150</td>\n",
       "      <td>-58.423297</td>\n",
       "      <td>336877.00</td>\n",
       "      <td>67.0</td>\n",
       "      <td>49.0</td>\n",
       "      <td>5028.014925</td>\n",
       "      <td>NaN</td>\n",
       "      <td>2.0</td>\n",
       "      <td>NaN</td>\n",
       "      <td>https://www.properati.com.ar/1hmri_venta_departamento_palermo_terraza_toilette_luminoso_lujoso_garage_one-brokers-argentina</td>\n",
       "      <td>PALERMO</td>\n",
       "      <td>14.0</td>\n",
       "    </tr>\n",
       "    <tr>\n",
       "      <th>17714</th>\n",
       "      <td>2018-01-18</td>\n",
       "      <td>sell</td>\n",
       "      <td>apartment</td>\n",
       "      <td>|Argentina|Capital Federal|Paternal|</td>\n",
       "      <td>-34.601637,-58.469728</td>\n",
       "      <td>-34.601637</td>\n",
       "      <td>-58.469728</td>\n",
       "      <td>320000.00</td>\n",
       "      <td>132.0</td>\n",
       "      <td>93.0</td>\n",
       "      <td>2424.242424</td>\n",
       "      <td>NaN</td>\n",
       "      <td>4.0</td>\n",
       "      <td>NaN</td>\n",
       "      <td>https://www.properati.com.ar/1jo1l_venta_departamento_paternal_balcon_baulera_suite_parrilla_piscina_sum_luminoso_lujoso_garage_apto-credito-hipotecario_re-max-uno</td>\n",
       "      <td>PATERNAL</td>\n",
       "      <td>15.0</td>\n",
       "    </tr>\n",
       "    <tr>\n",
       "      <th>6270</th>\n",
       "      <td>2017-12-05</td>\n",
       "      <td>sell</td>\n",
       "      <td>apartment</td>\n",
       "      <td>|Argentina|Capital Federal|Caballito|</td>\n",
       "      <td>-34.6057757342,-58.452353817</td>\n",
       "      <td>-34.605776</td>\n",
       "      <td>-58.452354</td>\n",
       "      <td>126750.00</td>\n",
       "      <td>49.0</td>\n",
       "      <td>42.0</td>\n",
       "      <td>2586.734694</td>\n",
       "      <td>NaN</td>\n",
       "      <td>2.0</td>\n",
       "      <td>NaN</td>\n",
       "      <td>https://www.properati.com.ar/1ij87_venta_departamento_caballito_balcon_suite_gimnasio_piscina_sum_toilette_vestidor_luminoso_sauna_lujoso_garage_amenities_karas-propiedades</td>\n",
       "      <td>VILLA CRESPO</td>\n",
       "      <td>15.0</td>\n",
       "    </tr>\n",
       "    <tr>\n",
       "      <th>16412</th>\n",
       "      <td>2018-01-20</td>\n",
       "      <td>sell</td>\n",
       "      <td>apartment</td>\n",
       "      <td>|Argentina|Capital Federal|</td>\n",
       "      <td>-34.5434870722,-58.4795074422</td>\n",
       "      <td>-34.543487</td>\n",
       "      <td>-58.479507</td>\n",
       "      <td>NaN</td>\n",
       "      <td>NaN</td>\n",
       "      <td>NaN</td>\n",
       "      <td>NaN</td>\n",
       "      <td>NaN</td>\n",
       "      <td>NaN</td>\n",
       "      <td>NaN</td>\n",
       "      <td>https://www.properati.com.ar/1jvu8_venta_departamento_capital-federal_zapiola_4700_lavadero_parrilla_patio_toilette_luminoso_lujoso_inmuebles-hoteles</td>\n",
       "      <td>SAAVEDRA</td>\n",
       "      <td>12.0</td>\n",
       "    </tr>\n",
       "    <tr>\n",
       "      <th>13874</th>\n",
       "      <td>2018-01-20</td>\n",
       "      <td>sell</td>\n",
       "      <td>apartment</td>\n",
       "      <td>|Argentina|Capital Federal|Villa Urquiza|</td>\n",
       "      <td>-34.5663911,-58.4879287</td>\n",
       "      <td>-34.566391</td>\n",
       "      <td>-58.487929</td>\n",
       "      <td>109460.00</td>\n",
       "      <td>50.0</td>\n",
       "      <td>33.0</td>\n",
       "      <td>2189.200000</td>\n",
       "      <td>NaN</td>\n",
       "      <td>1.0</td>\n",
       "      <td>NaN</td>\n",
       "      <td>https://www.properati.com.ar/1junc_venta_departamento_villa-urquiza_balcon_patio_terraza_garage_placard_carlos-bezruk</td>\n",
       "      <td>VILLA URQUIZA</td>\n",
       "      <td>12.0</td>\n",
       "    </tr>\n",
       "  </tbody>\n",
       "</table>\n",
       "</div>"
      ],
      "text/plain": [
       "      created_on operation property_type  \\\n",
       "694   2017-10-19      sell     apartment   \n",
       "1438  2017-12-09      sell     apartment   \n",
       "7863  2018-01-19      sell     apartment   \n",
       "17256 2017-12-05      sell            PH   \n",
       "12908 2018-01-21      sell         house   \n",
       "9486  2017-09-16      sell     apartment   \n",
       "18941 2018-01-20      sell     apartment   \n",
       "14753 2017-10-12      sell     apartment   \n",
       "13868 2018-01-19      sell     apartment   \n",
       "5255  2018-01-19      sell     apartment   \n",
       "3141  2017-10-11      sell     apartment   \n",
       "3623  2017-11-22      sell     apartment   \n",
       "16341 2018-01-08      sell     apartment   \n",
       "16229 2017-10-17      sell     apartment   \n",
       "7641  2018-01-30      sell     apartment   \n",
       "859   2017-10-31      sell     apartment   \n",
       "17714 2018-01-18      sell     apartment   \n",
       "6270  2017-12-05      sell     apartment   \n",
       "16412 2018-01-20      sell     apartment   \n",
       "13874 2018-01-20      sell     apartment   \n",
       "\n",
       "                                     place_with_parent_names  \\\n",
       "694                      |Argentina|Capital Federal|Palermo|   \n",
       "1438   |Argentina|Capital Federal|Palermo|Palermo Hollywood|   \n",
       "7863                    |Argentina|Capital Federal|Floresta|   \n",
       "17256                 |Argentina|Capital Federal|Villa Luro|   \n",
       "12908                     |Argentina|Capital Federal|Flores|   \n",
       "9486                    |Argentina|Capital Federal|Belgrano|   \n",
       "18941           |Argentina|Capital Federal|Villa Pueyrredón|   \n",
       "14753                    |Argentina|Capital Federal|Almagro|   \n",
       "13868              |Argentina|Capital Federal|Villa Urquiza|   \n",
       "5255                   |Argentina|Capital Federal|Balvanera|   \n",
       "3141                    |Argentina|Capital Federal|Recoleta|   \n",
       "3623                    |Argentina|Capital Federal|Recoleta|   \n",
       "16341                   |Argentina|Capital Federal|Saavedra|   \n",
       "16229                   |Argentina|Capital Federal|Saavedra|   \n",
       "7641        |Argentina|Capital Federal|Centro / Microcentro|   \n",
       "859                      |Argentina|Capital Federal|Palermo|   \n",
       "17714                   |Argentina|Capital Federal|Paternal|   \n",
       "6270                   |Argentina|Capital Federal|Caballito|   \n",
       "16412                            |Argentina|Capital Federal|   \n",
       "13874              |Argentina|Capital Federal|Villa Urquiza|   \n",
       "\n",
       "                             lat-lon        lat        lon  price_aprox_usd  \\\n",
       "694          -34.5779953,-58.4233068 -34.577995 -58.423307         79500.00   \n",
       "1438   -34.5869524323,-58.4378133931 -34.586952 -58.437813        220000.00   \n",
       "7863           -34.634015,-58.483239 -34.634015 -58.483239        250000.00   \n",
       "17256         -34.641008,-58.4896935 -34.641008 -58.489694        170000.00   \n",
       "12908           -34.642636,-58.46558 -34.642636 -58.465580        315000.00   \n",
       "9486           -34.558519,-58.443558 -34.558519 -58.443558        146385.83   \n",
       "18941         -34.577302,-58.5084239 -34.577302 -58.508424        150860.00   \n",
       "14753        -34.6101816,-58.4249856 -34.610182 -58.424986         85500.00   \n",
       "13868        -34.5778717,-58.4831232 -34.577872 -58.483123        267000.00   \n",
       "5255         -34.6101223,-58.4059406 -34.610122 -58.405941        111000.00   \n",
       "3141         -34.5899605,-58.4037776 -34.589960 -58.403778        250000.00   \n",
       "3623         -34.5863256,-58.3983158 -34.586326 -58.398316        410000.00   \n",
       "16341          -34.552978,-58.480825 -34.552978 -58.480825        250874.00   \n",
       "16229        -34.5426806,-58.4798472 -34.542681 -58.479847         68000.00   \n",
       "7641      -34.6000112,-58.3789057195 -34.600011 -58.378906         80000.00   \n",
       "859          -34.5711496,-58.4232966 -34.571150 -58.423297        336877.00   \n",
       "17714          -34.601637,-58.469728 -34.601637 -58.469728        320000.00   \n",
       "6270    -34.6057757342,-58.452353817 -34.605776 -58.452354        126750.00   \n",
       "16412  -34.5434870722,-58.4795074422 -34.543487 -58.479507              NaN   \n",
       "13874        -34.5663911,-58.4879287 -34.566391 -58.487929        109460.00   \n",
       "\n",
       "       surface_total_in_m2  surface_covered_in_m2  price_usd_per_m2  floor  \\\n",
       "694                   22.0                   22.0       3613.636364    NaN   \n",
       "1438                 102.0                   42.0       2156.862745    NaN   \n",
       "7863                 121.0                  121.0       2066.115702   10.0   \n",
       "17256                152.0                  100.0       1118.421053    NaN   \n",
       "12908                200.0                  200.0       1575.000000    NaN   \n",
       "9486                  42.0                   33.0       3485.376905    NaN   \n",
       "18941                 90.0                   72.0       1676.222222    NaN   \n",
       "14753                 38.0                   35.0       2250.000000    1.0   \n",
       "13868                 89.0                   69.0       3000.000000    NaN   \n",
       "5255                  43.0                   38.0       2581.395349    NaN   \n",
       "3141                  83.0                   74.0       3012.048193    7.0   \n",
       "3623                 160.0                  153.0       2562.500000    NaN   \n",
       "16341                116.0                   73.0       2162.706897    NaN   \n",
       "16229                  NaN                   45.0               NaN    NaN   \n",
       "7641                  25.0                   25.0       3200.000000    NaN   \n",
       "859                   67.0                   49.0       5028.014925    NaN   \n",
       "17714                132.0                   93.0       2424.242424    NaN   \n",
       "6270                  49.0                   42.0       2586.734694    NaN   \n",
       "16412                  NaN                    NaN               NaN    NaN   \n",
       "13874                 50.0                   33.0       2189.200000    NaN   \n",
       "\n",
       "       rooms  expenses  \\\n",
       "694      1.0    1800.0   \n",
       "1438     2.0       NaN   \n",
       "7863     4.0       NaN   \n",
       "17256    4.0       NaN   \n",
       "12908    6.0       NaN   \n",
       "9486     1.0       NaN   \n",
       "18941    2.0       NaN   \n",
       "14753    NaN       NaN   \n",
       "13868    3.0       NaN   \n",
       "5255     2.0       NaN   \n",
       "3141     NaN    3100.0   \n",
       "3623     7.0    4980.0   \n",
       "16341    3.0       NaN   \n",
       "16229    NaN       NaN   \n",
       "7641     1.0       NaN   \n",
       "859      2.0       NaN   \n",
       "17714    4.0       NaN   \n",
       "6270     2.0       NaN   \n",
       "16412    NaN       NaN   \n",
       "13874    1.0       NaN   \n",
       "\n",
       "                                                                                                                                                                                                           properati_url  \\\n",
       "694                                                              https://www.properati.com.ar/1h51s_venta_departamento_palermo_fray-justo-santamaria-de-oro_2600_luminoso_subte-linea-d_baigun-operaciones-inmobiliarias   \n",
       "1438                                                                        https://www.properati.com.ar/1iv7r_venta_departamento_palermo-hollywood_patio_terraza_luminoso_garage_feli-mackinlay-broker-inmobiliario_dui   \n",
       "7863                                                                                                    https://www.properati.com.ar/1jp5r_venta_departamento_floresta_balcon_baulera_jardin_luminoso_garage_re-max-life   \n",
       "17256                                                                                          https://www.properati.com.ar/1inz7_venta_ph_villa-luro_balcon_lavadero_parrilla_quincho_terraza_claudio-parra-propiedades   \n",
       "12908                                   https://www.properati.com.ar/1k10t_venta_casa_flores_lavadero_parrilla_patio_toilette_garage_impecable_placard_aire-acondicionado_subte-linea-e_subte-premetro_re-max-premium-ii   \n",
       "9486                                                                                                                                  https://www.properati.com.ar/1evv1_venta_departamento_belgrano_toribio-achaval_e6w   \n",
       "18941                                                                      https://www.properati.com.ar/1jyue_venta_departamento_villa-pueyrredon_suite_patio_toilette_garage_aire-acondicionado_century-21-republicador   \n",
       "14753                                                                               https://www.properati.com.ar/1g8wr_venta_departamento_almagro_mitre-bartolome-al-4100_balcon_garage_subte-linea-a_lepore-propiedades   \n",
       "13868                                                                              https://www.properati.com.ar/1jtgb_venta_departamento_villa-urquiza_balcon_suite_lavadero_patio_garage_impecable_subte-linea-b_valjor   \n",
       "5255                                                  https://www.properati.com.ar/1jrm9_venta_departamento_balvanera_luminoso_garage_amenities_subte-linea-b_subte-linea-a_subte-linea-h_riveros-negocios-inmobiliarios   \n",
       "3141   https://www.properati.com.ar/1g5og_venta_departamento_recoleta_juncal-al-2600_balcon_jardin_luminoso_impecable_aire-acondicionado_subte-linea-d_subte-linea-h_apto-credito-hipotecario_lepore-propiedades-palermo   \n",
       "3623                                                                          https://www.properati.com.ar/1ibqd_venta_departamento_recoleta_suite_lavadero_patio_toilette_dependencias_subte-linea-h_pilar-recoleta_6nt   \n",
       "16341                                                                         https://www.properati.com.ar/1jcek_venta_departamento_saavedra_balcon_baulera_terraza_toilette_placard_aire-acondicionado_re-max-del-plata   \n",
       "16229                                                                                                                          https://www.properati.com.ar/1gyno_venta_departamento_saavedra_gustavo-figueroa-asociados   \n",
       "7641                                          https://www.properati.com.ar/1k8db_venta_departamento_centro-microcentro_subte-linea-d_subte-linea-b_subte-linea-c_apto-credito-hipotecario_riveros-negocios-inmobiliarios   \n",
       "859                                                                                          https://www.properati.com.ar/1hmri_venta_departamento_palermo_terraza_toilette_luminoso_lujoso_garage_one-brokers-argentina   \n",
       "17714                                                https://www.properati.com.ar/1jo1l_venta_departamento_paternal_balcon_baulera_suite_parrilla_piscina_sum_luminoso_lujoso_garage_apto-credito-hipotecario_re-max-uno   \n",
       "6270                                        https://www.properati.com.ar/1ij87_venta_departamento_caballito_balcon_suite_gimnasio_piscina_sum_toilette_vestidor_luminoso_sauna_lujoso_garage_amenities_karas-propiedades   \n",
       "16412                                                              https://www.properati.com.ar/1jvu8_venta_departamento_capital-federal_zapiola_4700_lavadero_parrilla_patio_toilette_luminoso_lujoso_inmuebles-hoteles   \n",
       "13874                                                                                              https://www.properati.com.ar/1junc_venta_departamento_villa-urquiza_balcon_patio_terraza_garage_placard_carlos-bezruk   \n",
       "\n",
       "                 barrio  comuna  \n",
       "694             PALERMO    14.0  \n",
       "1438            PALERMO    14.0  \n",
       "7863    VELEZ SARSFIELD    10.0  \n",
       "17256        VILLA LURO    10.0  \n",
       "12908            FLORES     7.0  \n",
       "9486           BELGRANO    13.0  \n",
       "18941  VILLA PUEYRREDON    12.0  \n",
       "14753           ALMAGRO     5.0  \n",
       "13868     VILLA URQUIZA    12.0  \n",
       "5255          BALVANERA     3.0  \n",
       "3141           RECOLETA     2.0  \n",
       "3623           RECOLETA     2.0  \n",
       "16341          SAAVEDRA    12.0  \n",
       "16229          SAAVEDRA    12.0  \n",
       "7641        SAN NICOLAS     1.0  \n",
       "859             PALERMO    14.0  \n",
       "17714          PATERNAL    15.0  \n",
       "6270       VILLA CRESPO    15.0  \n",
       "16412          SAAVEDRA    12.0  \n",
       "13874     VILLA URQUIZA    12.0  "
      ]
     },
     "execution_count": 6,
     "metadata": {},
     "output_type": "execute_result"
    }
   ],
   "source": [
    "# Filtrá el dataframe en esta celda\n",
    "paso1 = df['property_type']!='store'\n",
    "df_filtered = df[paso1]\n",
    "df_filtered['property_type'].value_counts()\n",
    "df_filtered.sample(20)"
   ]
  },
  {
   "cell_type": "markdown",
   "metadata": {},
   "source": [
    "### Visualizando las categorías\n",
    "**5)** Utilizando `seaborn` **creá un countplot** para visualizar las categorías de `df_filtered` en el campo `property_type` "
   ]
  },
  {
   "cell_type": "code",
   "execution_count": 7,
   "metadata": {},
   "outputs": [
    {
     "data": {
      "image/png": "[encoded data removed]",
      "text/plain": [
       "<Figure size 864x576 with 1 Axes>"
      ]
     },
     "metadata": {},
     "output_type": "display_data"
    }
   ],
   "source": [
    "# Visualizá las categorías en esta celda\n",
    "sns.set(style ='darkgrid')\n",
    "grafica_property = sns.countplot(x = df_filtered['property_type'],data =df_filtered)\n",
    "\n",
    "\n"
   ]
  },
  {
   "cell_type": "markdown",
   "metadata": {},
   "source": [
    "## Valores Faltantes"
   ]
  },
  {
   "cell_type": "markdown",
   "metadata": {},
   "source": [
    "Vamos a querer descartar aquellas instancias que tengan valores nulos en columnas importantes para el análisis del mercado.\n",
    "Estas columnas son las que informan **superficie (total o cubierta)**, **cantidad de ambientes**, **precio** y **precio por metro cuadrado**.\n",
    "\n",
    "**6) Quitá** del `dataframe` las instancias que no tengan ningún valor en los campos nombrados."
   ]
  },
  {
   "cell_type": "code",
   "execution_count": 8,
   "metadata": {},
   "outputs": [
    {
     "data": {
      "text/plain": [
       "(17086, 17)"
      ]
     },
     "execution_count": 8,
     "metadata": {},
     "output_type": "execute_result"
    }
   ],
   "source": [
    "# Quitá las instancias con valores nules en esta celda\n",
    "df_filtered2 = df_filtered.dropna(how='all',subset=['price_usd_per_m2','rooms','price_aprox_usd'\n",
    "                                          ,'surface_total_in_m2','surface_covered_in_m2'])\n",
    "df_filtered2.shape"
   ]
  },
  {
   "cell_type": "markdown",
   "metadata": {},
   "source": [
    "**7)** A continuación **mostrá** cuantas instancias son las que descartaste a partir de quitar las que tenían valores nulos."
   ]
  },
  {
   "cell_type": "code",
   "execution_count": 9,
   "metadata": {},
   "outputs": [
    {
     "name": "stdout",
     "output_type": "stream",
     "text": [
      "Instancias descartadas: 802\n"
     ]
    }
   ],
   "source": [
    "# Mostrá en esta celda la cantidad de instancias descartadas\n",
    "print(\"Instancias descartadas: \" + str(df_filtered.shape[0]-df_filtered2.shape[0]))"
   ]
  },
  {
   "cell_type": "markdown",
   "metadata": {},
   "source": [
    "Posiblemente existan otros atributos con valores faltantes en el dataset, pero que no son de tanta importancia. \n",
    "\n",
    "**8) Mostrá** qué otros atributos tienen valores faltantes en el `dataframe`."
   ]
  },
  {
   "cell_type": "code",
   "execution_count": 10,
   "metadata": {},
   "outputs": [
    {
     "name": "stdout",
     "output_type": "stream",
     "text": [
      "Atributos que contienen algun nan\n",
      "--->['price_aprox_usd', 'surface_total_in_m2', 'surface_covered_in_m2', 'price_usd_per_m2', 'floor', 'rooms', 'expenses']\n"
     ]
    }
   ],
   "source": [
    "# Mostrá en esta celda los otros atributos con valores faltantes\n",
    "\n",
    "paso3 = df_filtered2.isna().any()\n",
    "paso4 = df_filtered2.columns[paso3].tolist() #muestra otras atributos que en ellas se encuentra algun valor nan\n",
    "print(\"Atributos que contienen algun nan\\n--->\" + str(paso4))\n",
    "\n"
   ]
  },
  {
   "cell_type": "markdown",
   "metadata": {},
   "source": [
    "#### Desafío: planteá alguna estrategia posible para reemplazar los valores faltantes en el atributo `surface_total_in_m2`."
   ]
  },
  {
   "cell_type": "code",
   "execution_count": 11,
   "metadata": {},
   "outputs": [],
   "source": [
    "var0 = df_filtered2.loc[pd.isnull(df_filtered2.surface_total_in_m2),]['barrio'].unique().tolist()\n",
    "var1 = df_filtered2.dropna(subset=['price_usd_per_m2','rooms','price_aprox_usd'\n",
    "                                          ,'surface_total_in_m2','surface_covered_in_m2'])# 1 separo barrios 2 tiro los nan en los q no necesito 3 index por barrio y 4 saco el mean \n",
    "var1 = var1[['property_type','price_aprox_usd','surface_total_in_m2','price_usd_per_m2','barrio']]\n",
    "var1.isna().any() #no hay valores nulos\n",
    "var1.set_index('barrio',inplace=True) \n",
    "#var1.loc[var0[3]].describe().loc['mean','price_usd_per_m2']"
   ]
  },
  {
   "cell_type": "code",
   "execution_count": 12,
   "metadata": {},
   "outputs": [
    {
     "data": {
      "image/png": "[encoded data removed]",
      "text/plain": [
       "<Figure size 864x576 with 1 Axes>"
      ]
     },
     "metadata": {},
     "output_type": "display_data"
    }
   ],
   "source": [
    "var1.loc['PALERMO'].plot(kind='scatter',x='surface_total_in_m2',y='price_aprox_usd',color='red')\n",
    "plt.show()"
   ]
  },
  {
   "cell_type": "code",
   "execution_count": null,
   "metadata": {},
   "outputs": [],
   "source": []
  },
  {
   "cell_type": "code",
   "execution_count": null,
   "metadata": {},
   "outputs": [],
   "source": [
    "#nomio\n",
    "''''df_filtered2['surface_total_in_m2'] = df_filtered2['surface_total_in_m2'].\n",
    "fillna(df_filtered2.groupby(\"barrio\", \"property_type\"])[\"surface_total_in_m2\"].transform(\"median\"))\n",
    "df_filtered2.isna().any()"
   ]
  },
  {
   "cell_type": "code",
   "execution_count": null,
   "metadata": {},
   "outputs": [],
   "source": [
    "\"\"\"\n",
    "Filtrá el dataframe en esta celda\n",
    "def isHoseApartmentPH(property):\n",
    "  return ((property == 'house') |\n",
    "          (property == 'apartment') | \n",
    "          (property == 'PH'))\n",
    "\n",
    "df_filtered = df[isHoseApartmentPH(df['property_type'])]\n",
    "df_filtered.shape\n",
    "\"\"\""
   ]
  },
  {
   "cell_type": "code",
   "execution_count": null,
   "metadata": {},
   "outputs": [],
   "source": []
  },
  {
   "cell_type": "markdown",
   "metadata": {},
   "source": [
    "## Datos erróneos"
   ]
  },
  {
   "cell_type": "markdown",
   "metadata": {},
   "source": [
    "El siguiente paso es analizar errores que puede llegar a haber en el dataset. \n",
    "\n",
    "Por ejemplo, la **superficie total no puede ser menor que la cubierta**. Si esto sucede, podemos optar por eliminar esas filas o intentar corregir el problema. Veamos en primer lugar si esto sucede.\n",
    "\n",
    "**9) Mostrá** cuantas instancias existen que tengan el problema de este dato erróneo y guardalas en una variable llamada `wrong_surface_rows`"
   ]
  },
  {
   "cell_type": "code",
   "execution_count": 13,
   "metadata": {},
   "outputs": [
    {
     "data": {
      "text/plain": [
       "(10211, 17)"
      ]
     },
     "execution_count": 13,
     "metadata": {},
     "output_type": "execute_result"
    }
   ],
   "source": [
    "# Mostrá en esta celda cuántas instancias tienen errores en la superficie\n",
    "\n",
    "wrong_surface_rows = df_filtered2.loc[df_filtered2['surface_total_in_m2']>df_filtered2['surface_covered_in_m2']]\n",
    "wrong_surface_rows.shape"
   ]
  },
  {
   "cell_type": "markdown",
   "metadata": {},
   "source": [
    "Proponemos no borrar estas instancias erróneas, sino intercambiar los valores de **superficie total** con **superficie cubierta** en caso de que se cumpla la condición mencionada."
   ]
  },
  {
   "cell_type": "code",
   "execution_count": 14,
   "metadata": {},
   "outputs": [
    {
     "name": "stderr",
     "output_type": "stream",
     "text": [
      "C:\\Users\\user\\Anaconda3\\envs\\AcamicaDs1\\lib\\site-packages\\pandas\\core\\indexing.py:543: SettingWithCopyWarning: \n",
      "A value is trying to be set on a copy of a slice from a DataFrame.\n",
      "Try using .loc[row_indexer,col_indexer] = value instead\n",
      "\n",
      "See the caveats in the documentation: http://pandas.pydata.org/pandas-docs/stable/indexing.html#indexing-view-versus-copy\n",
      "  self.obj[item] = s\n"
     ]
    }
   ],
   "source": [
    "df_filtered2.at[wrong_surface_rows.index, 'surface_total_in_m2'] = wrong_surface_rows.surface_covered_in_m2\n",
    "df_filtered2.at[wrong_surface_rows.index, 'surface_covered_in_m2'] = wrong_surface_rows.surface_total_in_m2"
   ]
  },
  {
   "cell_type": "code",
   "execution_count": null,
   "metadata": {},
   "outputs": [],
   "source": [
    "df_filtered2"
   ]
  },
  {
   "cell_type": "markdown",
   "metadata": {},
   "source": [
    "Por otro lado, sucede que las inmobiliarias cuando no cuentan con las coordenadas reales de las propiedades utilizan valores que no son correctos. Por ejemplo, el punto centro de cada barrio o puntos de interés como el Obelisco. Esto puede afectar el análisis relacionado con la ubicación de cada propiedad.\n",
    "\n",
    "Veamos en primer lugar si hay coordenadas que se repiten."
   ]
  },
  {
   "cell_type": "code",
   "execution_count": 15,
   "metadata": {},
   "outputs": [
    {
     "data": {
      "text/plain": [
       "lat         lon       \n",
       "-34.589546  -58.397364    155\n",
       "-34.571150  -58.423297    127\n",
       "-34.562084  -58.456686     87\n",
       "-34.620928  -58.445874     49\n",
       "-34.609821  -58.392606     44\n",
       "-34.622973  -58.439913     41\n",
       "-34.608608  -58.448515     40\n",
       "-34.603771  -58.381587     36\n",
       "-34.617719  -58.362056     36\n",
       "-34.610122  -58.405941     32\n",
       "dtype: int64"
      ]
     },
     "execution_count": 15,
     "metadata": {},
     "output_type": "execute_result"
    }
   ],
   "source": [
    "conteo_puntos = df_filtered2.groupby(['lat', 'lon']).size()\n",
    "conteo_puntos[conteo_puntos > 1].sort_values(ascending=False).head(10)"
   ]
  },
  {
   "cell_type": "markdown",
   "metadata": {},
   "source": [
    "Por ejemplo, para el caso del tercer punto, se puede verificar que corresponde a la esquina de Av. Cabildo y Juramento.\n",
    "Nos quedamos entonces con las propiedades con coordenadas que se repitan hasta 5 veces."
   ]
  },
  {
   "cell_type": "code",
   "execution_count": 16,
   "metadata": {},
   "outputs": [],
   "source": [
    "conteo_puntos.name = 'conteo'\n",
    "\n",
    "df_filtered2 = df_filtered2.join(conteo_puntos, on=['lat', 'lon'])\n",
    "\n",
    "df_filtered2 = df_filtered2[df_filtered2.conteo <= 5]"
   ]
  },
  {
   "cell_type": "markdown",
   "metadata": {},
   "source": [
    "Eliminamos el atributo `conteo` dado que ya no nos sirve."
   ]
  },
  {
   "cell_type": "code",
   "execution_count": 17,
   "metadata": {},
   "outputs": [],
   "source": [
    "df_filtered2.drop('conteo', inplace=True, axis=1)"
   ]
  },
  {
   "cell_type": "code",
   "execution_count": null,
   "metadata": {},
   "outputs": [],
   "source": [
    "df_filtered2.shape"
   ]
  },
  {
   "cell_type": "markdown",
   "metadata": {},
   "source": [
    "## Estudiando los barrios"
   ]
  },
  {
   "cell_type": "markdown",
   "metadata": {},
   "source": [
    "### Barrios con más edificios y barrios con más casas\n",
    "Al saber qué barrios son los que tienen más cantidad de edificios en venta y cuáles son los que tienen más casas podemos darnos una idea de qué tipo de barrio es. Si es más residencial, con más población, poder adquisitivo, etc. \n",
    "Para eso vamos a empezar calculando los porcentajes de cada tipo de propiedad según el barrio."
   ]
  },
  {
   "cell_type": "code",
   "execution_count": 18,
   "metadata": {},
   "outputs": [],
   "source": [
    "total_propiedades = df_filtered2.groupby('barrio')['property_type'].count().values"
   ]
  },
  {
   "cell_type": "code",
   "execution_count": 20,
   "metadata": {},
   "outputs": [],
   "source": [
    "porcentaje_casas_ph = df_filtered2[df_filtered2.property_type.isin(['PH', 'house'])].groupby('barrio').count().property_type/total_propiedades\n",
    "porcentaje_edificios = df_filtered2[df_filtered2.property_type == 'apartment'].groupby('barrio').count().property_type/total_propiedades"
   ]
  },
  {
   "cell_type": "code",
   "execution_count": 21,
   "metadata": {},
   "outputs": [
    {
     "name": "stdout",
     "output_type": "stream",
     "text": [
      "Barrios con mayor porcentaje de edificios: \n",
      " barrio\n",
      "PUERTO MADERO    0.992537\n",
      "RETIRO           0.979716\n",
      "SAN NICOLAS      0.977778\n",
      "RECOLETA         0.972012\n",
      "BELGRANO         0.921360\n",
      "Name: property_type, dtype: float64\n",
      "Barrios con mayor porcentaje de casas y phs: \n",
      "  barrio\n",
      "VILLA RIACHUELO      0.739130\n",
      "VERSALLES            0.666667\n",
      "MATADEROS            0.613636\n",
      "PARQUE AVELLANEDA    0.608696\n",
      "VILLA REAL           0.574468\n",
      "Name: property_type, dtype: float64\n"
     ]
    }
   ],
   "source": [
    "print(\"Barrios con mayor porcentaje de edificios: \\n\", porcentaje_edificios.sort_values()[::-1][:5])\n",
    "print(\"Barrios con mayor porcentaje de casas y phs: \\n \", porcentaje_casas_ph.sort_values()[::-1][:5])"
   ]
  },
  {
   "cell_type": "markdown",
   "metadata": {},
   "source": [
    "Para darnos una idea de las diferencias entre los porcentajes de edificios y casas en estos barrios, vamos a graficarlos\n",
    "en forma de torta."
   ]
  },
  {
   "cell_type": "code",
   "execution_count": 22,
   "metadata": {},
   "outputs": [
    {
     "data": {
      "text/plain": [
       "<matplotlib.axes._subplots.AxesSubplot at 0x1f387b00dd8>"
      ]
     },
     "execution_count": 22,
     "metadata": {},
     "output_type": "execute_result"
    },
    {
     "data": {
      "image/png": "[encoded data removed]",
      "text/plain": [
       "<Figure size 1008x504 with 2 Axes>"
      ]
     },
     "metadata": {},
     "output_type": "display_data"
    }
   ],
   "source": [
    "barrios_casas = porcentaje_casas_ph.sort_values()[::-1][:5].index\n",
    "barrios_edificios = porcentaje_edificios.sort_values()[::-1][:5].index\n",
    "fig, axs = plt.subplots(1,2,figsize=(14,7))\n",
    "df_filtered2[df_filtered2.barrio.isin(barrios_edificios)].property_type.value_counts().plot(x=None,y=None, kind='pie', startangle=30, ax=axs[0],autopct='%1.2f%%')\n",
    "df_filtered2[df_filtered2.barrio.isin(barrios_casas)].property_type.value_counts().plot(x=None,y=None, kind='pie', ax=axs[1],autopct='%1.2f%%')"
   ]
  },
  {
   "cell_type": "markdown",
   "metadata": {},
   "source": [
    "### Barrios más caros y más baratos"
   ]
  },
  {
   "cell_type": "markdown",
   "metadata": {},
   "source": [
    "Veamos primero la distribución del precio por metro cuadrado para todo el dataset. De esta manera, vamos a remover valores que consideremos extremos.\n",
    "\n",
    "En el siguiente proyecto vamos a volver sobre este tema con más profundidad.\n",
    "\n",
    "**10)** Tomando el atributo `price_usd_per_m2` **calculá** su **mínimo**, **máximo**, **promedio (mean)**, **mediana (median)** y **desvío estándar (std)**"
   ]
  },
  {
   "cell_type": "code",
   "execution_count": 32,
   "metadata": {},
   "outputs": [
    {
     "name": "stdout",
     "output_type": "stream",
     "text": [
      "Minimo: 0.9583333333333334\n",
      "Máximo: 142450.14102564106\n",
      "Promedio: 2712.6055908857957\n",
      "Mediana: 2519.4725311762722\n",
      "Desvío estándar: 1929.6427712366078\n"
     ]
    }
   ],
   "source": [
    "# Mostrá en esta celda los cálculos asdasdasdasd\n",
    "print(\"Minimo: {}\".format(df_filtered2['price_usd_per_m2'].min()))\n",
    "print(\"Máximo: {}\".format(df_filtered2['price_usd_per_m2'].max()))\n",
    "print(\"Promedio: {}\".format(df_filtered2['price_usd_per_m2'].mean()))\n",
    "print(\"Mediana: {}\".format(df_filtered2['price_usd_per_m2'].median()))\n",
    "print(\"Desvío estándar: {}\".format(df_filtered2['price_usd_per_m2'].std()))"
   ]
  },
  {
   "cell_type": "markdown",
   "metadata": {},
   "source": [
    "También podemos calcular otros estadísticos como los cuartiles. \n",
    "\n",
    "**11) Mostrá** el **primer y tercer cuartil** y luego también el **rango intercuartilíco**"
   ]
  },
  {
   "cell_type": "code",
   "execution_count": 33,
   "metadata": {},
   "outputs": [
    {
     "name": "stdout",
     "output_type": "stream",
     "text": [
      "Primer cuartil: 2122.5\n",
      "Tercer cuartil: 3015.151515151515\n",
      "Rango intercuartilíco: 892.651515151515\n"
     ]
    }
   ],
   "source": [
    "# Mostrá los cuartiles en esta celda CAMBIAR\n",
    "first_quartile, third_quartile = df_filtered['price_usd_per_m2'].quantile([0.25, 0.75])\n",
    "iqr = third_quartile - first_quartile\n",
    "print(\"Primer cuartil: {}\\nTercer cuartil: {}\\nRango intercuartilíco: {}\".format(first_quartile, third_quartile, iqr))"
   ]
  },
  {
   "cell_type": "code",
   "execution_count": 34,
   "metadata": {},
   "outputs": [
    {
     "data": {
      "text/plain": [
       "count     12984.000000\n",
       "mean       2712.605591\n",
       "std        1929.642771\n",
       "min           0.958333\n",
       "25%        1965.431463\n",
       "50%        2519.472531\n",
       "75%        3139.534884\n",
       "max      142450.141026\n",
       "Name: price_usd_per_m2, dtype: float64"
      ]
     },
     "execution_count": 34,
     "metadata": {},
     "output_type": "execute_result"
    }
   ],
   "source": [
    "df_filtered2['price_usd_per_m2'].describe()"
   ]
  },
  {
   "cell_type": "code",
   "execution_count": null,
   "metadata": {},
   "outputs": [],
   "source": [
    "df_filtered2.shape"
   ]
  },
  {
   "cell_type": "markdown",
   "metadata": {},
   "source": [
    "### Quitando valores extremos\n",
    "Eliminemos aquellas observaciones cuyo precio por metro cuadrado este fuera de los percentiles 10 y 90. De este modo intentaremos remover valores extremos de una manera sencilla para tener un análisis más robusto."
   ]
  },
  {
   "cell_type": "code",
   "execution_count": null,
   "metadata": {},
   "outputs": [],
   "source": [
    "#p10 = np.percentile(df_filtered2.price_usd_per_m2, 10)\n",
    "#p90 = np.percentile(df_filtered2.price_usd_per_m2, 90)\n",
    "#df_filtered2 = df_filtered2[(df_filtered2.price_usd_per_m2 >= p10) & (df_filtered2.price_usd_per_m2 <= p90)]"
   ]
  },
  {
   "cell_type": "code",
   "execution_count": 35,
   "metadata": {},
   "outputs": [],
   "source": [
    "p10, p90 = df_filtered['price_usd_per_m2'].quantile([0.10, 0.90])\n",
    "df_filtered = df_filtered[(df_filtered.price_usd_per_m2 >= p10) & (df_filtered.price_usd_per_m2 <= p90)]"
   ]
  },
  {
   "cell_type": "code",
   "execution_count": null,
   "metadata": {},
   "outputs": [],
   "source": []
  },
  {
   "cell_type": "code",
   "execution_count": null,
   "metadata": {},
   "outputs": [],
   "source": []
  },
  {
   "cell_type": "markdown",
   "metadata": {},
   "source": [
    "A partir de quitar estos valores van a cambiar los estadísticos que calculamos.\n",
    "\n",
    "**12) Volvé a calcular** los mismos estadísticos (min, max, promedio, etc) para ver los cambios.\n",
    "¿Por qué será que la **mediana** no cambia?"
   ]
  },
  {
   "cell_type": "code",
   "execution_count": 37,
   "metadata": {},
   "outputs": [
    {
     "data": {
      "text/plain": [
       "count     12984.000000\n",
       "mean       2712.605591\n",
       "std        1929.642771\n",
       "min           0.958333\n",
       "25%        1965.431463\n",
       "50%        2519.472531\n",
       "75%        3139.534884\n",
       "max      142450.141026\n",
       "Name: price_usd_per_m2, dtype: float64"
      ]
     },
     "execution_count": 37,
     "metadata": {},
     "output_type": "execute_result"
    }
   ],
   "source": [
    "# Realizá los calculos en esta celda\n",
    "df_filtered2['price_usd_per_m2'].describe()"
   ]
  },
  {
   "cell_type": "code",
   "execution_count": null,
   "metadata": {},
   "outputs": [],
   "source": []
  },
  {
   "cell_type": "markdown",
   "metadata": {},
   "source": [
    "Vamos a graficar ahora los barrios según el precio por metro cuadrado."
   ]
  },
  {
   "cell_type": "code",
   "execution_count": 38,
   "metadata": {},
   "outputs": [
    {
     "data": {
      "image/png": "[encoded data removed]",
      "text/plain": [
       "<Figure size 864x576 with 1 Axes>"
      ]
     },
     "metadata": {},
     "output_type": "display_data"
    }
   ],
   "source": [
    "plt.xticks(rotation = 90)\n",
    "barrios = df_filtered2.groupby('barrio').mean().sort_values('price_usd_per_m2', ascending=False).index\n",
    "sns.barplot(x=\"barrio\", y=\"price_usd_per_m2\", order=barrios, data=df_filtered2);"
   ]
  },
  {
   "cell_type": "markdown",
   "metadata": {},
   "source": [
    "#### Más caros"
   ]
  },
  {
   "cell_type": "code",
   "execution_count": 39,
   "metadata": {},
   "outputs": [
    {
     "data": {
      "text/html": [
       "<div>\n",
       "<style scoped>\n",
       "    .dataframe tbody tr th:only-of-type {\n",
       "        vertical-align: middle;\n",
       "    }\n",
       "\n",
       "    .dataframe tbody tr th {\n",
       "        vertical-align: top;\n",
       "    }\n",
       "\n",
       "    .dataframe thead th {\n",
       "        text-align: right;\n",
       "    }\n",
       "</style>\n",
       "<table border=\"1\" class=\"dataframe\">\n",
       "  <thead>\n",
       "    <tr style=\"text-align: right;\">\n",
       "      <th></th>\n",
       "      <th>price_usd_per_m2</th>\n",
       "    </tr>\n",
       "    <tr>\n",
       "      <th>barrio</th>\n",
       "      <th></th>\n",
       "    </tr>\n",
       "  </thead>\n",
       "  <tbody>\n",
       "    <tr>\n",
       "      <th>PUERTO MADERO</th>\n",
       "      <td>6156.633183</td>\n",
       "    </tr>\n",
       "    <tr>\n",
       "      <th>PALERMO</th>\n",
       "      <td>3632.057960</td>\n",
       "    </tr>\n",
       "    <tr>\n",
       "      <th>RETIRO</th>\n",
       "      <td>3417.635657</td>\n",
       "    </tr>\n",
       "    <tr>\n",
       "      <th>RECOLETA</th>\n",
       "      <td>3346.748987</td>\n",
       "    </tr>\n",
       "    <tr>\n",
       "      <th>BELGRANO</th>\n",
       "      <td>3338.725206</td>\n",
       "    </tr>\n",
       "  </tbody>\n",
       "</table>\n",
       "</div>"
      ],
      "text/plain": [
       "               price_usd_per_m2\n",
       "barrio                         \n",
       "PUERTO MADERO       6156.633183\n",
       "PALERMO             3632.057960\n",
       "RETIRO              3417.635657\n",
       "RECOLETA            3346.748987\n",
       "BELGRANO            3338.725206"
      ]
     },
     "execution_count": 39,
     "metadata": {},
     "output_type": "execute_result"
    }
   ],
   "source": [
    "table = pd.pivot_table(df, values='price_usd_per_m2', index=['barrio'], aggfunc=np.mean)\n",
    "mas_caros = table.sort_values('price_usd_per_m2', ascending=False).iloc[:5]\n",
    "mas_caros"
   ]
  },
  {
   "cell_type": "markdown",
   "metadata": {},
   "source": [
    "#### Más baratos"
   ]
  },
  {
   "cell_type": "code",
   "execution_count": 40,
   "metadata": {},
   "outputs": [
    {
     "data": {
      "text/html": [
       "<div>\n",
       "<style scoped>\n",
       "    .dataframe tbody tr th:only-of-type {\n",
       "        vertical-align: middle;\n",
       "    }\n",
       "\n",
       "    .dataframe tbody tr th {\n",
       "        vertical-align: top;\n",
       "    }\n",
       "\n",
       "    .dataframe thead th {\n",
       "        text-align: right;\n",
       "    }\n",
       "</style>\n",
       "<table border=\"1\" class=\"dataframe\">\n",
       "  <thead>\n",
       "    <tr style=\"text-align: right;\">\n",
       "      <th></th>\n",
       "      <th>price_usd_per_m2</th>\n",
       "    </tr>\n",
       "    <tr>\n",
       "      <th>barrio</th>\n",
       "      <th></th>\n",
       "    </tr>\n",
       "  </thead>\n",
       "  <tbody>\n",
       "    <tr>\n",
       "      <th>VILLA SOLDATI</th>\n",
       "      <td>920.825753</td>\n",
       "    </tr>\n",
       "    <tr>\n",
       "      <th>VILLA LUGANO</th>\n",
       "      <td>1179.846071</td>\n",
       "    </tr>\n",
       "    <tr>\n",
       "      <th>VILLA RIACHUELO</th>\n",
       "      <td>1274.809950</td>\n",
       "    </tr>\n",
       "    <tr>\n",
       "      <th>PARQUE AVELLANEDA</th>\n",
       "      <td>1386.260577</td>\n",
       "    </tr>\n",
       "    <tr>\n",
       "      <th>NUEVA POMPEYA</th>\n",
       "      <td>1539.235869</td>\n",
       "    </tr>\n",
       "  </tbody>\n",
       "</table>\n",
       "</div>"
      ],
      "text/plain": [
       "                   price_usd_per_m2\n",
       "barrio                             \n",
       "VILLA SOLDATI            920.825753\n",
       "VILLA LUGANO            1179.846071\n",
       "VILLA RIACHUELO         1274.809950\n",
       "PARQUE AVELLANEDA       1386.260577\n",
       "NUEVA POMPEYA           1539.235869"
      ]
     },
     "execution_count": 40,
     "metadata": {},
     "output_type": "execute_result"
    }
   ],
   "source": [
    "table = pd.pivot_table(df, values='price_usd_per_m2', index=['barrio'], aggfunc=np.mean)\n",
    "mas_baratos = table.sort_values('price_usd_per_m2', ascending=True).iloc[:5]\n",
    "mas_baratos"
   ]
  },
  {
   "cell_type": "markdown",
   "metadata": {},
   "source": [
    "## Graficando propiedades de los barrios\n",
    "\n",
    "Ahora que ya sabemos cuales son los barrios más caros y cuales son los más baratos vamos a ver algunas comparaciones gráficas para entender mejor sus diferencias en diferentes atributos del dataset. Vamos a ver las distribuciones según:\n",
    "- Superficie total en m2\n",
    "- Cuartos totales \n",
    "- Precio en dolares por m2"
   ]
  },
  {
   "cell_type": "code",
   "execution_count": 46,
   "metadata": {},
   "outputs": [
    {
     "data": {
      "text/plain": [
       "dtype('float64')"
      ]
     },
     "execution_count": 46,
     "metadata": {},
     "output_type": "execute_result"
    }
   ],
   "source": [
    "barrios_caros = mas_caros.index \n",
    "barrios_baratos = mas_baratos.index\n",
    "df_filtered2.surface_total_in_m2.dtype"
   ]
  },
  {
   "cell_type": "code",
   "execution_count": 50,
   "metadata": {},
   "outputs": [
    {
     "data": {
      "image/png": "[encoded data removed]",
      "text/plain": [
       "<Figure size 864x576 with 1 Axes>"
      ]
     },
     "metadata": {},
     "output_type": "display_data"
    }
   ],
   "source": [
    "g = sns.distplot(df_filtered[df_filtered.barrio.isin(barrios_baratos)].surface_total_in_m2, label=\"Barrios baratos\")\n",
    "sns.distplot(df_filtered[df_filtered.barrio.isin(barrios_caros)].surface_total_in_m2, label=\"Barrios caros\")\n",
    "g.set_xlim(0, 400)\n",
    "plt.legend();"
   ]
  },
  {
   "cell_type": "code",
   "execution_count": null,
   "metadata": {},
   "outputs": [],
   "source": []
  },
  {
   "cell_type": "code",
   "execution_count": 53,
   "metadata": {},
   "outputs": [
    {
     "ename": "ValueError",
     "evalue": "cannot convert float NaN to integer",
     "output_type": "error",
     "traceback": [
      "\u001b[1;31m---------------------------------------------------------------------------\u001b[0m",
      "\u001b[1;31mValueError\u001b[0m                                Traceback (most recent call last)",
      "\u001b[1;32m<ipython-input-53-1a15d8e35bb3>\u001b[0m in \u001b[0;36m<module>\u001b[1;34m\u001b[0m\n\u001b[1;32m----> 1\u001b[1;33m \u001b[0mg\u001b[0m \u001b[1;33m=\u001b[0m \u001b[0msns\u001b[0m\u001b[1;33m.\u001b[0m\u001b[0mdistplot\u001b[0m\u001b[1;33m(\u001b[0m\u001b[0mdf_filtered\u001b[0m\u001b[1;33m[\u001b[0m\u001b[0mdf_filtered\u001b[0m\u001b[1;33m.\u001b[0m\u001b[0mbarrio\u001b[0m\u001b[1;33m.\u001b[0m\u001b[0misin\u001b[0m\u001b[1;33m(\u001b[0m\u001b[0mbarrios_baratos\u001b[0m\u001b[1;33m)\u001b[0m\u001b[1;33m]\u001b[0m\u001b[1;33m.\u001b[0m\u001b[0mrooms\u001b[0m\u001b[1;33m,\u001b[0m \u001b[0mlabel\u001b[0m\u001b[1;33m=\u001b[0m\u001b[1;34m\"Barrios baratos\"\u001b[0m\u001b[1;33m)\u001b[0m\u001b[1;33m\u001b[0m\u001b[1;33m\u001b[0m\u001b[0m\n\u001b[0m\u001b[0;32m      2\u001b[0m \u001b[0msns\u001b[0m\u001b[1;33m.\u001b[0m\u001b[0mdistplot\u001b[0m\u001b[1;33m(\u001b[0m\u001b[0mdf_filtered\u001b[0m\u001b[1;33m[\u001b[0m\u001b[0mdf_filtered\u001b[0m\u001b[1;33m.\u001b[0m\u001b[0mbarrio\u001b[0m\u001b[1;33m.\u001b[0m\u001b[0misin\u001b[0m\u001b[1;33m(\u001b[0m\u001b[0mbarrios_caros\u001b[0m\u001b[1;33m)\u001b[0m\u001b[1;33m]\u001b[0m\u001b[1;33m.\u001b[0m\u001b[0mrooms\u001b[0m\u001b[1;33m,\u001b[0m \u001b[0mlabel\u001b[0m\u001b[1;33m=\u001b[0m\u001b[1;34m\"Barrios caros\"\u001b[0m\u001b[1;33m)\u001b[0m\u001b[1;33m\u001b[0m\u001b[1;33m\u001b[0m\u001b[0m\n\u001b[0;32m      3\u001b[0m \u001b[0mg\u001b[0m\u001b[1;33m.\u001b[0m\u001b[0mset_xlim\u001b[0m\u001b[1;33m(\u001b[0m\u001b[1;36m0\u001b[0m\u001b[1;33m,\u001b[0m \u001b[1;36m10\u001b[0m\u001b[1;33m)\u001b[0m\u001b[1;33m\u001b[0m\u001b[1;33m\u001b[0m\u001b[0m\n\u001b[0;32m      4\u001b[0m \u001b[0mplt\u001b[0m\u001b[1;33m.\u001b[0m\u001b[0mlegend\u001b[0m\u001b[1;33m(\u001b[0m\u001b[1;33m)\u001b[0m\u001b[1;33m\u001b[0m\u001b[1;33m\u001b[0m\u001b[0m\n",
      "\u001b[1;32m~\\Anaconda3\\envs\\AcamicaDs1\\lib\\site-packages\\seaborn\\distributions.py\u001b[0m in \u001b[0;36mdistplot\u001b[1;34m(a, bins, hist, kde, rug, fit, hist_kws, kde_kws, rug_kws, fit_kws, color, vertical, norm_hist, axlabel, label, ax)\u001b[0m\n\u001b[0;32m    213\u001b[0m     \u001b[1;32mif\u001b[0m \u001b[0mhist\u001b[0m\u001b[1;33m:\u001b[0m\u001b[1;33m\u001b[0m\u001b[1;33m\u001b[0m\u001b[0m\n\u001b[0;32m    214\u001b[0m         \u001b[1;32mif\u001b[0m \u001b[0mbins\u001b[0m \u001b[1;32mis\u001b[0m \u001b[1;32mNone\u001b[0m\u001b[1;33m:\u001b[0m\u001b[1;33m\u001b[0m\u001b[1;33m\u001b[0m\u001b[0m\n\u001b[1;32m--> 215\u001b[1;33m             \u001b[0mbins\u001b[0m \u001b[1;33m=\u001b[0m \u001b[0mmin\u001b[0m\u001b[1;33m(\u001b[0m\u001b[0m_freedman_diaconis_bins\u001b[0m\u001b[1;33m(\u001b[0m\u001b[0ma\u001b[0m\u001b[1;33m)\u001b[0m\u001b[1;33m,\u001b[0m \u001b[1;36m50\u001b[0m\u001b[1;33m)\u001b[0m\u001b[1;33m\u001b[0m\u001b[1;33m\u001b[0m\u001b[0m\n\u001b[0m\u001b[0;32m    216\u001b[0m         \u001b[0mhist_kws\u001b[0m\u001b[1;33m.\u001b[0m\u001b[0msetdefault\u001b[0m\u001b[1;33m(\u001b[0m\u001b[1;34m\"alpha\"\u001b[0m\u001b[1;33m,\u001b[0m \u001b[1;36m0.4\u001b[0m\u001b[1;33m)\u001b[0m\u001b[1;33m\u001b[0m\u001b[1;33m\u001b[0m\u001b[0m\n\u001b[0;32m    217\u001b[0m         \u001b[1;32mif\u001b[0m \u001b[0mLooseVersion\u001b[0m\u001b[1;33m(\u001b[0m\u001b[0mmpl\u001b[0m\u001b[1;33m.\u001b[0m\u001b[0m__version__\u001b[0m\u001b[1;33m)\u001b[0m \u001b[1;33m<\u001b[0m \u001b[0mLooseVersion\u001b[0m\u001b[1;33m(\u001b[0m\u001b[1;34m\"2.2\"\u001b[0m\u001b[1;33m)\u001b[0m\u001b[1;33m:\u001b[0m\u001b[1;33m\u001b[0m\u001b[1;33m\u001b[0m\u001b[0m\n",
      "\u001b[1;32m~\\Anaconda3\\envs\\AcamicaDs1\\lib\\site-packages\\seaborn\\distributions.py\u001b[0m in \u001b[0;36m_freedman_diaconis_bins\u001b[1;34m(a)\u001b[0m\n\u001b[0;32m     37\u001b[0m         \u001b[1;32mreturn\u001b[0m \u001b[0mint\u001b[0m\u001b[1;33m(\u001b[0m\u001b[0mnp\u001b[0m\u001b[1;33m.\u001b[0m\u001b[0msqrt\u001b[0m\u001b[1;33m(\u001b[0m\u001b[0ma\u001b[0m\u001b[1;33m.\u001b[0m\u001b[0msize\u001b[0m\u001b[1;33m)\u001b[0m\u001b[1;33m)\u001b[0m\u001b[1;33m\u001b[0m\u001b[1;33m\u001b[0m\u001b[0m\n\u001b[0;32m     38\u001b[0m     \u001b[1;32melse\u001b[0m\u001b[1;33m:\u001b[0m\u001b[1;33m\u001b[0m\u001b[1;33m\u001b[0m\u001b[0m\n\u001b[1;32m---> 39\u001b[1;33m         \u001b[1;32mreturn\u001b[0m \u001b[0mint\u001b[0m\u001b[1;33m(\u001b[0m\u001b[0mnp\u001b[0m\u001b[1;33m.\u001b[0m\u001b[0mceil\u001b[0m\u001b[1;33m(\u001b[0m\u001b[1;33m(\u001b[0m\u001b[0ma\u001b[0m\u001b[1;33m.\u001b[0m\u001b[0mmax\u001b[0m\u001b[1;33m(\u001b[0m\u001b[1;33m)\u001b[0m \u001b[1;33m-\u001b[0m \u001b[0ma\u001b[0m\u001b[1;33m.\u001b[0m\u001b[0mmin\u001b[0m\u001b[1;33m(\u001b[0m\u001b[1;33m)\u001b[0m\u001b[1;33m)\u001b[0m \u001b[1;33m/\u001b[0m \u001b[0mh\u001b[0m\u001b[1;33m)\u001b[0m\u001b[1;33m)\u001b[0m\u001b[1;33m\u001b[0m\u001b[1;33m\u001b[0m\u001b[0m\n\u001b[0m\u001b[0;32m     40\u001b[0m \u001b[1;33m\u001b[0m\u001b[0m\n\u001b[0;32m     41\u001b[0m \u001b[1;33m\u001b[0m\u001b[0m\n",
      "\u001b[1;31mValueError\u001b[0m: cannot convert float NaN to integer"
     ]
    },
    {
     "data": {
      "image/png": "[encoded data removed]",
      "text/plain": [
       "<Figure size 864x576 with 1 Axes>"
      ]
     },
     "metadata": {},
     "output_type": "display_data"
    }
   ],
   "source": [
    "g = sns.distplot(df_filtered[df_filtered.barrio.isin(barrios_baratos)].rooms, label=\"Barrios baratos\")\n",
    "sns.distplot(df_filtered[df_filtered.barrio.isin(barrios_caros)].rooms, label=\"Barrios caros\")\n",
    "g.set_xlim(0, 10)\n",
    "plt.legend()"
   ]
  },
  {
   "cell_type": "code",
   "execution_count": 62,
   "metadata": {},
   "outputs": [
    {
     "ename": "ValueError",
     "evalue": "cannot convert float NaN to integer",
     "output_type": "error",
     "traceback": [
      "\u001b[1;31m---------------------------------------------------------------------------\u001b[0m",
      "\u001b[1;31mValueError\u001b[0m                                Traceback (most recent call last)",
      "\u001b[1;32m<ipython-input-62-886e94d40bb4>\u001b[0m in \u001b[0;36m<module>\u001b[1;34m\u001b[0m\n\u001b[1;32m----> 1\u001b[1;33m \u001b[0mg\u001b[0m \u001b[1;33m=\u001b[0m \u001b[0msns\u001b[0m\u001b[1;33m.\u001b[0m\u001b[0mdistplot\u001b[0m\u001b[1;33m(\u001b[0m\u001b[0mdf_filtered2\u001b[0m\u001b[1;33m[\u001b[0m\u001b[0mdf_filtered2\u001b[0m\u001b[1;33m.\u001b[0m\u001b[0mbarrio\u001b[0m\u001b[1;33m.\u001b[0m\u001b[0misin\u001b[0m\u001b[1;33m(\u001b[0m\u001b[0mbarrios_baratos\u001b[0m\u001b[1;33m)\u001b[0m\u001b[1;33m]\u001b[0m\u001b[1;33m.\u001b[0m\u001b[0mprice_usd_per_m2\u001b[0m\u001b[1;33m,\u001b[0m \u001b[0mlabel\u001b[0m\u001b[1;33m=\u001b[0m\u001b[1;34m\"Barrios baratos\"\u001b[0m\u001b[1;33m)\u001b[0m\u001b[1;33m\u001b[0m\u001b[1;33m\u001b[0m\u001b[0m\n\u001b[0m\u001b[0;32m      2\u001b[0m \u001b[0msns\u001b[0m\u001b[1;33m.\u001b[0m\u001b[0mdistplot\u001b[0m\u001b[1;33m(\u001b[0m\u001b[0mdf_filtered2\u001b[0m\u001b[1;33m[\u001b[0m\u001b[0mdf_filtered2\u001b[0m\u001b[1;33m.\u001b[0m\u001b[0mbarrio\u001b[0m\u001b[1;33m.\u001b[0m\u001b[0misin\u001b[0m\u001b[1;33m(\u001b[0m\u001b[0mbarrios_caros\u001b[0m\u001b[1;33m)\u001b[0m\u001b[1;33m]\u001b[0m\u001b[1;33m.\u001b[0m\u001b[0mprice_usd_per_m2\u001b[0m\u001b[1;33m,\u001b[0m \u001b[0mlabel\u001b[0m\u001b[1;33m=\u001b[0m\u001b[1;34m\"Barrios caros\"\u001b[0m\u001b[1;33m)\u001b[0m\u001b[1;33m\u001b[0m\u001b[1;33m\u001b[0m\u001b[0m\n\u001b[0;32m      3\u001b[0m \u001b[0mplt\u001b[0m\u001b[1;33m.\u001b[0m\u001b[0mlegend\u001b[0m\u001b[1;33m(\u001b[0m\u001b[1;33m)\u001b[0m\u001b[1;33m\u001b[0m\u001b[1;33m\u001b[0m\u001b[0m\n",
      "\u001b[1;32m~\\Anaconda3\\envs\\AcamicaDs1\\lib\\site-packages\\seaborn\\distributions.py\u001b[0m in \u001b[0;36mdistplot\u001b[1;34m(a, bins, hist, kde, rug, fit, hist_kws, kde_kws, rug_kws, fit_kws, color, vertical, norm_hist, axlabel, label, ax)\u001b[0m\n\u001b[0;32m    213\u001b[0m     \u001b[1;32mif\u001b[0m \u001b[0mhist\u001b[0m\u001b[1;33m:\u001b[0m\u001b[1;33m\u001b[0m\u001b[1;33m\u001b[0m\u001b[0m\n\u001b[0;32m    214\u001b[0m         \u001b[1;32mif\u001b[0m \u001b[0mbins\u001b[0m \u001b[1;32mis\u001b[0m \u001b[1;32mNone\u001b[0m\u001b[1;33m:\u001b[0m\u001b[1;33m\u001b[0m\u001b[1;33m\u001b[0m\u001b[0m\n\u001b[1;32m--> 215\u001b[1;33m             \u001b[0mbins\u001b[0m \u001b[1;33m=\u001b[0m \u001b[0mmin\u001b[0m\u001b[1;33m(\u001b[0m\u001b[0m_freedman_diaconis_bins\u001b[0m\u001b[1;33m(\u001b[0m\u001b[0ma\u001b[0m\u001b[1;33m)\u001b[0m\u001b[1;33m,\u001b[0m \u001b[1;36m50\u001b[0m\u001b[1;33m)\u001b[0m\u001b[1;33m\u001b[0m\u001b[1;33m\u001b[0m\u001b[0m\n\u001b[0m\u001b[0;32m    216\u001b[0m         \u001b[0mhist_kws\u001b[0m\u001b[1;33m.\u001b[0m\u001b[0msetdefault\u001b[0m\u001b[1;33m(\u001b[0m\u001b[1;34m\"alpha\"\u001b[0m\u001b[1;33m,\u001b[0m \u001b[1;36m0.4\u001b[0m\u001b[1;33m)\u001b[0m\u001b[1;33m\u001b[0m\u001b[1;33m\u001b[0m\u001b[0m\n\u001b[0;32m    217\u001b[0m         \u001b[1;32mif\u001b[0m \u001b[0mLooseVersion\u001b[0m\u001b[1;33m(\u001b[0m\u001b[0mmpl\u001b[0m\u001b[1;33m.\u001b[0m\u001b[0m__version__\u001b[0m\u001b[1;33m)\u001b[0m \u001b[1;33m<\u001b[0m \u001b[0mLooseVersion\u001b[0m\u001b[1;33m(\u001b[0m\u001b[1;34m\"2.2\"\u001b[0m\u001b[1;33m)\u001b[0m\u001b[1;33m:\u001b[0m\u001b[1;33m\u001b[0m\u001b[1;33m\u001b[0m\u001b[0m\n",
      "\u001b[1;32m~\\Anaconda3\\envs\\AcamicaDs1\\lib\\site-packages\\seaborn\\distributions.py\u001b[0m in \u001b[0;36m_freedman_diaconis_bins\u001b[1;34m(a)\u001b[0m\n\u001b[0;32m     37\u001b[0m         \u001b[1;32mreturn\u001b[0m \u001b[0mint\u001b[0m\u001b[1;33m(\u001b[0m\u001b[0mnp\u001b[0m\u001b[1;33m.\u001b[0m\u001b[0msqrt\u001b[0m\u001b[1;33m(\u001b[0m\u001b[0ma\u001b[0m\u001b[1;33m.\u001b[0m\u001b[0msize\u001b[0m\u001b[1;33m)\u001b[0m\u001b[1;33m)\u001b[0m\u001b[1;33m\u001b[0m\u001b[1;33m\u001b[0m\u001b[0m\n\u001b[0;32m     38\u001b[0m     \u001b[1;32melse\u001b[0m\u001b[1;33m:\u001b[0m\u001b[1;33m\u001b[0m\u001b[1;33m\u001b[0m\u001b[0m\n\u001b[1;32m---> 39\u001b[1;33m         \u001b[1;32mreturn\u001b[0m \u001b[0mint\u001b[0m\u001b[1;33m(\u001b[0m\u001b[0mnp\u001b[0m\u001b[1;33m.\u001b[0m\u001b[0mceil\u001b[0m\u001b[1;33m(\u001b[0m\u001b[1;33m(\u001b[0m\u001b[0ma\u001b[0m\u001b[1;33m.\u001b[0m\u001b[0mmax\u001b[0m\u001b[1;33m(\u001b[0m\u001b[1;33m)\u001b[0m \u001b[1;33m-\u001b[0m \u001b[0ma\u001b[0m\u001b[1;33m.\u001b[0m\u001b[0mmin\u001b[0m\u001b[1;33m(\u001b[0m\u001b[1;33m)\u001b[0m\u001b[1;33m)\u001b[0m \u001b[1;33m/\u001b[0m \u001b[0mh\u001b[0m\u001b[1;33m)\u001b[0m\u001b[1;33m)\u001b[0m\u001b[1;33m\u001b[0m\u001b[1;33m\u001b[0m\u001b[0m\n\u001b[0m\u001b[0;32m     40\u001b[0m \u001b[1;33m\u001b[0m\u001b[0m\n\u001b[0;32m     41\u001b[0m \u001b[1;33m\u001b[0m\u001b[0m\n",
      "\u001b[1;31mValueError\u001b[0m: cannot convert float NaN to integer"
     ]
    },
    {
     "data": {
      "image/png": "[encoded data removed]",
      "text/plain": [
       "<Figure size 864x576 with 1 Axes>"
      ]
     },
     "metadata": {},
     "output_type": "display_data"
    }
   ],
   "source": [
    "g = sns.distplot(df_filtered2[df_filtered2.barrio.isin(barrios_baratos)].price_usd_per_m2, label=\"Barrios baratos\")\n",
    "sns.distplot(df_filtered2[df_filtered2.barrio.isin(barrios_caros)].price_usd_per_m2, label=\"Barrios caros\")\n",
    "plt.legend()"
   ]
  },
  {
   "cell_type": "markdown",
   "metadata": {},
   "source": [
    "### Barrios que quieren ser otros"
   ]
  },
  {
   "cell_type": "markdown",
   "metadata": {},
   "source": [
    "Basado en información de mercado, desde el portal Properati han señalado que las inmobiliarias suelen publicar las propiedades ubicadas en barrios que no necesariamente se corresponden con la ubicación geográfica real. Según mencionan en la nota ([blog)](http://blog.properati.com.ar/barrios-que-quieren-ser-otros/), esto corresponde a una lógica comercial en el corredor norte y a usos y costumbres en zona oeste.\n",
    "\n",
    "Analicemos qué sucede para nuestro dataset."
   ]
  },
  {
   "cell_type": "markdown",
   "metadata": {},
   "source": [
    "Dada la estructura del atributo `place_with_parent_names`, en primer lugar vamos a extraer el campo asociado al barrio publicado para poder comparar con el que surge de la cartografía oficial. Esto lo vamos a agregar en una nueva columna llamada `barrio_publicado`. \n",
    "\n",
    "De este modo, lo que vamos a analizar es como se relacionan las columnas `barrio` y `barrio publicado`. Si efectivamente hay barrios que quieren ser otros, esperaríamos ver propiedades ubicadas en geográficamente en un barrio distinto al que dice la publicación. Por ejemplo, si una propiedad está ubicada (dadas sus coordenadas) en Villa Crespo pero en la publicación dice Palermo, entonces decimos que hay indicios que Villa Crespo quiere ser Palermo.\n",
    "\n",
    "Viendo la estructura de este atributo, podemos notar que se compone por una sequencia de lugares separados por `|`. Por ejemplo, en `|Argentina|Capital Federal|Palermo|` vemos que primero está el país, luego la ciudad, luego el barrio y en algunos casos hay una jerarquía más, relacionado con zonas dentro del barrio (como Palermo Soho dentro de Palermo). \n",
    "\n",
    "De este modo, una estrategia posible para resolver esto es separar las jerarquías por `|` y extraer el elemento asociado al barrio. Por ejemplo, para `|Argentina|Capital Federal|Palermo|` queda `['', 'Argentina', 'Capital Federal', 'Palermo', '']`. Extrayendo el tercer elemento obtendremos el barrio independientemente de si hay lugares luego en la jerarquía. Aquellos que no tengan barrio no serán considerados puesto que estarían ubicados en Capital Federal y no sería informativo.\n",
    "\n",
    "Lo pasamos a mayúsculas y quitamos las tildes para poder comparar con el barrio oficial."
   ]
  },
  {
   "cell_type": "code",
   "execution_count": 54,
   "metadata": {},
   "outputs": [
    {
     "data": {
      "text/plain": [
       "array([6, 5, 4], dtype=int64)"
      ]
     },
     "execution_count": 54,
     "metadata": {},
     "output_type": "execute_result"
    }
   ],
   "source": [
    "df_filtered2['place_with_parent_names'].apply(lambda x: len(x.split(\"|\"))).unique()"
   ]
  },
  {
   "cell_type": "markdown",
   "metadata": {},
   "source": [
    "Como algunos tienen 4 elementos, debemos quitarlos."
   ]
  },
  {
   "cell_type": "code",
   "execution_count": 55,
   "metadata": {},
   "outputs": [],
   "source": [
    "split_place_filter = df_filtered2['place_with_parent_names'].apply(lambda x: len(x.split(\"|\"))!=4)\n",
    "df_filtered2 = df_filtered2.loc[split_place_filter]"
   ]
  },
  {
   "cell_type": "code",
   "execution_count": 56,
   "metadata": {},
   "outputs": [
    {
     "name": "stderr",
     "output_type": "stream",
     "text": [
      "C:\\Users\\user\\Anaconda3\\envs\\AcamicaDs1\\lib\\site-packages\\ipykernel_launcher.py:1: SettingWithCopyWarning: \n",
      "A value is trying to be set on a copy of a slice from a DataFrame.\n",
      "Try using .loc[row_indexer,col_indexer] = value instead\n",
      "\n",
      "See the caveats in the documentation: http://pandas.pydata.org/pandas-docs/stable/indexing.html#indexing-view-versus-copy\n",
      "  \"\"\"Entry point for launching an IPython kernel.\n",
      "C:\\Users\\user\\Anaconda3\\envs\\AcamicaDs1\\lib\\site-packages\\ipykernel_launcher.py:2: SettingWithCopyWarning: \n",
      "A value is trying to be set on a copy of a slice from a DataFrame.\n",
      "Try using .loc[row_indexer,col_indexer] = value instead\n",
      "\n",
      "See the caveats in the documentation: http://pandas.pydata.org/pandas-docs/stable/indexing.html#indexing-view-versus-copy\n",
      "  \n"
     ]
    }
   ],
   "source": [
    "df_filtered2['barrio_publicado'] = df_filtered2['place_with_parent_names'].apply( lambda x: x.split(\"|\")[3].upper())\n",
    "df_filtered2['barrio_publicado'] = df_filtered2['barrio_publicado'].str.normalize('NFKD').str.encode('ascii', errors='ignore').str.decode('utf-8')"
   ]
  },
  {
   "cell_type": "markdown",
   "metadata": {},
   "source": [
    "Comparemos entonces el barrio publicado con el real. Nos vamos a quedar con aquellas propiedades donde nos coincidan para luego hacer el conteo por barrio."
   ]
  },
  {
   "cell_type": "code",
   "execution_count": 58,
   "metadata": {},
   "outputs": [],
   "source": [
    "barrios_match = (df_filtered2['barrio_publicado'] != df_filtered2['barrio'])\n",
    "df_filtered_barrio_not_match = df_filtered2.loc[barrios_match]"
   ]
  },
  {
   "cell_type": "markdown",
   "metadata": {},
   "source": [
    "Con una tabla de doble entrada podemos identificar para cada barrio cuál es al que más quiere parecerse."
   ]
  },
  {
   "cell_type": "code",
   "execution_count": 59,
   "metadata": {},
   "outputs": [
    {
     "data": {
      "text/plain": [
       "barrio\n",
       "AGRONOMIA                VILLA PUEYRREDON\n",
       "ALMAGRO                         CABALLITO\n",
       "BALVANERA                            ONCE\n",
       "BARRACAS                        SAN TELMO\n",
       "BELGRANO                            NUNEZ\n",
       "BOCA                             BARRACAS\n",
       "BOEDO                    PARQUE PATRICIOS\n",
       "CABALLITO               PARQUE CENTENARIO\n",
       "CHACARITA                      COLEGIALES\n",
       "COGHLAN                          BELGRANO\n",
       "COLEGIALES                       BELGRANO\n",
       "CONSTITUCION                    SAN TELMO\n",
       "FLORES                          CABALLITO\n",
       "FLORESTA                           FLORES\n",
       "LINIERS                        VILLA LURO\n",
       "MATADEROS                         LINIERS\n",
       "MONSERRAT                       SAN TELMO\n",
       "MONTE CASTRO                     FLORESTA\n",
       "NUEVA POMPEYA                     POMPEYA\n",
       "NUEZ                                NUNEZ\n",
       "PALERMO                          BELGRANO\n",
       "PARQUE AVELLANEDA                FLORESTA\n",
       "PARQUE CHACABUCO                CABALLITO\n",
       "PARQUE CHAS                 VILLA URQUIZA\n",
       "PARQUE PATRICIOS            SAN CRISTOBAL\n",
       "PATERNAL                 VILLA DEL PARQUE\n",
       "PUERTO MADERO                     PALERMO\n",
       "RECOLETA                     BARRIO NORTE\n",
       "RETIRO                           RECOLETA\n",
       "SAAVEDRA                            NUNEZ\n",
       "SAN CRISTOBAL                       BOEDO\n",
       "SAN NICOLAS          CENTRO / MICROCENTRO\n",
       "SAN TELMO                   PUERTO MADERO\n",
       "VELEZ SARSFIELD                  FLORESTA\n",
       "VERSALLES                    VILLA DEVOTO\n",
       "VILLA CRESPO                      PALERMO\n",
       "VILLA DEL PARQUE       GENERAL SAN MARTIN\n",
       "VILLA DEVOTO             VILLA PUEYRREDON\n",
       "VILLA GRAL. MITRE     VILLA GENERAL MITRE\n",
       "VILLA LUGANO                    MATADEROS\n",
       "VILLA LURO                      VERSALLES\n",
       "VILLA ORTUZAR               VILLA URQUIZA\n",
       "VILLA PUEYRREDON             VILLA DEVOTO\n",
       "VILLA REAL                   VILLA DEVOTO\n",
       "VILLA RIACHUELO              VILLA LUGANO\n",
       "VILLA SANTA RITA         VILLA DEL PARQUE\n",
       "VILLA SOLDATI                VILLA LUGANO\n",
       "VILLA URQUIZA                    BELGRANO\n",
       "dtype: object"
      ]
     },
     "execution_count": 59,
     "metadata": {},
     "output_type": "execute_result"
    }
   ],
   "source": [
    "table = pd.crosstab(df_filtered_barrio_not_match.barrio, df_filtered_barrio_not_match.barrio_publicado)\n",
    "table.idxmax(axis=1)"
   ]
  },
  {
   "cell_type": "markdown",
   "metadata": {},
   "source": [
    "Podemos ver entonces que los barrios tienden a querer parecerse a barrios con precio con metro cuadrado más caro. Por ejemplo Villa Crespo con Palermo, Constitución con San Telmo y Villa Urquiza con Belgrano. \n",
    "\n",
    "Por otro lado, vemos también que los barrios suelen querer parecerse a sus barrios vecinos."
   ]
  }
 ],
 "metadata": {
  "kernelspec": {
   "display_name": "Python 3",
   "language": "python",
   "name": "python3"
  },
  "language_info": {
   "codemirror_mode": {
    "name": "ipython",
    "version": 3
   },
   "file_extension": ".py",
   "mimetype": "text/x-python",
   "name": "python",
   "nbconvert_exporter": "python",
   "pygments_lexer": "ipython3",
   "version": "3.7.3"
  }
 },
 "nbformat": 4,
 "nbformat_minor": 2
}
