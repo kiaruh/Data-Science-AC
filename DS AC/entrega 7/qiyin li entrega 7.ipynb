{
 "cells": [
  {
   "cell_type": "markdown",
   "metadata": {},
   "source": [
    "# Proyecto 7: Deploy de sistema de recomendación con Watson\n",
    "\n",
    "En este proyecto llevaremos a cabo la puesta en producción del modelo entrenado en el proyecto 5. Es decir, lo subirmos la nube de IBM y utilizando llamados a la API de Watson tendremos acceso a él para realizar predicciones."
   ]
  },
  {
   "cell_type": "code",
   "execution_count": 37,
   "metadata": {},
   "outputs": [],
   "source": [
    "import warnings\n",
    "#import pandas as pd\n",
    "warnings.filterwarnings(\"ignore\")\n",
    "import sklearn\n",
    "from sklearn.datasets import load_files\n",
    "moviedir = r'./dataset/' \n",
    "movie_reviews = load_files(moviedir, shuffle=True)"
   ]
  },
  {
   "cell_type": "code",
   "execution_count": 38,
   "metadata": {},
   "outputs": [],
   "source": [
    "from sklearn.model_selection import train_test_split\n",
    "X_train, X_test, y_train, y_test = train_test_split(\n",
    "    movie_reviews.data, movie_reviews.target, test_size = 0.20, stratify=movie_reviews.target, random_state = 12)"
   ]
  },
  {
   "cell_type": "code",
   "execution_count": 39,
   "metadata": {},
   "outputs": [],
   "source": [
    "from sklearn.externals import joblib\n",
    "eclf = joblib.load('sentiment.pkl') "
   ]
  },
  {
   "cell_type": "markdown",
   "metadata": {},
   "source": [
    "IBM Watson"
   ]
  },
  {
   "cell_type": "markdown",
   "metadata": {},
   "source": [
    "**1) Cargá** la biblioteca `WatsonMachineLearningAPIClient`"
   ]
  },
  {
   "cell_type": "code",
   "execution_count": 40,
   "metadata": {},
   "outputs": [
    {
     "name": "stdout",
     "output_type": "stream",
     "text": [
      "Requirement already up-to-date: watson-machine-learning-client in c:\\users\\user\\anaconda3\\envs\\datascienceac\\lib\\site-packages (1.0.378)\n",
      "Requirement already satisfied, skipping upgrade: urllib3 in c:\\users\\user\\anaconda3\\envs\\datascienceac\\lib\\site-packages (from watson-machine-learning-client) (1.25.6)\n",
      "Requirement already satisfied, skipping upgrade: ibm-cos-sdk in c:\\users\\user\\anaconda3\\envs\\datascienceac\\lib\\site-packages (from watson-machine-learning-client) (2.5.5)\n",
      "Requirement already satisfied, skipping upgrade: certifi in c:\\users\\user\\anaconda3\\envs\\datascienceac\\lib\\site-packages (from watson-machine-learning-client) (2019.9.11)\n",
      "Requirement already satisfied, skipping upgrade: pandas in c:\\users\\user\\anaconda3\\envs\\datascienceac\\lib\\site-packages (from watson-machine-learning-client) (0.25.3)\n",
      "Requirement already satisfied, skipping upgrade: requests in c:\\users\\user\\anaconda3\\envs\\datascienceac\\lib\\site-packages (from watson-machine-learning-client) (2.22.0)\n",
      "Requirement already satisfied, skipping upgrade: tqdm in c:\\users\\user\\anaconda3\\envs\\datascienceac\\lib\\site-packages (from watson-machine-learning-client) (4.40.0)\n",
      "Requirement already satisfied, skipping upgrade: tabulate in c:\\users\\user\\anaconda3\\envs\\datascienceac\\lib\\site-packages (from watson-machine-learning-client) (0.8.6)\n",
      "Requirement already satisfied, skipping upgrade: lomond in c:\\users\\user\\anaconda3\\envs\\datascienceac\\lib\\site-packages (from watson-machine-learning-client) (0.3.3)\n",
      "Requirement already satisfied, skipping upgrade: jmespath<1.0.0,>=0.7.1 in c:\\users\\user\\anaconda3\\envs\\datascienceac\\lib\\site-packages (from ibm-cos-sdk->watson-machine-learning-client) (0.9.4)\n",
      "Requirement already satisfied, skipping upgrade: ibm-cos-sdk-core==2.5.5 in c:\\users\\user\\anaconda3\\envs\\datascienceac\\lib\\site-packages (from ibm-cos-sdk->watson-machine-learning-client) (2.5.5)\n",
      "Requirement already satisfied, skipping upgrade: ibm-cos-sdk-s3transfer==2.5.5 in c:\\users\\user\\anaconda3\\envs\\datascienceac\\lib\\site-packages (from ibm-cos-sdk->watson-machine-learning-client) (2.5.5)\n",
      "Requirement already satisfied, skipping upgrade: python-dateutil>=2.6.1 in c:\\users\\user\\anaconda3\\envs\\datascienceac\\lib\\site-packages (from pandas->watson-machine-learning-client) (2.8.0)\n",
      "Requirement already satisfied, skipping upgrade: numpy>=1.13.3 in c:\\users\\user\\anaconda3\\envs\\datascienceac\\lib\\site-packages (from pandas->watson-machine-learning-client) (1.17.3)\n",
      "Requirement already satisfied, skipping upgrade: pytz>=2017.2 in c:\\users\\user\\anaconda3\\envs\\datascienceac\\lib\\site-packages (from pandas->watson-machine-learning-client) (2019.3)\n",
      "Requirement already satisfied, skipping upgrade: idna<2.9,>=2.5 in c:\\users\\user\\anaconda3\\envs\\datascienceac\\lib\\site-packages (from requests->watson-machine-learning-client) (2.8)\n",
      "Requirement already satisfied, skipping upgrade: chardet<3.1.0,>=3.0.2 in c:\\users\\user\\anaconda3\\envs\\datascienceac\\lib\\site-packages (from requests->watson-machine-learning-client) (3.0.4)\n",
      "Requirement already satisfied, skipping upgrade: six>=1.10.0 in c:\\users\\user\\anaconda3\\envs\\datascienceac\\lib\\site-packages (from lomond->watson-machine-learning-client) (1.12.0)\n",
      "Requirement already satisfied, skipping upgrade: docutils<0.16,>=0.10 in c:\\users\\user\\anaconda3\\envs\\datascienceac\\lib\\site-packages (from ibm-cos-sdk-core==2.5.5->ibm-cos-sdk->watson-machine-learning-client) (0.15.2)\n"
     ]
    }
   ],
   "source": [
    "!pip install watson-machine-learning-client --upgrade"
   ]
  },
  {
   "cell_type": "code",
   "execution_count": 41,
   "metadata": {},
   "outputs": [],
   "source": [
    "from watson_machine_learning_client import WatsonMachineLearningAPIClient"
   ]
  },
  {
   "cell_type": "markdown",
   "metadata": {},
   "source": [
    "**2) Creá** variable con las credenciales que necesita `Watson`. Ellas son: `url, access_key, username, password e instance_id`"
   ]
  },
  {
   "cell_type": "code",
   "execution_count": 42,
   "metadata": {},
   "outputs": [],
   "source": [
    "wml_credentials={\n",
    "  \"apikey\": \"0VMMFfV3t9MTObzKdZ94-Inq2EPe740MJWMChkYmY6nZ\",\n",
    "  \"iam_apikey_description\": \"Auto generated apikey during resource-key operation for Instance - crn:v1:bluemix:public:pm-20:us-south:a/81e6d79dfe0b4d46be4c6399dd836be2:c0e6f43e-988c-421e-ae8e-7f7a267485c2::\",\n",
    "  \"iam_apikey_name\": \"auto-generated-apikey-dba31c34-fda1-4c08-880f-846669e1823b\",\n",
    "  \"iam_role_crn\": \"crn:v1:bluemix:public:iam::::serviceRole:Manager\",\n",
    "  \"iam_serviceid_crn\": \"crn:v1:bluemix:public:iam-identity::a/81e6d79dfe0b4d46be4c6399dd836be2::serviceid:ServiceId-4580ff17-abf2-410e-8442-cc3ab821c96b\",\n",
    "  \"instance_id\": \"c0e6f43e-988c-421e-ae8e-7f7a267485c2\",\n",
    "  \"url\": \"https://us-south.ml.cloud.ibm.com\"\n",
    "}"
   ]
  },
  {
   "cell_type": "markdown",
   "metadata": {},
   "source": [
    "**3) Declará** la variable `client` y guardá en ella al objeto `WatsonMachineLearningAPIClient` con las credenciales como parámetro"
   ]
  },
  {
   "cell_type": "code",
   "execution_count": 43,
   "metadata": {},
   "outputs": [],
   "source": [
    "client = WatsonMachineLearningAPIClient(wml_credentials)"
   ]
  },
  {
   "cell_type": "markdown",
   "metadata": {},
   "source": [
    "**4) Creá** una variable que guarde las propiedades del modelo. Datos del autor y nombre del proyecto."
   ]
  },
  {
   "cell_type": "code",
   "execution_count": 44,
   "metadata": {},
   "outputs": [],
   "source": [
    "metadata = {\n",
    "            client.repository.ModelMetaNames.NAME: 'Procesamiento_Natural_lenguaje',\n",
    "            client.repository.ModelMetaNames.FRAMEWORK_NAME: 'scikit-learn',\n",
    "            client.repository.ModelMetaNames.AUTHOR_NAME: 'Qiyin_Li',\n",
    "            client.repository.ModelMetaNames.RUNTIME_NAME: 'python',\n",
    "            client.repository.ModelMetaNames.RUNTIME_VERSION: '3.5'\n",
    "}"
   ]
  },
  {
   "cell_type": "markdown",
   "metadata": {},
   "source": [
    "**5) Hacé** un pipeline que contenga como primer paso a un `TfidfVectorizer` y como segundo paso, al mejor modelo que hayas obtenido en el proyecto 5. **Entrená** con este pipeline."
   ]
  },
  {
   "cell_type": "code",
   "execution_count": 45,
   "metadata": {},
   "outputs": [],
   "source": [
    "from sklearn.pipeline import make_pipeline\n",
    "from sklearn.feature_extraction.text import TfidfVectorizer\n",
    "vect = TfidfVectorizer()\n",
    "pipeline = make_pipeline(vect, eclf)\n",
    "pipeline.fit(X_train, y_train)"
   ]
  },
  {
   "cell_type": "markdown",
   "metadata": {},
   "source": [
    "**6) Subí** al modelo a IBM Cloud usando `client.repository.store_model` con los parámetros correctos."
   ]
  },
  {
   "cell_type": "code",
   "execution_count": 46,
   "metadata": {},
   "outputs": [],
   "source": [
    "published_model = client.repository.store_model(model=pipeline, \n",
    "                                                meta_props=metadata, \n",
    "                                                training_data=X_train, \n",
    "                                                training_target=y_train)"
   ]
  },
  {
   "cell_type": "markdown",
   "metadata": {},
   "source": [
    "**7) Obtené** el `uid` del modelo y guardalo en una variable."
   ]
  },
  {
   "cell_type": "code",
   "execution_count": 47,
   "metadata": {
    "scrolled": true
   },
   "outputs": [
    {
     "name": "stdout",
     "output_type": "stream",
     "text": [
      "------------------------------------  ------------------------------  ------------------------  -----------------\n",
      "GUID                                  NAME                            CREATED                   FRAMEWORK\n",
      "d5bc661b-a190-400b-97ad-ed3097a55314  Procesamiento_Natural_lenguaje  2020-03-03T21:19:16.307Z  scikit-learn-0.22\n",
      "c42e740b-32c4-48d5-a836-e24275fe6195  Procesamiento_Natural_lenguaje  2020-03-03T21:17:17.497Z  scikit-learn-0.22\n",
      "5b6b67e4-59ad-413a-b2c2-1ad49cc47b22  Procesamiento_Natural_lenguaje  2020-03-03T21:10:14.086Z  scikit-learn-0.22\n",
      "ed869b99-45c8-410f-9381-b957b7258d2c  Procesamiento_Natural_lenguaje  2020-03-03T17:11:20.004Z  scikit-learn-0.22\n",
      "503c6776-9e5c-4006-8f74-2311fcca23d2  Procesamiento_Natural_lenguaje  2020-03-03T16:04:28.599Z  scikit-learn-0.22\n",
      "------------------------------------  ------------------------------  ------------------------  -----------------\n"
     ]
    }
   ],
   "source": [
    "models_details = client.repository.list_models()"
   ]
  },
  {
   "cell_type": "code",
   "execution_count": 49,
   "metadata": {},
   "outputs": [
    {
     "data": {
      "text/plain": [
       "'c7eb98aa-2cd4-4a86-b03b-a936196cc539'"
      ]
     },
     "execution_count": 49,
     "metadata": {},
     "output_type": "execute_result"
    }
   ],
   "source": [
    "guid = client.repository.get_model_uid(published_model)\n",
    "guid"
   ]
  },
  {
   "cell_type": "markdown",
   "metadata": {},
   "source": [
    "**8) Cargá** el modelo basado en su `uid` y utilizalo para realizar la predicción sobre el conjunto de test"
   ]
  },
  {
   "cell_type": "code",
   "execution_count": 50,
   "metadata": {},
   "outputs": [],
   "source": [
    "modelo = client.repository.load(guid)\n",
    "\n",
    "test_predictions = modelo.predict(X_test)"
   ]
  },
  {
   "cell_type": "markdown",
   "metadata": {},
   "source": [
    "**9) Mostrar** el `classification_report` obtenido"
   ]
  },
  {
   "cell_type": "code",
   "execution_count": 51,
   "metadata": {},
   "outputs": [
    {
     "name": "stdout",
     "output_type": "stream",
     "text": [
      "              precision    recall  f1-score   support\n",
      "\n",
      "           0       0.82      0.91      0.86       200\n",
      "           1       0.90      0.80      0.84       200\n",
      "\n",
      "   micro avg       0.85      0.85      0.85       400\n",
      "   macro avg       0.86      0.85      0.85       400\n",
      "weighted avg       0.86      0.85      0.85       400\n",
      "\n"
     ]
    }
   ],
   "source": [
    "from sklearn.metrics import classification_report\n",
    "\n",
    "print(classification_report(y_test, test_predictions))"
   ]
  }
 ],
 "metadata": {
  "kernelspec": {
   "display_name": "Python 3",
   "language": "python",
   "name": "python3"
  },
  "language_info": {
   "codemirror_mode": {
    "name": "ipython",
    "version": 3
   },
   "file_extension": ".py",
   "mimetype": "text/x-python",
   "name": "python",
   "nbconvert_exporter": "python",
   "pygments_lexer": "ipython3",
   "version": "3.7.5"
  }
 },
 "nbformat": 4,
 "nbformat_minor": 2
}
